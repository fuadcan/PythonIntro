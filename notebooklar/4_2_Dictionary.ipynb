{
 "cells": [
  {
   "cell_type": "markdown",
   "metadata": {},
   "source": [
    "# Tuples"
   ]
  },
  {
   "cell_type": "code",
   "execution_count": 4,
   "metadata": {},
   "outputs": [],
   "source": [
    "boylar = (1.67,1.78,1.63,1.92,1.76)"
   ]
  },
  {
   "cell_type": "code",
   "execution_count": 5,
   "metadata": {},
   "outputs": [
    {
     "data": {
      "text/plain": [
       "1.67"
      ]
     },
     "execution_count": 5,
     "metadata": {},
     "output_type": "execute_result"
    }
   ],
   "source": [
    "boylar[0]"
   ]
  },
  {
   "cell_type": "code",
   "execution_count": 6,
   "metadata": {},
   "outputs": [
    {
     "ename": "AttributeError",
     "evalue": "'tuple' object has no attribute 'append'",
     "output_type": "error",
     "traceback": [
      "\u001b[1;31m---------------------------------------------------------------------------\u001b[0m",
      "\u001b[1;31mAttributeError\u001b[0m                            Traceback (most recent call last)",
      "\u001b[1;32m<ipython-input-6-21a1cf08d73b>\u001b[0m in \u001b[0;36m<module>\u001b[1;34m()\u001b[0m\n\u001b[1;32m----> 1\u001b[1;33m \u001b[0mboylar\u001b[0m\u001b[1;33m.\u001b[0m\u001b[0mappend\u001b[0m\u001b[1;33m(\u001b[0m\u001b[1;36m2.1\u001b[0m\u001b[1;33m)\u001b[0m\u001b[1;33m\u001b[0m\u001b[0m\n\u001b[0m\u001b[0;32m      2\u001b[0m \u001b[0mboylar\u001b[0m \u001b[1;33m+\u001b[0m \u001b[1;33m(\u001b[0m\u001b[1;36m2.1\u001b[0m\u001b[1;33m)\u001b[0m\u001b[1;33m\u001b[0m\u001b[0m\n",
      "\u001b[1;31mAttributeError\u001b[0m: 'tuple' object has no attribute 'append'"
     ]
    }
   ],
   "source": [
    "boylar.append(2.1)\n",
    "boylar + (2.1)"
   ]
  },
  {
   "cell_type": "code",
   "execution_count": 13,
   "metadata": {},
   "outputs": [
    {
     "name": "stdout",
     "output_type": "stream",
     "text": [
      "1.67 0\n",
      "1.78 1\n",
      "1.63 2\n",
      "1.92 3\n",
      "1.76 4\n"
     ]
    }
   ],
   "source": [
    "for ind, boy in enumerate(boylar):\n",
    "    print(boy, ind)"
   ]
  },
  {
   "cell_type": "code",
   "execution_count": 31,
   "metadata": {},
   "outputs": [
    {
     "data": {
      "text/plain": [
       "(1.78, 82)"
      ]
     },
     "execution_count": 31,
     "metadata": {},
     "output_type": "execute_result"
    }
   ],
   "source": [
    "cumali_boyKilo = (1.78, 82)\n",
    "cumali_boyKilo"
   ]
  },
  {
   "cell_type": "code",
   "execution_count": 14,
   "metadata": {},
   "outputs": [
    {
     "data": {
      "text/plain": [
       "(1.78, 82)"
      ]
     },
     "execution_count": 14,
     "metadata": {},
     "output_type": "execute_result"
    }
   ],
   "source": [
    "cumali_boyKilo = 1.78, 82\n",
    "cumali_boyKilo"
   ]
  },
  {
   "cell_type": "code",
   "execution_count": 15,
   "metadata": {},
   "outputs": [
    {
     "name": "stdout",
     "output_type": "stream",
     "text": [
      "1.78\n",
      "82\n"
     ]
    }
   ],
   "source": [
    "boy, kilo = cumali_boyKilo\n",
    "print(boy)\n",
    "print(kilo)"
   ]
  },
  {
   "cell_type": "code",
   "execution_count": null,
   "metadata": {},
   "outputs": [],
   "source": []
  },
  {
   "cell_type": "code",
   "execution_count": 16,
   "metadata": {},
   "outputs": [
    {
     "data": {
      "text/plain": [
       "True"
      ]
     },
     "execution_count": 16,
     "metadata": {},
     "output_type": "execute_result"
    }
   ],
   "source": [
    "### Tuple üzerine kıyaslama\n",
    "tpl1 = 3, 5.6, 10.1\n",
    "tpl2 = 4, 6, 20\n",
    "tpl1 < tpl2"
   ]
  },
  {
   "cell_type": "code",
   "execution_count": 18,
   "metadata": {},
   "outputs": [
    {
     "data": {
      "text/plain": [
       "(4, 6, 20)"
      ]
     },
     "execution_count": 18,
     "metadata": {},
     "output_type": "execute_result"
    }
   ],
   "source": []
  },
  {
   "cell_type": "code",
   "execution_count": 19,
   "metadata": {},
   "outputs": [
    {
     "data": {
      "text/plain": [
       "True"
      ]
     },
     "execution_count": 19,
     "metadata": {},
     "output_type": "execute_result"
    }
   ],
   "source": [
    "### Tuple üzerine kıyaslama\n",
    "tpl1 = 3, 5.6, 10.1\n",
    "tpl2 = 3, 6, 20\n",
    "tpl1 < tpl2"
   ]
  },
  {
   "cell_type": "code",
   "execution_count": 21,
   "metadata": {},
   "outputs": [
    {
     "data": {
      "text/plain": [
       "False"
      ]
     },
     "execution_count": 21,
     "metadata": {},
     "output_type": "execute_result"
    }
   ],
   "source": [
    "### Tuple üzerine kıyaslama\n",
    "tpl1 = 3, 6, 30, 2\n",
    "tpl2 = 3, 6, 20, 4\n",
    "tpl1 < tpl2"
   ]
  },
  {
   "cell_type": "markdown",
   "metadata": {},
   "source": [
    "## Sözlükler (Dictionary) "
   ]
  },
  {
   "cell_type": "code",
   "execution_count": 1,
   "metadata": {},
   "outputs": [],
   "source": [
    "zanlilar = ['adnan','cumali','kezban','tulay','husnu']\n",
    "boylar   = [1.67,1.78,1.63,1.92,1.76]"
   ]
  },
  {
   "cell_type": "code",
   "execution_count": 22,
   "metadata": {},
   "outputs": [],
   "source": [
    "kayit   = {'adnan': 1.67, 'cumali': 1.78, 'kezban': 1.63, 'tulay': 1.92, 'husnu': 1.76} "
   ]
  },
  {
   "cell_type": "code",
   "execution_count": 23,
   "metadata": {},
   "outputs": [
    {
     "data": {
      "text/plain": [
       "{'adnan': 1.67, 'cumali': 1.78, 'kezban': 1.63, 'tulay': 1.92, 'husnu': 1.76}"
      ]
     },
     "execution_count": 23,
     "metadata": {},
     "output_type": "execute_result"
    }
   ],
   "source": [
    "kayit"
   ]
  },
  {
   "cell_type": "code",
   "execution_count": 26,
   "metadata": {},
   "outputs": [
    {
     "name": "stdout",
     "output_type": "stream",
     "text": [
      "1.92\n"
     ]
    }
   ],
   "source": [
    "print(kayit['tulay'])"
   ]
  },
  {
   "cell_type": "code",
   "execution_count": 27,
   "metadata": {},
   "outputs": [
    {
     "data": {
      "text/plain": [
       "{'adnan': 1.67,\n",
       " 'cumali': 1.78,\n",
       " 'kezban': 1.63,\n",
       " 'tulay': 1.92,\n",
       " 'husnu': 1.76,\n",
       " 'fahrettin': 38}"
      ]
     },
     "execution_count": 27,
     "metadata": {},
     "output_type": "execute_result"
    }
   ],
   "source": [
    "kayit['fahrettin'] = 38\n",
    "kayit"
   ]
  },
  {
   "cell_type": "code",
   "execution_count": 28,
   "metadata": {},
   "outputs": [],
   "source": [
    "kayit = dict()"
   ]
  },
  {
   "cell_type": "code",
   "execution_count": 29,
   "metadata": {},
   "outputs": [
    {
     "data": {
      "text/plain": [
       "{}"
      ]
     },
     "execution_count": 29,
     "metadata": {},
     "output_type": "execute_result"
    }
   ],
   "source": [
    "kayit"
   ]
  },
  {
   "cell_type": "code",
   "execution_count": 30,
   "metadata": {},
   "outputs": [
    {
     "data": {
      "text/plain": [
       "{'adnan': 1.67, 'cumali': 1.78, 'kezban': 1.63, 'tulay': 1.92, 'husnu': 1.76}"
      ]
     },
     "execution_count": 30,
     "metadata": {},
     "output_type": "execute_result"
    }
   ],
   "source": [
    "kayit['adnan']  = 1.67\n",
    "kayit['cumali'] = 1.78\n",
    "kayit['kezban'] = 1.63\n",
    "kayit['tulay']  = 1.92\n",
    "kayit['husnu']  = 1.76\n",
    "kayit"
   ]
  },
  {
   "cell_type": "code",
   "execution_count": 34,
   "metadata": {},
   "outputs": [],
   "source": [
    "zanlilar = ['adnan','cumali','kezban','tulay','husnu']\n",
    "boylar   = [1.67,1.78,1.63,1.92,1.76]\n",
    "record    = dict()\n",
    "for i in range(5):\n",
    "    record[zanlilar[i]] = boylar[i]"
   ]
  },
  {
   "cell_type": "code",
   "execution_count": 39,
   "metadata": {},
   "outputs": [
    {
     "data": {
      "text/plain": [
       "['adnan', 'cumali', 'kezban', 'tulay', 'husnu']"
      ]
     },
     "execution_count": 39,
     "metadata": {},
     "output_type": "execute_result"
    }
   ],
   "source": [
    "list(record.keys())"
   ]
  },
  {
   "cell_type": "code",
   "execution_count": 32,
   "metadata": {},
   "outputs": [
    {
     "data": {
      "text/plain": [
       "{'adnan': 1.67, 'cumali': 1.78, 'kezban': 1.63, 'tulay': 1.92, 'husnu': 1.76}"
      ]
     },
     "execution_count": 32,
     "metadata": {},
     "output_type": "execute_result"
    }
   ],
   "source": [
    "kayit"
   ]
  },
  {
   "cell_type": "code",
   "execution_count": 40,
   "metadata": {},
   "outputs": [],
   "source": [
    "zanlilar = ['adnan','cumali','kezban','tulay','husnu']\n",
    "boylar   = [1.67,1.78,1.63,1.92,1.76]\n",
    "kilolar  = [75,  84,  65,  62,  91]\n",
    "cinsiyet = ['E','E','K','K','E']\n",
    "kayit    = dict()\n",
    "for i in range(5):\n",
    "    kayit[zanlilar[i]] = boylar[i],kilolar[i],cinsiyet[i]"
   ]
  },
  {
   "cell_type": "code",
   "execution_count": 42,
   "metadata": {},
   "outputs": [
    {
     "data": {
      "text/plain": [
       "(1.76, 91, 'E')"
      ]
     },
     "execution_count": 42,
     "metadata": {},
     "output_type": "execute_result"
    }
   ],
   "source": [
    "kayit['husnu']"
   ]
  },
  {
   "cell_type": "code",
   "execution_count": 43,
   "metadata": {},
   "outputs": [],
   "source": [
    "zanlilar = ['adnan','cumali','kezban','tulay','husnu']\n",
    "boylar   = [1.67,1.78,1.63,1.92,1.76]\n",
    "kilolar  = [75,  84,  65,  62,  91]\n",
    "cinsiyet = ['E','E','K','K','E']\n",
    "kayit    = dict()\n",
    "for i in range(5):\n",
    "    kayit[zanlilar[i]] = {'boy': boylar[i],'kilo': kilolar[i],'cinsiyet': cinsiyet[i]}"
   ]
  },
  {
   "cell_type": "code",
   "execution_count": 45,
   "metadata": {},
   "outputs": [
    {
     "data": {
      "text/plain": [
       "1.67"
      ]
     },
     "execution_count": 45,
     "metadata": {},
     "output_type": "execute_result"
    }
   ],
   "source": [
    "kayit['adnan']['boy']"
   ]
  },
  {
   "cell_type": "code",
   "execution_count": 49,
   "metadata": {},
   "outputs": [
    {
     "data": {
      "text/plain": [
       "[('adnan', {'boy': 1.67, 'kilo': 75, 'cinsiyet': 'E'}),\n",
       " ('cumali', {'boy': 1.78, 'kilo': 84, 'cinsiyet': 'E'}),\n",
       " ('kezban', {'boy': 1.63, 'kilo': 65, 'cinsiyet': 'K'}),\n",
       " ('tulay', {'boy': 1.92, 'kilo': 62, 'cinsiyet': 'K'}),\n",
       " ('husnu', {'boy': 1.76, 'kilo': 91, 'cinsiyet': 'E'})]"
      ]
     },
     "execution_count": 49,
     "metadata": {},
     "output_type": "execute_result"
    }
   ],
   "source": [
    "list(kayit.items())"
   ]
  },
  {
   "cell_type": "markdown",
   "metadata": {},
   "source": [
    "### Şarkı kütüphanesi"
   ]
  },
  {
   "cell_type": "code",
   "execution_count": 57,
   "metadata": {},
   "outputs": [],
   "source": [
    "sarkilar = dict()\n",
    "sarkilar['breaking the law'] = {'Band': 'Judas Priest', 'Genre': 'NWOBHM', 'Length': '2:37', 'Link': 'https://www.youtube.com/watch?v=L397TWLwrUU'}\n",
    "sarkilar['gerizekalı sevgilim benim'] = {'Band': 'Mustafa Topaloğlu', 'Genre': 'Fantezi', 'Length': '3:20', 'Link': 'https://www.youtube.com/watch?v=k9TnS2N1ew8'}\n",
    "sarkilar['lambaya püf de'] = {'Band': 'Urfalı Babi', 'Genre': 'Şahsına Münhasır', 'Lenght': '3:32','Link': 'https://www.youtube.com/watch?v=fiC951xT1-0'}\n",
    "sarkilar['don kişot'] = {'Band': 'İlhan İrem', 'Genre': 'NWOTR', 'Length': '4:20', 'Link': 'https://www.youtube.com/watch?v=SMa2VSO0MyU'}\n",
    "sarkilar['honor thy father'] = {'Band': 'Dream Theater', 'Genre': 'Progressive Metal', 'Length': '10:12', 'Link': 'https://www.youtube.com/watch?v=KGHXy9Fa45k'}\n",
    "sarkilar['ikimiz bir fidanız'] = {'Band': 'Hakkı Bulut', 'Genre': 'Fantezi', 'Lenght': '3:30','Link': 'https://www.youtube.com/watch?v=JYxqr1itiI0'}"
   ]
  },
  {
   "cell_type": "code",
   "execution_count": 58,
   "metadata": {},
   "outputs": [
    {
     "data": {
      "text/plain": [
       "{'breaking the law': {'Band': 'Judas Priest',\n",
       "  'Genre': 'NWOBHM',\n",
       "  'Length': '2:37',\n",
       "  'Link': 'https://www.youtube.com/watch?v=L397TWLwrUU'},\n",
       " 'gerizekalı sevgilim benim': {'Band': 'Mustafa Topaloğlu',\n",
       "  'Genre': 'Fantezi',\n",
       "  'Length': '3:20',\n",
       "  'Link': 'https://www.youtube.com/watch?v=k9TnS2N1ew8'},\n",
       " 'lambaya püf de': {'Band': 'Urfalı Babi',\n",
       "  'Genre': 'Şahsına Münhasır',\n",
       "  'Lenght': '3:32',\n",
       "  'Link': 'https://www.youtube.com/watch?v=fiC951xT1-0'},\n",
       " 'don kişot': {'Band': 'İlhan İrem',\n",
       "  'Genre': 'NWOTR',\n",
       "  'Length': '4:20',\n",
       "  'Link': 'https://www.youtube.com/watch?v=SMa2VSO0MyU'},\n",
       " 'honor thy father': {'Band': 'Dream Theater',\n",
       "  'Genre': 'Progressive Metal',\n",
       "  'Length': '10:12',\n",
       "  'Link': 'https://www.youtube.com/watch?v=KGHXy9Fa45k'},\n",
       " 'ikimiz bir fidanız': {'Band': 'Hakkı Bulut',\n",
       "  'Genre': 'Fantezi',\n",
       "  'Lenght': '3:30',\n",
       "  'Link': 'https://www.youtube.com/watch?v=JYxqr1itiI0'}}"
      ]
     },
     "execution_count": 58,
     "metadata": {},
     "output_type": "execute_result"
    }
   ],
   "source": [
    "sarkilar"
   ]
  },
  {
   "cell_type": "code",
   "execution_count": 59,
   "metadata": {},
   "outputs": [],
   "source": [
    "songlist = {}\n",
    "songlist['depresif'] = ['gerizekalı sevgilim benim', 'don kişot']\n",
    "songlist['gaz']      = ['breaking the law', 'honor thy father']\n",
    "songlist['mutlu']    = ['lambaya püf de','ikimiz bir fidanız']"
   ]
  },
  {
   "cell_type": "code",
   "execution_count": 60,
   "metadata": {},
   "outputs": [
    {
     "data": {
      "text/plain": [
       "'https://www.youtube.com/watch?v=L397TWLwrUU'"
      ]
     },
     "execution_count": 60,
     "metadata": {},
     "output_type": "execute_result"
    }
   ],
   "source": [
    "from random import choice\n",
    "song = choice(songlist['gaz'])\n",
    "sarkilar[song]['Link']"
   ]
  },
  {
   "cell_type": "markdown",
   "metadata": {},
   "source": [
    "## Selenium - Chrome Web Driver - Speech to Text"
   ]
  },
  {
   "cell_type": "code",
   "execution_count": 1,
   "metadata": {},
   "outputs": [],
   "source": [
    "from selenium import webdriver\n",
    "from selenium.webdriver.support.ui import Select"
   ]
  },
  {
   "cell_type": "code",
   "execution_count": 3,
   "metadata": {},
   "outputs": [],
   "source": [
    "browser = webdriver.Chrome()"
   ]
  },
  {
   "cell_type": "code",
   "execution_count": null,
   "metadata": {},
   "outputs": [],
   "source": [
    "browser.get('https://www.google.com/intl/en/chrome/demos/speech.html')"
   ]
  },
  {
   "cell_type": "code",
   "execution_count": 24,
   "metadata": {},
   "outputs": [],
   "source": [
    "langSelector = Select(browser.find_element_by_xpath(\"//select[@id='select_language']\"))\n",
    "langSelector.select_by_visible_text('Türkçe')"
   ]
  },
  {
   "cell_type": "code",
   "execution_count": 10,
   "metadata": {},
   "outputs": [],
   "source": [
    "browser.find_element_by_xpath('//button[@id=\"start_button\"]').click()"
   ]
  },
  {
   "cell_type": "code",
   "execution_count": null,
   "metadata": {},
   "outputs": [],
   "source": [
    "# dosyanın süresi kadar bekle\n",
    "# from time import sleep\n",
    "# sleep(30)"
   ]
  },
  {
   "cell_type": "code",
   "execution_count": null,
   "metadata": {},
   "outputs": [],
   "source": [
    "browser.find_element_by_xpath('//button[@id=\"start_button\"]').click()"
   ]
  },
  {
   "cell_type": "code",
   "execution_count": 11,
   "metadata": {},
   "outputs": [],
   "source": [
    "res = browser.find_element_by_xpath('//span[@id=\"final_span\"]')"
   ]
  },
  {
   "cell_type": "code",
   "execution_count": 12,
   "metadata": {},
   "outputs": [
    {
     "data": {
      "text/plain": [
       "'Dev Adam Şu anda benim konuşmamı anlamıyor olması lazım anlamadıysan da canın sağ olsun bak anlamasanda canın sağ olsun falan dedi Neyse ondan sonra işiniz bittikten sonra'"
      ]
     },
     "execution_count": 12,
     "metadata": {},
     "output_type": "execute_result"
    }
   ],
   "source": [
    "res.text"
   ]
  },
  {
   "cell_type": "code",
   "execution_count": 133,
   "metadata": {},
   "outputs": [],
   "source": [
    "browser.close()"
   ]
  },
  {
   "cell_type": "markdown",
   "metadata": {},
   "source": [
    "### Dictionary Methods "
   ]
  },
  {
   "cell_type": "code",
   "execution_count": 24,
   "metadata": {},
   "outputs": [
    {
     "data": {
      "text/plain": [
       "dict_keys(['depresif', 'gaz', 'mutlu'])"
      ]
     },
     "execution_count": 24,
     "metadata": {},
     "output_type": "execute_result"
    }
   ],
   "source": [
    "songlist.keys()"
   ]
  },
  {
   "cell_type": "code",
   "execution_count": 25,
   "metadata": {},
   "outputs": [
    {
     "data": {
      "text/plain": [
       "['depresif', 'gaz', 'mutlu']"
      ]
     },
     "execution_count": 25,
     "metadata": {},
     "output_type": "execute_result"
    }
   ],
   "source": [
    "list(songlist.keys())"
   ]
  },
  {
   "cell_type": "code",
   "execution_count": 26,
   "metadata": {},
   "outputs": [
    {
     "data": {
      "text/plain": [
       "dict_values([['aldanma çocuksu mahsun yüzüne', 'pixels', 'bitti mi', 'some kind of a love song'], ['breaking the law', 'beyond this life', 'wake up'], ['consumed', 'spirit crusher', 'jotun']])"
      ]
     },
     "execution_count": 26,
     "metadata": {},
     "output_type": "execute_result"
    }
   ],
   "source": [
    "songlist.values()"
   ]
  },
  {
   "cell_type": "code",
   "execution_count": 27,
   "metadata": {},
   "outputs": [
    {
     "data": {
      "text/plain": [
       "dict_items([('depresif', ['aldanma çocuksu mahsun yüzüne', 'pixels', 'bitti mi', 'some kind of a love song']), ('gaz', ['breaking the law', 'beyond this life', 'wake up']), ('mutlu', ['consumed', 'spirit crusher', 'jotun'])])"
      ]
     },
     "execution_count": 27,
     "metadata": {},
     "output_type": "execute_result"
    }
   ],
   "source": [
    "songlist.items()"
   ]
  },
  {
   "cell_type": "code",
   "execution_count": 39,
   "metadata": {},
   "outputs": [
    {
     "data": {
      "text/plain": [
       "True"
      ]
     },
     "execution_count": 39,
     "metadata": {},
     "output_type": "execute_result"
    }
   ],
   "source": [
    "'gaz' in songlist.keys()"
   ]
  },
  {
   "cell_type": "code",
   "execution_count": 40,
   "metadata": {},
   "outputs": [
    {
     "data": {
      "text/plain": [
       "False"
      ]
     },
     "execution_count": 40,
     "metadata": {},
     "output_type": "execute_result"
    }
   ],
   "source": [
    "'hüzünlü' in songlist.keys()"
   ]
  },
  {
   "cell_type": "code",
   "execution_count": 41,
   "metadata": {},
   "outputs": [
    {
     "name": "stdout",
     "output_type": "stream",
     "text": [
      "adnan\n",
      "cumali\n",
      "kezban\n",
      "tulay\n",
      "husnu\n"
     ]
    }
   ],
   "source": [
    "kayit   = {'adnan': 1.67, 'cumali': 1.78, 'kezban': 1.63, 'tulay': 1.92, 'husnu': 1.76} \n",
    "# for: keyleri yazdır\n"
   ]
  },
  {
   "cell_type": "code",
   "execution_count": 42,
   "metadata": {},
   "outputs": [
    {
     "name": "stdout",
     "output_type": "stream",
     "text": [
      "(1.67, 'E')\n",
      "(1.78, 'E')\n",
      "(1.63, 'K')\n",
      "(1.92, 'K')\n",
      "(1.76, 'E')\n"
     ]
    }
   ],
   "source": [
    "# for: valueları yazdır\n"
   ]
  },
  {
   "cell_type": "code",
   "execution_count": 22,
   "metadata": {},
   "outputs": [
    {
     "name": "stdout",
     "output_type": "stream",
     "text": [
      "adnan 79\n",
      "mümtaz 42\n",
      "cumali 49\n",
      "fahrettin 38\n"
     ]
    }
   ],
   "source": [
    "# for: key, value'ları yazdır"
   ]
  },
  {
   "cell_type": "markdown",
   "metadata": {},
   "source": [
    "### Sözlüklerin yaygın kullanımı"
   ]
  },
  {
   "cell_type": "code",
   "execution_count": 43,
   "metadata": {},
   "outputs": [
    {
     "name": "stdout",
     "output_type": "stream",
     "text": [
      "f\n",
      "a\n",
      "n\n",
      "a\n",
      "t\n",
      "i\n",
      "k\n",
      "l\n",
      "e\n",
      "s\n",
      "t\n",
      "i\n",
      "r\n",
      "e\n",
      "m\n",
      "e\n",
      "d\n",
      "i\n",
      "k\n",
      "l\n",
      "e\n",
      "r\n",
      "i\n",
      "m\n",
      "i\n",
      "z\n",
      "d\n",
      "e\n",
      "n\n",
      " \n",
      "m\n",
      "i\n",
      "s\n",
      "i\n",
      "n\n",
      "i\n",
      "z\n",
      "?\n"
     ]
    }
   ],
   "source": [
    "sozcuk = 'fanatiklestiremediklerimizden misiniz?'\n",
    "for harf in sozcuk:\n",
    "    print(harf)"
   ]
  },
  {
   "cell_type": "code",
   "execution_count": 64,
   "metadata": {},
   "outputs": [
    {
     "ename": "KeyError",
     "evalue": "'f'",
     "output_type": "error",
     "traceback": [
      "\u001b[1;31m---------------------------------------------------------------------------\u001b[0m",
      "\u001b[1;31mKeyError\u001b[0m                                  Traceback (most recent call last)",
      "\u001b[1;32m<ipython-input-64-496257b93a0b>\u001b[0m in \u001b[0;36m<module>\u001b[1;34m()\u001b[0m\n\u001b[0;32m      1\u001b[0m \u001b[0mfrekans\u001b[0m \u001b[1;33m=\u001b[0m \u001b[1;33m{\u001b[0m\u001b[1;33m}\u001b[0m\u001b[1;33m\u001b[0m\u001b[0m\n\u001b[1;32m----> 2\u001b[1;33m \u001b[0mfrekans\u001b[0m\u001b[1;33m[\u001b[0m\u001b[1;34m'f'\u001b[0m\u001b[1;33m]\u001b[0m\u001b[1;33m\u001b[0m\u001b[0m\n\u001b[0m",
      "\u001b[1;31mKeyError\u001b[0m: 'f'"
     ]
    }
   ],
   "source": [
    "frekans = {}\n",
    "frekans['f']"
   ]
  },
  {
   "cell_type": "code",
   "execution_count": 65,
   "metadata": {},
   "outputs": [
    {
     "ename": "KeyError",
     "evalue": "'f'",
     "output_type": "error",
     "traceback": [
      "\u001b[1;31m---------------------------------------------------------------------------\u001b[0m",
      "\u001b[1;31mKeyError\u001b[0m                                  Traceback (most recent call last)",
      "\u001b[1;32m<ipython-input-65-4b91f59c4145>\u001b[0m in \u001b[0;36m<module>\u001b[1;34m()\u001b[0m\n\u001b[0;32m      1\u001b[0m \u001b[1;33m\u001b[0m\u001b[0m\n\u001b[0;32m      2\u001b[0m \u001b[1;32mfor\u001b[0m \u001b[0mharf\u001b[0m \u001b[1;32min\u001b[0m \u001b[0msozcuk\u001b[0m\u001b[1;33m:\u001b[0m\u001b[1;33m\u001b[0m\u001b[0m\n\u001b[1;32m----> 3\u001b[1;33m     \u001b[0mfrekans\u001b[0m\u001b[1;33m[\u001b[0m\u001b[0mharf\u001b[0m\u001b[1;33m]\u001b[0m \u001b[1;33m=\u001b[0m \u001b[0mfrekans\u001b[0m\u001b[1;33m[\u001b[0m\u001b[0mharf\u001b[0m\u001b[1;33m]\u001b[0m \u001b[1;33m+\u001b[0m \u001b[1;36m1\u001b[0m\u001b[1;33m\u001b[0m\u001b[0m\n\u001b[0m\u001b[0;32m      4\u001b[0m \u001b[0mprint\u001b[0m\u001b[1;33m(\u001b[0m\u001b[0mfrekans\u001b[0m\u001b[1;33m)\u001b[0m\u001b[1;33m\u001b[0m\u001b[0m\n",
      "\u001b[1;31mKeyError\u001b[0m: 'f'"
     ]
    }
   ],
   "source": [
    "for harf in sozcuk:\n",
    "    frekans[harf] = frekans[harf] + 1\n",
    "print(frekans)"
   ]
  },
  {
   "cell_type": "code",
   "execution_count": 63,
   "metadata": {},
   "outputs": [
    {
     "name": "stdout",
     "output_type": "stream",
     "text": [
      "{'f': 1, 'a': 2, 'n': 3, 't': 2, 'i': 8, 'k': 2, 'l': 2, 'e': 5, 'ş': 1, 'r': 2, 'm': 3, 'd': 2, 'z': 2, ' ': 1, 's': 1, '?': 1}\n"
     ]
    }
   ],
   "source": [
    "sozcuk = 'fanatikleştiremediklerimizden misiniz?'\n",
    "frekans = dict()\n",
    "for harf in sozcuk:\n",
    "    if harf in frekans.keys():\n",
    "        frekans[harf] = frekans[harf] + 1\n",
    "    else:\n",
    "        frekans[harf] = 1\n",
    "print(frekans)        "
   ]
  },
  {
   "cell_type": "code",
   "execution_count": 69,
   "metadata": {},
   "outputs": [
    {
     "name": "stdout",
     "output_type": "stream",
     "text": [
      "['I', 'love', 'my', 'love', 'but', 'my', 'love', \"doesn't\", 'love', 'me', 'as', 'I', 'love', 'my', 'love']\n",
      "sozcuk henüz yok, ekleniyor: I\n",
      "sozcuk henüz yok, ekleniyor: love\n",
      "sozcuk henüz yok, ekleniyor: my\n",
      "var olan sozcuk:  love 2\n",
      "sozcuk henüz yok, ekleniyor: but\n",
      "var olan sozcuk:  my 2\n",
      "var olan sozcuk:  love 3\n",
      "sozcuk henüz yok, ekleniyor: doesn't\n",
      "var olan sozcuk:  love 4\n",
      "sozcuk henüz yok, ekleniyor: me\n",
      "sozcuk henüz yok, ekleniyor: as\n",
      "var olan sozcuk:  I 2\n",
      "var olan sozcuk:  love 5\n",
      "var olan sozcuk:  my 3\n",
      "var olan sozcuk:  love 6\n",
      "{'I': 2, 'love': 6, 'my': 3, 'but': 1, \"doesn't\": 1, 'me': 1, 'as': 1}\n"
     ]
    }
   ],
   "source": [
    "from time import sleep\n",
    "# kelime frekansları\n",
    "cumle = \"I love my love but my love doesn't love me as I love my love\"\n",
    "# cümleyi kelimelere ayır\n",
    "sozcukler = cumle.split()\n",
    "print(sozcukler)\n",
    "frekans = dict()\n",
    "for sozcuk in sozcukler:\n",
    "    if sozcuk in frekans:\n",
    "        frekans[sozcuk] = frekans[sozcuk] + 1\n",
    "        print('var olan sozcuk: ', sozcuk, frekans[sozcuk])\n",
    "    else:\n",
    "        print('sozcuk henüz yok, ekleniyor:', sozcuk)\n",
    "        frekans[sozcuk] = 1\n",
    "    sleep(1)\n",
    "print(frekans)"
   ]
  },
  {
   "cell_type": "code",
   "execution_count": 74,
   "metadata": {},
   "outputs": [
    {
     "name": "stdout",
     "output_type": "stream",
     "text": [
      "('I', 2)\n",
      "('love', 6)\n",
      "('my', 3)\n",
      "('but', 1)\n",
      "(\"doesn't\", 1)\n",
      "('me', 1)\n",
      "('as', 1)\n"
     ]
    }
   ],
   "source": [
    "for x in list(frekans.items()):\n",
    "    print(x)\n",
    "    sleep(.5)"
   ]
  },
  {
   "cell_type": "code",
   "execution_count": 76,
   "metadata": {},
   "outputs": [
    {
     "data": {
      "text/plain": [
       "dict_items([('I', 2), ('love', 6), ('my', 3), ('but', 1), (\"doesn't\", 1), ('me', 1), ('as', 1)])"
      ]
     },
     "execution_count": 76,
     "metadata": {},
     "output_type": "execute_result"
    }
   ],
   "source": [
    "frekans.items()"
   ]
  },
  {
   "cell_type": "code",
   "execution_count": 77,
   "metadata": {},
   "outputs": [
    {
     "name": "stdout",
     "output_type": "stream",
     "text": [
      "[(2, 'I'), (6, 'love'), (3, 'my'), (1, 'but'), (1, \"doesn't\"), (1, 'me'), (1, 'as')]\n"
     ]
    }
   ],
   "source": [
    "ters = []\n",
    "for k,v in frekans.items():\n",
    "    ters.append((v,k))\n",
    "print(ters)"
   ]
  },
  {
   "cell_type": "code",
   "execution_count": 79,
   "metadata": {},
   "outputs": [
    {
     "data": {
      "text/plain": [
       "[1, 2, 3, 5, 7, 9]"
      ]
     },
     "execution_count": 79,
     "metadata": {},
     "output_type": "execute_result"
    }
   ],
   "source": [
    "aa = [(1,'a'),2,5,3,9,7]\n",
    "aa.sort()\n",
    "aa"
   ]
  },
  {
   "cell_type": "code",
   "execution_count": 82,
   "metadata": {},
   "outputs": [
    {
     "name": "stdout",
     "output_type": "stream",
     "text": [
      "love :  6\n",
      "my :  3\n",
      "I :  2\n",
      "me :  1\n",
      "doesn't :  1\n",
      "but :  1\n",
      "as :  1\n"
     ]
    }
   ],
   "source": [
    "# tersine çevir ve sırala\n",
    "# k,v -> v,k\n",
    "ters = []\n",
    "for k,v in frekans.items():\n",
    "    ters.append((v,k))\n",
    "\n",
    "# listeyi tersten sırala\n",
    "ters.sort(reverse=True)\n",
    "# print(ters)\n",
    "\n",
    "for v,k in ters:\n",
    "    print(k,': ',v)"
   ]
  },
  {
   "cell_type": "markdown",
   "metadata": {},
   "source": [
    "### Alternatif (tersine çevirme)"
   ]
  },
  {
   "cell_type": "code",
   "execution_count": 85,
   "metadata": {},
   "outputs": [
    {
     "data": {
      "text/plain": [
       "[(2, 'I'),\n",
       " (6, 'love'),\n",
       " (3, 'my'),\n",
       " (1, 'but'),\n",
       " (1, \"doesn't\"),\n",
       " (1, 'me'),\n",
       " (1, 'as')]"
      ]
     },
     "execution_count": 85,
     "metadata": {},
     "output_type": "execute_result"
    }
   ],
   "source": [
    "[(v,k) for k,v in frekans.items()]"
   ]
  },
  {
   "cell_type": "code",
   "execution_count": 88,
   "metadata": {},
   "outputs": [
    {
     "data": {
      "text/plain": [
       "[(6, 'love'),\n",
       " (3, 'my'),\n",
       " (2, 'I'),\n",
       " (1, 'me'),\n",
       " (1, \"doesn't\"),\n",
       " (1, 'but'),\n",
       " (1, 'as')]"
      ]
     },
     "execution_count": 88,
     "metadata": {},
     "output_type": "execute_result"
    }
   ],
   "source": [
    "list(reversed(sorted([(v,k) for k,v in frekans.items()])))"
   ]
  },
  {
   "cell_type": "code",
   "execution_count": 90,
   "metadata": {},
   "outputs": [
    {
     "data": {
      "text/plain": [
       "[(6, 'love'),\n",
       " (3, 'my'),\n",
       " (2, 'I'),\n",
       " (1, 'me'),\n",
       " (1, \"doesn't\"),\n",
       " (1, 'but'),\n",
       " (1, 'as')]"
      ]
     },
     "execution_count": 90,
     "metadata": {},
     "output_type": "execute_result"
    }
   ],
   "source": [
    "ters = [(v,k) for k,v in frekans.items()]\n",
    "ters.sort(reverse=True)\n",
    "ters"
   ]
  },
  {
   "cell_type": "markdown",
   "metadata": {},
   "source": [
    "### Dosya okuma ve işleme"
   ]
  },
  {
   "cell_type": "code",
   "execution_count": 92,
   "metadata": {},
   "outputs": [
    {
     "name": "stdout",
     "output_type": "stream",
     "text": [
      "Tek tek ağardı bak saçlarım tek tek\n",
      "\n",
      "Tek tek damlıyor göz yaşlarım tek tek\n",
      "\n",
      "Tek tek bıraktılar beni tek\n",
      "\n",
      "\n",
      "\n",
      "Birde yarimin hasreti yüreğime oldu ek\n",
      "\n",
      "Şu bitmeyen dertlerim ile tek başımayım ben tek\n",
      "\n",
      "Birde yavrumun hasreti yüreğime oldu ek\n",
      "\n",
      "Şu bitmeyen dertlerim ile tek başımayım ben tek\n",
      "\n",
      "\n",
      "\n",
      "Tek tek uçtu gönül kuşlarım tek tek\n",
      "\n",
      "Tek tek terketti tüm dostlarım tek tek\n",
      "\n",
      "Tek tek bıraktılar beni tek\n",
      "\n",
      "\n",
      "\n",
      "Birde yarimin hasreti yüreğime oldu ek\n",
      "\n",
      "\n",
      "\n",
      "Şu bitmeyen dertlerim ile tek başımayım ben tek\n",
      "\n",
      "Birde yavrumun hasreti yüreğime oldu ek\n",
      "\n",
      "Şu bitmeyen dertlerim ile tek başımayım ben tek\n",
      "\n",
      "\n",
      "\n",
      "Tek tek çaldım dost kapısını tek tek\n",
      "\n",
      "Tek tek tanıdım hepsini tek tek\n",
      "\n",
      "Tek tek bıraktılar beni tek\n",
      "\n",
      "\n",
      "\n",
      "Birde yarimin hasreti yüreğime oldu ek\n",
      "\n",
      "Şu bitmeyen dertlerim ile tek başımayım ben tek\n",
      "\n",
      "Birde yavrumun hasreti yüreğime oldu ek\n",
      "\n",
      "Şu bitmeyen dertlerim ile tek başımayım ben tek\n",
      "\n",
      "\n",
      "\n",
      "Bıraktılar beni tek Bıraktılar beni tek...\n",
      "\n"
     ]
    }
   ],
   "source": [
    "import codecs\n",
    "fh = codecs.open('data/tektek.txt', encoding = 'utf-8')\n",
    "fd = dict()\n",
    "for line in fh:\n",
    "    print(line)\n",
    "    sleep(.5)\n",
    "fh.close()"
   ]
  },
  {
   "cell_type": "code",
   "execution_count": 99,
   "metadata": {},
   "outputs": [],
   "source": [
    "import codecs\n",
    "fh = codecs.open('data/tektek.txt', encoding = 'utf-8')\n",
    "fd = dict()\n",
    "# kelime frekanslarını çıkar\n",
    "for line in fh:\n",
    "    kelimeler = line.rstrip().split()\n",
    "    for kelime in kelimeler:\n",
    "        # kelimeleri küçük harflere dönüştür\n",
    "        kelime = kelime.lower()\n",
    "        if kelime in fd:\n",
    "            fd[kelime] += 1\n",
    "        else:\n",
    "            fd[kelime] = 1\n",
    "fh.close()"
   ]
  },
  {
   "cell_type": "code",
   "execution_count": 101,
   "metadata": {},
   "outputs": [
    {
     "data": {
      "text/plain": [
       "[(46, 'tek'),\n",
       " (6, 'şu'),\n",
       " (6, 'yüreğime'),\n",
       " (6, 'oldu'),\n",
       " (6, 'ile'),\n",
       " (6, 'hasreti'),\n",
       " (6, 'ek'),\n",
       " (6, 'dertlerim'),\n",
       " (6, 'bitmeyen'),\n",
       " (6, 'birde'),\n",
       " (6, 'ben'),\n",
       " (6, 'başımayım'),\n",
       " (5, 'bıraktılar'),\n",
       " (5, 'beni'),\n",
       " (3, 'yavrumun'),\n",
       " (3, 'yarimin'),\n",
       " (1, 'çaldım'),\n",
       " (1, 'yaşlarım'),\n",
       " (1, 'uçtu'),\n",
       " (1, 'tüm'),\n",
       " (1, 'terketti'),\n",
       " (1, 'tek...'),\n",
       " (1, 'tanıdım'),\n",
       " (1, 'saçlarım'),\n",
       " (1, 'kuşlarım'),\n",
       " (1, 'kapısını'),\n",
       " (1, 'hepsini'),\n",
       " (1, 'göz'),\n",
       " (1, 'gönül'),\n",
       " (1, 'dostlarım'),\n",
       " (1, 'dost'),\n",
       " (1, 'damlıyor'),\n",
       " (1, 'bak'),\n",
       " (1, 'ağardı')]"
      ]
     },
     "execution_count": 101,
     "metadata": {},
     "output_type": "execute_result"
    }
   ],
   "source": [
    "# tersine çevir\n",
    "list(reversed(sorted([(v,k) for k,v in fd.items()])))"
   ]
  },
  {
   "cell_type": "markdown",
   "metadata": {},
   "source": [
    "### Alternatif (defaultdict)"
   ]
  },
  {
   "cell_type": "code",
   "execution_count": 103,
   "metadata": {},
   "outputs": [
    {
     "data": {
      "text/plain": [
       "[(46, 'tek'),\n",
       " (6, 'şu'),\n",
       " (6, 'yüreğime'),\n",
       " (6, 'oldu'),\n",
       " (6, 'ile'),\n",
       " (6, 'hasreti'),\n",
       " (6, 'ek'),\n",
       " (6, 'dertlerim'),\n",
       " (6, 'bitmeyen'),\n",
       " (6, 'birde'),\n",
       " (6, 'ben'),\n",
       " (6, 'başımayım'),\n",
       " (5, 'bıraktılar'),\n",
       " (5, 'beni'),\n",
       " (3, 'yavrumun'),\n",
       " (3, 'yarimin'),\n",
       " (1, 'çaldım'),\n",
       " (1, 'yaşlarım'),\n",
       " (1, 'uçtu'),\n",
       " (1, 'tüm'),\n",
       " (1, 'terketti'),\n",
       " (1, 'tek...'),\n",
       " (1, 'tanıdım'),\n",
       " (1, 'saçlarım'),\n",
       " (1, 'kuşlarım'),\n",
       " (1, 'kapısını'),\n",
       " (1, 'hepsini'),\n",
       " (1, 'göz'),\n",
       " (1, 'gönül'),\n",
       " (1, 'dostlarım'),\n",
       " (1, 'dost'),\n",
       " (1, 'damlıyor'),\n",
       " (1, 'bak'),\n",
       " (1, 'ağardı')]"
      ]
     },
     "execution_count": 103,
     "metadata": {},
     "output_type": "execute_result"
    }
   ],
   "source": [
    "from collections import defaultdict\n",
    "import codecs\n",
    "fh = codecs.open('data/tektek.txt', encoding = 'utf-8')\n",
    "fd = defaultdict(int)\n",
    "# kelime frekanslarını çıkar\n",
    "for line in fh:\n",
    "    line = line.lower()\n",
    "    kelimeler = line.rstrip().split()\n",
    "    for kelime in kelimeler:\n",
    "        # kelimeleri küçük harflere dönüştür\n",
    "        fd[kelime] += 1\n",
    "fh.close()\n",
    "\n",
    "list(reversed(sorted([(v,k) for k,v in fd.items()])))"
   ]
  },
  {
   "cell_type": "markdown",
   "metadata": {},
   "source": [
    "### freq_dist()"
   ]
  },
  {
   "cell_type": "code",
   "execution_count": 104,
   "metadata": {},
   "outputs": [],
   "source": [
    "from collections import defaultdict\n",
    "import codecs\n",
    "\n",
    "def freq_dist(dosya_adi):\n",
    "    fh = codecs.open(dosya_adi, encoding = 'utf-8')\n",
    "    fd = defaultdict(int)\n",
    "    # kelime frekanslarını çıkar\n",
    "    for line in fh:\n",
    "        line = line.lower()\n",
    "        kelimeler = line.rstrip().split()\n",
    "        for kelime in kelimeler:\n",
    "            # kelimeleri küçük harflere dönüştür\n",
    "            fd[kelime] += 1\n",
    "    fh.close()\n",
    "    return(fd)"
   ]
  },
  {
   "cell_type": "code",
   "execution_count": 108,
   "metadata": {},
   "outputs": [
    {
     "data": {
      "text/plain": [
       "[(46, 'tek'),\n",
       " (6, 'şu'),\n",
       " (6, 'yüreğime'),\n",
       " (6, 'oldu'),\n",
       " (6, 'ile'),\n",
       " (6, 'hasreti'),\n",
       " (6, 'ek'),\n",
       " (6, 'dertlerim'),\n",
       " (6, 'bitmeyen'),\n",
       " (6, 'birde'),\n",
       " (6, 'ben'),\n",
       " (6, 'başımayım'),\n",
       " (5, 'bıraktılar'),\n",
       " (5, 'beni'),\n",
       " (3, 'yavrumun'),\n",
       " (3, 'yarimin'),\n",
       " (1, 'çaldım'),\n",
       " (1, 'yaşlarım'),\n",
       " (1, 'uçtu'),\n",
       " (1, 'tüm'),\n",
       " (1, 'terketti'),\n",
       " (1, 'tek...'),\n",
       " (1, 'tanıdım'),\n",
       " (1, 'saçlarım'),\n",
       " (1, 'kuşlarım'),\n",
       " (1, 'kapısını'),\n",
       " (1, 'hepsini'),\n",
       " (1, 'göz'),\n",
       " (1, 'gönül'),\n",
       " (1, 'dostlarım'),\n",
       " (1, 'dost'),\n",
       " (1, 'damlıyor'),\n",
       " (1, 'bak'),\n",
       " (1, 'ağardı')]"
      ]
     },
     "execution_count": 108,
     "metadata": {},
     "output_type": "execute_result"
    }
   ],
   "source": [
    "fd_tektek = freq_dist('data/tektek.txt')\n",
    "# tersine çevir\n",
    "list(reversed(sorted([(v,k) for k,v in fd_tektek.items()])))"
   ]
  },
  {
   "cell_type": "code",
   "execution_count": null,
   "metadata": {},
   "outputs": [],
   "source": [
    "fd_bebek = freq_dist('demet_akalin_bebek.txt')\n",
    "# tersine çevir\n"
   ]
  },
  {
   "cell_type": "markdown",
   "metadata": {},
   "source": [
    "### Benmerkezcil Şarkılar "
   ]
  },
  {
   "cell_type": "code",
   "execution_count": 62,
   "metadata": {},
   "outputs": [],
   "source": [
    "ekler = ['im', 'ım', 'um']"
   ]
  },
  {
   "cell_type": "code",
   "execution_count": null,
   "metadata": {},
   "outputs": [],
   "source": [
    "fd_tektek = freq_dist('tektek.txt')\n",
    "\n",
    "selfish = 0\n",
    "nonselfish = 0 \n",
    "for k,v in fd_tektek.items():\n",
    "    if # ipucu: endswith:\n",
    "        # selfish'i arttır\n",
    "        print(k)\n",
    "    else:\n",
    "        # nonselfish'i arttır\n",
    "print('selfish count:', selfish)\n",
    "print('nonselfish count:', nonselfish)"
   ]
  },
  {
   "cell_type": "code",
   "execution_count": null,
   "metadata": {},
   "outputs": [],
   "source": [
    "fd = freq_dist('demet_akalin_bebek.txt')\n",
    "\n",
    "selfish = 0\n",
    "nonselfish = 0 \n",
    "...\n"
   ]
  }
 ],
 "metadata": {
  "kernelspec": {
   "display_name": "Python 3",
   "language": "python",
   "name": "python3"
  },
  "language_info": {
   "codemirror_mode": {
    "name": "ipython",
    "version": 3
   },
   "file_extension": ".py",
   "mimetype": "text/x-python",
   "name": "python",
   "nbconvert_exporter": "python",
   "pygments_lexer": "ipython3",
   "version": "3.6.5"
  }
 },
 "nbformat": 4,
 "nbformat_minor": 2
}
