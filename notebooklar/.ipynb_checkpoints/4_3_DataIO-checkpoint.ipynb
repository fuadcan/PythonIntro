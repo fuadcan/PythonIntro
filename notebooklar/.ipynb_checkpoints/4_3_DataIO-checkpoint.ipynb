{
 "cells": [
  {
   "cell_type": "markdown",
   "metadata": {},
   "source": [
    "# Dosya okuma ve işleme"
   ]
  },
  {
   "cell_type": "code",
   "execution_count": 5,
   "metadata": {},
   "outputs": [],
   "source": [
    "fh = open('test.txt')\n",
    "dat = fh.read()\n",
    "fh.close()"
   ]
  },
  {
   "cell_type": "code",
   "execution_count": 6,
   "metadata": {},
   "outputs": [
    {
     "data": {
      "text/plain": [
       "'05333624888\\n05325320532'"
      ]
     },
     "execution_count": 6,
     "metadata": {},
     "output_type": "execute_result"
    }
   ],
   "source": [
    "dat"
   ]
  },
  {
   "cell_type": "code",
   "execution_count": 9,
   "metadata": {},
   "outputs": [
    {
     "name": "stdout",
     "output_type": "stream",
     "text": [
      "05333624888\n",
      "05325320532\n"
     ]
    }
   ],
   "source": [
    "print(dat)"
   ]
  },
  {
   "cell_type": "code",
   "execution_count": 7,
   "metadata": {},
   "outputs": [
    {
     "data": {
      "text/plain": [
       "['05333624888', '05325320532']"
      ]
     },
     "execution_count": 7,
     "metadata": {},
     "output_type": "execute_result"
    }
   ],
   "source": [
    "dat.split()"
   ]
  },
  {
   "cell_type": "code",
   "execution_count": null,
   "metadata": {},
   "outputs": [],
   "source": [
    "fh = open('test.txt')\n",
    "for ..."
   ]
  },
  {
   "cell_type": "code",
   "execution_count": null,
   "metadata": {},
   "outputs": [],
   "source": [
    "fh = open('test.txt')\n",
    "for ..."
   ]
  },
  {
   "cell_type": "markdown",
   "metadata": {},
   "source": [
    "## tektek.txt"
   ]
  },
  {
   "cell_type": "code",
   "execution_count": 1,
   "metadata": {},
   "outputs": [
    {
     "name": "stdout",
     "output_type": "stream",
     "text": [
      "Tek tek aÄŸardÄ± bak saÃ§larÄ±m tek tek\n",
      "\n",
      "Tek tek damlÄ±yor gÃ¶z yaÅŸlarÄ±m tek tek\n",
      "\n",
      "Tek tek bÄ±raktÄ±lar beni tek\n",
      "\n",
      "\n",
      "\n",
      "Birde yarimin hasreti yÃ¼reÄŸime oldu ek\n",
      "\n",
      "Åžu bitmeyen dertlerim ile tek baÅŸÄ±mayÄ±m ben tek\n",
      "\n",
      "Birde yavrumun hasreti yÃ¼reÄŸime oldu ek\n",
      "\n",
      "Åžu bitmeyen dertlerim ile tek baÅŸÄ±mayÄ±m ben tek\n",
      "\n",
      "\n",
      "\n",
      "Tek tek uÃ§tu gÃ¶nÃ¼l kuÅŸlarÄ±m tek tek\n",
      "\n",
      "Tek tek terketti tÃ¼m dostlarÄ±m tek tek\n",
      "\n",
      "Tek tek bÄ±raktÄ±lar beni tek\n",
      "\n",
      "\n",
      "\n",
      "Birde yarimin hasreti yÃ¼reÄŸime oldu ek\n",
      "\n",
      "\n",
      "\n",
      "Åžu bitmeyen dertlerim ile tek baÅŸÄ±mayÄ±m ben tek\n",
      "\n",
      "Birde yavrumun hasreti yÃ¼reÄŸime oldu ek\n",
      "\n",
      "Åžu bitmeyen dertlerim ile tek baÅŸÄ±mayÄ±m ben tek\n",
      "\n",
      "\n",
      "\n",
      "Tek tek Ã§aldÄ±m dost kapÄ±sÄ±nÄ± tek tek\n",
      "\n",
      "Tek tek tanÄ±dÄ±m hepsini tek tek\n",
      "\n",
      "Tek tek bÄ±raktÄ±lar beni tek\n",
      "\n",
      "\n",
      "\n",
      "Birde yarimin hasreti yÃ¼reÄŸime oldu ek\n",
      "\n",
      "Åžu bitmeyen dertlerim ile tek baÅŸÄ±mayÄ±m ben tek\n",
      "\n",
      "Birde yavrumun hasreti yÃ¼reÄŸime oldu ek\n",
      "\n",
      "Åžu bitmeyen dertlerim ile tek baÅŸÄ±mayÄ±m ben tek\n",
      "\n",
      "\n",
      "\n",
      "BÄ±raktÄ±lar beni tek BÄ±raktÄ±lar beni tek...\n",
      "\n"
     ]
    }
   ],
   "source": [
    "fh = open('tektek.txt')\n",
    "for line in fh:\n",
    "    print(line)\n",
    "fh.close()"
   ]
  },
  {
   "cell_type": "code",
   "execution_count": 3,
   "metadata": {},
   "outputs": [
    {
     "name": "stdout",
     "output_type": "stream",
     "text": [
      "Tek tek ağardı bak saçlarım tek tek\n",
      "Tek tek damlıyor göz yaşlarım tek tek\n",
      "Tek tek bıraktılar beni tek\n",
      "\n",
      "Birde yarimin hasreti yüreğime oldu ek\n",
      "Şu bitmeyen dertlerim ile tek başımayım ben tek\n",
      "Birde yavrumun hasreti yüreğime oldu ek\n",
      "Şu bitmeyen dertlerim ile tek başımayım ben tek\n",
      "\n",
      "Tek tek uçtu gönül kuşlarım tek tek\n",
      "Tek tek terketti tüm dostlarım tek tek\n",
      "Tek tek bıraktılar beni tek\n",
      "\n",
      "Birde yarimin hasreti yüreğime oldu ek\n",
      "\n",
      "Şu bitmeyen dertlerim ile tek başımayım ben tek\n",
      "Birde yavrumun hasreti yüreğime oldu ek\n",
      "Şu bitmeyen dertlerim ile tek başımayım ben tek\n",
      "\n",
      "Tek tek çaldım dost kapısını tek tek\n",
      "Tek tek tanıdım hepsini tek tek\n",
      "Tek tek bıraktılar beni tek\n",
      "\n",
      "Birde yarimin hasreti yüreğime oldu ek\n",
      "Şu bitmeyen dertlerim ile tek başımayım ben tek\n",
      "Birde yavrumun hasreti yüreğime oldu ek\n",
      "Şu bitmeyen dertlerim ile tek başımayım ben tek\n",
      "\n",
      "Bıraktılar beni tek Bıraktılar beni tek...\n"
     ]
    }
   ],
   "source": [
    "import codecs\n",
    "fh = codecs.open('tektek.txt',encoding='utf-8')\n",
    "for line in fh:\n",
    "    print(line.strip())\n",
    "fh.close()"
   ]
  },
  {
   "cell_type": "markdown",
   "metadata": {},
   "source": [
    "### Alternatif (with)"
   ]
  },
  {
   "cell_type": "code",
   "execution_count": 4,
   "metadata": {},
   "outputs": [
    {
     "name": "stdout",
     "output_type": "stream",
     "text": [
      "Tek tek ağardı bak saçlarım tek tek\n",
      "Tek tek damlıyor göz yaşlarım tek tek\n",
      "Tek tek bıraktılar beni tek\n",
      "\n",
      "Birde yarimin hasreti yüreğime oldu ek\n",
      "Şu bitmeyen dertlerim ile tek başımayım ben tek\n",
      "Birde yavrumun hasreti yüreğime oldu ek\n",
      "Şu bitmeyen dertlerim ile tek başımayım ben tek\n",
      "\n",
      "Tek tek uçtu gönül kuşlarım tek tek\n",
      "Tek tek terketti tüm dostlarım tek tek\n",
      "Tek tek bıraktılar beni tek\n",
      "\n",
      "Birde yarimin hasreti yüreğime oldu ek\n",
      "\n",
      "Şu bitmeyen dertlerim ile tek başımayım ben tek\n",
      "Birde yavrumun hasreti yüreğime oldu ek\n",
      "Şu bitmeyen dertlerim ile tek başımayım ben tek\n",
      "\n",
      "Tek tek çaldım dost kapısını tek tek\n",
      "Tek tek tanıdım hepsini tek tek\n",
      "Tek tek bıraktılar beni tek\n",
      "\n",
      "Birde yarimin hasreti yüreğime oldu ek\n",
      "Şu bitmeyen dertlerim ile tek başımayım ben tek\n",
      "Birde yavrumun hasreti yüreğime oldu ek\n",
      "Şu bitmeyen dertlerim ile tek başımayım ben tek\n",
      "\n",
      "Bıraktılar beni tek Bıraktılar beni tek...\n"
     ]
    }
   ],
   "source": [
    "import codecs\n",
    "with codecs.open('tektek.txt',encoding='utf-8') as fh:\n",
    "    for line in fh:\n",
    "        print(line.strip())"
   ]
  },
  {
   "cell_type": "code",
   "execution_count": 8,
   "metadata": {},
   "outputs": [
    {
     "name": "stdout",
     "output_type": "stream",
     "text": [
      "<_io.TextIOWrapper name='firmalar.txt' mode='r' encoding='UTF-8'>\n"
     ]
    }
   ],
   "source": [
    "fh = open(\"firmalar.txt\")\n",
    "print(fh)"
   ]
  },
  {
   "cell_type": "raw",
   "metadata": {},
   "source": [
    "fh.read()"
   ]
  },
  {
   "cell_type": "code",
   "execution_count": 9,
   "metadata": {},
   "outputs": [],
   "source": [
    "fh.close()"
   ]
  },
  {
   "cell_type": "code",
   "execution_count": null,
   "metadata": {},
   "outputs": [],
   "source": [
    "fh = open('firmalar_processed.txt')\n",
    "for line in fh:\n",
    "    print(line)\n",
    "fh.close()"
   ]
  },
  {
   "cell_type": "code",
   "execution_count": 17,
   "metadata": {},
   "outputs": [],
   "source": [
    "fh = open('firmalar_processed.txt')\n",
    "counter = 0\n",
    "for line in fh:\n",
    "    if 'dudullu' in line.lower():\n",
    "        break\n",
    "    counter += 1\n",
    "fh.close()"
   ]
  },
  {
   "cell_type": "code",
   "execution_count": 18,
   "metadata": {},
   "outputs": [
    {
     "data": {
      "text/plain": [
       "169"
      ]
     },
     "execution_count": 18,
     "metadata": {},
     "output_type": "execute_result"
    }
   ],
   "source": [
    "leventler = counter\n",
    "leventler"
   ]
  },
  {
   "cell_type": "code",
   "execution_count": null,
   "metadata": {},
   "outputs": [],
   "source": [
    "fh = open('firmalar_processed.txt')\n",
    "counter = 0\n",
    "for line in fh:\n",
    "    if counter <= leventler:\n",
    "        print(line)\n",
    "    counter += 1\n",
    "fh.close()"
   ]
  },
  {
   "cell_type": "code",
   "execution_count": 20,
   "metadata": {},
   "outputs": [],
   "source": [
    "fh = open('firmalar_processed.txt')\n",
    "outfile = open('leventler.txt','w')\n",
    "counter = 0\n",
    "for line in fh:\n",
    "    if counter <= leventler:\n",
    "        outfile.write(line)\n",
    "    counter += 1\n",
    "fh.close()\n",
    "outfile.close()"
   ]
  },
  {
   "cell_type": "code",
   "execution_count": null,
   "metadata": {},
   "outputs": [],
   "source": []
  }
 ],
 "metadata": {
  "kernelspec": {
   "display_name": "Python 3",
   "language": "python",
   "name": "python3"
  },
  "language_info": {
   "codemirror_mode": {
    "name": "ipython",
    "version": 3
   },
   "file_extension": ".py",
   "mimetype": "text/x-python",
   "name": "python",
   "nbconvert_exporter": "python",
   "pygments_lexer": "ipython3",
   "version": "3.6.5"
  }
 },
 "nbformat": 4,
 "nbformat_minor": 2
}
