{
 "cells": [
  {
   "cell_type": "code",
   "execution_count": 1,
   "metadata": {},
   "outputs": [],
   "source": [
    "class futbolcu:\n",
    "    nick_name  = ''\n",
    "    takim      = ''\n",
    "    mevkii     = ''\n",
    "    yas        = 0\n",
    "    \n",
    "    def sut_cek(self):\n",
    "        print('%s şut çekti, vurdu gol oldu' % self.nick_name)\n",
    "                \n",
    "    def transfer_ol(self,yeni_takim,ucret):\n",
    "        eski_takim = self.takim\n",
    "        print('%s %s ücretle transfer oldu!!! Alan takım %s çok mutlu iken %s üzgün' % (self.nick_name,ucret, yeni_takim,eski_takim))\n",
    "        self.takim = yeni_takim"
   ]
  },
  {
   "cell_type": "code",
   "execution_count": 2,
   "metadata": {},
   "outputs": [],
   "source": [
    "neymar = futbolcu()\n",
    "neymar.nick_name = 'Neymar'\n",
    "neymar.yas       = 26\n",
    "neymar.mevkii    = 'Sol Açık'\n",
    "neymar.takim     = 'PSG'"
   ]
  },
  {
   "cell_type": "code",
   "execution_count": 3,
   "metadata": {},
   "outputs": [
    {
     "data": {
      "text/plain": [
       "'PSG'"
      ]
     },
     "execution_count": 3,
     "metadata": {},
     "output_type": "execute_result"
    }
   ],
   "source": [
    "neymar.takim"
   ]
  },
  {
   "cell_type": "code",
   "execution_count": 4,
   "metadata": {},
   "outputs": [
    {
     "name": "stdout",
     "output_type": "stream",
     "text": [
      "Neymar 3000000 ücretle transfer oldu!!! Alan takım Real Mardin çok mutlu iken PSG üzgün\n"
     ]
    }
   ],
   "source": [
    "neymar.transfer_ol('Real Mardin',3000000)"
   ]
  },
  {
   "cell_type": "code",
   "execution_count": 5,
   "metadata": {},
   "outputs": [
    {
     "data": {
      "text/plain": [
       "'Real Mardin'"
      ]
     },
     "execution_count": 5,
     "metadata": {},
     "output_type": "execute_result"
    }
   ],
   "source": [
    "neymar.takim"
   ]
  },
  {
   "cell_type": "code",
   "execution_count": 11,
   "metadata": {},
   "outputs": [],
   "source": [
    "class kolpa_oyuncu(futbolcu):\n",
    "    def kendini_yere_at(self):\n",
    "        print('%s sakatlık geçiriyor' % self.nick_name)"
   ]
  },
  {
   "cell_type": "code",
   "execution_count": 12,
   "metadata": {},
   "outputs": [],
   "source": [
    "neymar = kolpa_oyuncu()\n",
    "neymar.nick_name = 'Neymar'\n",
    "neymar.yas       = 26\n",
    "neymar.mevkii    = 'Sol Açık'\n",
    "neymar.takim     = 'PSG'\n"
   ]
  },
  {
   "cell_type": "code",
   "execution_count": 13,
   "metadata": {},
   "outputs": [
    {
     "name": "stdout",
     "output_type": "stream",
     "text": [
      "Neymar sakatlık geçiriyor\n"
     ]
    }
   ],
   "source": [
    "neymar.kendini_yere_at()"
   ]
  },
  {
   "cell_type": "code",
   "execution_count": 8,
   "metadata": {},
   "outputs": [],
   "source": [
    "neymar.nick_name = 'Neymar'"
   ]
  },
  {
   "cell_type": "code",
   "execution_count": null,
   "metadata": {},
   "outputs": [],
   "source": [
    "neymar."
   ]
  },
  {
   "cell_type": "code",
   "execution_count": 22,
   "metadata": {},
   "outputs": [],
   "source": [
    "ronaldo = futbolcu()\n",
    "ronaldo.nick_name = 'Ronaldo'"
   ]
  },
  {
   "cell_type": "code",
   "execution_count": 23,
   "metadata": {},
   "outputs": [
    {
     "name": "stdout",
     "output_type": "stream",
     "text": [
      "Ronaldo takımını bıraktı. Juventus 10000000 bedelle satın aldı.  yönetimi sessiz\n"
     ]
    }
   ],
   "source": [
    "ronaldo.transfer_ol('Juventus', 10000000)"
   ]
  },
  {
   "cell_type": "code",
   "execution_count": 24,
   "metadata": {},
   "outputs": [
    {
     "data": {
      "text/plain": [
       "'Juventus'"
      ]
     },
     "execution_count": 24,
     "metadata": {},
     "output_type": "execute_result"
    }
   ],
   "source": [
    "ronaldo.takim"
   ]
  }
 ],
 "metadata": {
  "kernelspec": {
   "display_name": "Python 3",
   "language": "python",
   "name": "python3"
  },
  "language_info": {
   "codemirror_mode": {
    "name": "ipython",
    "version": 3
   },
   "file_extension": ".py",
   "mimetype": "text/x-python",
   "name": "python",
   "nbconvert_exporter": "python",
   "pygments_lexer": "ipython3",
   "version": "3.6.5"
  }
 },
 "nbformat": 4,
 "nbformat_minor": 2
}
