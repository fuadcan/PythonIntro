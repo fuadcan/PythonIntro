{
 "cells": [
  {
   "cell_type": "code",
   "execution_count": 2,
   "metadata": {},
   "outputs": [],
   "source": [
    "depresif = ['aldanma çocuksu mahsun yüzüne - Müslüm, pixels - Leprous', 'bitti mi - 110', 'some kind of a love song - Freak Kitchen']\n",
    "gaz      = ['breaking the law - Judas Priest', 'beyond this life - Dream Theater', 'wake up - RATM']\n",
    "mutlu    = ['consumed - Control Denied', 'spirit crusher - Death', 'jotun - In Flames']"
   ]
  },
  {
   "cell_type": "code",
   "execution_count": 3,
   "metadata": {},
   "outputs": [
    {
     "name": "stdout",
     "output_type": "stream",
     "text": [
      "Duygu durumunuzu seçiniz:\n",
      "1. Depresif\n",
      "2. Gaz lazım\n",
      "3. Mutlu\n",
      "> 3\n",
      "spirit crusher - Death\n"
     ]
    }
   ],
   "source": [
    "from random import randint, SystemRandom\n",
    "secure_random = SystemRandom()\n",
    "\n",
    "mood = input('Duygu durumunuzu seçiniz:\\n1. Depresif\\n2. Gaz lazım\\n3. Mutlu\\n> ')\n",
    "\n",
    "if mood == '1':\n",
    "    print(secure_random.choice(depresif))\n",
    "elif mood == '2':\n",
    "    print(secure_random.choice(gaz))\n",
    "elif mood == '3':\n",
    "    print(secure_random.choice(mutlu))\n",
    "else:\n",
    "    print('lütfen 1, 2 ya da 3 arasından seçiniz')"
   ]
  },
  {
   "cell_type": "markdown",
   "metadata": {},
   "source": [
    "## Sözlükler (Dictionary) "
   ]
  },
  {
   "cell_type": "code",
   "execution_count": 9,
   "metadata": {},
   "outputs": [],
   "source": [
    "dct = {'adnan':79,'mümtaz':42,'cumali':49}"
   ]
  },
  {
   "cell_type": "code",
   "execution_count": 10,
   "metadata": {},
   "outputs": [
    {
     "name": "stdout",
     "output_type": "stream",
     "text": [
      "{'adnan': 79, 'mümtaz': 42, 'cumali': 49}\n"
     ]
    }
   ],
   "source": [
    "print(dct)"
   ]
  },
  {
   "cell_type": "code",
   "execution_count": 12,
   "metadata": {},
   "outputs": [
    {
     "name": "stdout",
     "output_type": "stream",
     "text": [
      "79\n",
      "42\n",
      "49\n"
     ]
    }
   ],
   "source": [
    "print(dct['adnan'])\n",
    "print(dct['mümtaz'])\n",
    "print(dct['cumali'])"
   ]
  },
  {
   "cell_type": "markdown",
   "metadata": {},
   "source": [
    "### Dictionary Methods "
   ]
  },
  {
   "cell_type": "code",
   "execution_count": 13,
   "metadata": {},
   "outputs": [
    {
     "name": "stdout",
     "output_type": "stream",
     "text": [
      "dict_keys(['adnan', 'mümtaz', 'cumali'])\n"
     ]
    }
   ],
   "source": [
    "print(dct.keys())"
   ]
  },
  {
   "cell_type": "code",
   "execution_count": 14,
   "metadata": {},
   "outputs": [
    {
     "name": "stdout",
     "output_type": "stream",
     "text": [
      "dict_values([79, 42, 49])\n"
     ]
    }
   ],
   "source": [
    "print(dct.values())"
   ]
  },
  {
   "cell_type": "code",
   "execution_count": 15,
   "metadata": {},
   "outputs": [
    {
     "name": "stdout",
     "output_type": "stream",
     "text": [
      "dict_items([('adnan', 79), ('mümtaz', 42), ('cumali', 49)])\n"
     ]
    }
   ],
   "source": [
    "print(dct.items())"
   ]
  },
  {
   "cell_type": "code",
   "execution_count": 16,
   "metadata": {},
   "outputs": [
    {
     "name": "stdout",
     "output_type": "stream",
     "text": [
      "adnan\n",
      "mümtaz\n",
      "cumali\n"
     ]
    }
   ],
   "source": [
    "for k in dct.keys():\n",
    "    print(k)"
   ]
  },
  {
   "cell_type": "code",
   "execution_count": 17,
   "metadata": {},
   "outputs": [
    {
     "name": "stdout",
     "output_type": "stream",
     "text": [
      "79\n",
      "42\n",
      "49\n"
     ]
    }
   ],
   "source": [
    "for v in dct.values():\n",
    "    print(v)"
   ]
  },
  {
   "cell_type": "code",
   "execution_count": 18,
   "metadata": {},
   "outputs": [
    {
     "name": "stdout",
     "output_type": "stream",
     "text": [
      "adnan 79\n",
      "mümtaz 42\n",
      "cumali 49\n"
     ]
    }
   ],
   "source": [
    "for k,v in dct.items():\n",
    "    print(k,v)"
   ]
  },
  {
   "cell_type": "code",
   "execution_count": 20,
   "metadata": {},
   "outputs": [],
   "source": [
    "### Playlist örneği\n",
    "n_played = {'Dream Theater': 101, 'Leprous': 33, 'Opeth':92, 'Pink Floyd':203,'Bülent Ersoy':144}"
   ]
  },
  {
   "cell_type": "code",
   "execution_count": 23,
   "metadata": {},
   "outputs": [],
   "source": [
    "n_played['Hüseyin Tatlı'] = 24\n",
    "n_played['İbrahim Tatlıseks'] = 99\n",
    "n_played['Orhan Bencegay'] = 89\n",
    "n_played['Yavuz Top'] = 10"
   ]
  },
  {
   "cell_type": "code",
   "execution_count": 24,
   "metadata": {},
   "outputs": [
    {
     "name": "stdout",
     "output_type": "stream",
     "text": [
      "Dream Theater 101\n",
      "Leprous 33\n",
      "Opeth 92\n",
      "Pink Floyd 203\n",
      "Bülent Ersoy 144\n",
      "Hüseyin Tatlı 24\n",
      "İbrahim Tatlıseks 99\n",
      "Orhan Bencegay 89\n",
      "Yavuz Top 10\n"
     ]
    }
   ],
   "source": [
    "for k,v in n_played.items():\n",
    "    print(k,v)"
   ]
  },
  {
   "cell_type": "code",
   "execution_count": 25,
   "metadata": {},
   "outputs": [],
   "source": [
    "max_played  = None\n",
    "band_played = None\n",
    "for k,v in n_played.items():\n",
    "    if max_played is None or v > max_played:\n",
    "        max_played  = v\n",
    "        band_played = k "
   ]
  },
  {
   "cell_type": "code",
   "execution_count": 26,
   "metadata": {},
   "outputs": [
    {
     "data": {
      "text/plain": [
       "'Pink Floyd'"
      ]
     },
     "execution_count": 26,
     "metadata": {},
     "output_type": "execute_result"
    }
   ],
   "source": [
    "band_played"
   ]
  },
  {
   "cell_type": "code",
   "execution_count": null,
   "metadata": {},
   "outputs": [],
   "source": []
  }
 ],
 "metadata": {
  "kernelspec": {
   "display_name": "Python 3",
   "language": "python",
   "name": "python3"
  },
  "language_info": {
   "codemirror_mode": {
    "name": "ipython",
    "version": 3
   },
   "file_extension": ".py",
   "mimetype": "text/x-python",
   "name": "python",
   "nbconvert_exporter": "python",
   "pygments_lexer": "ipython3",
   "version": "3.6.5"
  }
 },
 "nbformat": 4,
 "nbformat_minor": 2
}
