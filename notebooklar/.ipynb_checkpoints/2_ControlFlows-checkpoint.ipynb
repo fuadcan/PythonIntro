{
 "cells": [
  {
   "cell_type": "markdown",
   "metadata": {},
   "source": [
    "# Mantıksal Operasyonlar"
   ]
  },
  {
   "cell_type": "code",
   "execution_count": 3,
   "metadata": {},
   "outputs": [
    {
     "data": {
      "text/plain": [
       "3"
      ]
     },
     "execution_count": 3,
     "metadata": {},
     "output_type": "execute_result"
    }
   ],
   "source": [
    "x = 3 # tek eşitlik işareti tanım için kullanılır\n",
    "x"
   ]
  },
  {
   "cell_type": "code",
   "execution_count": 4,
   "metadata": {},
   "outputs": [
    {
     "ename": "NameError",
     "evalue": "name 'y' is not defined",
     "output_type": "error",
     "traceback": [
      "\u001b[0;31m---------------------------------------------------------------------------\u001b[0m",
      "\u001b[0;31mNameError\u001b[0m                                 Traceback (most recent call last)",
      "\u001b[0;32m<ipython-input-4-68bc9b399a47>\u001b[0m in \u001b[0;36m<module>\u001b[0;34m()\u001b[0m\n\u001b[0;32m----> 1\u001b[0;31m \u001b[0my\u001b[0m \u001b[0;34m==\u001b[0m \u001b[0;36m3\u001b[0m\u001b[0;34m\u001b[0m\u001b[0m\n\u001b[0m",
      "\u001b[0;31mNameError\u001b[0m: name 'y' is not defined"
     ]
    }
   ],
   "source": [
    "y == 3"
   ]
  },
  {
   "cell_type": "code",
   "execution_count": 30,
   "metadata": {},
   "outputs": [
    {
     "data": {
      "text/plain": [
       "True"
      ]
     },
     "execution_count": 30,
     "metadata": {},
     "output_type": "execute_result"
    }
   ],
   "source": [
    "x == 3"
   ]
  },
  {
   "cell_type": "code",
   "execution_count": 31,
   "metadata": {},
   "outputs": [
    {
     "data": {
      "text/plain": [
       "bool"
      ]
     },
     "execution_count": 31,
     "metadata": {},
     "output_type": "execute_result"
    }
   ],
   "source": [
    "type(x==3)"
   ]
  },
  {
   "cell_type": "code",
   "execution_count": null,
   "metadata": {},
   "outputs": [],
   "source": []
  },
  {
   "cell_type": "code",
   "execution_count": 24,
   "metadata": {},
   "outputs": [],
   "source": [
    "param = 200"
   ]
  },
  {
   "cell_type": "code",
   "execution_count": 25,
   "metadata": {},
   "outputs": [],
   "source": [
    "if param > 200:\n",
    "    print('Hediye: Bak aşkım senin için bugün kendime ne aldım!')"
   ]
  },
  {
   "cell_type": "code",
   "execution_count": 53,
   "metadata": {},
   "outputs": [
    {
     "name": "stdout",
     "output_type": "stream",
     "text": [
      "Hediye: Kaşağı\n"
     ]
    }
   ],
   "source": [
    "param = 200\n",
    "if param <= 200:\n",
    "    print('Hediye: Kaşağı')\n",
    "else:\n",
    "    print('Hediye: Bak aşkım senin için bugün kendime ne aldım!')    "
   ]
  },
  {
   "cell_type": "code",
   "execution_count": 54,
   "metadata": {},
   "outputs": [
    {
     "name": "stdout",
     "output_type": "stream",
     "text": [
      "Hediye: Lağımcı botunun çiçeklisi\n"
     ]
    }
   ],
   "source": [
    "param = 200\n",
    "if param < 100:\n",
    "    print('Hediye: Kaşağı')\n",
    "elif param >= 100 and param < 500:\n",
    "    print('Hediye: Lağımcı botunun çiçeklisi')\n",
    "else:\n",
    "    print('Ayy boşver o herifi, bir Versacesi bile yok')"
   ]
  },
  {
   "cell_type": "markdown",
   "metadata": {},
   "source": [
    "## If fonksiyonu"
   ]
  },
  {
   "cell_type": "code",
   "execution_count": null,
   "metadata": {},
   "outputs": [],
   "source": [
    "if _kosul_ :\n",
    "    kriter_saglanirsa_sonuc"
   ]
  },
  {
   "cell_type": "code",
   "execution_count": 10,
   "metadata": {},
   "outputs": [],
   "source": [
    "calismaYili = 3"
   ]
  },
  {
   "cell_type": "code",
   "execution_count": 12,
   "metadata": {},
   "outputs": [
    {
     "name": "stdout",
     "output_type": "stream",
     "text": [
      "Maaşına zam yapalım artık\n"
     ]
    }
   ],
   "source": [
    "if calismaYili >= 3:\n",
    "    print('Maaşına zam yapalım artık')"
   ]
  },
  {
   "cell_type": "markdown",
   "metadata": {},
   "source": [
    "### If - Else"
   ]
  },
  {
   "cell_type": "code",
   "execution_count": 13,
   "metadata": {},
   "outputs": [
    {
     "name": "stdout",
     "output_type": "stream",
     "text": [
      "Maaşına zam yapalım artık\n"
     ]
    }
   ],
   "source": [
    "if calismaYili >= 3:\n",
    "    print('Maaşına zam yapalım artık')\n",
    "else:\n",
    "    print('bugün doluyum, sonra konuşalım')"
   ]
  },
  {
   "cell_type": "code",
   "execution_count": 14,
   "metadata": {},
   "outputs": [],
   "source": [
    "calismaYili = 3\n",
    "maas = 1500\n",
    "if calismaYili >= 3:\n",
    "    maas = maas * 1.1"
   ]
  },
  {
   "cell_type": "code",
   "execution_count": 16,
   "metadata": {},
   "outputs": [
    {
     "name": "stdout",
     "output_type": "stream",
     "text": [
      "1800.0\n"
     ]
    }
   ],
   "source": [
    "calismaYili = 3\n",
    "maas = 1500\n",
    "enflasyon = .1\n",
    "if calismaYili >= 3:\n",
    "    maas = maas * (1 + enflasyon * 2)\n",
    "else:\n",
    "    maas = maas * (1 + enflasyon)\n",
    "print(maas)"
   ]
  },
  {
   "cell_type": "markdown",
   "metadata": {},
   "source": [
    "#### Alternatif (tek satır)"
   ]
  },
  {
   "cell_type": "code",
   "execution_count": 17,
   "metadata": {},
   "outputs": [
    {
     "name": "stdout",
     "output_type": "stream",
     "text": [
      "1800.0\n"
     ]
    }
   ],
   "source": [
    "calismaYili = 3\n",
    "maas = 1500\n",
    "enflasyon = .1\n",
    "yeniMaas = maas * (1 + enflasyon * 2) if calismaYili >= 3 else maas * (1 + enflasyon)\n",
    "print(yeniMaas)"
   ]
  },
  {
   "cell_type": "markdown",
   "metadata": {},
   "source": [
    "### Elif"
   ]
  },
  {
   "cell_type": "code",
   "execution_count": 19,
   "metadata": {},
   "outputs": [
    {
     "data": {
      "text/plain": [
       "1950.0"
      ]
     },
     "execution_count": 19,
     "metadata": {},
     "output_type": "execute_result"
    }
   ],
   "source": [
    "calismaYili = 5.5\n",
    "maas = 1500\n",
    "enflasyon = .1\n",
    "\n",
    "if calismaYili > 5:\n",
    "    yeniMaas = maas * (1 + enflasyon * 3)\n",
    "elif calismaYili > 3:\n",
    "    yeniMaas = maas * (1 + enflasyon * 2)\n",
    "else:\n",
    "    yeniMaas = maas * (1 + enflasyon)\n",
    "yeniMaas"
   ]
  },
  {
   "cell_type": "markdown",
   "metadata": {},
   "source": [
    "### And ile Or "
   ]
  },
  {
   "cell_type": "code",
   "execution_count": 20,
   "metadata": {},
   "outputs": [],
   "source": [
    "suc = 'dolandiricilik'\n",
    "kravat = 'var'"
   ]
  },
  {
   "cell_type": "code",
   "execution_count": null,
   "metadata": {},
   "outputs": [],
   "source": [
    "print(suc == 'dolandiricilik' and kravat == 'var')\n",
    "print(suc == 'dolandiricilik' and kravat == 'yok')\n",
    "print(suc == 'itlik, hergelelik' and kravat == 'var')\n",
    "print(suc == 'itlik, hergelelik' and kravat == 'yok')"
   ]
  },
  {
   "cell_type": "code",
   "execution_count": null,
   "metadata": {},
   "outputs": [],
   "source": [
    "print(suc == 'dolandiricilik' or kravat == 'var')\n",
    "print(suc == 'dolandiricilik' or kravat == 'yok')\n",
    "print(suc == 'itlik, hergelelik' or kravat == 'var')\n",
    "print(suc == 'itlik, hergelelik' or kravat == 'yok')"
   ]
  },
  {
   "cell_type": "markdown",
   "metadata": {},
   "source": [
    "## Ceza indirimi"
   ]
  },
  {
   "cell_type": "code",
   "execution_count": null,
   "metadata": {},
   "outputs": [],
   "source": [
    "# Eğer suç itlik, hergelelik ise ve kravat yoksa ceza 6 ay\n",
    "# Eğer suç itlik, hergelelik ise ve kravat varsa ceza 6 ay ve 50% iyi hal indirimi\n",
    "# Eğer suç dolandırıcılık ise ceza 2 yıl"
   ]
  },
  {
   "cell_type": "code",
   "execution_count": null,
   "metadata": {},
   "outputs": [],
   "source": [
    "if ...:\n",
    "    ceza = ...\n",
    "elif ...:\n",
    "    ceza = ...\n",
    "else:\n",
    "    ceza = ..."
   ]
  },
  {
   "cell_type": "code",
   "execution_count": 26,
   "metadata": {},
   "outputs": [],
   "source": [
    "# Eğer suç itlik, hergelelik ise ve kravat yoksa ceza 6 ay\n",
    "# Eğer suç itlik, hergelelik ise ve kravat varsa ceza 6 ay ve 50% iyi hal indirimi\n",
    "# Eğer suç dolandırıcılık ya da gasp ise ceza 2 yıl\n",
    "# Aksi taktirde delil yetersiz"
   ]
  },
  {
   "cell_type": "code",
   "execution_count": null,
   "metadata": {},
   "outputs": [],
   "source": [
    "if ...:\n",
    "    ceza = ...\n",
    "elif ...:\n",
    "    ceza = ...\n",
    "else:\n",
    "    ceza = ..."
   ]
  },
  {
   "cell_type": "markdown",
   "metadata": {},
   "source": [
    "### Cezamı kes"
   ]
  },
  {
   "cell_type": "code",
   "execution_count": null,
   "metadata": {},
   "outputs": [],
   "source": [
    "def cezamı_kes(suc, kravat):\n",
    "    if ...:\n",
    "        ceza = ...\n",
    "    elif ...:\n",
    "        ceza = ...\n",
    "    else:\n",
    "        ceza = ...\n",
    "    return(ceza)"
   ]
  }
 ],
 "metadata": {
  "kernelspec": {
   "display_name": "Python 3",
   "language": "python",
   "name": "python3"
  },
  "language_info": {
   "codemirror_mode": {
    "name": "ipython",
    "version": 3
   },
   "file_extension": ".py",
   "mimetype": "text/x-python",
   "name": "python",
   "nbconvert_exporter": "python",
   "pygments_lexer": "ipython3",
   "version": "3.6.5"
  }
 },
 "nbformat": 4,
 "nbformat_minor": 2
}
