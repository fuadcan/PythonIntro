{
 "cells": [
  {
   "cell_type": "markdown",
   "metadata": {},
   "source": [
    "## Verileri Kaydetme"
   ]
  },
  {
   "cell_type": "markdown",
   "metadata": {},
   "source": [
    "Önce verileri kaydetmek içi alt klasör oluşturacağız:"
   ]
  },
  {
   "cell_type": "code",
   "execution_count": 29,
   "metadata": {},
   "outputs": [
    {
     "name": "stdout",
     "output_type": "stream",
     "text": [
      "it already exist\n"
     ]
    }
   ],
   "source": [
    "import os\n",
    "try:\n",
    "    os.mkdir('outputs')\n",
    "except:\n",
    "    print('it already exist')\n"
   ]
  },
  {
   "cell_type": "markdown",
   "metadata": {},
   "source": [
    "### Maillist"
   ]
  },
  {
   "cell_type": "code",
   "execution_count": 31,
   "metadata": {},
   "outputs": [
    {
     "data": {
      "text/plain": [
       "'Ad|Soyad|email|meslek|sirket\\nSinan|Tutuman|sinan.tutuman@intelcon.com.tr|bilisim|intelcon\\nMahir|Kilic|mahir.kilic@gmail.com|bilisim|intelcon\\nSelin|Korkmaz|s.korkmaz@intelcon.com.tr|bilisim|intelcon\\nEmrah Nur|Seren|seren.emrah@gmail.com|bilisim|intelcon\\nFuat Can|Beylunioğlu|fuadcan@gmail.com|akademi|University of Waterloo\\nMerve|Ay|m.ay@intelcon.com.tr|bilisim|intelcon\\nFuat Can|Beylunioğlu|can.beylunioglu@bilgiedu.net|akademi|Bilgi Üniversitesi\\nEge|Yazgan|ege.yazgan@bilgi.edu.tr|akademi|Bilgi Üniversitesi\\nThanasis|Stengos|tstengos@uoguelph.ca|akademi|University of Guelph\\nTicari|Devam|ticaridevam@yandex.com|ticaret|Devamlı Ticaret'"
      ]
     },
     "execution_count": 31,
     "metadata": {},
     "output_type": "execute_result"
    }
   ],
   "source": [
    "import codecs\n",
    "with codecs.open('data/maillist.txt', encoding='utf-8') as fh:\n",
    "    maillist = fh.read()\n",
    "maillist"
   ]
  },
  {
   "cell_type": "code",
   "execution_count": 32,
   "metadata": {},
   "outputs": [],
   "source": [
    "import codecs\n",
    "fh = codecs.open('data/maillist.txt', encoding='utf-8')\n",
    "maillist = fh.read()\n",
    "fh.close()"
   ]
  },
  {
   "cell_type": "code",
   "execution_count": 35,
   "metadata": {},
   "outputs": [],
   "source": [
    "maillist = maillist.split('\\n')"
   ]
  },
  {
   "cell_type": "code",
   "execution_count": 37,
   "metadata": {},
   "outputs": [
    {
     "data": {
      "text/plain": [
       "['Ad|Soyad|email|meslek|sirket',\n",
       " 'Sinan|Tutuman|sinan.tutuman@intelcon.com.tr|bilisim|intelcon',\n",
       " 'Mahir|Kilic|mahir.kilic@gmail.com|bilisim|intelcon',\n",
       " 'Selin|Korkmaz|s.korkmaz@intelcon.com.tr|bilisim|intelcon',\n",
       " 'Emrah Nur|Seren|seren.emrah@gmail.com|bilisim|intelcon',\n",
       " 'Fuat Can|Beylunioğlu|fuadcan@gmail.com|akademi|University of Waterloo',\n",
       " 'Merve|Ay|m.ay@intelcon.com.tr|bilisim|intelcon',\n",
       " 'Fuat Can|Beylunioğlu|can.beylunioglu@bilgiedu.net|akademi|Bilgi Üniversitesi',\n",
       " 'Ege|Yazgan|ege.yazgan@bilgi.edu.tr|akademi|Bilgi Üniversitesi',\n",
       " 'Thanasis|Stengos|tstengos@uoguelph.ca|akademi|University of Guelph',\n",
       " 'Ticari|Devam|ticaridevam@yandex.com|ticaret|Devamlı Ticaret']"
      ]
     },
     "execution_count": 37,
     "metadata": {},
     "output_type": "execute_result"
    }
   ],
   "source": [
    "maillist"
   ]
  },
  {
   "cell_type": "code",
   "execution_count": 38,
   "metadata": {},
   "outputs": [
    {
     "data": {
      "text/plain": [
       "[['Ad', 'Soyad', 'email', 'meslek', 'sirket'],\n",
       " ['Sinan', 'Tutuman', 'sinan.tutuman@intelcon.com.tr', 'bilisim', 'intelcon'],\n",
       " ['Mahir', 'Kilic', 'mahir.kilic@gmail.com', 'bilisim', 'intelcon'],\n",
       " ['Selin', 'Korkmaz', 's.korkmaz@intelcon.com.tr', 'bilisim', 'intelcon'],\n",
       " ['Emrah Nur', 'Seren', 'seren.emrah@gmail.com', 'bilisim', 'intelcon'],\n",
       " ['Fuat Can',\n",
       "  'Beylunioğlu',\n",
       "  'fuadcan@gmail.com',\n",
       "  'akademi',\n",
       "  'University of Waterloo'],\n",
       " ['Merve', 'Ay', 'm.ay@intelcon.com.tr', 'bilisim', 'intelcon'],\n",
       " ['Fuat Can',\n",
       "  'Beylunioğlu',\n",
       "  'can.beylunioglu@bilgiedu.net',\n",
       "  'akademi',\n",
       "  'Bilgi Üniversitesi'],\n",
       " ['Ege', 'Yazgan', 'ege.yazgan@bilgi.edu.tr', 'akademi', 'Bilgi Üniversitesi'],\n",
       " ['Thanasis',\n",
       "  'Stengos',\n",
       "  'tstengos@uoguelph.ca',\n",
       "  'akademi',\n",
       "  'University of Guelph'],\n",
       " ['Ticari', 'Devam', 'ticaridevam@yandex.com', 'ticaret', 'Devamlı Ticaret']]"
      ]
     },
     "execution_count": 38,
     "metadata": {},
     "output_type": "execute_result"
    }
   ],
   "source": [
    "maillist = [mail.split('|') for mail in maillist]\n",
    "maillist"
   ]
  },
  {
   "cell_type": "markdown",
   "metadata": {},
   "source": [
    "### txt ve csv'ye yazma "
   ]
  },
  {
   "cell_type": "code",
   "execution_count": 65,
   "metadata": {},
   "outputs": [],
   "source": [
    "# csv'ye yazma\n",
    "import codecs\n",
    "mailler = codecs.open('outputs/mailler.txt','w',encoding='utf-8')\n",
    "for line in maillist:\n",
    "    mailler.write('|'.join(line) + '\\n')\n",
    "mailler.close()"
   ]
  },
  {
   "cell_type": "markdown",
   "metadata": {},
   "source": [
    "### Alternatif"
   ]
  },
  {
   "cell_type": "code",
   "execution_count": 13,
   "metadata": {},
   "outputs": [],
   "source": [
    "with codecs.open('outputs/mailler.txt','w',encoding='utf-8') as mailler:\n",
    "    for line in maillist:\n",
    "        mailler.write('|'.join(line) + '\\n')"
   ]
  },
  {
   "cell_type": "markdown",
   "metadata": {},
   "source": [
    "### CSV"
   ]
  },
  {
   "cell_type": "code",
   "execution_count": 43,
   "metadata": {},
   "outputs": [
    {
     "data": {
      "text/plain": [
       "['Selin', 'Korkmaz', 's.korkmaz@intelcon.com.tr', 'bilisim', 'intelcon']"
      ]
     },
     "execution_count": 43,
     "metadata": {},
     "output_type": "execute_result"
    }
   ],
   "source": [
    "maillist[3]"
   ]
  },
  {
   "cell_type": "code",
   "execution_count": 44,
   "metadata": {},
   "outputs": [],
   "source": [
    "import csv\n",
    "with codecs.open('outputs/mailler.csv', 'w', encoding='utf-8') as mailler:\n",
    "    writer = csv.writer(mailler, delimiter=';',\n",
    "                            quotechar='|', quoting=csv.QUOTE_MINIMAL)\n",
    "    for line in maillist:\n",
    "        writer.writerow(line)"
   ]
  },
  {
   "cell_type": "markdown",
   "metadata": {},
   "source": [
    "### Dict to CSV"
   ]
  },
  {
   "cell_type": "markdown",
   "metadata": {},
   "source": [
    "Bazı durumlarda dictionary objesini yazmak daha iyi sonuçlar verebilir. Örneğin verinin başlık satırının doğru yazıldığından emin olunmak isteniyorsa başlıklar ile verinin denk getirilmesini `dictwriter` sağlayabilir."
   ]
  },
  {
   "cell_type": "code",
   "execution_count": 48,
   "metadata": {},
   "outputs": [
    {
     "data": {
      "text/plain": [
       "['Mahir', 'Kilic', 'mahir.kilic@gmail.com', 'bilisim', 'intelcon']"
      ]
     },
     "execution_count": 48,
     "metadata": {},
     "output_type": "execute_result"
    }
   ],
   "source": []
  },
  {
   "cell_type": "code",
   "execution_count": 51,
   "metadata": {},
   "outputs": [
    {
     "data": {
      "text/plain": [
       "[['Sinan', 'Tutuman', 'sinan.tutuman@intelcon.com.tr', 'bilisim', 'intelcon'],\n",
       " ['Mahir', 'Kilic', 'mahir.kilic@gmail.com', 'bilisim', 'intelcon'],\n",
       " ['Selin', 'Korkmaz', 's.korkmaz@intelcon.com.tr', 'bilisim', 'intelcon'],\n",
       " ['Emrah Nur', 'Seren', 'seren.emrah@gmail.com', 'bilisim', 'intelcon'],\n",
       " ['Fuat Can',\n",
       "  'Beylunioğlu',\n",
       "  'fuadcan@gmail.com',\n",
       "  'akademi',\n",
       "  'University of Waterloo'],\n",
       " ['Merve', 'Ay', 'm.ay@intelcon.com.tr', 'bilisim', 'intelcon'],\n",
       " ['Fuat Can',\n",
       "  'Beylunioğlu',\n",
       "  'can.beylunioglu@bilgiedu.net',\n",
       "  'akademi',\n",
       "  'Bilgi Üniversitesi'],\n",
       " ['Ege', 'Yazgan', 'ege.yazgan@bilgi.edu.tr', 'akademi', 'Bilgi Üniversitesi'],\n",
       " ['Thanasis',\n",
       "  'Stengos',\n",
       "  'tstengos@uoguelph.ca',\n",
       "  'akademi',\n",
       "  'University of Guelph'],\n",
       " ['Ticari', 'Devam', 'ticaridevam@yandex.com', 'ticaret', 'Devamlı Ticaret']]"
      ]
     },
     "execution_count": 51,
     "metadata": {},
     "output_type": "execute_result"
    }
   ],
   "source": [
    "maillist[1:]"
   ]
  },
  {
   "cell_type": "code",
   "execution_count": 53,
   "metadata": {},
   "outputs": [],
   "source": [
    "data_dict = []\n",
    "basliklar = maillist[0]\n",
    "data      = maillist[1:]"
   ]
  },
  {
   "cell_type": "code",
   "execution_count": 54,
   "metadata": {},
   "outputs": [
    {
     "data": {
      "text/plain": [
       "5"
      ]
     },
     "execution_count": 54,
     "metadata": {},
     "output_type": "execute_result"
    }
   ],
   "source": [
    "len(basliklar)"
   ]
  },
  {
   "cell_type": "code",
   "execution_count": 55,
   "metadata": {},
   "outputs": [
    {
     "data": {
      "text/plain": [
       "['Sinan', 'Tutuman', 'sinan.tutuman@intelcon.com.tr', 'bilisim', 'intelcon']"
      ]
     },
     "execution_count": 55,
     "metadata": {},
     "output_type": "execute_result"
    }
   ],
   "source": [
    "data[0]"
   ]
  },
  {
   "cell_type": "code",
   "execution_count": 56,
   "metadata": {},
   "outputs": [
    {
     "data": {
      "text/plain": [
       "[{'Ad': 'Sinan',\n",
       "  'Soyad': 'Tutuman',\n",
       "  'email': 'sinan.tutuman@intelcon.com.tr',\n",
       "  'meslek': 'bilisim',\n",
       "  'sirket': 'intelcon'},\n",
       " {'Ad': 'Mahir',\n",
       "  'Soyad': 'Kilic',\n",
       "  'email': 'mahir.kilic@gmail.com',\n",
       "  'meslek': 'bilisim',\n",
       "  'sirket': 'intelcon'},\n",
       " {'Ad': 'Selin',\n",
       "  'Soyad': 'Korkmaz',\n",
       "  'email': 's.korkmaz@intelcon.com.tr',\n",
       "  'meslek': 'bilisim',\n",
       "  'sirket': 'intelcon'},\n",
       " {'Ad': 'Emrah Nur',\n",
       "  'Soyad': 'Seren',\n",
       "  'email': 'seren.emrah@gmail.com',\n",
       "  'meslek': 'bilisim',\n",
       "  'sirket': 'intelcon'},\n",
       " {'Ad': 'Fuat Can',\n",
       "  'Soyad': 'Beylunioğlu',\n",
       "  'email': 'fuadcan@gmail.com',\n",
       "  'meslek': 'akademi',\n",
       "  'sirket': 'University of Waterloo'},\n",
       " {'Ad': 'Merve',\n",
       "  'Soyad': 'Ay',\n",
       "  'email': 'm.ay@intelcon.com.tr',\n",
       "  'meslek': 'bilisim',\n",
       "  'sirket': 'intelcon'},\n",
       " {'Ad': 'Fuat Can',\n",
       "  'Soyad': 'Beylunioğlu',\n",
       "  'email': 'can.beylunioglu@bilgiedu.net',\n",
       "  'meslek': 'akademi',\n",
       "  'sirket': 'Bilgi Üniversitesi'},\n",
       " {'Ad': 'Ege',\n",
       "  'Soyad': 'Yazgan',\n",
       "  'email': 'ege.yazgan@bilgi.edu.tr',\n",
       "  'meslek': 'akademi',\n",
       "  'sirket': 'Bilgi Üniversitesi'},\n",
       " {'Ad': 'Thanasis',\n",
       "  'Soyad': 'Stengos',\n",
       "  'email': 'tstengos@uoguelph.ca',\n",
       "  'meslek': 'akademi',\n",
       "  'sirket': 'University of Guelph'},\n",
       " {'Ad': 'Ticari',\n",
       "  'Soyad': 'Devam',\n",
       "  'email': 'ticaridevam@yandex.com',\n",
       "  'meslek': 'ticaret',\n",
       "  'sirket': 'Devamlı Ticaret'}]"
      ]
     },
     "execution_count": 56,
     "metadata": {},
     "output_type": "execute_result"
    }
   ],
   "source": [
    "for line in data:\n",
    "    temp = {basliklar[i]: line[i] for i in range(len(basliklar))}\n",
    "    data_dict.append(temp)\n",
    "data_dict"
   ]
  },
  {
   "cell_type": "markdown",
   "metadata": {},
   "source": [
    "### Alternatif (tek satır)"
   ]
  },
  {
   "cell_type": "code",
   "execution_count": 57,
   "metadata": {},
   "outputs": [],
   "source": [
    "data_dict = [{basliklar[i]: line[i] for i in range(len(basliklar))} for line in data]"
   ]
  },
  {
   "cell_type": "code",
   "execution_count": 64,
   "metadata": {},
   "outputs": [
    {
     "data": {
      "text/plain": [
       "{'Ad': 'Mahir',\n",
       " 'Soyad': 'Kilic',\n",
       " 'email': 'mahir.kilic@gmail.com',\n",
       " 'meslek': 'bilisim',\n",
       " 'sirket': 'intelcon'}"
      ]
     },
     "execution_count": 64,
     "metadata": {},
     "output_type": "execute_result"
    }
   ],
   "source": [
    "data_dict[1]"
   ]
  },
  {
   "cell_type": "code",
   "execution_count": 61,
   "metadata": {},
   "outputs": [],
   "source": [
    "# dictionary yazma\n",
    "import csv\n",
    "with codecs.open('outputs/mailler.csv', 'w', encoding='utf-8') as mailler:\n",
    "    writer = csv.DictWriter(mailler,fieldnames=basliklar)\n",
    "    # başlık satırını yaz (ipucu: writeheader())\n",
    "    writer.writeheader()\n",
    "    for dct in data_dict:\n",
    "        # her bir satırı yaz (ipucu: write.row)\n",
    "        writer.writerow(dct)"
   ]
  },
  {
   "cell_type": "markdown",
   "metadata": {},
   "source": [
    "#### CSV okuma"
   ]
  },
  {
   "cell_type": "code",
   "execution_count": 40,
   "metadata": {},
   "outputs": [],
   "source": [
    "# dictionary yazma\n",
    "import csv\n",
    "with codecs.open('outputs/mailler.csv', 'r', encoding='utf-8') as mailler:\n",
    "    reader = csv.DictReader(mailler)\n",
    "    # başlık satırını yaz (ipucu: writeheader())\n",
    "    for row in reader:\n",
    "        print(row['Ad'], row['Soyad'])"
   ]
  },
  {
   "cell_type": "markdown",
   "metadata": {},
   "source": [
    "### Excel'e yazma "
   ]
  },
  {
   "cell_type": "code",
   "execution_count": 22,
   "metadata": {},
   "outputs": [],
   "source": [
    "import openpyxl"
   ]
  },
  {
   "cell_type": "code",
   "execution_count": 35,
   "metadata": {},
   "outputs": [],
   "source": [
    "from openpyxl.workbook import Workbook\n",
    "\n",
    "dosya_adi = ...\n",
    "\n",
    "# workbook objesi yarat\n",
    "wb = Workbook()\n",
    "\n",
    "# yazılacak sayfayı ve başlığını belirle\n",
    "sayfa = wb.active\n",
    "sayfa.title = \"mailler\"\n",
    "\n",
    "# başlıkları yazdır (ipucu : sayfa.append)\n",
    "...\n",
    "\n",
    "# satırları yazdır\n",
    "for line in data:\n",
    "    ...\n",
    "\n",
    "# sayfayı hard disc'e kaydet\n",
    "wb.save(filename = dosya_adi)"
   ]
  },
  {
   "cell_type": "markdown",
   "metadata": {},
   "source": [
    "#### Var olan Excel dosyasına satır ekleme\n",
    "\n",
    "Yeni veriler:"
   ]
  },
  {
   "cell_type": "code",
   "execution_count": 43,
   "metadata": {},
   "outputs": [],
   "source": [
    "with codecs.open('maillist_yeni.txt',encoding='utf-8') as fh:\n",
    "    maillist_yeni = [line.strip().split('|') for line in fh]"
   ]
  },
  {
   "cell_type": "code",
   "execution_count": 44,
   "metadata": {},
   "outputs": [
    {
     "data": {
      "text/plain": [
       "[['Ad', 'Soyad', 'email', 'meslek', 'sirket'],\n",
       " ['Adnan',\n",
       "  'Külyazdı',\n",
       "  'adnan.kulyazdi@hotmail.com',\n",
       "  'ticaret',\n",
       "  'Külyazdı Ticaret'],\n",
       " ['Cumali', 'Genegelen', 'cumali.genegelen@outlook.com', 'bilisim', 'CGData'],\n",
       " ['Mümtaz',\n",
       "  'Gıybet',\n",
       "  'm.giyb@giybetmobilya.com.tr',\n",
       "  'mobilya',\n",
       "  'Gıybet Mobilya'],\n",
       " ['Hande Nur', 'Adalet', 'hanadal@gmail.com', 'turizm', 'Namtur Turizm'],\n",
       " ['Handan',\n",
       "  'Çalparacı',\n",
       "  'cocuklarbanaeman@yahoo.com',\n",
       "  'eğitim',\n",
       "  'Akıllı Çocuk Kreş']]"
      ]
     },
     "execution_count": 44,
     "metadata": {},
     "output_type": "execute_result"
    }
   ],
   "source": [
    "maillist_yeni"
   ]
  },
  {
   "cell_type": "code",
   "execution_count": 68,
   "metadata": {},
   "outputs": [],
   "source": [
    "from openpyxl import load_workbook\n",
    "\n",
    "dosya_adi = ...\n",
    "wb = load_workbook(dosya_adi)\n",
    "sayfa = wb.active\n",
    "\n",
    "for line in maillist_yeni[1:]\n",
    "    sayfa.append(line)\n",
    "\n",
    "wb.save(filename=dosya_adi)"
   ]
  },
  {
   "cell_type": "markdown",
   "metadata": {},
   "source": [
    "### JSON'a yazma"
   ]
  },
  {
   "cell_type": "code",
   "execution_count": 69,
   "metadata": {},
   "outputs": [],
   "source": [
    "import json, os\n",
    "\n",
    "with open('outputs/firmalar.json', 'w') as fh:\n",
    "    fh.write('[')\n",
    "    for line in data:\n",
    "        # Dictionary oluşturma\n",
    "        # boş dict aç\n",
    "        ...\n",
    "        # dict'i doldur\n",
    "        ...\n",
    "        # Yaz\n",
    "        # ipucu: her bir iterasyonda bir alt satıra geç\n",
    "        ## dictionary'yi yaz ve yanına bir virgül koy.\n",
    "        ## Bir sonraki iterasyonda yeniden bir alt\n",
    "        ## satıra geçecek\n",
    "        # ipucu: json.dump()\n",
    "        ...\n",
    "        ...\n",
    "    # Son iterasyonda eklenen gereksiz virgül'ü sil\n",
    "    fh.seek(fh.tell()-1)\n",
    "    fh.truncate()\n",
    "    # Bir satır aşağıya\n",
    "    fh.write('\\n]')"
   ]
  },
  {
   "cell_type": "code",
   "execution_count": 70,
   "metadata": {},
   "outputs": [
    {
     "name": "stdout",
     "output_type": "stream",
     "text": [
      "{'Firma': 'AKA ELEKTRÝK CÝHAZLARI SAN PAZAR AÞ', 'Adres': 'ESKÝ BÜYÜKDERE C ÇAMLIK S N 7/2\\xa04.LEVENT.', 'Tel': 'Tel : (212)2809703 Fax : (212)2809703'}\n"
     ]
    }
   ],
   "source": [
    "import json\n",
    "fh = open('outputs/firmalar.json')\n",
    "print(json.load(fh)[0])\n",
    "fh.close()"
   ]
  },
  {
   "cell_type": "markdown",
   "metadata": {},
   "source": [
    "### SQL'e yazma "
   ]
  },
  {
   "cell_type": "code",
   "execution_count": 71,
   "metadata": {},
   "outputs": [],
   "source": [
    "import sqlite3\n",
    "conn = sqlite3.connect('outputs/firmalar.db')\n",
    "\n",
    "cur  = conn.cursor()\n",
    "\n",
    "# firmalar isimli tabloyu oluştur. Firma, Adres, Tel ve Web kolonları olsun\n",
    "cur.execute('''CREATE TABLE ...''')\n",
    "\n",
    "for line in data:\n",
    "    # Dictionary oluşturma\n",
    "    # Her iterasyonda 4 veri olmayabilir (bazı firmalar için web yok).\n",
    "    ## Onları None ile tamamla. parts isimli 4 elemanlı bir liste olsun\n",
    "    parts = ...\n",
    "    cur.execute(\"INSERT INTO firmalar VALUES (?,?,?,?)\", parts)\n",
    "    conn.commit()\n",
    "conn.close()"
   ]
  },
  {
   "cell_type": "markdown",
   "metadata": {},
   "source": [
    "Yukarıdaki örnekte `cur.execute` her bir iterasyonda yazılacak değeri hazırlıyor ve `conn.commit()` anlık hafızada bulunan bu veriyi _firmalar.db_'ye işliyor. Ancak bu işlemi her iterasyonda yapmak yazma işlemini yavaşlatır. Bunun yerine 10 (ya da 1000) iterasyonda bir `conn.commit()` emrini verirsek hafızada 10 (ya da 1000) işlem biriktirdikten sonra yazma işlemini gerçekleştirebiliriz. Ancak her iterasyonda işlenen veriler büyüdükçe biriken veriler de büyüyecektir ve bilgisayarınızın RAM'ini dolduracak kadar birikirse hata mesajı verecektir. Bizim örneğimizde verinin tamamı bile RAM'i doldurmasa da işlemi 10 iterasyonda 1 yapacak şekilde uygulayacağız:"
   ]
  },
  {
   "cell_type": "code",
   "execution_count": null,
   "metadata": {},
   "outputs": [],
   "source": [
    "import sqlite3\n",
    "conn = sqlite3.connect('outputs/firmalar.db')\n",
    "\n",
    "conn.execute('DROP TABLE firmalar') # daha önce oluşturduğumuz tabloyu sil\n",
    "cur  = conn.cursor()\n",
    "\n",
    "cur.execute('''CREATE TABLE ...''')\n",
    "counter = 1\n",
    "for line in data:\n",
    "    ...\n",
    "    parts = ...\n",
    "    # Yazma\n",
    "    cur.execute(\"INSERT INTO firmalar VALUES (?,?,?,?)\", parts)\n",
    "    if counter % 10 == 0: \n",
    "        conn.commit()\n",
    "        print('commited at', counter)\n",
    "    counter += 1\n",
    "conn.close()"
   ]
  }
 ],
 "metadata": {
  "kernelspec": {
   "display_name": "Python 3",
   "language": "python",
   "name": "python3"
  },
  "language_info": {
   "codemirror_mode": {
    "name": "ipython",
    "version": 3
   },
   "file_extension": ".py",
   "mimetype": "text/x-python",
   "name": "python",
   "nbconvert_exporter": "python",
   "pygments_lexer": "ipython3",
   "version": "3.6.5"
  }
 },
 "nbformat": 4,
 "nbformat_minor": 2
}
