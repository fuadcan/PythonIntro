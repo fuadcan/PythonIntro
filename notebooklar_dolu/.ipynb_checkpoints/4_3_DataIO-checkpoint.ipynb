{
 "cells": [
  {
   "cell_type": "markdown",
   "metadata": {},
   "source": [
    "# Dosya okuma ve işleme"
   ]
  },
  {
   "cell_type": "code",
   "execution_count": 3,
   "metadata": {},
   "outputs": [],
   "source": [
    "fh  = open('data/test.txt')\n",
    "dat = fh.read()\n",
    "fh.close()"
   ]
  },
  {
   "cell_type": "code",
   "execution_count": 4,
   "metadata": {},
   "outputs": [
    {
     "data": {
      "text/plain": [
       "'05333624888\\n05325320532'"
      ]
     },
     "execution_count": 4,
     "metadata": {},
     "output_type": "execute_result"
    }
   ],
   "source": [
    "dat"
   ]
  },
  {
   "cell_type": "code",
   "execution_count": 5,
   "metadata": {},
   "outputs": [
    {
     "name": "stdout",
     "output_type": "stream",
     "text": [
      "05333624888\n",
      "05325320532\n"
     ]
    }
   ],
   "source": [
    "print(dat)"
   ]
  },
  {
   "cell_type": "code",
   "execution_count": 6,
   "metadata": {},
   "outputs": [
    {
     "data": {
      "text/plain": [
       "['05333624888', '05325320532']"
      ]
     },
     "execution_count": 6,
     "metadata": {},
     "output_type": "execute_result"
    }
   ],
   "source": [
    "dat.split()"
   ]
  },
  {
   "cell_type": "code",
   "execution_count": 11,
   "metadata": {},
   "outputs": [
    {
     "name": "stdout",
     "output_type": "stream",
     "text": [
      "05333624888\n",
      "------\n",
      "05325320532\n",
      "------\n"
     ]
    }
   ],
   "source": [
    "fh = open('data/test.txt')\n",
    "for line in fh:\n",
    "    print(line.rstrip())\n",
    "fh.close()"
   ]
  },
  {
   "cell_type": "code",
   "execution_count": null,
   "metadata": {},
   "outputs": [],
   "source": [
    "fh = open('test.txt')\n",
    "for ..."
   ]
  },
  {
   "cell_type": "markdown",
   "metadata": {},
   "source": [
    "## tektek.txt"
   ]
  },
  {
   "cell_type": "code",
   "execution_count": 14,
   "metadata": {},
   "outputs": [
    {
     "name": "stdout",
     "output_type": "stream",
     "text": [
      "Tek tek aÄŸardÄ± bak saÃ§larÄ±m tek tek\n",
      "Tek tek damlÄ±yor gÃ¶z yaÅŸlarÄ±m tek tek\n",
      "Tek tek bÄ±raktÄ±lar beni tek\n",
      "\n",
      "Birde yarimin hasreti yÃ¼reÄŸime oldu ek\n",
      "Åžu bitmeyen dertlerim ile tek baÅŸÄ±mayÄ±m ben tek\n",
      "Birde yavrumun hasreti yÃ¼reÄŸime oldu ek\n",
      "Åžu bitmeyen dertlerim ile tek baÅŸÄ±mayÄ±m ben tek\n",
      "\n",
      "Tek tek uÃ§tu gÃ¶nÃ¼l kuÅŸlarÄ±m tek tek\n",
      "Tek tek terketti tÃ¼m dostlarÄ±m tek tek\n",
      "Tek tek bÄ±raktÄ±lar beni tek\n",
      "\n",
      "Birde yarimin hasreti yÃ¼reÄŸime oldu ek\n",
      "\n",
      "Åžu bitmeyen dertlerim ile tek baÅŸÄ±mayÄ±m ben tek\n",
      "Birde yavrumun hasreti yÃ¼reÄŸime oldu ek\n",
      "Åžu bitmeyen dertlerim ile tek baÅŸÄ±mayÄ±m ben tek\n",
      "\n",
      "Tek tek Ã§aldÄ±m dost kapÄ±sÄ±nÄ± tek tek\n",
      "Tek tek tanÄ±dÄ±m hepsini tek tek\n",
      "Tek tek bÄ±raktÄ±lar beni tek\n",
      "\n",
      "Birde yarimin hasreti yÃ¼reÄŸime oldu ek\n",
      "Åžu bitmeyen dertlerim ile tek baÅŸÄ±mayÄ±m ben tek\n",
      "Birde yavrumun hasreti yÃ¼reÄŸime oldu ek\n",
      "Åžu bitmeyen dertlerim ile tek baÅŸÄ±mayÄ±m ben tek\n",
      "\n",
      "BÄ±raktÄ±lar beni tek BÄ±raktÄ±lar beni tek...\n"
     ]
    }
   ],
   "source": [
    "fh = open('data/tektek.txt')\n",
    "for line in fh:\n",
    "    print(line.rstrip())\n",
    "fh.close()"
   ]
  },
  {
   "cell_type": "code",
   "execution_count": 16,
   "metadata": {},
   "outputs": [
    {
     "name": "stdout",
     "output_type": "stream",
     "text": [
      "Tek tek ağardı bak saçlarım tek tek\n",
      "Tek tek damlıyor göz yaşlarım tek tek\n",
      "Tek tek bıraktılar beni tek\n",
      "\n",
      "Birde yarimin hasreti yüreğime oldu ek\n",
      "Şu bitmeyen dertlerim ile tek başımayım ben tek\n",
      "Birde yavrumun hasreti yüreğime oldu ek\n",
      "Şu bitmeyen dertlerim ile tek başımayım ben tek\n",
      "\n",
      "Tek tek uçtu gönül kuşlarım tek tek\n",
      "Tek tek terketti tüm dostlarım tek tek\n",
      "Tek tek bıraktılar beni tek\n",
      "\n",
      "Birde yarimin hasreti yüreğime oldu ek\n",
      "\n",
      "Şu bitmeyen dertlerim ile tek başımayım ben tek\n",
      "Birde yavrumun hasreti yüreğime oldu ek\n",
      "Şu bitmeyen dertlerim ile tek başımayım ben tek\n",
      "\n",
      "Tek tek çaldım dost kapısını tek tek\n",
      "Tek tek tanıdım hepsini tek tek\n",
      "Tek tek bıraktılar beni tek\n",
      "\n",
      "Birde yarimin hasreti yüreğime oldu ek\n",
      "Şu bitmeyen dertlerim ile tek başımayım ben tek\n",
      "Birde yavrumun hasreti yüreğime oldu ek\n",
      "Şu bitmeyen dertlerim ile tek başımayım ben tek\n",
      "\n",
      "Bıraktılar beni tek Bıraktılar beni tek...\n"
     ]
    }
   ],
   "source": [
    "import codecs \n",
    "fh = codecs.open('data/tektek.txt', encoding='utf-8')\n",
    "for line in fh:\n",
    "    print(line.rstrip())\n",
    "fh.close()"
   ]
  },
  {
   "cell_type": "code",
   "execution_count": 23,
   "metadata": {},
   "outputs": [
    {
     "name": "stdout",
     "output_type": "stream",
     "text": [
      "Tek tek ağardı bak saçlarım tek tek\n",
      "Tek tek damlıyor göz yaşlarım tek tek\n",
      "Tek tek bıraktılar beni tek\n",
      "\n",
      "Birde yarimin hasreti yüreğime oldu ek\n",
      "Şu bitmeyen dertlerim ile tek başımayım ben tek\n",
      "Birde yavrumun hasreti yüreğime oldu ek\n",
      "Şu bitmeyen dertlerim ile tek başımayım ben tek\n",
      "\n",
      "Tek tek uçtu gönül kuşlarım tek tek\n",
      "Tek tek terketti tüm dostlarım tek tek\n",
      "Tek tek bıraktılar beni tek\n",
      "\n",
      "Birde yarimin hasreti yüreğime oldu ek\n",
      "\n",
      "Şu bitmeyen dertlerim ile tek başımayım ben tek\n",
      "Birde yavrumun hasreti yüreğime oldu ek\n",
      "Şu bitmeyen dertlerim ile tek başımayım ben tek\n",
      "\n",
      "Tek tek çaldım dost kapısını tek tek\n",
      "Tek tek tanıdım hepsini tek tek\n",
      "Tek tek bıraktılar beni tek\n",
      "\n",
      "Birde yarimin hasreti yüreğime oldu ek\n",
      "Şu bitmeyen dertlerim ile tek başımayım ben tek\n",
      "Birde yavrumun hasreti yüreğime oldu ek\n",
      "Şu bitmeyen dertlerim ile tek başımayım ben tek\n",
      "\n",
      "Bıraktılar beni tek Bıraktılar beni tek...\n"
     ]
    }
   ],
   "source": [
    "import codecs\n",
    "with codecs.open('data/tektek.txt',encoding='utf-8') as fh:\n",
    "    for line in fh:\n",
    "        print(line.rstrip())"
   ]
  },
  {
   "cell_type": "markdown",
   "metadata": {},
   "source": [
    "### Alternatif (with)"
   ]
  },
  {
   "cell_type": "code",
   "execution_count": 22,
   "metadata": {},
   "outputs": [
    {
     "name": "stdout",
     "output_type": "stream",
     "text": [
      "Tek tek ağardı bak saçlarım tek tek\n",
      "Tek tek damlıyor göz yaşlarım tek tek\n",
      "Tek tek bıraktılar beni tek\n",
      "\n",
      "Birde yarimin hasreti yüreğime oldu ek\n",
      "Şu bitmeyen dertlerim ile tek başımayım ben tek\n",
      "Birde yavrumun hasreti yüreğime oldu ek\n",
      "Şu bitmeyen dertlerim ile tek başımayım ben tek\n",
      "\n",
      "Tek tek uçtu gönül kuşlarım tek tek\n",
      "Tek tek terketti tüm dostlarım tek tek\n",
      "Tek tek bıraktılar beni tek\n",
      "\n",
      "Birde yarimin hasreti yüreğime oldu ek\n",
      "\n",
      "Şu bitmeyen dertlerim ile tek başımayım ben tek\n",
      "Birde yavrumun hasreti yüreğime oldu ek\n",
      "Şu bitmeyen dertlerim ile tek başımayım ben tek\n",
      "\n",
      "Tek tek çaldım dost kapısını tek tek\n",
      "Tek tek tanıdım hepsini tek tek\n",
      "Tek tek bıraktılar beni tek\n",
      "\n",
      "Birde yarimin hasreti yüreğime oldu ek\n",
      "Şu bitmeyen dertlerim ile tek başımayım ben tek\n",
      "Birde yavrumun hasreti yüreğime oldu ek\n",
      "Şu bitmeyen dertlerim ile tek başımayım ben tek\n",
      "\n",
      "Bıraktılar beni tek Bıraktılar beni tek...\n"
     ]
    }
   ],
   "source": [
    "import codecs\n",
    "with codecs.open('data/tektek.txt',encoding='utf-8') as fh:\n",
    "    for line in fh:\n",
    "        print(line.strip())"
   ]
  },
  {
   "cell_type": "code",
   "execution_count": 29,
   "metadata": {},
   "outputs": [
    {
     "name": "stdout",
     "output_type": "stream",
     "text": [
      "<_io.TextIOWrapper name='data/firmalar.txt' mode='r' encoding='cp1252'>\n"
     ]
    }
   ],
   "source": [
    "fh = open(\"data/firmalar.txt\")\n",
    "print(fh)"
   ]
  },
  {
   "cell_type": "raw",
   "metadata": {},
   "source": [
    "print(fh.read())"
   ]
  },
  {
   "cell_type": "code",
   "execution_count": 30,
   "metadata": {},
   "outputs": [],
   "source": [
    "fh.close()"
   ]
  },
  {
   "cell_type": "code",
   "execution_count": null,
   "metadata": {},
   "outputs": [],
   "source": []
  },
  {
   "cell_type": "code",
   "execution_count": 26,
   "metadata": {},
   "outputs": [
    {
     "name": "stdout",
     "output_type": "stream",
     "text": [
      "Firma: AKA ELEKTRÄ°K CÄ°HAZLARI SAN PAZAR AÅž\n",
      "\n",
      "ESKÄ° BÃœYÃœKDERE C Ã‡AMLIK S N 7/2 4.LEVENT.\n",
      "\n",
      "Tel : (212)2809703 Fax : (212)2809703\n",
      "\n",
      "Firma: AKÃ‡A MAKÄ°NA SAN TÄ°C LTD ÅžTÄ°\n",
      "\n",
      "OTO SANSÄ°T DURGUN S N 9 4.LEVENT.\n",
      "\n",
      "Tel : (212)2792132 Fax : (212)2792132\n",
      "\n",
      "Firma: AKERLER TÄ°CARET\n",
      "\n",
      "OTO SAN SÄ°T FATÄ°H C N 49/3 4.LEVENT.\n",
      "\n",
      "Tel : (212)2641253 Fax : (212)2641253\n",
      "\n",
      "Firma: AKKAYA PEUGEOT OTO TAMÄ°R SAN TÄ°C AÅž\n",
      "\n",
      "OTO SAN SÄ°T ATATÃœRK C B BL N 21 4.LEVENT.\n",
      "\n",
      "Tel : (212)2640266 Fax : (212)2640266\n",
      "\n",
      "Firma: AKSOY KALIP SAN TÄ°C AÅž\n",
      "\n",
      "SANAYÄ° M SULTAN SELÄ°M C KOÃ‡ S N 13/A 4.LEVENT.\n",
      "\n",
      "Tel : (212)2681331 Fax : (212)2681331\n",
      "\n",
      "Firma: AKTUÄž MAKÄ°NA SAN VE TÄ°C\n",
      "\n",
      "ULUBAÅž C DEMÄ°RBAÅž S N 6 4.LEVENT.\n",
      "\n",
      "Tel : (212)2685085 Fax : (212)2685085\n",
      "\n",
      "Firma: AKTUÄž MAKÄ°NA SAN VE TÄ°C\n",
      "\n",
      "ULUBAÅž C DEMÄ°RBAÅž S N 6 OTO SANAYÄ° 4.LEVENT.\n",
      "\n",
      "Tel : (212)2685085 Fax : (212)2685085\n",
      "\n",
      "Firma: ALMÃœT ALARKO SÄ°NAÄ° GEREÃ‡LER Ä°ML VE MÃœMESSÄ°LLÄ°K AÅž\n",
      "\n",
      "OTO SANAYÄ° SÄ°TESÄ° AYTEKÄ°N S N 9 4.LEVENT.\n",
      "\n",
      "Tel : (212)2640042 Fax : (212)2640042\n",
      "\n",
      "Firma: ALPER OTMV SAN VE TÄ°C LTD ÅžTÄ°\n",
      "\n",
      "OTO SAN SÄ°T ULUBAÅž C N 6 4.LEVENT.\n",
      "\n",
      "Tel : (212)2645418 Fax : (212)2645418\n",
      "\n",
      "Firma: ALPER OTOMOTÄ°V SAN TÄ°C LTD ÅžTÄ°\n",
      "\n",
      "ULUBAÅž C N 6 4.LEVENT.\n",
      "\n",
      "Tel : (212)2642809 Fax : (212)2642809\n",
      "\n",
      "Firma: ARABACI MOTORLU ARAÃ‡LAR PAZ TÄ°C AÅž\n",
      "\n",
      "ESKÄ° BÃœYÃœKDERE C N 45 SANAYÄ° M 4.LEVENT.\n",
      "\n",
      "Tel : (212)2815757 Fax : (212)2815757\n",
      "\n",
      "Firma: ARI OTO BAKIM SERVÄ°SÄ° VE TÄ°C LTD ÅžTÄ°\n",
      "\n",
      "OTO SAN SÄ°T Ã‡AMLIK YOLU OKUL S N 19 4.LEVENT.\n",
      "\n",
      "Tel : (212)2682214 Fax : (212)2682214\n",
      "\n",
      "Firma: ARZU WOLKWAGEN SERVÄ°SÄ°\n",
      "\n",
      "OTO SAN SÄ°T SEYRANTEPE M NATO C N 22 4.LEVENT.\n",
      "\n",
      "Tel : (212)2780167 Fax : (212)2780167\n",
      "\n",
      "Firma: AS OTO BAKIM ELEKTRÄ°K MONTAJI\n",
      "\n",
      "OTO SAN SÄ°T GÄ°RNE C N 18 4.LEVENT.\n",
      "\n",
      "Tel : (212)2695249 Fax : (212)2695249\n",
      "\n",
      "Firma: ASSAN HYUNDAI MAS AÅž\n",
      "\n",
      "YUNUS EMRE S N 1/2 - 7 4.LEVENT.\n",
      "\n",
      "Tel : (212)2806299 Fax : (212)2806299\n",
      "\n",
      "Firma: ASSAN HYUNDAÄ° MOTORLU ARAÃ‡LAR AÅž\n",
      "\n",
      "YUNUS EMRE S 4.LEVENT.\n",
      "\n",
      "Tel : (212)2806313 Fax : (212)2806313\n",
      "\n",
      "Firma: ATOM TÄ°CARET SERVÄ°SÄ°\n",
      "\n",
      "MENDERES C OTO SAN SÄ°T N 2 4.LEVENT.\n",
      "\n",
      "Tel : (212)2642443 Fax : (212)2642443\n",
      "\n",
      "Firma: AYSAN CÄ°VATA DEMÄ°R Ã‡EKME SAN TÄ°C AÅž\n",
      "\n",
      "SANAYÄ° M SULTAN SELÄ°M C N 36 4.LEVENT.\n",
      "\n",
      "Tel : (212)2642457 Fax : (212)2642457\n",
      "\n",
      "Firma: BASECOM BÄ°LGÄ°SAYAR SAN TÄ°C AÅž\n",
      "\n",
      "EMNÄ°YET EVLERÄ° M YENÄ°Ã‡ERÄ° S REPA Ä°Åž MERKEZÄ° N 12 K 3 4.LEVENT.\n",
      "\n",
      "Tel : (212)2707970 Fax : (212)2707970\n",
      "\n",
      "Firma: BAÅžKET OTO KAPORTA\n",
      "\n",
      "OTO SAN SÄ°T Ã‡ELÄ°K S N 42 4.LEVENT.\n",
      "\n",
      "Tel : (212)2832944 Fax : (212)2832944\n",
      "\n",
      "Firma: BAYINDIR RULMAN SAN TÄ°C LTD ÅžTÄ°\n",
      "\n",
      "OTO SAN SÄ°T Ä°NÃ–NÃœ C N 4 4.LEVENT.\n",
      "\n",
      "Tel : (212)2681472 Fax : (212)2681472\n",
      "\n",
      "Firma: BERBEROÄžLU TÄ°CARET\n",
      "\n",
      "SANAYÄ° M SULTAN SELÄ°M C N 24 4.LEVENT.\n",
      "\n",
      "Tel : (212)2702861 Fax : (212)2702861\n",
      "\n",
      "Firma: BÄ°RLAS JANS SAN VE TÄ°C LTD ÅžTÄ°\n",
      "\n",
      "OTO SAN SÄ°T Ã‡AMLIK YOLU 2 4.LEVENT.\n",
      "\n",
      "Tel : (212)2810843 Fax : (212)2810843\n",
      "\n",
      "Firma: BÄ°RLAS JANT LTD ÅžTÄ°\n",
      "\n",
      "OTO SAN SÄ°T Ã‡AMLIKYOLU C 2 4.LEVENT.\n",
      "\n",
      "Tel : (212)2810843 Fax : (212)2810843\n",
      "\n",
      "Firma: BÄ°RLAS LASTÄ°K SATIÅž MRK LTD ÅžTÄ°\n",
      "\n",
      "OTO SAN SÄ°T Ã‡AMLIK YOLU C N 2 4.LEVENT.\n",
      "\n",
      "Tel : (212)2810843 Fax : (212)2810843\n",
      "\n",
      "Firma: BORTRANS TRANSFORMATÃ–R VE Ä°ZOLATÃ–R SAN TÄ°C AÅž\n",
      "\n",
      "EMNÄ°YET M YAMAÃ‡ S N 1/2 4.LEVENT.\n",
      "\n",
      "Tel : (216)3111694 Fax : (216)3111694\n",
      "\n",
      "Firma: BOSTANCI YAY SANAYÄ°\n",
      "\n",
      "OTO SAN SÄ°T ULUBAÅž PSJ K 1 N 20 4.LEVENT.\n",
      "\n",
      "Tel : (212)2684367 Fax : (212)2684367\n",
      "\n",
      "Firma: CETAÅž OTOMOTÄ°V Ä°NÅž SAN TÄ°C LTD ÅžTÄ°\n",
      "\n",
      "OTO SAN SÄ°T DURGUN S N 1 4.LEVENT.\n",
      "\n",
      "Tel : (212)2784982 Fax : (212)2784982\n",
      "\n",
      "Firma: CEVAHÄ°R TÄ°C OTO BOYA VE YAPI MLZ\n",
      "\n",
      "OTO SAN SÄ°T YILDIZ S N 3/2 4.LEVENT.\n",
      "\n",
      "Tel : (212)2647256 Fax : (212)2647256\n",
      "\n",
      "Firma: CEYLAN TÄ°CARET\n",
      "\n",
      "OTO SAN SÄ°T FATÄ°H C N 14 4.LEVENT.\n",
      "\n",
      "Tel : (212)2645038 Fax : (212)2645038\n",
      "\n",
      "Firma: COMSAN CONTA BALATA YEDEK PARÃ‡A SERVÄ°SÄ°\n",
      "\n",
      "OTO SAN SÄ°T DAÄžISTANLI S N 31/A 2 KISIM 4.LEVENT.\n",
      "\n",
      "Tel : (212)2696338 Fax : (212)2696338\n",
      "\n",
      "Firma: Ã‡AÄžDAÅž SAN TÄ°C KOLL ÅžTÄ°\n",
      "\n",
      "OTO SAN SÄ°T AYTEKÄ°N S N 32 4.LEVENT.\n",
      "\n",
      "Tel : (212)2796194 Fax : (212)2796194\n",
      "\n",
      "Firma: Ã‡AKMAKLAR SAN TÄ°C AÅž\n",
      "\n",
      "OTO SAN YEÅžÄ°LCE M BARBAROS C N 1 4.LEVENT.\n",
      "\n",
      "Tel : (212)2806085 Fax : (212)2806085\n",
      "\n",
      "Firma: Ã‡ELÄ°K OTO BMW YEDEK PARÃ‡A AKSESUAR\n",
      "\n",
      "OTO SAN SÄ°T 2 KISIM 4040 ADA N 1 4.LEVENT.\n",
      "\n",
      "Tel : (212)2861637 Fax : (212)2861637\n",
      "\n",
      "Firma: Ã‡ELÄ°K OTO KURTARICI\n",
      "\n",
      "OTO SAN SÄ°T EMEKTAR S N 1/2 - 4 4.LEVENT.\n",
      "\n",
      "Tel : (212)2703429 Fax : (212)2703429\n",
      "\n",
      "Firma: DELTA GÃœÃ‡ SÄ°S SAN VE TÄ°C AÅž\n",
      "\n",
      "OTO SAN SÄ°T BEYAZIT C N 8 4.LEVENT.\n",
      "\n",
      "Tel : (212)2370324 Fax : (212)2370324\n",
      "\n",
      "Firma: DEMÄ°R OTOMOTÄ°V SAN TÄ°C LTD ÅžTÄ°\n",
      "\n",
      "OTO SAN SÄ°T 2 KISIM N 121 4.LEVENT.\n",
      "\n",
      "Tel : (212)2769944 Fax : (212)2769944\n",
      "\n",
      "Firma: DEMÄ°RCÄ° KARDEÅžLER\n",
      "\n",
      "OTO SAN SÄ°T DEÄžÄ°RMEN S N 25 4.LEVENT.\n",
      "\n",
      "Tel : (212)2686059 Fax : (212)2686059\n",
      "\n",
      "Firma: DEMÄ°RÃ–Z OTO BAKIM SERVÄ°SÄ°\n",
      "\n",
      "AKARSU C NERGÄ°Z S N 5 EMNÄ°YETEVLERÄ° 4.LEVENT.\n",
      "\n",
      "Tel : (212)2692957 Fax : (212)2692957\n",
      "\n",
      "Firma: DESAN PASPAS SAN LTD\n",
      "\n",
      "OTO SANAYÄ° SÄ°TESÄ° DEMÄ°RBAÅž S N 13/1 4.LEVENT.\n",
      "\n",
      "Tel : (212)2647522 Fax : (212)2647522\n",
      "\n",
      "Firma: DEVELÄ° OTOMOTÄ°V SANAYÄ° VE TÄ°CARET\n",
      "\n",
      "OTO SAN SÄ°T Ã‡ELÄ°K S SEZGÄ°N H N 7/2 4.LEVENT.\n",
      "\n",
      "Tel : (212)2826136 Fax : (212)2826136\n",
      "\n",
      "Firma: DÄ°LEK MOTORLU ARAÃ‡LAR NAK SAN TÄ°C LTD ÅžTÄ°\n",
      "\n",
      "OTO SAN SÄ°T 2.KISIM 4067 ADA 11.S 360 4.LEVENT.\n",
      "\n",
      "Tel : (212)2699504 Fax : (212)2699504\n",
      "\n",
      "Firma: DOÄžUÅž AÄžIR VASITA SERVÄ°S VE TÄ°C AÅž\n",
      "\n",
      "ESKÄ° BÃœYÃœKDERE C AYAZAÄžA KÃ–YÃœ YOLU N 23 K 4 4.LEVENT.\n",
      "\n",
      "Tel : (212)2760695 Fax : (212)2760695\n",
      "\n",
      "Firma: DOÄžUÅž HÄ°DROLÄ°K MAKÄ°NA SANAYÄ°\n",
      "\n",
      "OTO SAN SÄ°T AYTEKÄ°N S N 8/3 4.LEVENT.\n",
      "\n",
      "Tel : (212)2828531 Fax : (212)2828531\n",
      "\n",
      "Firma: EDÄ°P ENERJÄ° DÄ°ZEL ELEKTRÄ°K TEKNO TAAH TÄ°C AÅž\n",
      "\n",
      "YEÅžÄ°LCE M BARBAROS C N 17 OTO SAN SÄ°T 4.LEVENT.\n",
      "\n",
      "Tel : (212)3241614 Fax : (212)3241614\n",
      "\n",
      "Firma: EFE ENDÃœSTRÄ° AÅž\n",
      "\n",
      "SANAYÄ° M Ã‡ELÄ°K S N 52 4.LEVENT.\n",
      "\n",
      "Tel : (212)2682642 Fax : (212)2682642\n",
      "\n",
      "Firma: EKPAR OTOMOTÄ°V SAN TÄ°C LTD ÅžTÄ°\n",
      "\n",
      "OTO SANAYÄ° ULUBAÅž C ULUBAÅž PASAJI N 10/11 4.LEVENT.\n",
      "\n",
      "Tel : (212)2782646 Fax : (212)2782646\n",
      "\n",
      "Firma: ELMAS OTO BOYA VE KAPORTA\n",
      "\n",
      "OTO SAN SÄ°T YEÅžÄ°LCE M ULUBAÅž C N 39 4.LEVENT.\n",
      "\n",
      "Tel : (212)2691045 Fax : (212)2691045\n",
      "\n",
      "Firma: ELMEK ELEKTRONÄ°K SAN TÄ°C AÅž\n",
      "\n",
      "OTO SANAYÄ° SÄ°TESÄ° Ã‡ELÄ°K S N 51 4.LEVENT.\n",
      "\n",
      "Tel : (212)2806509 Fax : (212)2806509\n",
      "\n",
      "Firma: ELMES ELEKTRONÄ°K SAN TÄ°C AÅž\n",
      "\n",
      "OTO SANAYÄ° SÄ°TESÄ° YEÅžÄ°LCE M SEÃ‡Ä°LMÄ°Åž S N 32 4.LEVENT.\n",
      "\n",
      "Tel : (212)2798087 Fax : (212)2798087\n",
      "\n",
      "Firma: EMÄ°N OTO TÄ°C LTD ÅžTÄ°\n",
      "\n",
      "OTO SAN SÄ°T Ã‡ELÄ°K S SEZGÄ°N H N 5/12 4.LEVENT.\n",
      "\n",
      "Tel : (212)2786832 Fax : (212)2786832\n",
      "\n",
      "Firma: EMNÄ°YET FREN SERVÄ°SÄ°\n",
      "\n",
      "OTO SAN SÄ°T ESKÄ° BÃœYÃœKDERE C N 61/2 4.LEVENT.\n",
      "\n",
      "Tel : (212)2644887 Fax : (212)2644887\n",
      "\n",
      "Firma: EMNÄ°YET OTO SERVÄ°SÄ°\n",
      "\n",
      "OTO SAN SÄ°T 2 KISIM N 16 - 17/A 4.LEVENT.\n",
      "\n",
      "Tel : (212)2766474 Fax : (212)2766474\n",
      "\n",
      "Firma: ENGÄ°N OTO SERVÄ°SÄ°\n",
      "\n",
      "OTO SAN SÄ°T SEYRANTEPE M OKUL S N 15 4.LEVENT.\n",
      "\n",
      "Tel : (212)2791019 Fax : (212)2791019\n",
      "\n",
      "Firma: ERDEM OTO MOTORLU TAÅžITLAR Ä°TH Ä°HR LTD ÅžTÄ°\n",
      "\n",
      "OTO SAN SÄ°T DÃœZENLÄ° S N 5 4.LEVENT.\n",
      "\n",
      "Tel : (212)2687846 Fax : (212)2687846\n",
      "\n",
      "Firma: ERDOÄžANLAR OTO TAMÄ°RHANESÄ°\n",
      "\n",
      "NATO C BÄ°RLÄ°K M N 9 OTO SAN SÄ°T 4.LEVENT.\n",
      "\n",
      "Tel : (212)2790398 Fax : (212)2790398\n",
      "\n",
      "\n",
      "\n",
      "\n",
      "\n",
      "Firma: AR-BE OTOMOTÄ°V SAN TÄ°C LTD ÅžTÄ°\n",
      "\n",
      "YEDPA TÄ°C MRK N 98 C BL DUDULLU.\n",
      "\n",
      "Tel : (216)4710498 Fax : (216)4710498\n",
      "\n",
      "Firma: ARSAN KAUÃ‡UK PLASTÄ°K MAKÄ°NA SAN TÄ°C AÅž\n",
      "\n",
      "YUKARI DUDULLU ORG SAN BLG Ä°DOS NATO YOLU DUDULLU.\n",
      "\n",
      "Tel : (216)3658306 Fax : (216)3658306\n",
      "\n",
      "Firma: BANKO OTOMOTÄ°V SAN TÄ°C LTD ÅžTÄ°\n",
      "\n",
      "TEPEÃœSTÃœ ALEMDAÄž C N 538/C DUDULLU.\n",
      "\n",
      "Tel : (216)4663277 Fax : (216)4663277\n",
      "\n",
      "Firma: BANKO OTOMOTÄ°V SAN TÄ°C LTD ÅžTÄ°\n",
      "\n",
      "TEPEÃœSTÃœ ALEMDAÄž C N 538/C DUDULLU.\n",
      "\n",
      "Tel : (216)4663277 Fax : (216)4663277\n",
      "\n",
      "Firma: BERK HÄ°DROLÄ°K SÄ°S YEDEK PARÃ‡A SAN TÄ°C LTD ÅžTÄ°\n",
      "\n",
      "KADOSAN SAN SÄ°T L BL N 2 DUDULLU.\n",
      "\n",
      "Tel : (216)3659312 Fax : (216)3659312\n",
      "\n",
      "Firma: BÄ°LGÄ°N KRÄ°KO\n",
      "\n",
      "Ä°MES SAN SÄ°T A BL 103.S N 25 DUDULLU.\n",
      "\n",
      "Tel : (216)3649339 Fax : (216)3649339\n",
      "\n",
      "Firma: BÄ°RTAÅž AÅž\n",
      "\n",
      "Ä°MES SAN SÄ°T E BL 501 S N 23 DUDULLU.\n",
      "\n",
      "Tel : (216)3654538 Fax : (216)3654538\n",
      "\n",
      "Firma: BÄ°RTAÅž MAKÄ°NA OTOMOTÄ°V SAN TÄ°C AÅž\n",
      "\n",
      "Ä°MES SAN SÄ°T E BL 503 S N 58 DUDULLU.\n",
      "\n",
      "Tel : (216)3643307 Fax : (216)3643307\n",
      "\n",
      "Firma: DEMTAÅž METAL OTOMOTÄ°V SAN TÄ°C LTD ÅžTÄ°\n",
      "\n",
      "ALEMDAÄž C N 553 DUDULLU.\n",
      "\n",
      "Tel : (216)3133405 Fax : (216)3133405\n",
      "\n",
      "Firma: DÄ°ZEL TURBO YEDEK PARÃ‡A SAN TÄ°C LTD ÅžTÄ°\n",
      "\n",
      "Ä°MES SAN SÄ°T B BL 201.S N 4 DUDULLU.\n",
      "\n",
      "Tel : (216)3628242 Fax : (216)3628242\n",
      "\n",
      "Firma: DORSAN DORSE\n",
      "\n",
      "KADOSAN SAN SÄ°T G BL N 10 DUDULLU.\n",
      "\n",
      "Tel : (216)4661450 Fax : (216)4661450\n",
      "\n",
      "Firma: KARADENÄ°Z YAY SANAYÄ°\n",
      "\n",
      "Ä°MES SAN SÄ°T B BLOK 207.S N 9 DUDULLU.\n",
      "\n",
      "Tel : (216)3147756 Fax : (216)3147756\n",
      "\n",
      "Firma: KARADENÄ°Z YAY SANAYÄ°\n",
      "\n",
      "Ä°MES SANAYÄ° SÄ°TESÄ° B BLOK 207 S N 9 DUDULLU.\n",
      "\n",
      "Tel : (216)3147756 Fax : (216)3147756\n",
      "\n",
      "Firma: MEVLANA KARDEÅžLER\n",
      "\n",
      "KADOSAN SAN SÄ°T U BL N 10 DUDULLU.\n",
      "\n",
      "Tel : (216)4203540 Fax : (216)4203540\n",
      "\n",
      "Firma: ÃœÃ‡LER TÄ°CARET OTO YEDEK PARÃ‡A\n",
      "\n",
      "KADOSAN OTO SAN SÄ°T Ä°MES ARKASI Y BL N 5 DUDULLU.\n",
      "\n",
      "Tel : (216)4150510 Fax : (216)4150510\n",
      "\n",
      "Firma: YALÃ‡IN OTO\n",
      "\n",
      "Ä°MES ARKASI SAN SÄ°T H BL N 8 DUDULLU.\n",
      "\n",
      "Tel : (216)4205538 Fax : (216)4205538\n"
     ]
    }
   ],
   "source": [
    "fh = codecs.open('data/firmalar.txt')\n",
    "for line in fh:\n",
    "    print(line)\n",
    "fh.close()"
   ]
  },
  {
   "cell_type": "code",
   "execution_count": 36,
   "metadata": {},
   "outputs": [
    {
     "data": {
      "text/plain": [
       "False"
      ]
     },
     "execution_count": 36,
     "metadata": {},
     "output_type": "execute_result"
    }
   ],
   "source": [
    "aa = 'banana'\n",
    "'bena' in aa"
   ]
  },
  {
   "cell_type": "code",
   "execution_count": 37,
   "metadata": {},
   "outputs": [
    {
     "name": "stdout",
     "output_type": "stream",
     "text": [
      "56\n"
     ]
    }
   ],
   "source": [
    "fh = codecs.open('data/firmalar.txt', encoding='utf-8')\n",
    "counter = 0\n",
    "for line in fh:\n",
    "    if 'levent' in line.strip().lower():\n",
    "        counter += 1\n",
    "fh.close()\n",
    "print(counter)"
   ]
  },
  {
   "cell_type": "code",
   "execution_count": 17,
   "metadata": {},
   "outputs": [],
   "source": [
    "fh = codecs.open('firmalar_processed.txt', encoding='utf-8')\n",
    "counter = 0\n",
    "for line in fh:\n",
    "    if 'dudullu' in line.lower():\n",
    "        break\n",
    "    counter += 1\n",
    "fh.close()"
   ]
  },
  {
   "cell_type": "code",
   "execution_count": 18,
   "metadata": {},
   "outputs": [
    {
     "data": {
      "text/plain": [
       "169"
      ]
     },
     "execution_count": 18,
     "metadata": {},
     "output_type": "execute_result"
    }
   ],
   "source": [
    "leventler = counter\n",
    "leventler"
   ]
  },
  {
   "cell_type": "code",
   "execution_count": null,
   "metadata": {},
   "outputs": [],
   "source": [
    "fh = open('firmalar_processed.txt')\n",
    "counter = 0\n",
    "for line in fh:\n",
    "    if counter <= leventler:\n",
    "        print(line)\n",
    "    counter += 1\n",
    "fh.close()"
   ]
  },
  {
   "cell_type": "code",
   "execution_count": 20,
   "metadata": {},
   "outputs": [],
   "source": [
    "fh = open('firmalar_processed.txt')\n",
    "outfile = open('leventler.txt','w')\n",
    "counter = 0\n",
    "for line in fh:\n",
    "    if counter <= leventler:\n",
    "        outfile.write(line)\n",
    "    counter += 1\n",
    "fh.close()\n",
    "outfile.close()"
   ]
  },
  {
   "cell_type": "code",
   "execution_count": null,
   "metadata": {},
   "outputs": [],
   "source": []
  }
 ],
 "metadata": {
  "kernelspec": {
   "display_name": "Python 3",
   "language": "python",
   "name": "python3"
  },
  "language_info": {
   "codemirror_mode": {
    "name": "ipython",
    "version": 3
   },
   "file_extension": ".py",
   "mimetype": "text/x-python",
   "name": "python",
   "nbconvert_exporter": "python",
   "pygments_lexer": "ipython3",
   "version": "3.6.5"
  }
 },
 "nbformat": 4,
 "nbformat_minor": 2
}
