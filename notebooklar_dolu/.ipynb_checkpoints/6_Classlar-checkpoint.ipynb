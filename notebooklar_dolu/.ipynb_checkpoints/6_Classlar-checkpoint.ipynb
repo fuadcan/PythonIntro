{
 "cells": [
  {
   "cell_type": "code",
   "execution_count": 28,
   "metadata": {},
   "outputs": [],
   "source": [
    "class futbolcu:\n",
    "    nick_name  = ''\n",
    "    takim      = ''\n",
    "    def sut_cek(self):\n",
    "        ...\n",
    "        \n",
    "    def kendini_yere_at(self):\n",
    "        ...\n",
    "        \n",
    "    def transfer_ol(self,yeni_takim,ucret):\n",
    "        ..."
   ]
  },
  {
   "cell_type": "code",
   "execution_count": 29,
   "metadata": {},
   "outputs": [],
   "source": [
    "neymar = futbolcu()\n",
    "neymar.nick_name = 'Neymar'"
   ]
  },
  {
   "cell_type": "code",
   "execution_count": 22,
   "metadata": {},
   "outputs": [],
   "source": [
    "ronaldo = futbolcu()\n",
    "ronaldo.nick_name = 'Ronaldo'"
   ]
  },
  {
   "cell_type": "code",
   "execution_count": 23,
   "metadata": {},
   "outputs": [
    {
     "name": "stdout",
     "output_type": "stream",
     "text": [
      "Ronaldo takımını bıraktı. Juventus 10000000 bedelle satın aldı.  yönetimi sessiz\n"
     ]
    }
   ],
   "source": [
    "ronaldo.transfer_ol('Juventus', 10000000)"
   ]
  },
  {
   "cell_type": "code",
   "execution_count": 24,
   "metadata": {},
   "outputs": [
    {
     "data": {
      "text/plain": [
       "'Juventus'"
      ]
     },
     "execution_count": 24,
     "metadata": {},
     "output_type": "execute_result"
    }
   ],
   "source": [
    "ronaldo.takim"
   ]
  }
 ],
 "metadata": {
  "kernelspec": {
   "display_name": "Python 3",
   "language": "python",
   "name": "python3"
  },
  "language_info": {
   "codemirror_mode": {
    "name": "ipython",
    "version": 3
   },
   "file_extension": ".py",
   "mimetype": "text/x-python",
   "name": "python",
   "nbconvert_exporter": "python",
   "pygments_lexer": "ipython3",
   "version": "3.6.5"
  }
 },
 "nbformat": 4,
 "nbformat_minor": 2
}
