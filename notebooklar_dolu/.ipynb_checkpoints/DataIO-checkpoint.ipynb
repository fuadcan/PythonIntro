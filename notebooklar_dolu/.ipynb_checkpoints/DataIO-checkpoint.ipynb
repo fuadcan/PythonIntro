{
 "cells": [
  {
   "cell_type": "code",
   "execution_count": 8,
   "metadata": {},
   "outputs": [
    {
     "name": "stdout",
     "output_type": "stream",
     "text": [
      "<_io.TextIOWrapper name='firmalar.txt' mode='r' encoding='UTF-8'>\n"
     ]
    }
   ],
   "source": [
    "fh = open(\"firmalar.txt\")\n",
    "print(fh)"
   ]
  },
  {
   "cell_type": "raw",
   "metadata": {},
   "source": [
    "fh.read()"
   ]
  },
  {
   "cell_type": "code",
   "execution_count": 9,
   "metadata": {},
   "outputs": [],
   "source": [
    "fh.close()"
   ]
  },
  {
   "cell_type": "code",
   "execution_count": null,
   "metadata": {},
   "outputs": [],
   "source": [
    "fh = open('firmalar_processed.txt')\n",
    "for line in fh:\n",
    "    print(line)\n",
    "fh.close()"
   ]
  },
  {
   "cell_type": "code",
   "execution_count": 17,
   "metadata": {},
   "outputs": [],
   "source": [
    "fh = open('firmalar_processed.txt')\n",
    "counter = 0\n",
    "for line in fh:\n",
    "    if 'dudullu' in line.lower():\n",
    "        break\n",
    "    counter += 1\n",
    "fh.close()"
   ]
  },
  {
   "cell_type": "code",
   "execution_count": 18,
   "metadata": {},
   "outputs": [
    {
     "data": {
      "text/plain": [
       "169"
      ]
     },
     "execution_count": 18,
     "metadata": {},
     "output_type": "execute_result"
    }
   ],
   "source": [
    "leventler = counter\n",
    "leventler"
   ]
  },
  {
   "cell_type": "code",
   "execution_count": null,
   "metadata": {},
   "outputs": [],
   "source": [
    "fh = open('firmalar_processed.txt')\n",
    "counter = 0\n",
    "for line in fh:\n",
    "    if counter <= leventler:\n",
    "        print(line)\n",
    "    counter += 1\n",
    "fh.close()"
   ]
  },
  {
   "cell_type": "code",
   "execution_count": 20,
   "metadata": {},
   "outputs": [],
   "source": [
    "fh = open('firmalar_processed.txt')\n",
    "outfile = open('leventler.txt','w')\n",
    "counter = 0\n",
    "for line in fh:\n",
    "    if counter <= leventler:\n",
    "        outfile.write(line)\n",
    "    counter += 1\n",
    "fh.close()\n",
    "outfile.close()"
   ]
  },
  {
   "cell_type": "code",
   "execution_count": null,
   "metadata": {},
   "outputs": [],
   "source": []
  }
 ],
 "metadata": {
  "kernelspec": {
   "display_name": "Python 3",
   "language": "python",
   "name": "python3"
  },
  "language_info": {
   "codemirror_mode": {
    "name": "ipython",
    "version": 3
   },
   "file_extension": ".py",
   "mimetype": "text/x-python",
   "name": "python",
   "nbconvert_exporter": "python",
   "pygments_lexer": "ipython3",
   "version": "3.5.3"
  }
 },
 "nbformat": 4,
 "nbformat_minor": 2
}
