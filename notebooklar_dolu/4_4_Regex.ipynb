{
 "cells": [
  {
   "cell_type": "markdown",
   "metadata": {},
   "source": [
    "## Regex kodları"
   ]
  },
  {
   "cell_type": "markdown",
   "metadata": {},
   "source": [
    ".        -> herhangi bir karaketer\n",
    "[0-9]    -> rakam\n",
    "[a-z]    -> küçük harf\n",
    "[A-Z]    -> büyük harf\n",
    "[a-zA-Z] -> harf\n",
    "\\s       -> whitespace (boşluklar, tablar, vs.)\n",
    "\\S       -> boşluk olmayan\n",
    "\\w       -> kelime karakteri\n",
    "\\W       -> kelime karakteri olmayan\n",
    "^        -> metin başı\n",
    "$        -> metin sonu\n",
    "\\b       -> kelime başı\n",
    "()       -> parantez içini getirir\n",
    "[]       -> köşeli parantez içindeki karakterlerden herhangi biri\n",
    "\\        -> regex dilinde kullanılan karakterleri dil dışı kullanmak için"
   ]
  },
  {
   "cell_type": "code",
   "execution_count": null,
   "metadata": {},
   "outputs": [],
   "source": [
    "+        -> bir ya da daha fazla\n",
    "*        -> 0 ya da daha fazla\n",
    "{n}      -> n tane\n",
    "{n,}     -> n'den çok\n",
    "{,n}     -> n'den az\n",
    "{n,m}    -> n'den çok m'den az"
   ]
  },
  {
   "cell_type": "code",
   "execution_count": 1,
   "metadata": {},
   "outputs": [],
   "source": [
    "re.findall -> koşulu sağlayanların hepsini listeler\n",
    "re.search  -> koşulu sağlayanı bulur, yoksa boş döner\n",
    "re.match   -> koşulu tam karşılıyorsa bulur\n",
    "re.sub     -> koşulu sağlayanları istenen kararkterle değiştirir"
   ]
  },
  {
   "cell_type": "code",
   "execution_count": 1,
   "metadata": {},
   "outputs": [],
   "source": [
    "import re"
   ]
  },
  {
   "cell_type": "code",
   "execution_count": 16,
   "metadata": {},
   "outputs": [
    {
     "name": "stdout",
     "output_type": "stream",
     "text": [
      "Aztek İstanbul Konsolosluğu\n",
      "Tel: (212) 421 5655, Fax:(212) 421 2252\n",
      "istanbul.consular@sealand.gov.azt\n",
      "Sparta İstanbul Konsolosluğu\n",
      "Tel: (212) 323 8756, Fax:(212) 323 8787\n",
      "istanbul.consular@sparta.gov.spa\n",
      " spa\n"
     ]
    }
   ],
   "source": [
    "metin = 'Aztek İstanbul Konsolosluğu\\nTel: (212) 421 5655, Fax:(212) 421 2252\\nistanbul.consular@sealand.gov.azt'\n",
    "metin = metin + '\\nSparta İstanbul Konsolosluğu\\nTel: (212) 323 8756, Fax:(212) 323 8787\\nistanbul.consular@sparta.gov.spa\\n'\n",
    "print(metin)"
   ]
  },
  {
   "cell_type": "markdown",
   "metadata": {},
   "source": [
    "### Telefon ve Fax numaraları"
   ]
  },
  {
   "cell_type": "code",
   "execution_count": 5,
   "metadata": {},
   "outputs": [
    {
     "data": {
      "text/plain": [
       "['(212) 421 5655', '(212) 421 2252']"
      ]
     },
     "execution_count": 5,
     "metadata": {},
     "output_type": "execute_result"
    }
   ],
   "source": [
    "# telefon ve fax numaraları\n",
    "pattern = ...\n",
    "re.findall(pattern,metin)"
   ]
  },
  {
   "cell_type": "code",
   "execution_count": 9,
   "metadata": {},
   "outputs": [
    {
     "data": {
      "text/plain": [
       "['Tel: (212) 421 5655', 'Tel: (212) 323 8756']"
      ]
     },
     "execution_count": 9,
     "metadata": {},
     "output_type": "execute_result"
    }
   ],
   "source": [
    "# sadece telefon numarası\n",
    "pattern = 'Tel:...'\n",
    "sonuc = re.findall(pattern,metin)\n",
    "sonuc"
   ]
  },
  {
   "cell_type": "markdown",
   "metadata": {},
   "source": [
    "#### Sonuç temizleme"
   ]
  },
  {
   "cell_type": "code",
   "execution_count": 11,
   "metadata": {},
   "outputs": [],
   "source": [
    "sonuc = re.findall('Tel:\\s\\([0-9]+\\)\\s[0-9]+\\s[0-9]+', metin)"
   ]
  },
  {
   "cell_type": "code",
   "execution_count": 13,
   "metadata": {},
   "outputs": [
    {
     "data": {
      "text/plain": [
       "['2124215655', '2123238756']"
      ]
     },
     "execution_count": 13,
     "metadata": {},
     "output_type": "execute_result"
    }
   ],
   "source": [
    "[re.sub('...','',s) for s in sonuc]"
   ]
  },
  {
   "cell_type": "markdown",
   "metadata": {},
   "source": [
    "### Email adresleri"
   ]
  },
  {
   "cell_type": "code",
   "execution_count": 17,
   "metadata": {},
   "outputs": [
    {
     "data": {
      "text/plain": [
       "['istanbul.consular@sealand.gov.azt', 'istanbul.consular@sparta.gov.spa']"
      ]
     },
     "execution_count": 17,
     "metadata": {},
     "output_type": "execute_result"
    }
   ],
   "source": [
    "# emailler \n",
    "pattern = '...'\n",
    "sonuc = re.findall(pattern,metin)\n",
    "sonuc"
   ]
  },
  {
   "cell_type": "code",
   "execution_count": 20,
   "metadata": {},
   "outputs": [],
   "source": [
    "with codecs.open('maillist.txt',encoding='utf-8') as fh:\n",
    "    maillist = fh.read()"
   ]
  },
  {
   "cell_type": "code",
   "execution_count": 27,
   "metadata": {},
   "outputs": [
    {
     "data": {
      "text/plain": [
       "['sinan.tutuman@intelcon.com.tr',\n",
       " 'mahir.kilic@gmail.com',\n",
       " 's.korkmaz@intelcon.com.tr',\n",
       " 'seren.emrah@gmail.com',\n",
       " 'fuadcan@gmail.com',\n",
       " 'm.ay@intelcon.com.tr',\n",
       " 'can.beylunioglu@bilgiedu.net',\n",
       " 'ege.yazgan@bilgi.edu.tr',\n",
       " 'tstengos@uoguelph.ca',\n",
       " 'ticaridevam@yandex.com']"
      ]
     },
     "execution_count": 27,
     "metadata": {},
     "output_type": "execute_result"
    }
   ],
   "source": [
    "# mailler\n",
    "re.findall('...',maillist)"
   ]
  },
  {
   "cell_type": "code",
   "execution_count": 35,
   "metadata": {},
   "outputs": [
    {
     "data": {
      "text/plain": [
       "['bilisim',\n",
       " 'bilisim',\n",
       " 'bilisim',\n",
       " 'bilisim',\n",
       " 'akademi',\n",
       " 'bilisim',\n",
       " 'akademi',\n",
       " 'akademi',\n",
       " 'akademi',\n",
       " 'ticaret']"
      ]
     },
     "execution_count": 35,
     "metadata": {},
     "output_type": "execute_result"
    }
   ],
   "source": [
    "# meslekler\n",
    "re.findall('...',maillist)"
   ]
  },
  {
   "cell_type": "markdown",
   "metadata": {},
   "source": [
    "### Dosya okuma / işleme"
   ]
  },
  {
   "cell_type": "code",
   "execution_count": 11,
   "metadata": {},
   "outputs": [
    {
     "name": "stdout",
     "output_type": "stream",
     "text": [
      "Tel : (212)2809703 Fax : (212)2809703\n",
      "Tel : (212)2792132 Fax : (212)2792132\n",
      "Tel : (212)2641253 Fax : (212)2641253\n",
      "Tel : (212)2640266 Fax : (212)2640266\n",
      "Tel : (212)2681331 Fax : (212)2681331\n",
      "Tel : (212)2685085 Fax : (212)2685085\n",
      "Tel : (212)2685085 Fax : (212)2685085\n",
      "Tel : (212)2640042 Fax : (212)2640042\n",
      "Tel : (212)2645418 Fax : (212)2645418\n",
      "Tel : (212)2642809 Fax : (212)2642809\n",
      "Tel : (212)2815757 Fax : (212)2815757\n",
      "Tel : (212)2682214 Fax : (212)2682214\n",
      "Tel : (212)2780167 Fax : (212)2780167\n",
      "Tel : (212)2695249 Fax : (212)2695249\n",
      "Tel : (212)2806299 Fax : (212)2806299\n",
      "Tel : (212)2806313 Fax : (212)2806313\n",
      "Tel : (212)2642443 Fax : (212)2642443\n",
      "Tel : (212)2642457 Fax : (212)2642457\n",
      "Tel : (212)2707970 Fax : (212)2707970\n",
      "Tel : (212)2832944 Fax : (212)2832944\n",
      "Tel : (212)2681472 Fax : (212)2681472\n",
      "Tel : (212)2702861 Fax : (212)2702861\n",
      "Tel : (212)2810843 Fax : (212)2810843\n",
      "Tel : (212)2810843 Fax : (212)2810843\n",
      "Tel : (212)2810843 Fax : (212)2810843\n",
      "Tel : (216)3111694 Fax : (216)3111694\n",
      "Tel : (212)2684367 Fax : (212)2684367\n",
      "Tel : (212)2784982 Fax : (212)2784982\n",
      "Tel : (212)2647256 Fax : (212)2647256\n",
      "Tel : (212)2645038 Fax : (212)2645038\n",
      "Tel : (212)2696338 Fax : (212)2696338\n",
      "Tel : (212)2796194 Fax : (212)2796194\n",
      "Tel : (212)2806085 Fax : (212)2806085\n",
      "Tel : (212)2861637 Fax : (212)2861637\n",
      "Tel : (212)2703429 Fax : (212)2703429\n",
      "Tel : (212)2370324 Fax : (212)2370324\n",
      "Tel : (212)2769944 Fax : (212)2769944\n",
      "Tel : (212)2686059 Fax : (212)2686059\n",
      "Tel : (212)2692957 Fax : (212)2692957\n",
      "Tel : (212)2647522 Fax : (212)2647522\n",
      "Tel : (212)2826136 Fax : (212)2826136\n",
      "Tel : (212)2699504 Fax : (212)2699504\n",
      "Tel : (212)2760695 Fax : (212)2760695\n",
      "Tel : (212)2828531 Fax : (212)2828531\n",
      "Tel : (212)3241614 Fax : (212)3241614\n",
      "Tel : (212)2682642 Fax : (212)2682642\n",
      "Tel : (212)2782646 Fax : (212)2782646\n",
      "Tel : (212)2691045 Fax : (212)2691045\n",
      "Tel : (212)2806509 Fax : (212)2806509\n",
      "Tel : (212)2798087 Fax : (212)2798087\n",
      "Tel : (212)2786832 Fax : (212)2786832\n",
      "Tel : (212)2644887 Fax : (212)2644887\n",
      "Tel : (212)2766474 Fax : (212)2766474\n",
      "Tel : (212)2791019 Fax : (212)2791019\n",
      "Tel : (212)2687846 Fax : (212)2687846\n",
      "Tel : (212)2790398 Fax : (212)2790398\n",
      "Tel : (216)4710498 Fax : (216)4710498\n",
      "Tel : (216)3658306 Fax : (216)3658306\n",
      "Tel : (216)4663277 Fax : (216)4663277\n",
      "Tel : (216)4663277 Fax : (216)4663277\n",
      "Tel : (216)3659312 Fax : (216)3659312\n",
      "Tel : (216)3649339 Fax : (216)3649339\n",
      "Tel : (216)3654538 Fax : (216)3654538\n",
      "Tel : (216)3643307 Fax : (216)3643307\n",
      "Tel : (216)3133405 Fax : (216)3133405\n",
      "Tel : (216)3628242 Fax : (216)3628242\n",
      "Tel : (216)4661450 Fax : (216)4661450\n",
      "Tel : (216)3147756 Fax : (216)3147756\n",
      "Tel : (216)3147756 Fax : (216)3147756\n",
      "Tel : (216)4203540 Fax : (216)4203540\n",
      "Tel : (216)4150510 Fax : (216)4150510\n",
      "Tel : (216)4205538 Fax : (216)4205538\n"
     ]
    }
   ],
   "source": [
    "import codecs,re\n",
    "fh   = codecs.open('firmalar.txt')\n",
    "for line in fh:\n",
    "    # print(line)\n",
    "    res = re.search('^Tel.*',line)\n",
    "    if res:\n",
    "        print(res.group())\n",
    "fh.close()"
   ]
  },
  {
   "cell_type": "code",
   "execution_count": 17,
   "metadata": {},
   "outputs": [
    {
     "name": "stdout",
     "output_type": "stream",
     "text": [
      "Fax : (212)2809703\n",
      "Fax : (212)2792132\n",
      "Fax : (212)2641253\n",
      "Fax : (212)2640266\n",
      "Fax : (212)2681331\n",
      "Fax : (212)2685085\n",
      "Fax : (212)2685085\n",
      "Fax : (212)2640042\n",
      "Fax : (212)2645418\n",
      "Fax : (212)2642809\n",
      "Fax : (212)2815757\n",
      "Fax : (212)2682214\n",
      "Fax : (212)2780167\n",
      "Fax : (212)2695249\n",
      "Fax : (212)2806299\n",
      "Fax : (212)2806313\n",
      "Fax : (212)2642443\n",
      "Fax : (212)2642457\n",
      "Fax : (212)2707970\n",
      "Fax : (212)2832944\n",
      "Fax : (212)2681472\n",
      "Fax : (212)2702861\n",
      "Fax : (212)2810843\n",
      "Fax : (212)2810843\n",
      "Fax : (212)2810843\n",
      "Fax : (216)3111694\n",
      "Fax : (212)2684367\n",
      "Fax : (212)2784982\n",
      "Fax : (212)2647256\n",
      "Fax : (212)2645038\n",
      "Fax : (212)2696338\n",
      "Fax : (212)2796194\n",
      "Fax : (212)2806085\n",
      "Fax : (212)2861637\n",
      "Fax : (212)2703429\n",
      "Fax : (212)2370324\n",
      "Fax : (212)2769944\n",
      "Fax : (212)2686059\n",
      "Fax : (212)2692957\n",
      "Fax : (212)2647522\n",
      "Fax : (212)2826136\n",
      "Fax : (212)2699504\n",
      "Fax : (212)2760695\n",
      "Fax : (212)2828531\n",
      "Fax : (212)3241614\n",
      "Fax : (212)2682642\n",
      "Fax : (212)2782646\n",
      "Fax : (212)2691045\n",
      "Fax : (212)2806509\n",
      "Fax : (212)2798087\n",
      "Fax : (212)2786832\n",
      "Fax : (212)2644887\n",
      "Fax : (212)2766474\n",
      "Fax : (212)2791019\n",
      "Fax : (212)2687846\n",
      "Fax : (212)2790398\n",
      "Fax : (216)4710498\n",
      "Fax : (216)3658306\n",
      "Fax : (216)4663277\n",
      "Fax : (216)4663277\n",
      "Fax : (216)3659312\n",
      "Fax : (216)3649339\n",
      "Fax : (216)3654538\n",
      "Fax : (216)3643307\n",
      "Fax : (216)3133405\n",
      "Fax : (216)3628242\n",
      "Fax : (216)4661450\n",
      "Fax : (216)3147756\n",
      "Fax : (216)3147756\n",
      "Fax : (216)4203540\n",
      "Fax : (216)4150510\n",
      "Fax : (216)4205538\n"
     ]
    }
   ],
   "source": [
    "import codecs,re\n",
    "fh   = codecs.open('firmalar.txt')\n",
    "for line in fh:\n",
    "    # print(line)\n",
    "    res = re.search(r'\\bFax.*',line)\n",
    "    if res:\n",
    "        print(res.group())\n",
    "fh.close()"
   ]
  },
  {
   "cell_type": "code",
   "execution_count": 37,
   "metadata": {},
   "outputs": [],
   "source": [
    "import json\n",
    "with open('UK.json') as uk:\n",
    "    news = json.load(uk)\n",
    "    news = [new['content'] for new in news]\n",
    "    news = '\\n'.join(news)"
   ]
  },
  {
   "cell_type": "code",
   "execution_count": null,
   "metadata": {},
   "outputs": [],
   "source": [
    "# logy ya da loji ile bitenleri bul\n",
    "lojiler = re.findall(...,news)"
   ]
  },
  {
   "cell_type": "markdown",
   "metadata": {},
   "source": [
    "## Tweet"
   ]
  },
  {
   "cell_type": "code",
   "execution_count": 18,
   "metadata": {},
   "outputs": [
    {
     "name": "stdout",
     "output_type": "stream",
     "text": [
      "[]\n",
      "['@KYK_DESTEK']\n"
     ]
    }
   ],
   "source": [
    "tweet = 'iyi geceler kyk borcunu hapis cezasına çevirebilir miyiz? @KYK_DESTEK'\n",
    "hashtag = re.findall('...',tweet)\n",
    "mention = re.findall('...',tweet)\n",
    "print(hashtag)\n",
    "print(mention)"
   ]
  },
  {
   "cell_type": "code",
   "execution_count": 73,
   "metadata": {},
   "outputs": [],
   "source": [
    "import json\n",
    "with codecs.open('sampletweet.json',encoding='utf-8') as fh:\n",
    "    tweets = json.load(fh)"
   ]
  },
  {
   "cell_type": "code",
   "execution_count": 74,
   "metadata": {},
   "outputs": [
    {
     "data": {
      "text/plain": [
       "{'User': 'Beirutiyat',\n",
       " 'Tweet': \"Looks like #Russia and @RT_com are eager for Scottish, Basque, Catalonia, Northern Italy & Corsica's independence! Wishes back to them :)\",\n",
       " 'Time': '2014-09-12 00:25:49',\n",
       " 'Favorited': 0,\n",
       " 'Retweeted': 0}"
      ]
     },
     "execution_count": 74,
     "metadata": {},
     "output_type": "execute_result"
    }
   ],
   "source": [
    "tweets[0]"
   ]
  },
  {
   "cell_type": "code",
   "execution_count": 75,
   "metadata": {},
   "outputs": [],
   "source": [
    "for tweet in tweets:\n",
    "    hashtagler = ...\n",
    "    mentionlar = ...\n",
    "    tweet['hashtags'] = hashtagler\n",
    "    tweet['mentions'] = mentionlar"
   ]
  },
  {
   "cell_type": "code",
   "execution_count": 78,
   "metadata": {},
   "outputs": [
    {
     "name": "stdout",
     "output_type": "stream",
     "text": [
      "Variable     Type                  Data/Info\n",
      "--------------------------------------------\n",
      "codecs       module                <module 'codecs' from 'C:<...>aconda3\\\\lib\\\\codecs.py'>\n",
      "fh           StreamReaderWriter    <codecs.StreamReaderWrite<...>ct at 0x00000231D2BDFEB8>\n",
      "hashtagler   list                  n=0\n",
      "htags        list                  n=12717\n",
      "json         module                <module 'json' from 'C:\\\\<...>\\lib\\\\json\\\\__init__.py'>\n",
      "line         str                   Tel : (216)4205538 Fax : (216)4205538\n",
      "lojiler      list                  n=653\n",
      "maillist     str                   Ad|Soyad|email|meslek|sir<...>m|ticaret|Devamlı Ticaret\n",
      "mentionlar   list                  n=0\n",
      "news         str                                        Appl<...>trait by Kevin Meredith\\n\n",
      "pd           module                <module 'pandas' from 'C:<...>es\\\\pandas\\\\__init__.py'>\n",
      "re           module                <module 're' from 'C:\\\\Us<...>\\\\Anaconda3\\\\lib\\\\re.py'>\n",
      "res          SRE_Match             <_sre.SRE_Match object; s<...>tch='Fax : (216)4205538'>\n",
      "tels         list                  n=0\n",
      "text         str                   #Russia #indyref #NLU #yo<...>indyref #the45 #the45plus\n",
      "tweet        dict                  n=7\n",
      "tweets       list                  n=25000\n",
      "uk           TextIOWrapper         <_io.TextIOWrapper name='<...>de='r' encoding='cp1252'>\n"
     ]
    }
   ],
   "source": [
    "whos"
   ]
  },
  {
   "cell_type": "code",
   "execution_count": null,
   "metadata": {},
   "outputs": [],
   "source": []
  }
 ],
 "metadata": {
  "kernelspec": {
   "display_name": "Python 3",
   "language": "python",
   "name": "python3"
  },
  "language_info": {
   "codemirror_mode": {
    "name": "ipython",
    "version": 3
   },
   "file_extension": ".py",
   "mimetype": "text/x-python",
   "name": "python",
   "nbconvert_exporter": "python",
   "pygments_lexer": "ipython3",
   "version": "3.6.5"
  }
 },
 "nbformat": 4,
 "nbformat_minor": 2
}
