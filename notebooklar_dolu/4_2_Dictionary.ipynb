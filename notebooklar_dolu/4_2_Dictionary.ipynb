{
 "cells": [
  {
   "cell_type": "markdown",
   "metadata": {},
   "source": [
    "# Tuples"
   ]
  },
  {
   "cell_type": "code",
   "execution_count": 28,
   "metadata": {},
   "outputs": [],
   "source": [
    "boylar = (1.67,1.78,1.63,1.92,1.76)"
   ]
  },
  {
   "cell_type": "code",
   "execution_count": 29,
   "metadata": {},
   "outputs": [
    {
     "data": {
      "text/plain": [
       "1.67"
      ]
     },
     "execution_count": 29,
     "metadata": {},
     "output_type": "execute_result"
    }
   ],
   "source": [
    "boylar[0]"
   ]
  },
  {
   "cell_type": "code",
   "execution_count": null,
   "metadata": {},
   "outputs": [],
   "source": [
    "boylar.append(2.1)\n",
    "boylar + (2.1)"
   ]
  },
  {
   "cell_type": "code",
   "execution_count": 31,
   "metadata": {},
   "outputs": [
    {
     "data": {
      "text/plain": [
       "(1.78, 82)"
      ]
     },
     "execution_count": 31,
     "metadata": {},
     "output_type": "execute_result"
    }
   ],
   "source": [
    "cumali_boyKilo = (1.78, 82)\n",
    "cumali_boyKilo"
   ]
  },
  {
   "cell_type": "code",
   "execution_count": 33,
   "metadata": {},
   "outputs": [
    {
     "data": {
      "text/plain": [
       "(1.78, 82)"
      ]
     },
     "execution_count": 33,
     "metadata": {},
     "output_type": "execute_result"
    }
   ],
   "source": [
    "cumali_boyKilo = 1.78, 82\n",
    "cumali_boyKilo"
   ]
  },
  {
   "cell_type": "code",
   "execution_count": 34,
   "metadata": {},
   "outputs": [
    {
     "name": "stdout",
     "output_type": "stream",
     "text": [
      "1.78\n",
      "82\n"
     ]
    }
   ],
   "source": [
    "boy, kilo = cumali_boyKilo\n",
    "print(boy)\n",
    "print(kilo)"
   ]
  },
  {
   "cell_type": "code",
   "execution_count": 35,
   "metadata": {},
   "outputs": [
    {
     "data": {
      "text/plain": [
       "True"
      ]
     },
     "execution_count": 35,
     "metadata": {},
     "output_type": "execute_result"
    }
   ],
   "source": [
    "### Tuple üzerine kıyaslama\n",
    "tpl1 = 3, 5.6, 10.1\n",
    "tpl2 = 4, 6, 20\n",
    "tpl1 < tpl2"
   ]
  },
  {
   "cell_type": "code",
   "execution_count": 36,
   "metadata": {},
   "outputs": [
    {
     "data": {
      "text/plain": [
       "True"
      ]
     },
     "execution_count": 36,
     "metadata": {},
     "output_type": "execute_result"
    }
   ],
   "source": [
    "### Tuple üzerine kıyaslama\n",
    "tpl1 = 3, 5.6, 10.1\n",
    "tpl2 = 3, 6, 20\n",
    "tpl1 < tpl2"
   ]
  },
  {
   "cell_type": "code",
   "execution_count": 38,
   "metadata": {},
   "outputs": [
    {
     "data": {
      "text/plain": [
       "True"
      ]
     },
     "execution_count": 38,
     "metadata": {},
     "output_type": "execute_result"
    }
   ],
   "source": [
    "### Tuple üzerine kıyaslama\n",
    "tpl1 = 3, 6, 30\n",
    "tpl2 = 3, 6, 20\n",
    "tpl1 < tpl2"
   ]
  },
  {
   "cell_type": "markdown",
   "metadata": {},
   "source": [
    "## Sözlükler (Dictionary) "
   ]
  },
  {
   "cell_type": "code",
   "execution_count": 1,
   "metadata": {},
   "outputs": [],
   "source": [
    "zanlilar = ['adnan','cumali','kezban','tulay','husnu']\n",
    "boylar   = [1.67,1.78,1.63,1.92,1.76]"
   ]
  },
  {
   "cell_type": "code",
   "execution_count": 2,
   "metadata": {},
   "outputs": [],
   "source": [
    "kayit   = {'adnan': 1.67, 'cumali': 1.78, 'kezban': 1.63, 'tulay': 1.92, 'husnu': 1.76} "
   ]
  },
  {
   "cell_type": "code",
   "execution_count": 3,
   "metadata": {},
   "outputs": [
    {
     "data": {
      "text/plain": [
       "{'adnan': 1.67, 'cumali': 1.78, 'kezban': 1.63, 'tulay': 1.92, 'husnu': 1.76}"
      ]
     },
     "execution_count": 3,
     "metadata": {},
     "output_type": "execute_result"
    }
   ],
   "source": [
    "kayit"
   ]
  },
  {
   "cell_type": "code",
   "execution_count": 6,
   "metadata": {},
   "outputs": [
    {
     "name": "stdout",
     "output_type": "stream",
     "text": [
      "1.67\n",
      "1.78\n"
     ]
    }
   ],
   "source": [
    "print(kayit['adnan'])\n",
    "print(kayit['cumali'])"
   ]
  },
  {
   "cell_type": "code",
   "execution_count": 7,
   "metadata": {},
   "outputs": [
    {
     "data": {
      "text/plain": [
       "{'adnan': 1.67,\n",
       " 'cumali': 1.78,\n",
       " 'kezban': 1.63,\n",
       " 'tulay': 1.92,\n",
       " 'husnu': 1.76,\n",
       " 'fahrettin': 38}"
      ]
     },
     "execution_count": 7,
     "metadata": {},
     "output_type": "execute_result"
    }
   ],
   "source": [
    "kayit['fahrettin'] = 38\n",
    "kayit"
   ]
  },
  {
   "cell_type": "code",
   "execution_count": 8,
   "metadata": {},
   "outputs": [
    {
     "data": {
      "text/plain": [
       "{'adnan': 1.67, 'cumali': 1.78, 'kezban': 1.63, 'tulay': 1.92, 'husnu': 1.76}"
      ]
     },
     "execution_count": 8,
     "metadata": {},
     "output_type": "execute_result"
    }
   ],
   "source": [
    "kayit = dict()\n",
    "kayit['adnan']  = 1.67\n",
    "kayit['cumali'] = 1.78\n",
    "kayit['kezban'] = 1.63\n",
    "kayit['tulay']  = 1.92\n",
    "kayit['husnu']  = 1.76\n",
    "kayit"
   ]
  },
  {
   "cell_type": "code",
   "execution_count": 10,
   "metadata": {},
   "outputs": [],
   "source": [
    "zanlilar = ['adnan','cumali','kezban','tulay','husnu']\n",
    "boylar   = [1.67,1.78,1.63,1.92,1.76]\n",
    "kayit    = dict()\n",
    "for i in range(5):\n",
    "    kayit[zanlilar[i]] = boylar[i]"
   ]
  },
  {
   "cell_type": "code",
   "execution_count": 12,
   "metadata": {},
   "outputs": [
    {
     "data": {
      "text/plain": [
       "{'adnan': 1.67, 'cumali': 1.78, 'kezban': 1.63, 'tulay': 1.92, 'husnu': 1.76}"
      ]
     },
     "execution_count": 12,
     "metadata": {},
     "output_type": "execute_result"
    }
   ],
   "source": [
    "kayit"
   ]
  },
  {
   "cell_type": "code",
   "execution_count": 13,
   "metadata": {},
   "outputs": [],
   "source": [
    "zanlilar = ['adnan','cumali','kezban','tulay','husnu']\n",
    "boylar   = [1.67,1.78,1.63,1.92,1.76]\n",
    "kilolar  = [75,  84,  65,  62,  91]\n",
    "cinsiyet = ['E','E','K','K','E']\n",
    "kayit    = dict()\n",
    "for i in range(5):\n",
    "    ..."
   ]
  },
  {
   "cell_type": "code",
   "execution_count": 14,
   "metadata": {},
   "outputs": [
    {
     "data": {
      "text/plain": [
       "{'adnan': (1.67, 'E'),\n",
       " 'cumali': (1.78, 'E'),\n",
       " 'kezban': (1.63, 'K'),\n",
       " 'tulay': (1.92, 'K'),\n",
       " 'husnu': (1.76, 'E')}"
      ]
     },
     "execution_count": 14,
     "metadata": {},
     "output_type": "execute_result"
    }
   ],
   "source": [
    "kayit"
   ]
  },
  {
   "cell_type": "markdown",
   "metadata": {},
   "source": [
    "### Şarkı kütüphanesi"
   ]
  },
  {
   "cell_type": "code",
   "execution_count": 76,
   "metadata": {},
   "outputs": [],
   "source": [
    "sarkilar = dict()\n",
    "sarkilar['breaking the law'] = {'Band': 'Judas Priest', 'Genre': 'NWOBHM', 'Length': '2:37', 'Link': 'https://www.youtube.com/watch?v=L397TWLwrUU'}\n",
    "sarkilar['gerizekalı sevgilim benim'] = {'Band': 'Mustafa Topaloğlu', 'Genre': 'Fantezi', 'Length': '3:20', 'Link': 'https://www.youtube.com/watch?v=k9TnS2N1ew8'}\n",
    "sarkilar['lambaya püf de'] = {'Band': 'Urfalı Babi', 'Genre': 'Şahsına Münhasır', 'Lenght': '3:32','Link': 'https://www.youtube.com/watch?v=fiC951xT1-0'}\n",
    "sarkilar['don kişot'] = {'Band': 'İlhan İrem', 'Genre': 'NWOTR', 'Length': '4:20', 'Link': 'https://www.youtube.com/watch?v=SMa2VSO0MyU'}\n",
    "sarkilar['honor thy father'] = {'Band': 'Dream Theater', 'Genre': 'Progressive Metal', 'Length': '10:12', 'Link': 'https://www.youtube.com/watch?v=KGHXy9Fa45k'}\n",
    "sarkilar['ikimiz bir fidanız'] = {'Band': 'Hakkı Bulut', 'Genre': 'Fantezi', 'Lenght': '3:30','Link': 'https://www.youtube.com/watch?v=JYxqr1itiI0'}"
   ]
  },
  {
   "cell_type": "code",
   "execution_count": null,
   "metadata": {},
   "outputs": [],
   "source": []
  },
  {
   "cell_type": "code",
   "execution_count": 77,
   "metadata": {},
   "outputs": [],
   "source": [
    "songlist = {}\n",
    "songlist['depresif'] = ['gerizekalı sevgilim benim', 'don kişot']\n",
    "songlist['gaz']      = ['breaking the law', 'honor thy father']\n",
    "songlist['mutlu']    = ['lambaya püf de','ikimiz bir fidanız']"
   ]
  },
  {
   "cell_type": "code",
   "execution_count": 79,
   "metadata": {},
   "outputs": [
    {
     "data": {
      "text/plain": [
       "'https://www.youtube.com/watch?v=L397TWLwrUU'"
      ]
     },
     "execution_count": 79,
     "metadata": {},
     "output_type": "execute_result"
    }
   ],
   "source": [
    "from random import choice\n",
    "song = choice(songlist['gaz'])\n",
    "sarkilar[song]['Link']"
   ]
  },
  {
   "cell_type": "markdown",
   "metadata": {},
   "source": [
    "### Dictionary Methods "
   ]
  },
  {
   "cell_type": "code",
   "execution_count": 24,
   "metadata": {},
   "outputs": [
    {
     "data": {
      "text/plain": [
       "dict_keys(['depresif', 'gaz', 'mutlu'])"
      ]
     },
     "execution_count": 24,
     "metadata": {},
     "output_type": "execute_result"
    }
   ],
   "source": [
    "songlist.keys()"
   ]
  },
  {
   "cell_type": "code",
   "execution_count": 25,
   "metadata": {},
   "outputs": [
    {
     "data": {
      "text/plain": [
       "['depresif', 'gaz', 'mutlu']"
      ]
     },
     "execution_count": 25,
     "metadata": {},
     "output_type": "execute_result"
    }
   ],
   "source": [
    "list(songlist.keys())"
   ]
  },
  {
   "cell_type": "code",
   "execution_count": 26,
   "metadata": {},
   "outputs": [
    {
     "data": {
      "text/plain": [
       "dict_values([['aldanma çocuksu mahsun yüzüne', 'pixels', 'bitti mi', 'some kind of a love song'], ['breaking the law', 'beyond this life', 'wake up'], ['consumed', 'spirit crusher', 'jotun']])"
      ]
     },
     "execution_count": 26,
     "metadata": {},
     "output_type": "execute_result"
    }
   ],
   "source": [
    "songlist.values()"
   ]
  },
  {
   "cell_type": "code",
   "execution_count": 27,
   "metadata": {},
   "outputs": [
    {
     "data": {
      "text/plain": [
       "dict_items([('depresif', ['aldanma çocuksu mahsun yüzüne', 'pixels', 'bitti mi', 'some kind of a love song']), ('gaz', ['breaking the law', 'beyond this life', 'wake up']), ('mutlu', ['consumed', 'spirit crusher', 'jotun'])])"
      ]
     },
     "execution_count": 27,
     "metadata": {},
     "output_type": "execute_result"
    }
   ],
   "source": [
    "songlist.items()"
   ]
  },
  {
   "cell_type": "code",
   "execution_count": 39,
   "metadata": {},
   "outputs": [
    {
     "data": {
      "text/plain": [
       "True"
      ]
     },
     "execution_count": 39,
     "metadata": {},
     "output_type": "execute_result"
    }
   ],
   "source": [
    "'gaz' in songlist.keys()"
   ]
  },
  {
   "cell_type": "code",
   "execution_count": 40,
   "metadata": {},
   "outputs": [
    {
     "data": {
      "text/plain": [
       "False"
      ]
     },
     "execution_count": 40,
     "metadata": {},
     "output_type": "execute_result"
    }
   ],
   "source": [
    "'hüzünlü' in songlist.keys()"
   ]
  },
  {
   "cell_type": "code",
   "execution_count": 41,
   "metadata": {},
   "outputs": [
    {
     "name": "stdout",
     "output_type": "stream",
     "text": [
      "adnan\n",
      "cumali\n",
      "kezban\n",
      "tulay\n",
      "husnu\n"
     ]
    }
   ],
   "source": [
    "kayit   = {'adnan': 1.67, 'cumali': 1.78, 'kezban': 1.63, 'tulay': 1.92, 'husnu': 1.76} \n",
    "# for: keyleri yazdır\n"
   ]
  },
  {
   "cell_type": "code",
   "execution_count": 42,
   "metadata": {},
   "outputs": [
    {
     "name": "stdout",
     "output_type": "stream",
     "text": [
      "(1.67, 'E')\n",
      "(1.78, 'E')\n",
      "(1.63, 'K')\n",
      "(1.92, 'K')\n",
      "(1.76, 'E')\n"
     ]
    }
   ],
   "source": [
    "# for: valueları yazdır\n"
   ]
  },
  {
   "cell_type": "code",
   "execution_count": 22,
   "metadata": {},
   "outputs": [
    {
     "name": "stdout",
     "output_type": "stream",
     "text": [
      "adnan 79\n",
      "mümtaz 42\n",
      "cumali 49\n",
      "fahrettin 38\n"
     ]
    }
   ],
   "source": [
    "# for: key, value'ları yazdır"
   ]
  },
  {
   "cell_type": "markdown",
   "metadata": {},
   "source": [
    "### Sözlüklerin yaygın kullanımı"
   ]
  },
  {
   "cell_type": "code",
   "execution_count": 43,
   "metadata": {},
   "outputs": [
    {
     "name": "stdout",
     "output_type": "stream",
     "text": [
      "f\n",
      "a\n",
      "n\n",
      "a\n",
      "t\n",
      "i\n",
      "k\n",
      "l\n",
      "e\n",
      "s\n",
      "t\n",
      "i\n",
      "r\n",
      "e\n",
      "m\n",
      "e\n",
      "d\n",
      "i\n",
      "k\n",
      "l\n",
      "e\n",
      "r\n",
      "i\n",
      "m\n",
      "i\n",
      "z\n",
      "d\n",
      "e\n",
      "n\n",
      " \n",
      "m\n",
      "i\n",
      "s\n",
      "i\n",
      "n\n",
      "i\n",
      "z\n",
      "?\n"
     ]
    }
   ],
   "source": [
    "sozcuk = 'fanatiklestiremediklerimizden misiniz?'\n",
    "for harf in sozcuk:\n",
    "    print(harf)"
   ]
  },
  {
   "cell_type": "code",
   "execution_count": 45,
   "metadata": {},
   "outputs": [
    {
     "ename": "KeyError",
     "evalue": "'f'",
     "output_type": "error",
     "traceback": [
      "\u001b[1;31m---------------------------------------------------------------------------\u001b[0m",
      "\u001b[1;31mKeyError\u001b[0m                                  Traceback (most recent call last)",
      "\u001b[1;32m<ipython-input-45-6d24dc1bf32e>\u001b[0m in \u001b[0;36m<module>\u001b[1;34m()\u001b[0m\n\u001b[0;32m      1\u001b[0m \u001b[0mfrekans\u001b[0m \u001b[1;33m=\u001b[0m \u001b[1;33m{\u001b[0m\u001b[1;33m}\u001b[0m\u001b[1;33m\u001b[0m\u001b[0m\n\u001b[0;32m      2\u001b[0m \u001b[1;32mfor\u001b[0m \u001b[0mharf\u001b[0m \u001b[1;32min\u001b[0m \u001b[0msozcuk\u001b[0m\u001b[1;33m:\u001b[0m\u001b[1;33m\u001b[0m\u001b[0m\n\u001b[1;32m----> 3\u001b[1;33m     \u001b[0mfrekans\u001b[0m\u001b[1;33m[\u001b[0m\u001b[0mharf\u001b[0m\u001b[1;33m]\u001b[0m \u001b[1;33m=\u001b[0m \u001b[0mfrekans\u001b[0m\u001b[1;33m[\u001b[0m\u001b[0mharf\u001b[0m\u001b[1;33m]\u001b[0m \u001b[1;33m+\u001b[0m \u001b[1;36m1\u001b[0m\u001b[1;33m\u001b[0m\u001b[0m\n\u001b[0m\u001b[0;32m      4\u001b[0m \u001b[0mprint\u001b[0m\u001b[1;33m(\u001b[0m\u001b[0mfrekans\u001b[0m\u001b[1;33m)\u001b[0m\u001b[1;33m\u001b[0m\u001b[0m\n",
      "\u001b[1;31mKeyError\u001b[0m: 'f'"
     ]
    }
   ],
   "source": [
    "frekans = {}\n",
    "for harf in sozcuk:\n",
    "    frekans[harf] = frekans[harf] + 1\n",
    "print(frekans)"
   ]
  },
  {
   "cell_type": "code",
   "execution_count": 46,
   "metadata": {},
   "outputs": [
    {
     "name": "stdout",
     "output_type": "stream",
     "text": [
      "{'f': 1, 'a': 2, 'n': 3, 't': 2, 'i': 8, 'k': 2, 'l': 2, 'e': 5, 'ş': 1, 'r': 2, 'm': 3, 'd': 2, 'z': 2, ' ': 1, 's': 1, '?': 1}\n"
     ]
    }
   ],
   "source": [
    "sozcuk = 'fanatikleştiremediklerimizden misiniz?'\n",
    "frekans = dict()\n",
    "for harf in sozcuk:\n",
    "    if harf in frekans.keys():\n",
    "        frekans[harf] = frekans[harf] + 1\n",
    "    else:\n",
    "        frekans[harf] = 1\n",
    "print(frekans)        "
   ]
  },
  {
   "cell_type": "code",
   "execution_count": 47,
   "metadata": {},
   "outputs": [
    {
     "name": "stdout",
     "output_type": "stream",
     "text": [
      "['I', 'love', 'my', 'love', 'but', 'my', 'love', \"doesn't\", 'love', 'me', 'as', 'I', 'love', 'my', 'love']\n",
      "{'I': 2, 'love': 6, 'my': 3, 'but': 1, \"doesn't\": 1, 'me': 1, 'as': 1}\n"
     ]
    }
   ],
   "source": [
    "# kelime frekansları\n",
    "cumle = \"I love my love but my love doesn't love me as I love my love\"\n",
    "# cümleyi kelimelere ayır\n",
    "sozcukler = ...\n",
    "\n",
    "frekans = dict()\n",
    "for sozcuk in sozcukler:\n",
    "    if sozcuk in frekans:\n",
    "        ...\n",
    "    else:\n",
    "        ...\n",
    "print(frekans)"
   ]
  },
  {
   "cell_type": "code",
   "execution_count": null,
   "metadata": {},
   "outputs": [],
   "source": [
    "# tersine çevir ve sırala\n",
    "# k,v -> v,k\n",
    "ters = []\n",
    "for ...\n",
    "\n",
    "# listeyi tersten sırala\n",
    "...\n",
    "print(ters)\n",
    "\n",
    "for v,k in lst:\n",
    "    print(k,': ',v)"
   ]
  },
  {
   "cell_type": "markdown",
   "metadata": {},
   "source": [
    "### Alternatif (tersine çevirme)"
   ]
  },
  {
   "cell_type": "code",
   "execution_count": null,
   "metadata": {},
   "outputs": [],
   "source": []
  },
  {
   "cell_type": "markdown",
   "metadata": {},
   "source": [
    "### Dosya okuma ve işleme"
   ]
  },
  {
   "cell_type": "code",
   "execution_count": null,
   "metadata": {},
   "outputs": [],
   "source": [
    "import codecs\n",
    "fh = codecs.open('tektek.txt')\n",
    "fd = dict()\n",
    "# kelime frekanslarını çıkar\n",
    "for line in fh:\n",
    "    kelimeler = ...\n",
    "    for kelime in kelimeler:\n",
    "        # kelimeleri küçük harflere dönüştür\n",
    "        kelime = ...\n",
    "        if kelime in fd:\n",
    "            ...\n",
    "        else:\n",
    "            ...\n",
    "fh.close()"
   ]
  },
  {
   "cell_type": "code",
   "execution_count": null,
   "metadata": {},
   "outputs": [],
   "source": [
    "# tersine çevir\n",
    "ters = []\n",
    "..."
   ]
  },
  {
   "cell_type": "markdown",
   "metadata": {},
   "source": [
    "### Alternatif (defaultdict)"
   ]
  },
  {
   "cell_type": "code",
   "execution_count": null,
   "metadata": {},
   "outputs": [],
   "source": []
  },
  {
   "cell_type": "markdown",
   "metadata": {},
   "source": [
    "### freq_dist()"
   ]
  },
  {
   "cell_type": "code",
   "execution_count": 41,
   "metadata": {},
   "outputs": [],
   "source": [
    "def freq_dist(dosya_adi):\n",
    "    fh = open(dosya_adi)\n",
    "    fd = dict()\n",
    "    for ...\n",
    "    \n",
    "    fh.close()\n",
    "    return(fd)"
   ]
  },
  {
   "cell_type": "code",
   "execution_count": null,
   "metadata": {},
   "outputs": [],
   "source": [
    "fd_tektek = freq_dist('tektek.txt')\n",
    "# tersine çevir\n"
   ]
  },
  {
   "cell_type": "code",
   "execution_count": null,
   "metadata": {},
   "outputs": [],
   "source": [
    "fd_bebek = freq_dist('demet_akalin_bebek.txt')\n",
    "# tersine çevir\n"
   ]
  },
  {
   "cell_type": "markdown",
   "metadata": {},
   "source": [
    "### Benmerkezcil Şarkılar "
   ]
  },
  {
   "cell_type": "code",
   "execution_count": 62,
   "metadata": {},
   "outputs": [],
   "source": [
    "ekler = ['im', 'ım', 'um']"
   ]
  },
  {
   "cell_type": "code",
   "execution_count": null,
   "metadata": {},
   "outputs": [],
   "source": [
    "fd_tektek = freq_dist('tektek.txt')\n",
    "\n",
    "selfish = 0\n",
    "nonselfish = 0 \n",
    "for k,v in fd_tektek.items():\n",
    "    if # ipucu: endswith:\n",
    "        # selfish'i arttır\n",
    "        print(k)\n",
    "    else:\n",
    "        # nonselfish'i arttır\n",
    "print('selfish count:', selfish)\n",
    "print('nonselfish count:', nonselfish)"
   ]
  },
  {
   "cell_type": "code",
   "execution_count": null,
   "metadata": {},
   "outputs": [],
   "source": [
    "fd = freq_dist('demet_akalin_bebek.txt')\n",
    "\n",
    "selfish = 0\n",
    "nonselfish = 0 \n",
    "...\n"
   ]
  }
 ],
 "metadata": {
  "kernelspec": {
   "display_name": "Python 3",
   "language": "python",
   "name": "python3"
  },
  "language_info": {
   "codemirror_mode": {
    "name": "ipython",
    "version": 3
   },
   "file_extension": ".py",
   "mimetype": "text/x-python",
   "name": "python",
   "nbconvert_exporter": "python",
   "pygments_lexer": "ipython3",
   "version": "3.6.5"
  }
 },
 "nbformat": 4,
 "nbformat_minor": 2
}
