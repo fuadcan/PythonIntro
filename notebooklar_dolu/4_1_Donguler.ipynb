{
 "cells": [
  {
   "cell_type": "markdown",
   "metadata": {},
   "source": [
    "# Döngüler (Loops) "
   ]
  },
  {
   "cell_type": "markdown",
   "metadata": {},
   "source": [
    "## For Döngüleri "
   ]
  },
  {
   "cell_type": "code",
   "execution_count": 1,
   "metadata": {},
   "outputs": [
    {
     "name": "stdout",
     "output_type": "stream",
     "text": [
      "1\n",
      "2\n",
      "3\n"
     ]
    }
   ],
   "source": [
    "for i in [1,2,3]:\n",
    "    print(i)"
   ]
  },
  {
   "cell_type": "code",
   "execution_count": 2,
   "metadata": {},
   "outputs": [
    {
     "name": "stdout",
     "output_type": "stream",
     "text": [
      "0\n",
      "1\n",
      "2\n"
     ]
    }
   ],
   "source": [
    "for i in [0,1,2]:\n",
    "    print(i)"
   ]
  },
  {
   "cell_type": "code",
   "execution_count": 3,
   "metadata": {},
   "outputs": [
    {
     "name": "stdout",
     "output_type": "stream",
     "text": [
      "0\n",
      "1\n",
      "2\n"
     ]
    }
   ],
   "source": [
    "# range ile\n",
    "for i in range(3):\n",
    "    print(i)"
   ]
  },
  {
   "cell_type": "code",
   "execution_count": 5,
   "metadata": {},
   "outputs": [
    {
     "name": "stdout",
     "output_type": "stream",
     "text": [
      "1\n",
      "2\n",
      "3\n"
     ]
    }
   ],
   "source": [
    "# range ile\n",
    "for i in range(1,4):\n",
    "    print(i)"
   ]
  },
  {
   "cell_type": "code",
   "execution_count": 8,
   "metadata": {},
   "outputs": [
    {
     "name": "stdout",
     "output_type": "stream",
     "text": [
      "1\n",
      "8\n",
      "27\n",
      "64\n"
     ]
    }
   ],
   "source": [
    "# 5'ten küçük sayıların kübünü al\n",
    "from time import sleep\n",
    "for i in range(1,11):\n",
    "    if i < 5:\n",
    "        print(i ** 3)"
   ]
  },
  {
   "cell_type": "code",
   "execution_count": 9,
   "metadata": {},
   "outputs": [
    {
     "name": "stdout",
     "output_type": "stream",
     "text": [
      "1 bir tek sayıdır\n",
      "2 bir çift sayıdır\n",
      "3 bir tek sayıdır\n",
      "4 bir çift sayıdır\n",
      "5 bir tek sayıdır\n",
      "6 bir çift sayıdır\n",
      "7 bir tek sayıdır\n",
      "8 bir çift sayıdır\n",
      "9 bir tek sayıdır\n",
      "10 bir çift sayıdır\n"
     ]
    }
   ],
   "source": [
    "# her iterasyonda çift ise çift, tek ise tek sayıdır yaz\n",
    "for i in range(1,11):\n",
    "    if i == 0:\n",
    "        print(\"Sen yoksun!\")\n",
    "    elif i % 2 == 0:\n",
    "        print(i, \"bir çift sayıdır\")\n",
    "    else:\n",
    "        print(i, \"bir tek sayıdır\")"
   ]
  },
  {
   "cell_type": "code",
   "execution_count": 10,
   "metadata": {},
   "outputs": [
    {
     "name": "stdout",
     "output_type": "stream",
     "text": [
      "1\n",
      "3\n",
      "5\n",
      "7\n",
      "9\n"
     ]
    }
   ],
   "source": [
    "for i in range(1,11,2):\n",
    "    print(i)"
   ]
  },
  {
   "cell_type": "code",
   "execution_count": 11,
   "metadata": {},
   "outputs": [
    {
     "name": "stdout",
     "output_type": "stream",
     "text": [
      "1 bir tek sayıdır\n",
      "3 bir tek sayıdır\n",
      "5 bir tek sayıdır\n",
      "7 bir tek sayıdır\n",
      "9 bir tek sayıdır\n"
     ]
    }
   ],
   "source": [
    "for i in range(1,11,2):\n",
    "    if i == 0:\n",
    "        print(\"Sen yoksun!\")\n",
    "    elif i % 2 == 0:\n",
    "        print(i, \"bir çift sayıdır\")\n",
    "    else:\n",
    "        print(i, \"bir tek sayıdır\")"
   ]
  },
  {
   "cell_type": "code",
   "execution_count": 12,
   "metadata": {},
   "outputs": [
    {
     "name": "stdout",
     "output_type": "stream",
     "text": [
      "10\n",
      "9\n",
      "8\n",
      "7\n",
      "6\n",
      "5\n",
      "4\n",
      "3\n",
      "2\n",
      "1\n"
     ]
    }
   ],
   "source": [
    "from time import sleep\n",
    "\n",
    "for i in range(10,0,-1):\n",
    "    print(i)\n",
    "    sleep(1)"
   ]
  },
  {
   "cell_type": "code",
   "execution_count": 13,
   "metadata": {},
   "outputs": [
    {
     "name": "stdout",
     "output_type": "stream",
     "text": [
      "9\n",
      "8\n",
      "7\n",
      "6\n",
      "5\n",
      "4\n",
      "3\n",
      "2\n",
      "1\n",
      "0\n"
     ]
    }
   ],
   "source": [
    "# geri sayım reversed range\n",
    "for i in reversed(range(10)):\n",
    "    print(i)\n",
    "    sleep(1)\n"
   ]
  },
  {
   "cell_type": "code",
   "execution_count": 16,
   "metadata": {},
   "outputs": [
    {
     "name": "stdout",
     "output_type": "stream",
     "text": [
      "4\n",
      "3\n",
      "2\n",
      "1\n"
     ]
    }
   ],
   "source": [
    "# -1 step\n",
    "for i in ...:\n",
    "    print(i)\n",
    "    sleep(1)"
   ]
  },
  {
   "cell_type": "code",
   "execution_count": 14,
   "metadata": {},
   "outputs": [
    {
     "name": "stdout",
     "output_type": "stream",
     "text": [
      "3\n",
      "2\n",
      "1\n",
      "bi bi bi bip!\n",
      "bi bi bi bip!\n",
      "bi bi bi bip!\n",
      "bi bi bi bip!\n"
     ]
    }
   ],
   "source": [
    "# alarm\n",
    "for i in range(3,0,-1):\n",
    "    print(i)\n",
    "    sleep(1)\n",
    "for i in range(4):\n",
    "    print('bi bi bi bip!')\n",
    "    sleep(1)"
   ]
  },
  {
   "cell_type": "code",
   "execution_count": 16,
   "metadata": {},
   "outputs": [
    {
     "name": "stdout",
     "output_type": "stream",
     "text": [
      "3\n",
      "2\n",
      "1\n"
     ]
    }
   ],
   "source": [
    "from time import sleep\n",
    "from pydub import AudioSegment\n",
    "from pydub.playback import play\n",
    "\n",
    "song = AudioSegment.from_wav(\"bibibibip.wav\")\n",
    "\n",
    "for i in reversed(range(1,4)):\n",
    "    print(i)\n",
    "    sleep(1)\n",
    "\n",
    "play(song)"
   ]
  },
  {
   "cell_type": "code",
   "execution_count": 19,
   "metadata": {},
   "outputs": [
    {
     "name": "stdout",
     "output_type": "stream",
     "text": [
      "my\n",
      "name\n",
      "is\n",
      "Mahir\n"
     ]
    }
   ],
   "source": [
    "ozelIsimler = ['fuat', 'can', 'mahir']\n",
    "kelimeler = 'my name is mahir'.split()\n",
    "\n",
    "for kelime in kelimeler:\n",
    "    if kelime in ozelIsimler:\n",
    "        print(kelime.capitalize())\n",
    "        sleep(1)\n",
    "    else:\n",
    "        print(kelime)\n",
    "        sleep(1)"
   ]
  },
  {
   "cell_type": "code",
   "execution_count": 24,
   "metadata": {},
   "outputs": [
    {
     "name": "stdout",
     "output_type": "stream",
     "text": [
      "Mahir\n",
      "my\n",
      "name\n",
      "is\n"
     ]
    }
   ],
   "source": [
    "def kelime_isleme(kelime):\n",
    "    if kelime == 'mahir':\n",
    "        print(kelime.capitalize())\n",
    "    else:\n",
    "        print(kelime)\n",
    "for isim in kelimeler:\n",
    "    kelime_isleme(isim)\n",
    "    sleep(1)"
   ]
  },
  {
   "cell_type": "markdown",
   "metadata": {},
   "source": [
    "## While Döngüleri"
   ]
  },
  {
   "cell_type": "code",
   "execution_count": 20,
   "metadata": {},
   "outputs": [
    {
     "name": "stdout",
     "output_type": "stream",
     "text": [
      "0\n",
      "1\n",
      "2\n",
      "3\n",
      "4\n",
      "5\n",
      "6\n",
      "7\n",
      "8\n",
      "9\n"
     ]
    }
   ],
   "source": [
    "for i in range(10):\n",
    "    print(i)"
   ]
  },
  {
   "cell_type": "code",
   "execution_count": 21,
   "metadata": {},
   "outputs": [
    {
     "name": "stdout",
     "output_type": "stream",
     "text": [
      "1\n",
      "2\n",
      "3\n",
      "4\n",
      "5\n",
      "6\n",
      "7\n",
      "8\n",
      "9\n",
      "10\n"
     ]
    }
   ],
   "source": [
    "sayac = 1\n",
    "while sayac <= 10:\n",
    "    print(sayac)\n",
    "    sayac = sayac + 1"
   ]
  },
  {
   "cell_type": "code",
   "execution_count": 22,
   "metadata": {},
   "outputs": [
    {
     "name": "stdout",
     "output_type": "stream",
     "text": [
      "1\n",
      "2\n",
      "3\n",
      "4\n",
      "5\n",
      "6\n",
      "7\n",
      "8\n",
      "9\n",
      "10\n"
     ]
    }
   ],
   "source": [
    "counter = 1\n",
    "while counter <= 10:\n",
    "    print(counter)\n",
    "    counter += 1"
   ]
  },
  {
   "cell_type": "code",
   "execution_count": 24,
   "metadata": {},
   "outputs": [
    {
     "name": "stdout",
     "output_type": "stream",
     "text": [
      "10\n",
      "9\n",
      "8\n",
      "7\n",
      "6\n",
      "5\n",
      "4\n",
      "3\n",
      "2\n",
      "1\n",
      "0\n"
     ]
    }
   ],
   "source": [
    "counter = 10\n",
    "while counter >= 0:\n",
    "    print(counter)\n",
    "    counter = counter - 1"
   ]
  },
  {
   "cell_type": "code",
   "execution_count": 25,
   "metadata": {},
   "outputs": [
    {
     "name": "stdout",
     "output_type": "stream",
     "text": [
      "patlamaya 10 saniye\n",
      "patlamaya 9 saniye\n",
      "patlamaya 8 saniye\n",
      "patlamaya 7 saniye\n",
      "patlamaya 6 saniye\n",
      "patlamaya 5 saniye\n",
      "patlamaya 4 saniye\n",
      "patlamaya 3 saniye\n",
      "patlamaya 2 saniye\n",
      "patlamaya 1 saniye\n",
      "guuuuum!\n"
     ]
    }
   ],
   "source": [
    "kalan_saniye = 10\n",
    "\n",
    "while kalan_saniye > 0 :\n",
    "    # kalan saniyeyi yazdır\n",
    "    print(\"patlamaya %s saniye\" % kalan_saniye)\n",
    "    # 1 sn bekle (ipucu: sleep)\n",
    "    sleep(1)\n",
    "    # kalan saniyeyi 1 düşür\n",
    "    kalan_saniye -= 1\n",
    "print(\"guuuuum!\")"
   ]
  },
  {
   "cell_type": "code",
   "execution_count": 27,
   "metadata": {},
   "outputs": [
    {
     "name": "stdout",
     "output_type": "stream",
     "text": [
      "yaprak sayısı : 10\n",
      "seviyor\n",
      "sevmiyor\n",
      "seviyor\n",
      "sevmiyor\n",
      "seviyor\n",
      "sevmiyor\n",
      "seviyor\n",
      "sevmiyor\n",
      "seviyor\n",
      "sevmiyor\n"
     ]
    }
   ],
   "source": [
    "from random import randint\n",
    "# yaprak sayısı 15 ile 22 arası olan rastgele papatya üret\n",
    "yaprak_sayisi = randint(5,10)\n",
    "son_durum = 'seviyor'\n",
    "print('yaprak sayısı : %s' % yaprak_sayisi)\n",
    "\n",
    "while yaprak_sayisi > 0:\n",
    "    print(son_durum)\n",
    "    # son_durumu tersine çevir: seviyorsa sevmiyor yap, aksi taktirde seviyor yap\n",
    "    if son_durum == 'seviyor':\n",
    "        son_durum = 'sevmiyor'\n",
    "    else:\n",
    "        son_durum = 'seviyor'\n",
    "    # yaprak sayısını 1 azalt\n",
    "    yaprak_sayisi -= 1\n",
    "    sleep(.5)      \n",
    "        "
   ]
  },
  {
   "cell_type": "code",
   "execution_count": null,
   "metadata": {},
   "outputs": [],
   "source": [
    "from random import randint\n",
    "# yaprak sayısı 15 ile 22 arası olan rastgele papatya üret\n",
    "yaprak_sayisi = randint(5,10)\n",
    "son_durum = 'seviyor'\n",
    "print('yaprak sayısı : %s' % yaprak_sayisi)\n",
    "\n",
    "while yaprak_sayisi > 0:\n",
    "    print(son_durum)\n",
    "    # son_durumu tersine çevir: seviyorsa sevmiyor yap, aksi taktirde seviyor yap\n",
    "    son_durum = 'seviyor' if son_durum == 'sevmiyor' else 'sevmiyor'\n",
    "    # yaprak sayısını 1 azalt\n",
    "    yaprak_sayisi -= 1\n",
    "    sleep(.5)      \n",
    "        "
   ]
  },
  {
   "cell_type": "code",
   "execution_count": 28,
   "metadata": {},
   "outputs": [
    {
     "name": "stdout",
     "output_type": "stream",
     "text": [
      "Yarinizin ismini giriniz: Hüsnü\n",
      "yaprak sayısı : 10\n",
      "seviyor\n",
      "sevmiyor\n",
      "seviyor\n",
      "sevmiyor\n",
      "seviyor\n",
      "sevmiyor\n",
      "seviyor\n",
      "sevmiyor\n",
      "seviyor\n",
      "sevmiyor\n",
      "papatya falı çok da şey etme\n"
     ]
    }
   ],
   "source": [
    "from random import randint\n",
    "yar = input('Yarinizin ismini giriniz: ')\n",
    "# yaprak sayısı 15 ile 22 arası olan rastgele papatya üret\n",
    "yaprak_sayisi = randint(5,10)\n",
    "son_durum = 'seviyor'\n",
    "print('yaprak sayısı : %s' % yaprak_sayisi)\n",
    "\n",
    "while yaprak_sayisi > 0:\n",
    "    print(son_durum)\n",
    "    # son_durumu tersine çevir: seviyorsa sevmiyor yap, aksi taktirde seviyor yap\n",
    "    son_durum = 'seviyor' if son_durum == 'sevmiyor' else 'sevmiyor'\n",
    "    # yaprak sayısını 1 azalt\n",
    "    yaprak_sayisi -= 1\n",
    "    sleep(.5)      \n",
    "# Durum değerlendirmesi\n",
    "# Seviyorsa bir şey, sevmiyorsa başka bir şey yazdır\n",
    "if son_durum != 'seviyor':\n",
    "    print('papatya falı çok da şey etme')\n",
    "else:\n",
    "    print('hahahahhaa :))) %s seni sevmiyormuş' % yar)\n"
   ]
  },
  {
   "cell_type": "code",
   "execution_count": null,
   "metadata": {},
   "outputs": [],
   "source": [
    "from random import randint, SystemRandom\n",
    "\n",
    "\n",
    "sevmiyor_listesi = ['yok be %s sana bakmaz', 'hadi be ordan', \"lan porsche'u var diyorum\", 'cok da sey etme']\n",
    "seviyor_listesi  = ['çok da şey etme, papatya falı sonuçta', 'kullanıp atar o seni, salma kendini', 'bak versacesi yok diyorum',\n",
    "                   \"porsche'u ikinci el diyorlar\"]\n",
    "# Aynı\n",
    "...\n",
    "\n",
    "# Durum değerlendirmesi\n",
    "if son_durum != 'seviyor':\n",
    "    print(choice(seviyor_listesi))\n",
    "else:\n",
    "    print(choice(sevmiyor_listesi))"
   ]
  },
  {
   "cell_type": "code",
   "execution_count": 29,
   "metadata": {},
   "outputs": [
    {
     "name": "stdout",
     "output_type": "stream",
     "text": [
      "Yarinizin ismini giriniz: hüsnü\n",
      "seviyor\n",
      "sevmiyor\n",
      "seviyor\n",
      "sevmiyor\n",
      "seviyor\n",
      "sevmiyor\n",
      "seviyor\n",
      "sevmiyor\n",
      "seviyor\n",
      "sevmiyor\n",
      "seviyor\n",
      "sevmiyor\n",
      "seviyor\n",
      "sevmiyor\n",
      "seviyor\n",
      "sevmiyor\n",
      "seviyor\n",
      "sevmiyor\n",
      "seviyor\n",
      "sevmiyor\n",
      "yok be hüsnü sana bakmaz\n"
     ]
    }
   ],
   "source": [
    "from random import randint, SystemRandom\n",
    "secure_random = SystemRandom()\n",
    "\n",
    "sevmiyor_listesi = ['yok be %s sana bakmaz', 'hadi be ordan', \"lan porsche'u var diyorum\", 'cok da sey etme']\n",
    "seviyor_listesi  = ['çok da şey etme, papatya falı sonuçta', 'kullanıp atar o seni, salma kendini', 'bak versacesi yok diyorum',\n",
    "                   \"porsche'u ikinci el diyorlar\"]\n",
    "\n",
    "from random import randint, choice\n",
    "yaprak_sayisi = randint(15,22)\n",
    "son_durum = 'seviyor'\n",
    "yar = input('Yarinizin ismini giriniz: ')\n",
    "\n",
    "# Papatya falı\n",
    "while yaprak_sayisi >= 0:\n",
    "    print(son_durum)\n",
    "    if son_durum == 'seviyor':\n",
    "        son_durum = 'sevmiyor'\n",
    "    else:\n",
    "        son_durum = 'seviyor'\n",
    "    yaprak_sayisi -= 1\n",
    "    sleep(.5)      \n",
    "\n",
    "# Durum değerlendirmesi\n",
    "if son_durum != 'seviyor':\n",
    "    cevap = secure_random.choice(seviyor_listesi)\n",
    "    if '%s' in cevap:\n",
    "        print(cevap % yar)\n",
    "    else:\n",
    "        print(cevap)\n",
    "else:\n",
    "    cevap = secure_random.choice(sevmiyor_listesi)\n",
    "    if '%s' in cevap:\n",
    "        print(cevap % yar)\n",
    "    else:\n",
    "        print(cevap)\n"
   ]
  },
  {
   "cell_type": "markdown",
   "metadata": {},
   "source": [
    "## Break ve Continue "
   ]
  },
  {
   "cell_type": "code",
   "execution_count": 2,
   "metadata": {},
   "outputs": [
    {
     "name": "stdout",
     "output_type": "stream",
     "text": [
      "sana bonservis taklidi yapayım mı?çotank\n",
      "aman abi çok büyüttün\n"
     ]
    }
   ],
   "source": [
    "while True:\n",
    "    answer = input('sana bonservis taklidi yapayım mı?')\n",
    "    if answer in ['pat','güm','çotank']:\n",
    "        print('aman abi çok büyüttün')\n",
    "        break\n",
    "    print('öyle %s demekle olmaz' % answer)"
   ]
  },
  {
   "cell_type": "code",
   "execution_count": null,
   "metadata": {},
   "outputs": [],
   "source": [
    "while True:\n",
    "    sayi = input('Sayıyı giriniz: ')\n",
    "    if sayi == 'Tamam':\n",
    "        break\n",
    "    else:\n",
    "        print(float(sayi) ** 2)"
   ]
  },
  {
   "cell_type": "code",
   "execution_count": null,
   "metadata": {},
   "outputs": [],
   "source": []
  }
 ],
 "metadata": {
  "kernelspec": {
   "display_name": "Python 3",
   "language": "python",
   "name": "python3"
  },
  "language_info": {
   "codemirror_mode": {
    "name": "ipython",
    "version": 3
   },
   "file_extension": ".py",
   "mimetype": "text/x-python",
   "name": "python",
   "nbconvert_exporter": "python",
   "pygments_lexer": "ipython3",
   "version": "3.6.5"
  }
 },
 "nbformat": 4,
 "nbformat_minor": 2
}
