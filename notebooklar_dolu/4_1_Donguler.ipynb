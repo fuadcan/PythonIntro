{
 "cells": [
  {
   "cell_type": "markdown",
   "metadata": {},
   "source": [
    "# Döngüler (Loops) "
   ]
  },
  {
   "cell_type": "markdown",
   "metadata": {},
   "source": [
    "## For Döngüleri "
   ]
  },
  {
   "cell_type": "code",
   "execution_count": 1,
   "metadata": {},
   "outputs": [
    {
     "name": "stdout",
     "output_type": "stream",
     "text": [
      "1\n",
      "2\n",
      "3\n"
     ]
    }
   ],
   "source": [
    "for i in [1,2,3]:\n",
    "    print(i)"
   ]
  },
  {
   "cell_type": "code",
   "execution_count": 2,
   "metadata": {},
   "outputs": [
    {
     "name": "stdout",
     "output_type": "stream",
     "text": [
      "0\n",
      "1\n",
      "2\n"
     ]
    }
   ],
   "source": [
    "for i in [0,1,2]:\n",
    "    print(i)"
   ]
  },
  {
   "cell_type": "code",
   "execution_count": null,
   "metadata": {},
   "outputs": [],
   "source": [
    "# range ile\n"
   ]
  },
  {
   "cell_type": "code",
   "execution_count": null,
   "metadata": {},
   "outputs": [],
   "source": []
  },
  {
   "cell_type": "code",
   "execution_count": 5,
   "metadata": {},
   "outputs": [
    {
     "name": "stdout",
     "output_type": "stream",
     "text": [
      "1\n",
      "8\n",
      "27\n",
      "64\n",
      "125\n"
     ]
    }
   ],
   "source": [
    "# 5'ten küçük sayıların kübünü al\n",
    "from time import sleep\n",
    "for i in [1,2,3,4,5,6,7,8,9,10]:\n",
    "    if ...\n",
    "    "
   ]
  },
  {
   "cell_type": "code",
   "execution_count": 6,
   "metadata": {},
   "outputs": [
    {
     "name": "stdout",
     "output_type": "stream",
     "text": [
      "1 bir tek sayıdır\n",
      "2 bir çift sayıdır\n",
      "3 bir tek sayıdır\n",
      "4 bir çift sayıdır\n",
      "5 bir tek sayıdır\n",
      "6 bir çift sayıdır\n",
      "7 bir tek sayıdır\n",
      "8 bir çift sayıdır\n",
      "9 bir tek sayıdır\n",
      "10 bir çift sayıdır\n"
     ]
    }
   ],
   "source": [
    "# her iterasyonda çift ise çift, tek ise tek sayıdır yaz\n",
    "for i in range(1,11):\n",
    "    if i == 0:\n",
    "        print(\"Sen yoksun!\")\n",
    "    elif i % 2 == 0:\n",
    "        print(i, \"bir çift sayıdır\")\n",
    "    else:\n",
    "        print(i, \"bir tek sayıdır\")"
   ]
  },
  {
   "cell_type": "code",
   "execution_count": 9,
   "metadata": {},
   "outputs": [
    {
     "name": "stdout",
     "output_type": "stream",
     "text": [
      "1\n",
      "3\n",
      "5\n",
      "7\n",
      "9\n"
     ]
    }
   ],
   "source": [
    "for i in range(1,11,2):\n",
    "    print(i)"
   ]
  },
  {
   "cell_type": "code",
   "execution_count": 10,
   "metadata": {},
   "outputs": [
    {
     "name": "stdout",
     "output_type": "stream",
     "text": [
      "1 bir tek sayıdır\n",
      "3 bir tek sayıdır\n",
      "5 bir tek sayıdır\n",
      "7 bir tek sayıdır\n",
      "9 bir tek sayıdır\n"
     ]
    }
   ],
   "source": [
    "for i in range(1,11,2):\n",
    "    if i == 0:\n",
    "        print(\"Sen yoksun!\")\n",
    "    elif i % 2 == 0:\n",
    "        print(i, \"bir çift sayıdır\")\n",
    "    else:\n",
    "        print(i, \"bir tek sayıdır\")"
   ]
  },
  {
   "cell_type": "code",
   "execution_count": 11,
   "metadata": {},
   "outputs": [
    {
     "name": "stdout",
     "output_type": "stream",
     "text": [
      "0\n",
      "1\n",
      "2\n",
      "3\n",
      "4\n",
      "5\n",
      "6\n",
      "7\n",
      "8\n",
      "9\n"
     ]
    }
   ],
   "source": [
    "from time import sleep\n",
    "\n",
    "for i in range(10):\n",
    "    print(i)\n",
    "    sleep(1)"
   ]
  },
  {
   "cell_type": "code",
   "execution_count": null,
   "metadata": {},
   "outputs": [],
   "source": [
    "# geri sayım reversed range\n",
    "for i in ...\n"
   ]
  },
  {
   "cell_type": "code",
   "execution_count": 16,
   "metadata": {},
   "outputs": [
    {
     "name": "stdout",
     "output_type": "stream",
     "text": [
      "4\n",
      "3\n",
      "2\n",
      "1\n"
     ]
    }
   ],
   "source": [
    "# -1 step\n",
    "for i in ...:\n",
    "    print(i)\n",
    "    sleep(1)"
   ]
  },
  {
   "cell_type": "code",
   "execution_count": 17,
   "metadata": {},
   "outputs": [
    {
     "name": "stdout",
     "output_type": "stream",
     "text": [
      "3\n",
      "2\n",
      "1\n",
      "bi bi bi bip\n",
      "bi bi bi bip\n",
      "bi bi bi bip\n",
      "bi bi bi bip\n"
     ]
    }
   ],
   "source": [
    "# alarm\n"
   ]
  },
  {
   "cell_type": "code",
   "execution_count": 2,
   "metadata": {},
   "outputs": [
    {
     "name": "stdout",
     "output_type": "stream",
     "text": [
      "3\n",
      "2\n",
      "1\n"
     ]
    },
    {
     "ename": "KeyboardInterrupt",
     "evalue": "",
     "output_type": "error",
     "traceback": [
      "\u001b[1;31m---------------------------------------------------------------------------\u001b[0m",
      "\u001b[1;31mKeyboardInterrupt\u001b[0m                         Traceback (most recent call last)",
      "\u001b[1;32m<ipython-input-2-399c62a61aff>\u001b[0m in \u001b[0;36m<module>\u001b[1;34m()\u001b[0m\n\u001b[0;32m      9\u001b[0m     \u001b[0msleep\u001b[0m\u001b[1;33m(\u001b[0m\u001b[1;36m1\u001b[0m\u001b[1;33m)\u001b[0m\u001b[1;33m\u001b[0m\u001b[0m\n\u001b[0;32m     10\u001b[0m \u001b[1;33m\u001b[0m\u001b[0m\n\u001b[1;32m---> 11\u001b[1;33m \u001b[0mplay\u001b[0m\u001b[1;33m(\u001b[0m\u001b[0msong\u001b[0m\u001b[1;33m)\u001b[0m\u001b[1;33m\u001b[0m\u001b[0m\n\u001b[0m",
      "\u001b[1;32m~\\Anaconda3\\lib\\site-packages\\pydub\\playback.py\u001b[0m in \u001b[0;36mplay\u001b[1;34m(audio_segment)\u001b[0m\n\u001b[0;32m     42\u001b[0m     \u001b[1;32mtry\u001b[0m\u001b[1;33m:\u001b[0m\u001b[1;33m\u001b[0m\u001b[0m\n\u001b[0;32m     43\u001b[0m         \u001b[1;32mimport\u001b[0m \u001b[0mpyaudio\u001b[0m\u001b[1;33m\u001b[0m\u001b[0m\n\u001b[1;32m---> 44\u001b[1;33m         \u001b[0m_play_with_pyaudio\u001b[0m\u001b[1;33m(\u001b[0m\u001b[0maudio_segment\u001b[0m\u001b[1;33m)\u001b[0m\u001b[1;33m\u001b[0m\u001b[0m\n\u001b[0m\u001b[0;32m     45\u001b[0m     \u001b[1;32mexcept\u001b[0m \u001b[0mImportError\u001b[0m\u001b[1;33m:\u001b[0m\u001b[1;33m\u001b[0m\u001b[0m\n\u001b[0;32m     46\u001b[0m         \u001b[0m_play_with_ffplay\u001b[0m\u001b[1;33m(\u001b[0m\u001b[0maudio_segment\u001b[0m\u001b[1;33m)\u001b[0m\u001b[1;33m\u001b[0m\u001b[0m\n",
      "\u001b[1;32m~\\Anaconda3\\lib\\site-packages\\pydub\\playback.py\u001b[0m in \u001b[0;36m_play_with_pyaudio\u001b[1;34m(seg)\u001b[0m\n\u001b[0;32m     31\u001b[0m     \u001b[1;31m# break audio into half-second chunks (to allows keyboard interrupts)\u001b[0m\u001b[1;33m\u001b[0m\u001b[1;33m\u001b[0m\u001b[0m\n\u001b[0;32m     32\u001b[0m     \u001b[1;32mfor\u001b[0m \u001b[0mchunk\u001b[0m \u001b[1;32min\u001b[0m \u001b[0mmake_chunks\u001b[0m\u001b[1;33m(\u001b[0m\u001b[0mseg\u001b[0m\u001b[1;33m,\u001b[0m \u001b[1;36m500\u001b[0m\u001b[1;33m)\u001b[0m\u001b[1;33m:\u001b[0m\u001b[1;33m\u001b[0m\u001b[0m\n\u001b[1;32m---> 33\u001b[1;33m         \u001b[0mstream\u001b[0m\u001b[1;33m.\u001b[0m\u001b[0mwrite\u001b[0m\u001b[1;33m(\u001b[0m\u001b[0mchunk\u001b[0m\u001b[1;33m.\u001b[0m\u001b[0m_data\u001b[0m\u001b[1;33m)\u001b[0m\u001b[1;33m\u001b[0m\u001b[0m\n\u001b[0m\u001b[0;32m     34\u001b[0m \u001b[1;33m\u001b[0m\u001b[0m\n\u001b[0;32m     35\u001b[0m     \u001b[0mstream\u001b[0m\u001b[1;33m.\u001b[0m\u001b[0mstop_stream\u001b[0m\u001b[1;33m(\u001b[0m\u001b[1;33m)\u001b[0m\u001b[1;33m\u001b[0m\u001b[0m\n",
      "\u001b[1;32m~\\Anaconda3\\lib\\site-packages\\pyaudio.py\u001b[0m in \u001b[0;36mwrite\u001b[1;34m(self, frames, num_frames, exception_on_underflow)\u001b[0m\n\u001b[0;32m    584\u001b[0m \u001b[1;33m\u001b[0m\u001b[0m\n\u001b[0;32m    585\u001b[0m         pa.write_stream(self._stream, frames, num_frames,\n\u001b[1;32m--> 586\u001b[1;33m                         exception_on_underflow)\n\u001b[0m\u001b[0;32m    587\u001b[0m \u001b[1;33m\u001b[0m\u001b[0m\n\u001b[0;32m    588\u001b[0m \u001b[1;33m\u001b[0m\u001b[0m\n",
      "\u001b[1;31mKeyboardInterrupt\u001b[0m: "
     ]
    }
   ],
   "source": [
    "from time import sleep\n",
    "from pydub import AudioSegment\n",
    "from pydub.playback import play\n",
    "\n",
    "song = AudioSegment.from_wav(\"bibibibip.wav\")\n",
    "\n",
    "for i in reversed(range(1,4)):\n",
    "    print(i)\n",
    "    sleep(1)\n",
    "\n",
    "play(song)"
   ]
  },
  {
   "cell_type": "code",
   "execution_count": 23,
   "metadata": {},
   "outputs": [
    {
     "name": "stdout",
     "output_type": "stream",
     "text": [
      "Mahir\n",
      "my\n",
      "name\n",
      "is\n"
     ]
    }
   ],
   "source": [
    "ozelIsimler = ['Fuat', 'Can', 'Mahir']\n",
    "kelimeler = 'my name is mahir'.split()\n",
    "\n",
    "for kelime in kelimeler:\n",
    "    if kelime ...:\n",
    "        print(kelime.capitalize())\n",
    "        sleep(1)\n",
    "    else:\n",
    "        print(kelime)\n",
    "        sleep(1)"
   ]
  },
  {
   "cell_type": "code",
   "execution_count": 24,
   "metadata": {},
   "outputs": [
    {
     "name": "stdout",
     "output_type": "stream",
     "text": [
      "Mahir\n",
      "my\n",
      "name\n",
      "is\n"
     ]
    }
   ],
   "source": [
    "def kelime_isleme(kelime):\n",
    "    if kelime == 'mahir':\n",
    "        print(kelime.capitalize())\n",
    "    else:\n",
    "        print(kelime)\n",
    "for isim in kelimeler:\n",
    "    kelime_isleme(isim)\n",
    "    sleep(1)"
   ]
  },
  {
   "cell_type": "markdown",
   "metadata": {},
   "source": [
    "## While Döngüleri"
   ]
  },
  {
   "cell_type": "code",
   "execution_count": 25,
   "metadata": {},
   "outputs": [
    {
     "name": "stdout",
     "output_type": "stream",
     "text": [
      "1\n",
      "2\n",
      "3\n",
      "4\n",
      "5\n",
      "6\n",
      "7\n",
      "8\n",
      "9\n",
      "10\n"
     ]
    }
   ],
   "source": [
    "sayac = 1\n",
    "while sayac <= 10:\n",
    "    print(sayac)\n",
    "    sayac = sayac + 1"
   ]
  },
  {
   "cell_type": "code",
   "execution_count": 25,
   "metadata": {},
   "outputs": [
    {
     "name": "stdout",
     "output_type": "stream",
     "text": [
      "1\n",
      "2\n",
      "3\n",
      "4\n",
      "5\n",
      "6\n",
      "7\n",
      "8\n",
      "9\n",
      "10\n"
     ]
    }
   ],
   "source": [
    "counter = 1\n",
    "while counter <= 10:\n",
    "    print(counter)\n",
    "    counter += 1"
   ]
  },
  {
   "cell_type": "code",
   "execution_count": 26,
   "metadata": {},
   "outputs": [
    {
     "name": "stdout",
     "output_type": "stream",
     "text": [
      "10\n",
      "9\n",
      "8\n",
      "7\n",
      "6\n",
      "5\n",
      "4\n",
      "3\n",
      "2\n",
      "1\n",
      "0\n"
     ]
    }
   ],
   "source": [
    "counter = 10\n",
    "while counter >= 0:\n",
    "    print(counter)\n",
    "    counter += -1"
   ]
  },
  {
   "cell_type": "code",
   "execution_count": null,
   "metadata": {},
   "outputs": [],
   "source": [
    "kalan_saniye = 10\n",
    "\n",
    "while ...:\n",
    "    # kalan saniyeyi yazdır\n",
    "    print(\"patlamaya %s saniye\" % kalan_saniye)\n",
    "    # 1 sn bekle (ipucu: sleep)\n",
    "    ...\n",
    "    # kalan saniyeyi 1 düşür\n",
    "    ...\n",
    "print(\"guuuuum!\")"
   ]
  },
  {
   "cell_type": "code",
   "execution_count": null,
   "metadata": {},
   "outputs": [],
   "source": [
    "from random import randint\n",
    "# yaprak sayısı 15 ile 22 arası olan rastgele papatya üret\n",
    "yaprak_sayisi = ...\n",
    "son_durum = 'seviyor'\n",
    "\n",
    "while ...:\n",
    "    print(son_durum)\n",
    "    # son_durumu tersine çevir: seviyorsa sevmiyor yap, aksi taktirde seviyor yap\n",
    "    ...\n",
    "    # yaprak sayısını 1 azalt\n",
    "    ...\n",
    "    sleep(.5)      \n",
    "        "
   ]
  },
  {
   "cell_type": "code",
   "execution_count": null,
   "metadata": {},
   "outputs": [],
   "source": [
    "from random import randint\n",
    "yar = input('Yarinizin ismini giriniz: ')\n",
    "\n",
    "# yukarıdaki kodun aynısı\n",
    "...\n",
    "\n",
    "# Durum değerlendirmesi\n",
    "# Seviyorsa bir şey, sevmiyorsa başka bir şey yazdır\n"
   ]
  },
  {
   "cell_type": "code",
   "execution_count": null,
   "metadata": {},
   "outputs": [],
   "source": [
    "from random import randint, SystemRandom\n",
    "\n",
    "\n",
    "sevmiyor_listesi = ['yok be %s sana bakmaz', 'hadi be ordan', \"lan porsche'u var diyorum\", 'cok da sey etme']\n",
    "seviyor_listesi  = ['çok da şey etme, papatya falı sonuçta', 'kullanıp atar o seni, salma kendini', 'bak versacesi yok diyorum',\n",
    "                   \"porsche'u ikinci el diyorlar\"]\n",
    "# Aynı\n",
    "...\n",
    "\n",
    "# Durum değerlendirmesi\n",
    "if son_durum != 'seviyor':\n",
    "    print(choice(seviyor_listesi))\n",
    "else:\n",
    "    print(choice(sevmiyor_listesi))"
   ]
  },
  {
   "cell_type": "code",
   "execution_count": null,
   "metadata": {},
   "outputs": [],
   "source": [
    "from random import randint, SystemRandom\n",
    "secure_random = SystemRandom()\n",
    "\n",
    "sevmiyor_listesi = ['yok be %s sana bakmaz', 'hadi be ordan', \"lan porsche'u var diyorum\", 'cok da sey etme']\n",
    "seviyor_listesi  = ['çok da şey etme, papatya falı sonuçta', 'kullanıp atar o seni, salma kendini', 'bak versacesi yok diyorum',\n",
    "                   \"porsche'u ikinci el diyorlar\"]\n",
    "\n",
    "from random import randint, choice\n",
    "yaprak_sayisi = randint(15,22)\n",
    "son_durum = 'seviyor'\n",
    "yar = input('Yarinizin ismini giriniz: ')\n",
    "\n",
    "# Papatya falı\n",
    "while yaprak_sayisi >= 0:\n",
    "    print(son_durum)\n",
    "    if son_durum == 'seviyor':\n",
    "        son_durum = 'sevmiyor'\n",
    "    else:\n",
    "        son_durum = 'seviyor'\n",
    "    yaprak_sayisi -= 1\n",
    "    sleep(.5)      \n",
    "\n",
    "# Durum değerlendirmesi\n",
    "if son_durum != 'seviyor':\n",
    "    cevap = secure_random.choice(seviyor_listesi)\n",
    "    if '%s' in cevap:\n",
    "        print(cevap % yar)\n",
    "    else:\n",
    "        print(cevap)\n",
    "else:\n",
    "    cevap = secure_random.choice(sevmiyor_listesi)\n",
    "    if '%s' in cevap:\n",
    "        print(cevap % yar)\n",
    "    else:\n",
    "        print(cevap)\n"
   ]
  },
  {
   "cell_type": "markdown",
   "metadata": {},
   "source": [
    "## Break ve Continue "
   ]
  },
  {
   "cell_type": "code",
   "execution_count": null,
   "metadata": {},
   "outputs": [],
   "source": []
  },
  {
   "cell_type": "code",
   "execution_count": 59,
   "metadata": {},
   "outputs": [
    {
     "name": "stdout",
     "output_type": "stream",
     "text": [
      "Sayıyı giriniz: 3\n",
      "9.0\n",
      "Sayıyı giriniz: Tamam\n"
     ]
    }
   ],
   "source": [
    "while True:\n",
    "    sayi = input('Sayıyı giriniz: ')\n",
    "    if sayi == 'Tamam':\n",
    "        break\n",
    "    else:\n",
    "        print(float(sayi) ** 2)"
   ]
  },
  {
   "cell_type": "code",
   "execution_count": null,
   "metadata": {},
   "outputs": [],
   "source": []
  }
 ],
 "metadata": {
  "kernelspec": {
   "display_name": "Python 3",
   "language": "python",
   "name": "python3"
  },
  "language_info": {
   "codemirror_mode": {
    "name": "ipython",
    "version": 3
   },
   "file_extension": ".py",
   "mimetype": "text/x-python",
   "name": "python",
   "nbconvert_exporter": "python",
   "pygments_lexer": "ipython3",
   "version": "3.6.5"
  }
 },
 "nbformat": 4,
 "nbformat_minor": 2
}
