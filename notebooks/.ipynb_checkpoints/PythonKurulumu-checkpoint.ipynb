{
 "cells": [
  {
   "cell_type": "markdown",
   "metadata": {},
   "source": [
    "# Python Kurulumu"
   ]
  },
  {
   "cell_type": "markdown",
   "metadata": {},
   "source": [
    "## Ubuntu\n",
    "Ubuntu'da Python 2 ve 3 default olarak yüklü gelse de kullanıcının tercihlerine göre ayarlar yapmak gerekiyor. Daha özelinde konuşmak gerekirse Python yazmaya başlamadan önce ihtiyacımız olan:\n",
    "1. Default Python olarak 2 yerine 3 ayarı\n",
    "2. Paket yönetim sistemi (pip) kurulumu\n",
    "3. Default pip olarak 2 yerine 3 ayarı\n",
    "için küçük bir kalibrasyon gerekmekte."
   ]
  },
  {
   "cell_type": "markdown",
   "metadata": {},
   "source": [
    "Python 3 kullanıyor olacağımız için bilgisayarın da python çağırıldığında Python 3'e referans vermesi gerekiyor ancak Ubuntu'da default Python 2 olarak ayarlı: "
   ]
  },
  {
   "cell_type": "markdown",
   "metadata": {},
   "source": [
    "![](defaultpython.png)"
   ]
  },
  {
   "cell_type": "markdown",
   "metadata": {},
   "source": [
    "Bunun için terminal ekranını açın ve en sevdiğiniz text uygulamasını kullanarak ~/.bashrc dosyasına gerekli satırları ekleyin:"
   ]
  },
  {
   "cell_type": "markdown",
   "metadata": {},
   "source": [
    "`vi ~/.bashrc`\n",
    "ya da \n",
    "`nano ~/.bashrc`"
   ]
  },
  {
   "cell_type": "markdown",
   "metadata": {},
   "source": [
    "komutu dosyayı açacaktır. Dosyanın en altına inip"
   ]
  },
  {
   "cell_type": "markdown",
   "metadata": {},
   "source": [
    "`alias python = 'python3'`"
   ]
  },
  {
   "cell_type": "markdown",
   "metadata": {},
   "source": [
    "yazın ve bu dosyayı _source_ komutu ile okutun:"
   ]
  },
  {
   "cell_type": "markdown",
   "metadata": {},
   "source": [
    "`source ~/.bashrc`"
   ]
  },
  {
   "cell_type": "markdown",
   "metadata": {},
   "source": [
    "![](defaultpython3.png)"
   ]
  },
  {
   "cell_type": "markdown",
   "metadata": {},
   "source": [
    "![](defaultpython_sourced.png)"
   ]
  }
 ],
 "metadata": {
  "kernelspec": {
   "display_name": "Python 3",
   "language": "python",
   "name": "python3"
  },
  "language_info": {
   "codemirror_mode": {
    "name": "ipython",
    "version": 3
   },
   "file_extension": ".py",
   "mimetype": "text/x-python",
   "name": "python",
   "nbconvert_exporter": "python",
   "pygments_lexer": "ipython3",
   "version": "3.6.5"
  }
 },
 "nbformat": 4,
 "nbformat_minor": 2
}
