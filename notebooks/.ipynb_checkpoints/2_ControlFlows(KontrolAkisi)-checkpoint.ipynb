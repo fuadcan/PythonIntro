{
 "cells": [
  {
   "cell_type": "markdown",
   "metadata": {},
   "source": [
    "# Mantıksal Operasyonlar"
   ]
  },
  {
   "cell_type": "markdown",
   "metadata": {},
   "source": [
    "## Boolean Değerler"
   ]
  },
  {
   "cell_type": "code",
   "execution_count": 3,
   "metadata": {},
   "outputs": [
    {
     "data": {
      "text/plain": [
       "3"
      ]
     },
     "execution_count": 3,
     "metadata": {},
     "output_type": "execute_result"
    }
   ],
   "source": [
    "x = 3 # tek eşitlik işareti tanım için kullanılır\n",
    "x"
   ]
  },
  {
   "cell_type": "code",
   "execution_count": 4,
   "metadata": {},
   "outputs": [
    {
     "ename": "NameError",
     "evalue": "name 'y' is not defined",
     "output_type": "error",
     "traceback": [
      "\u001b[0;31m---------------------------------------------------------------------------\u001b[0m",
      "\u001b[0;31mNameError\u001b[0m                                 Traceback (most recent call last)",
      "\u001b[0;32m<ipython-input-4-68bc9b399a47>\u001b[0m in \u001b[0;36m<module>\u001b[0;34m()\u001b[0m\n\u001b[0;32m----> 1\u001b[0;31m \u001b[0my\u001b[0m \u001b[0;34m==\u001b[0m \u001b[0;36m3\u001b[0m\u001b[0;34m\u001b[0m\u001b[0m\n\u001b[0m",
      "\u001b[0;31mNameError\u001b[0m: name 'y' is not defined"
     ]
    }
   ],
   "source": [
    "y == 3"
   ]
  },
  {
   "cell_type": "code",
   "execution_count": 30,
   "metadata": {},
   "outputs": [
    {
     "data": {
      "text/plain": [
       "True"
      ]
     },
     "execution_count": 30,
     "metadata": {},
     "output_type": "execute_result"
    }
   ],
   "source": [
    "x == 3"
   ]
  },
  {
   "cell_type": "code",
   "execution_count": 31,
   "metadata": {},
   "outputs": [
    {
     "data": {
      "text/plain": [
       "bool"
      ]
     },
     "execution_count": 31,
     "metadata": {},
     "output_type": "execute_result"
    }
   ],
   "source": [
    "type(x==3)"
   ]
  },
  {
   "cell_type": "code",
   "execution_count": 6,
   "metadata": {},
   "outputs": [
    {
     "data": {
      "text/plain": [
       "False"
      ]
     },
     "execution_count": 6,
     "metadata": {},
     "output_type": "execute_result"
    }
   ],
   "source": [
    "x == 4"
   ]
  },
  {
   "cell_type": "code",
   "execution_count": 7,
   "metadata": {},
   "outputs": [
    {
     "data": {
      "text/plain": [
       "False"
      ]
     },
     "execution_count": 7,
     "metadata": {},
     "output_type": "execute_result"
    }
   ],
   "source": [
    "x > 3"
   ]
  },
  {
   "cell_type": "code",
   "execution_count": 8,
   "metadata": {},
   "outputs": [
    {
     "data": {
      "text/plain": [
       "True"
      ]
     },
     "execution_count": 8,
     "metadata": {},
     "output_type": "execute_result"
    }
   ],
   "source": [
    "x > 2"
   ]
  },
  {
   "cell_type": "code",
   "execution_count": 9,
   "metadata": {},
   "outputs": [
    {
     "data": {
      "text/plain": [
       "True"
      ]
     },
     "execution_count": 9,
     "metadata": {},
     "output_type": "execute_result"
    }
   ],
   "source": [
    "x >= 3"
   ]
  },
  {
   "cell_type": "code",
   "execution_count": 13,
   "metadata": {},
   "outputs": [],
   "source": [
    "katil = 'adnan'"
   ]
  },
  {
   "cell_type": "code",
   "execution_count": 14,
   "metadata": {},
   "outputs": [
    {
     "data": {
      "text/plain": [
       "False"
      ]
     },
     "execution_count": 14,
     "metadata": {},
     "output_type": "execute_result"
    }
   ],
   "source": [
    "katil == 'cumali'"
   ]
  },
  {
   "cell_type": "code",
   "execution_count": 32,
   "metadata": {},
   "outputs": [
    {
     "data": {
      "text/plain": [
       "False"
      ]
     },
     "execution_count": 32,
     "metadata": {},
     "output_type": "execute_result"
    }
   ],
   "source": [
    "katil is 'cumali'"
   ]
  },
  {
   "cell_type": "code",
   "execution_count": 34,
   "metadata": {},
   "outputs": [
    {
     "data": {
      "text/plain": [
       "True"
      ]
     },
     "execution_count": 34,
     "metadata": {},
     "output_type": "execute_result"
    }
   ],
   "source": [
    "katil is not 'cumali'"
   ]
  },
  {
   "cell_type": "code",
   "execution_count": 16,
   "metadata": {},
   "outputs": [
    {
     "name": "stdout",
     "output_type": "stream",
     "text": [
      "o zamaaan katiiil adnan!! Di mi ???\n"
     ]
    }
   ],
   "source": [
    "print('o zamaaan katiiil %s!! Di mi ???' % 'adnan')"
   ]
  },
  {
   "cell_type": "code",
   "execution_count": 24,
   "metadata": {},
   "outputs": [
    {
     "name": "stdout",
     "output_type": "stream",
     "text": [
      "o zamaaan katiiil adnan!! Di mi ??? \n",
      "True\n"
     ]
    }
   ],
   "source": [
    "print('o zamaaan katiiil %s!! Di mi ??? \\n%s' % ('tüleyman', katil == 'tüleyman'))"
   ]
  },
  {
   "cell_type": "code",
   "execution_count": 49,
   "metadata": {},
   "outputs": [
    {
     "name": "stdout",
     "output_type": "stream",
     "text": [
      "Salim: o zamaaan katiiil tüleyman!! Di mi ???\n",
      "Ceyson: False\n",
      "Salim: Vatandajj Türkçe konuş!\n"
     ]
    }
   ],
   "source": [
    "tahmin = 'tüleyman'\n",
    "soru = 'o zamaaan katiiil %s!! Di mi ???' % tahmin\n",
    "cevap = katil == tahmin\n",
    "tepki = 'Vatandajj Türkçe konuş!'\n",
    "print('Salim:', soru)#\n",
    "print('Ceyson:', cevap)\n",
    "print('Salim:', tepki)\n"
   ]
  },
  {
   "cell_type": "markdown",
   "metadata": {},
   "source": [
    "### And ile Or "
   ]
  },
  {
   "cell_type": "code",
   "execution_count": 38,
   "metadata": {},
   "outputs": [
    {
     "data": {
      "text/plain": [
       "False"
      ]
     },
     "execution_count": 38,
     "metadata": {},
     "output_type": "execute_result"
    }
   ],
   "source": [
    "# Olgu: Adnan Tülay'ı Kazım beyin azmettirmesi sonucu öldürmüştür\n",
    "katil = 'Adnan'\n",
    "azmettirici = 'Kazım'\n",
    "\n",
    "katil == 'Adnan' and katil == 'Kazım'"
   ]
  },
  {
   "cell_type": "code",
   "execution_count": 39,
   "metadata": {},
   "outputs": [
    {
     "data": {
      "text/plain": [
       "True"
      ]
     },
     "execution_count": 39,
     "metadata": {},
     "output_type": "execute_result"
    }
   ],
   "source": [
    "katil == 'Adnan' or katil == 'Kazım'"
   ]
  },
  {
   "cell_type": "code",
   "execution_count": 45,
   "metadata": {},
   "outputs": [
    {
     "name": "stdout",
     "output_type": "stream",
     "text": [
      "True\n",
      "False\n",
      "False\n",
      "False\n"
     ]
    }
   ],
   "source": [
    "print(katil == 'Adnan' and azmettirici == 'Kazım')\n",
    "print(katil == 'Adnan' and azmettirici == 'Tülay')\n",
    "print(katil == 'Tülay' and azmettirici == 'Kazım')\n",
    "print(katil == 'Tülay' and azmettirici == 'Adnan')"
   ]
  },
  {
   "cell_type": "code",
   "execution_count": 46,
   "metadata": {},
   "outputs": [
    {
     "name": "stdout",
     "output_type": "stream",
     "text": [
      "True\n",
      "True\n",
      "True\n",
      "False\n"
     ]
    }
   ],
   "source": [
    "print(katil == 'Adnan' or azmettirici == 'Kazım')\n",
    "print(katil == 'Adnan' or azmettirici == 'Tülay')\n",
    "print(katil == 'Tülay' or azmettirici == 'Kazım')\n",
    "print(katil == 'Tülay' or azmettirici == 'Adnan')"
   ]
  },
  {
   "cell_type": "markdown",
   "metadata": {},
   "source": [
    "## If fonksiyonu "
   ]
  },
  {
   "cell_type": "code",
   "execution_count": 53,
   "metadata": {},
   "outputs": [
    {
     "name": "stdout",
     "output_type": "stream",
     "text": [
      "Hediye: Kaşağı\n"
     ]
    }
   ],
   "source": [
    "param = 200\n",
    "if param <= 200:\n",
    "    print('Hediye: Kaşağı')\n",
    "else:\n",
    "    print('Hediye: Bak aşkım senin için bugün kendime ne aldım!')    "
   ]
  },
  {
   "cell_type": "code",
   "execution_count": 54,
   "metadata": {},
   "outputs": [
    {
     "name": "stdout",
     "output_type": "stream",
     "text": [
      "Hediye: Lağımcı botunun çiçeklisi\n"
     ]
    }
   ],
   "source": [
    "param = 200\n",
    "if param < 100:\n",
    "    print('Hediye: Kaşağı')\n",
    "elif param >= 100 and param < 500:\n",
    "    print('Hediye: Lağımcı botunun çiçeklisi')\n",
    "else:\n",
    "    print('Ayy boşver o herifi, bir Versacesi bile yok')"
   ]
  },
  {
   "cell_type": "code",
   "execution_count": 47,
   "metadata": {},
   "outputs": [
    {
     "name": "stdout",
     "output_type": "stream",
     "text": [
      "Adnan yapmaz öyle şey\n"
     ]
    }
   ],
   "source": [
    "# Olgu: Adnan Tülay'ı Kazım beyin azmettirmesi sonucu öldürmüştür\n",
    "katil = 'Adnan'\n",
    "azmettirici = 'Kazım'\n",
    "\n",
    "if katil == 'Adnan':\n",
    "    print('Adnan yapmaz öyle şey')\n",
    "else:\n",
    "    print('Siz yine de Adnana bakın derim')"
   ]
  },
  {
   "cell_type": "code",
   "execution_count": 48,
   "metadata": {},
   "outputs": [
    {
     "name": "stdout",
     "output_type": "stream",
     "text": [
      "Kadın da çok şeymiş diyorlar\n"
     ]
    }
   ],
   "source": [
    "# Durum: Fazla karışık\n",
    "\n",
    "if katil == 'Adnan' and azmettirici == 'Kazım':\n",
    "    print('Kadın da çok şeymiş diyorlar')\n",
    "elif katil == 'Adnan' and azmettirici == 'Tülay':\n",
    "    print('Adam haklı, tahrik var')\n",
    "elif katil == 'Tülay' and azmettirici == 'Kazım':\n",
    "    print('Yazık lan')\n",
    "else:\n",
    "    print('Amaaan boşver')"
   ]
  },
  {
   "cell_type": "code",
   "execution_count": 55,
   "metadata": {},
   "outputs": [
    {
     "name": "stdout",
     "output_type": "stream",
     "text": [
      "True\n",
      "True\n"
     ]
    }
   ],
   "source": [
    "# Olgu: Adnan Mümtazla el ele Tülayı öldürmüştür\n",
    "katil = 'Adnan ve Mümtaz'\n",
    "print('Adnan' in katil)\n",
    "print('Mümtaz' in katil)"
   ]
  }
 ],
 "metadata": {
  "kernelspec": {
   "display_name": "Python 3",
   "language": "python",
   "name": "python3"
  },
  "language_info": {
   "codemirror_mode": {
    "name": "ipython",
    "version": 3
   },
   "file_extension": ".py",
   "mimetype": "text/x-python",
   "name": "python",
   "nbconvert_exporter": "python",
   "pygments_lexer": "ipython3",
   "version": "3.6.5"
  }
 },
 "nbformat": 4,
 "nbformat_minor": 2
}
