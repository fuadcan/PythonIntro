{
 "cells": [
  {
   "cell_type": "code",
   "execution_count": 2,
   "metadata": {},
   "outputs": [
    {
     "ename": "NameError",
     "evalue": "name 'pygame' is not defined",
     "output_type": "error",
     "traceback": [
      "\u001b[0;31m---------------------------------------------------------------------------\u001b[0m",
      "\u001b[0;31mNameError\u001b[0m                                 Traceback (most recent call last)",
      "\u001b[0;32m<ipython-input-2-cf4eb614cfd4>\u001b[0m in \u001b[0;36m<module>\u001b[0;34m()\u001b[0m\n\u001b[1;32m      8\u001b[0m \u001b[0;31m# pygame.init()\u001b[0m\u001b[0;34m\u001b[0m\u001b[0;34m\u001b[0m\u001b[0m\n\u001b[1;32m      9\u001b[0m \u001b[0;34m\u001b[0m\u001b[0m\n\u001b[0;32m---> 10\u001b[0;31m \u001b[0mpygame\u001b[0m\u001b[0;34m.\u001b[0m\u001b[0mmixer\u001b[0m\u001b[0;34m.\u001b[0m\u001b[0mmusic\u001b[0m\u001b[0;34m.\u001b[0m\u001b[0mload\u001b[0m\u001b[0;34m(\u001b[0m\u001b[0mmusic_path\u001b[0m \u001b[0;34m+\u001b[0m \u001b[0;34m'/'\u001b[0m \u001b[0;34m+\u001b[0m \u001b[0;34m'03 - Expect The Unexpected.mp3'\u001b[0m\u001b[0;34m)\u001b[0m\u001b[0;34m\u001b[0m\u001b[0m\n\u001b[0m\u001b[1;32m     11\u001b[0m \u001b[0mpygame\u001b[0m\u001b[0;34m.\u001b[0m\u001b[0mmixer\u001b[0m\u001b[0;34m.\u001b[0m\u001b[0mmusic\u001b[0m\u001b[0;34m.\u001b[0m\u001b[0mplay\u001b[0m\u001b[0;34m(\u001b[0m\u001b[0;34m)\u001b[0m\u001b[0;34m\u001b[0m\u001b[0m\n\u001b[1;32m     12\u001b[0m \u001b[0mpygame\u001b[0m\u001b[0;34m.\u001b[0m\u001b[0mevent\u001b[0m\u001b[0;34m.\u001b[0m\u001b[0mwait\u001b[0m\u001b[0;34m(\u001b[0m\u001b[0;34m)\u001b[0m\u001b[0;34m\u001b[0m\u001b[0m\n",
      "\u001b[0;31mNameError\u001b[0m: name 'pygame' is not defined"
     ]
    }
   ],
   "source": [
    "# from pygame import mixer # Load the required library\n",
    "\n",
    "music_path = '/media/ludwig/New Volume/Müzik/Müzik/Control Denied/The Fragile Art Of Existence'\n",
    "# mixer.init()\n",
    "# mixer.music.load(music_path + '/' + '03 - Expect The Unexpected.mp3')\n",
    "# mixer.music.play()\n",
    "import pygame\n",
    "pygame.init()\n",
    "\n",
    "pygame.mixer.music.load(music_path + '/' + '03 - Expect The Unexpected.mp3')\n",
    "pygame.mixer.music.play()\n",
    "pygame.event.wait()"
   ]
  },
  {
   "cell_type": "code",
   "execution_count": 4,
   "metadata": {},
   "outputs": [
    {
     "ename": "NameError",
     "evalue": "name 'windll' is not defined",
     "output_type": "error",
     "traceback": [
      "\u001b[0;31m---------------------------------------------------------------------------\u001b[0m",
      "\u001b[0;31mNameError\u001b[0m                                 Traceback (most recent call last)",
      "\u001b[0;32m<ipython-input-4-b351c35b7460>\u001b[0m in \u001b[0;36m<module>\u001b[0;34m()\u001b[0m\n\u001b[1;32m      7\u001b[0m \u001b[0;32mfrom\u001b[0m \u001b[0mctypes\u001b[0m \u001b[0;32mimport\u001b[0m \u001b[0;34m*\u001b[0m\u001b[0;34m;\u001b[0m\u001b[0;34m\u001b[0m\u001b[0m\n\u001b[1;32m      8\u001b[0m \u001b[0;34m\u001b[0m\u001b[0m\n\u001b[0;32m----> 9\u001b[0;31m \u001b[0mwinmm\u001b[0m \u001b[0;34m=\u001b[0m \u001b[0mwindll\u001b[0m\u001b[0;34m.\u001b[0m\u001b[0mwinmm\u001b[0m\u001b[0;34m\u001b[0m\u001b[0m\n\u001b[0m\u001b[1;32m     10\u001b[0m \u001b[0;34m\u001b[0m\u001b[0m\n\u001b[1;32m     11\u001b[0m \u001b[0;32mdef\u001b[0m \u001b[0mmciSend\u001b[0m\u001b[0;34m(\u001b[0m\u001b[0ms\u001b[0m\u001b[0;34m)\u001b[0m\u001b[0;34m:\u001b[0m\u001b[0;34m\u001b[0m\u001b[0m\n",
      "\u001b[0;31mNameError\u001b[0m: name 'windll' is not defined"
     ]
    }
   ],
   "source": [
    "# Copyright (c) 2011 by James K. Lawless\n",
    "# jimbo@radiks.net http://www.mailsend-online.com\n",
    "# License: MIT / X11\n",
    "# See: http://www.mailsend-online.com/license.php\n",
    "# for full license details.\n",
    " \n",
    "from ctypes import *;\n",
    " \n",
    "winmm = windll.winmm\n",
    " \n",
    "def mciSend(s):\n",
    "    i = winmm.mciSendStringA(s,0,0,0)\n",
    "    if i!=0:\n",
    "        print(\"Error %d in mciSendString %s\" % ( i, s ))\n",
    " \n",
    "def playMP3(mp3Name):\n",
    "    mciSend(\"Close All\")\n",
    "    mciSend(\"Open \\\"%s\\\" Type MPEGVideo Alias theMP3\" % mp3Name)\n",
    "    mciSend(\"Play theMP3 Wait\")\n",
    "    mciSend(\"Close theMP3\")\n",
    " \n",
    "playMP3(\"test.mp3\")"
   ]
  },
  {
   "cell_type": "code",
   "execution_count": 1,
   "metadata": {},
   "outputs": [],
   "source": [
    "import vlc\n",
    "music_path = '/media/ludwig/New Volume/Müzik/Müzik/Control Denied/The Fragile Art Of Existence'\n",
    "player     = vlc.MediaPlayer(music_path + '/' + '03 - Expect The Unexpected.mp3')"
   ]
  },
  {
   "cell_type": "code",
   "execution_count": 3,
   "metadata": {},
   "outputs": [],
   "source": [
    "player.play()\n",
    "player.stop()\n"
   ]
  },
  {
   "cell_type": "markdown",
   "metadata": {},
   "source": [
    " "
   ]
  }
 ],
 "metadata": {
  "kernelspec": {
   "display_name": "Python 3",
   "language": "python",
   "name": "python3"
  },
  "language_info": {
   "codemirror_mode": {
    "name": "ipython",
    "version": 3
   },
   "file_extension": ".py",
   "mimetype": "text/x-python",
   "name": "python",
   "nbconvert_exporter": "python",
   "pygments_lexer": "ipython3",
   "version": "3.6.5"
  }
 },
 "nbformat": 4,
 "nbformat_minor": 2
}
