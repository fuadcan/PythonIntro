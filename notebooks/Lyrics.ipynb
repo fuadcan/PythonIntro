{
 "cells": [
  {
   "cell_type": "code",
   "execution_count": 2,
   "metadata": {},
   "outputs": [],
   "source": [
    "import requests,re,bs4\n",
    "import sqlite3"
   ]
  },
  {
   "cell_type": "code",
   "execution_count": 153,
   "metadata": {},
   "outputs": [],
   "source": [
    "url = \"http://www.darklyrics.com/lyrics/haken/visions.html\"\n",
    "html = requests.get(url)\n",
    "soup = bs4.BeautifulSoup(html.content,'html.parser')"
   ]
  },
  {
   "cell_type": "code",
   "execution_count": 154,
   "metadata": {},
   "outputs": [
    {
     "data": {
      "text/plain": [
       "['Haken', 'Visions', 2011]"
      ]
     },
     "execution_count": 154,
     "metadata": {},
     "output_type": "execute_result"
    }
   ],
   "source": [
    "metainfo    = [soup.find('h1').text,soup.find('h2').text]\n",
    "metainfo[0] = metainfo[0].replace(' LYRICS','').capitalize()\n",
    "metainfo.append(int(re.findall('\\(([0-9]{4})\\)',metainfo[1])[0]))\n",
    "metainfo[1] = re.search('\"(.*)\"',metainfo[1]).groups()[0]\n",
    "metainfo"
   ]
  },
  {
   "cell_type": "code",
   "execution_count": 155,
   "metadata": {},
   "outputs": [],
   "source": [
    "lyrics     = soup.find('div', class_='lyrics')\n",
    "tagnames   = [child.name for child in list(lyrics.children)]\n",
    "begins     = [i for i,x in enumerate(tagnames) if x=='h3']\n",
    "ends       = [i-1 for i in begins][1:] + [len(tagnames)]"
   ]
  },
  {
   "cell_type": "code",
   "execution_count": 156,
   "metadata": {},
   "outputs": [],
   "source": [
    "class song(object):\n",
    "    def __init__(self, name,lyrics,artist,genre,album,year):\n",
    "        self.name   = name\n",
    "        self.lyrics = lyrics\n",
    "        self.artist = artist\n",
    "        self.genre  = genre\n",
    "        self.album  = album\n",
    "        self.year   = year"
   ]
  },
  {
   "cell_type": "code",
   "execution_count": 234,
   "metadata": {
    "scrolled": true
   },
   "outputs": [
    {
     "name": "stdout",
     "output_type": "stream",
     "text": [
      "\n",
      "No disturbance could wake me \n",
      "Observers are captivated \n",
      "By nocturnal projections \n",
      "Of my vivid imagination \n",
      " \n",
      "Try as I might to recall the events of the night \n",
      "Yet the deeper I hunt, the further away they run \n",
      " \n",
      "Moon rises \n",
      "I shiver, confiding in the mirror \n",
      "My ghost in the reflection \n",
      "Just witnessed the resurrection \n",
      " \n",
      "Lights flashed before my eyes \n",
      "With scenes from someone else's life! \n",
      " \n",
      "Nothing is quite as it seems \n",
      "Something died inside of me \n",
      "By powers that be \n",
      "A man will live forever \n",
      "In paranoia \n",
      " \n",
      "I believe your conspiracy \n",
      "When they're after me \n",
      "For what I revealed could change your life \n",
      " \n",
      "Scenes from someone else's life \n",
      "Have they been placed in our minds? \n",
      " \n",
      "Never have I ever taken a life \n",
      "But it seems overnight I've become a killer \n",
      "On the run 'cause... \n",
      " \n",
      "I believe your conspiracy \n",
      "When they're after me \n",
      "For what I revealed \n",
      " \n",
      "I believe your conspiracy \n",
      "When they're after me \n",
      "For what I revealed will change your life \n",
      " \n",
      "Tonight I hang by a thread \n",
      "As the voice in my head takes control \n",
      "Of this pain that I have felt before \n",
      " \n",
      "On trial my confidence weakens \n",
      "I'm close to defeat \n",
      "But tonight the verdict will be televised \n",
      " \n",
      "Calling no witnesses to the stand \n",
      "Clearing my name with no evidence \n",
      "Knowing this could be my final chance \n",
      "No one is coming to my defense \n",
      " \n",
      "Inside the truth is suppresses \n",
      "With unlimited access denied \n",
      "To all the things you wish to hide \n",
      " \n",
      "The lies, the sex and the secrets \n",
      "Will tear us to pieces in time \n",
      "When no one can tell wrong from right \n",
      " \n",
      "Calling no witnesses to the stand \n",
      "Clearing my name with no evidence \n",
      "Knowing this could be my final chance \n",
      "No one is coming to my defense \n",
      " \n",
      "Nocturnal conspiracy \n",
      "Nocturnal conspiracy \n",
      " \n",
      "\n"
     ]
    }
   ],
   "source": [
    "songnames  = [list(lyrics.children)[i].text for i in begins]\n",
    "songlyrics = [list(lyrics.children)[(x+1):(ends[i]+1)] for i,x in enumerate(begins)]\n",
    "songlyrics = [[line for line in lyric if type(line) is bs4.element.NavigableString] for lyric in songlyrics]\n",
    "songlyrics = [' '.join(lyric) for lyric in songlyrics]\n",
    "print(songlyrics[1])"
   ]
  },
  {
   "cell_type": "code",
   "execution_count": null,
   "metadata": {},
   "outputs": [],
   "source": [
    "songs = []\n",
    "for i,x in enumerate(songnames):\n",
    "    songs.append(song(x,songlyrics[i],metainfo[0],'Progressive Metal',metainfo[1],metainfo[2]))"
   ]
  },
  {
   "cell_type": "code",
   "execution_count": 163,
   "metadata": {
    "scrolled": true
   },
   "outputs": [
    {
     "data": {
      "text/plain": [
       "dict_values(['2. Nocturnal Conspiracy', \"No disturbance could wake me Observers are captivated By nocturnal projections Of my vivid imagination  Try as I might to recall the events of the night Yet the deeper I hunt, the further away they run  Moon rises I shiver, confiding in the mirror My ghost in the reflection Just witnessed the resurrection  Lights flashed before my eyes With scenes from someone else's life!  Nothing is quite as it seems Something died inside of me By powers that be A man will live forever In paranoia  I believe your conspiracy When they're after me For what I revealed could change your life  Scenes from someone else's life Have they been placed in our minds?  Never have I ever taken a life But it seems overnight I've become a killer On the run 'cause...  I believe your conspiracy When they're after me For what I revealed  I believe your conspiracy When they're after me For what I revealed will change your life  Tonight I hang by a thread As the voice in my head takes control Of this pain that I have felt before  On trial my confidence weakens I'm close to defeat But tonight the verdict will be televised  Calling no witnesses to the stand Clearing my name with no evidence Knowing this could be my final chance No one is coming to my defense  Inside the truth is suppresses With unlimited access denied To all the things you wish to hide  The lies, the sex and the secrets Will tear us to pieces in time When no one can tell wrong from right  Calling no witnesses to the stand Clearing my name with no evidence Knowing this could be my final chance No one is coming to my defense  Nocturnal conspiracy Nocturnal conspiracy  \", 'Haken', 'Progressive Metal', 'Visions', 2011])"
      ]
     },
     "execution_count": 163,
     "metadata": {},
     "output_type": "execute_result"
    }
   ],
   "source": [
    "songs[1].__dict__.values()"
   ]
  },
  {
   "cell_type": "markdown",
   "metadata": {},
   "source": [
    "## SQL'e yazma"
   ]
  },
  {
   "cell_type": "code",
   "execution_count": 217,
   "metadata": {},
   "outputs": [],
   "source": [
    "import sqlite3\n",
    "conn = sqlite3.connect('outputs/lyrics.db')\n",
    "\n",
    "conn.execute('DROP TABLE lyrics') # daha önce oluşturduğumuz tabloyu sil\n",
    "cur  = conn.cursor()\n",
    "\n",
    "cur.execute('''CREATE TABLE lyrics\n",
    "             (name TEXT, lyrics TEXT, artist TEXT, genre TEXT, album TEXT,year INTEGER)''')\n",
    "cur.execute('''CREATE UNIQUE INDEX id ON lyrics (name, artist, album)''')\n",
    "\n",
    "for s in songs:\n",
    "    # Yazma\n",
    "    cur.execute(\"INSERT INTO lyrics VALUES (?,?,?,?,?,?)\", (s.name,s.lyrics,s.artist,s.genre,s.album,s.year))\n",
    "\n",
    "conn.commit()    \n",
    "conn.close()"
   ]
  },
  {
   "cell_type": "code",
   "execution_count": 219,
   "metadata": {},
   "outputs": [],
   "source": [
    "import sqlite3\n",
    "conn = sqlite3.connect('outputs/lyrics.db')\n",
    "cur  = conn.cursor()\n",
    "\n",
    "for s in songs:\n",
    "    # Yazma\n",
    "    cur.execute(\"INSERT OR IGNORE INTO lyrics VALUES (?,?,?,?,?,?)\", (s.name,s.lyrics,s.artist,s.genre,s.album,s.year))\n",
    "\n",
    "conn.commit()    \n",
    "conn.close()"
   ]
  },
  {
   "cell_type": "markdown",
   "metadata": {},
   "source": [
    "## Album URL üretme"
   ]
  },
  {
   "cell_type": "code",
   "execution_count": 176,
   "metadata": {},
   "outputs": [
    {
     "data": {
      "text/plain": [
       "'<!DOCTYPE html PUBLIC \"-//W3C//DTD XHTML 1.0 Transitional//EN\" \"http://www.w3.org/TR/xhtml1/DTD/xhtml1-transitional.dtd\">\\n<html lang=\"en\" xml:lang=\"en\" xmlns=\"http://www.w3.org/1999/xhtml\">\\n <head>\\n  <title>\\n   DREAM THEATER lyrics\\n  </title>\\n  <meta content=\"text/html; charset=utf-8\" http-equiv=\"Content-Type\"/>\\n  <meta content=\\'DREAM THEATER lyrics - 154 song lyrics from 16 albums, including \"The Astonishing\" (2016).\\' name=\"description\"/>\\n  <meta content=\"DREAM THEATER, lyrics, discography, albums, songs\" name=\"keywords\"/>\\n  <link href=\"../dark.css\" rel=\"stylesheet\" type=\"text/css\"/>\\n  <script type=\"text/javascript\">\\n   var _gaq = _gaq || [];\\r\\n  _gaq.push([\\'_setAccount\\', \\'UA-20396473-1\\']);\\r\\n  _gaq.push([\\'_trackPageview\\']);\\r\\n\\r\\n  (function() {\\r\\n    var ga = document.createElement(\\'script\\'); ga.type = \\'text/javascript\\'; ga.async = true;\\r\\n    ga.src = (\\'https:\\' == document.location.protocol ? \\'https://ssl\\' : \\'http://www\\') + \\'.google-analytics.com/ga.js\\';\\r\\n    var s = document.getElementsByTagName(\\'script\\')[0]; s.parentNode.insertBefore(ga, s);\\r\\n  })();\\n  </script>\\n  <script src=\"http://ajax.googleapis.com/ajax/libs/jquery/1.5.2/jquery.min.js\" type=\"text/javascript\">\\n  </script>\\n  <script src=\"/as.js\" type=\"text/javascript\">\\n  </script>\\n </head>\\n <body onload=\"ss_init();\">\\n  <div id=\"main\">\\n   <div class=\"bannertop\">\\n    <script language=\"javascript\" src=\"../tban.js\" type=\"text/javascript\">\\n    </script>\\n   </div>\\n   <a href=\"http://www.darklyrics.com/index.html\">\\n    <img alt=\"Dark Lyrics\" height=\"60\" src=\"../dlogo.gif\" width=\"250\"/>\\n   </a>\\n   <div class=\"cb\">\\n   </div>\\n   <div class=\"llyr m10t\">\\n    <a class=\"clink fl\" href=\"/submit.html\">\\n     SUBMIT LYRICS\\n    </a>\\n    <a class=\"clink fr\" href=\"/links.html\">\\n     LINKS\\n    </a>\\n    METAL LYRICS - CURRENTLY\\n    <span>\\n     13 800+\\n    </span>\\n    ALBUMS FROM\\n    <span>\\n     4500+\\n    </span>\\n    BANDS\\n    <div class=\"cb\">\\n    </div>\\n   </div>\\n   <div class=\"listrow\">\\n    <a class=\"lrb\" href=\"/a.html\">\\n     A\\n    </a>\\n    <a href=\"/b.html\">\\n     B\\n    </a>\\n    <a href=\"/c.html\">\\n     C\\n    </a>\\n    <a href=\"/d.html\">\\n     D\\n    </a>\\n    <a href=\"/e.html\">\\n     E\\n    </a>\\n    <a href=\"/f.html\">\\n     F\\n    </a>\\n    <a href=\"/g.html\">\\n     G\\n    </a>\\n    <a href=\"/h.html\">\\n     H\\n    </a>\\n    <a href=\"/i.html\">\\n     I\\n    </a>\\n    <a href=\"/j.html\">\\n     J\\n    </a>\\n    <a href=\"/k.html\">\\n     K\\n    </a>\\n    <a href=\"/l.html\">\\n     L\\n    </a>\\n    <a href=\"/m.html\">\\n     M\\n    </a>\\n    <a href=\"/n.html\">\\n     N\\n    </a>\\n    <a href=\"/o.html\">\\n     O\\n    </a>\\n    <a href=\"/p.html\">\\n     P\\n    </a>\\n    <a href=\"/q.html\">\\n     Q\\n    </a>\\n    <a href=\"/r.html\">\\n     R\\n    </a>\\n    <a href=\"/s.html\">\\n     S\\n    </a>\\n    <a href=\"/t.html\">\\n     T\\n    </a>\\n    <a href=\"/u.html\">\\n     U\\n    </a>\\n    <a href=\"/v.html\">\\n     V\\n    </a>\\n    <a href=\"/w.html\">\\n     W\\n    </a>\\n    <a href=\"/x.html\">\\n     X\\n    </a>\\n    <a href=\"/y.html\">\\n     Y\\n    </a>\\n    <a href=\"/z.html\">\\n     Z\\n    </a>\\n    <a href=\"/19.html\">\\n     #\\n    </a>\\n   </div>\\n   <div class=\"cntwrap\">\\n    <form action=\"http://www.darklyrics.com/search\" class=\"search\" method=\"get\">\\n     Browse by band name or enter band/album/song to search lyrics for:\\n     <div class=\"search_wr\">\\n      <input class=\"search_text\" id=\"q\" name=\"q\" type=\"text\" value=\"\"/>\\n      <button class=\"search_btn\" type=\"submit\">\\n      </button>\\n      <div id=\"qas\">\\n      </div>\\n     </div>\\n    </form>\\n    <div class=\"cont\">\\n     <img alt=\"\" class=\"fl\" src=\"../leftup.gif\"/>\\n     <img alt=\"\" class=\"fr\" src=\"../rightup.gif\"/>\\n     <div class=\"cb\">\\n     </div>\\n     <br/>\\n     <h1>\\n      DREAM THEATER LYRICS\\n     </h1>\\n     <div class=\"album\">\\n      <h2>\\n       album:\\n       <strong>\\n        \"When Dream And Day Unite\"\\n       </strong>\\n       (1989)\\n      </h2>\\n      <a href=\"../lyrics/dreamtheater/whendreamanddayunite.html#1\">\\n       A Fortune In Lies\\n      </a>\\n      <br/>\\n      <a href=\"../lyrics/dreamtheater/whendreamanddayunite.html#2\">\\n       Status Seeker\\n      </a>\\n      <br/>\\n      <a href=\"../lyrics/dreamtheater/whendreamanddayunite.html#3\">\\n       The Ytse Jam\\n      </a>\\n      <br/>\\n      <a href=\"../lyrics/dreamtheater/whendreamanddayunite.html#4\">\\n       The Killing Hand\\n      </a>\\n      <br/>\\n      <a href=\"../lyrics/dreamtheater/whendreamanddayunite.html#5\">\\n       Light Fuse And Get Away\\n      </a>\\n      <br/>\\n      <a href=\"../lyrics/dreamtheater/whendreamanddayunite.html#6\">\\n       Afterlife\\n      </a>\\n      <br/>\\n      <a href=\"../lyrics/dreamtheater/whendreamanddayunite.html#7\">\\n       The Ones Who Help To Set The Sun\\n      </a>\\n      <br/>\\n      <a href=\"../lyrics/dreamtheater/whendreamanddayunite.html#8\">\\n       Only A Matter Of Time\\n      </a>\\n      <br/>\\n     </div>\\n     <div class=\"album\">\\n      <h2>\\n       album:\\n       <strong>\\n        \"Images And Words\"\\n       </strong>\\n       (1992)\\n      </h2>\\n      <a href=\"../lyrics/dreamtheater/imagesandwords.html#1\">\\n       Pull Me Under\\n      </a>\\n      <br/>\\n      <a href=\"../lyrics/dreamtheater/imagesandwords.html#2\">\\n       Another Day\\n      </a>\\n      <br/>\\n      <a href=\"../lyrics/dreamtheater/imagesandwords.html#3\">\\n       Take The Time\\n      </a>\\n      <br/>\\n      <a href=\"../lyrics/dreamtheater/imagesandwords.html#4\">\\n       Surrounded\\n      </a>\\n      <br/>\\n      <a href=\"../lyrics/dreamtheater/imagesandwords.html#5\">\\n       Metropolis - Part I - \"The Miracle And The Sleeper\"\\n      </a>\\n      <br/>\\n      <a href=\"../lyrics/dreamtheater/imagesandwords.html#6\">\\n       Under A Glass Moon\\n      </a>\\n      <br/>\\n      <a href=\"../lyrics/dreamtheater/imagesandwords.html#7\">\\n       Wait For Sleep\\n      </a>\\n      <br/>\\n      <a href=\"../lyrics/dreamtheater/imagesandwords.html#8\">\\n       Learning To Live\\n      </a>\\n      <br/>\\n     </div>\\n     <div class=\"album\">\\n      <h2>\\n       album:\\n       <strong>\\n        \"Awake\"\\n       </strong>\\n       (1994)\\n      </h2>\\n      <a href=\"../lyrics/dreamtheater/awake.html#1\">\\n       6:00\\n      </a>\\n      <br/>\\n      <a href=\"../lyrics/dreamtheater/awake.html#2\">\\n       Caught In A Web\\n      </a>\\n      <br/>\\n      <a href=\"../lyrics/dreamtheater/awake.html#3\">\\n       Innocence Faded\\n      </a>\\n      <br/>\\n      <a href=\"../lyrics/dreamtheater/awake.html#4\">\\n       Erotomania\\n      </a>\\n      <br/>\\n      <a href=\"../lyrics/dreamtheater/awake.html#5\">\\n       Voices\\n      </a>\\n      <br/>\\n      <a href=\"../lyrics/dreamtheater/awake.html#6\">\\n       The Silent Man\\n      </a>\\n      <br/>\\n      <a href=\"../lyrics/dreamtheater/awake.html#7\">\\n       The Mirror\\n      </a>\\n      <br/>\\n      <a href=\"../lyrics/dreamtheater/awake.html#8\">\\n       Lie\\n      </a>\\n      <br/>\\n      <a href=\"../lyrics/dreamtheater/awake.html#9\">\\n       Lifting Shadows Off A Dream\\n      </a>\\n      <br/>\\n      <a href=\"../lyrics/dreamtheater/awake.html#10\">\\n       Scarred\\n      </a>\\n      <br/>\\n      <a href=\"../lyrics/dreamtheater/awake.html#11\">\\n       Space-Dye Vest\\n      </a>\\n      <br/>\\n     </div>\\n     <div class=\"album\">\\n      <h2>\\n       EP:\\n       <strong>\\n        \"A Change Of Seasons\"\\n       </strong>\\n       (1995)\\n      </h2>\\n      <a href=\"../lyrics/dreamtheater/achangeofseasons.html#1\">\\n       A Change Of Seasons\\n      </a>\\n      <br/>\\n      <a href=\"../lyrics/dreamtheater/achangeofseasons.html#2\">\\n       Funeral For A Friend / Love Lies Bleeding\\n      </a>\\n      <br/>\\n      <a href=\"../lyrics/dreamtheater/achangeofseasons.html#3\">\\n       Perfect Strangers\\n      </a>\\n      <br/>\\n      <a href=\"../lyrics/dreamtheater/achangeofseasons.html#4\">\\n       The Rover / Achilles Last Stand / The Song Remains The Same\\n      </a>\\n      <br/>\\n      <a href=\"../lyrics/dreamtheater/achangeofseasons.html#5\">\\n       The Big Medley\\n      </a>\\n      <br/>\\n     </div>\\n     <div class=\"album\">\\n      <h2>\\n       album:\\n       <strong>\\n        \"Falling Into Infinity\"\\n       </strong>\\n       (1997)\\n      </h2>\\n      <a href=\"../lyrics/dreamtheater/fallingintoinfinity.html#1\">\\n       New Millennium\\n      </a>\\n      <br/>\\n      <a href=\"../lyrics/dreamtheater/fallingintoinfinity.html#2\">\\n       You Not Me\\n      </a>\\n      <br/>\\n      <a href=\"../lyrics/dreamtheater/fallingintoinfinity.html#3\">\\n       Peruvian Skies\\n      </a>\\n      <br/>\\n      <a href=\"../lyrics/dreamtheater/fallingintoinfinity.html#4\">\\n       Hollow Years\\n      </a>\\n      <br/>\\n      <a href=\"../lyrics/dreamtheater/fallingintoinfinity.html#5\">\\n       Burning My Soul\\n      </a>\\n      <br/>\\n      <a href=\"../lyrics/dreamtheater/fallingintoinfinity.html#6\">\\n       Hell\\'s Kitchen\\n      </a>\\n      <br/>\\n      <a href=\"../lyrics/dreamtheater/fallingintoinfinity.html#7\">\\n       Lines In The Sand\\n      </a>\\n      <br/>\\n      <a href=\"../lyrics/dreamtheater/fallingintoinfinity.html#8\">\\n       Take Away My Pain\\n      </a>\\n      <br/>\\n      <a href=\"../lyrics/dreamtheater/fallingintoinfinity.html#9\">\\n       Just Let Me Breathe\\n      </a>\\n      <br/>\\n      <a href=\"../lyrics/dreamtheater/fallingintoinfinity.html#10\">\\n       Anna Lee\\n      </a>\\n      <br/>\\n      <a href=\"../lyrics/dreamtheater/fallingintoinfinity.html#11\">\\n       Trial Of Tears\\n      </a>\\n      <br/>\\n     </div>\\n     <div class=\"album\">\\n      <h2>\\n       album:\\n       <strong>\\n        \"Scenes From A Memory\"\\n       </strong>\\n       (1999)\\n      </h2>\\n      <a href=\"../lyrics/dreamtheater/scenesfromamemory.html#1\">\\n       Scene One: Regression\\n      </a>\\n      <br/>\\n      <a href=\"../lyrics/dreamtheater/scenesfromamemory.html#2\">\\n       Scene Two: I. Overture\\n      </a>\\n      <br/>\\n      <a href=\"../lyrics/dreamtheater/scenesfromamemory.html#3\">\\n       II. Strange Deja Vu\\n      </a>\\n      <br/>\\n      <a href=\"../lyrics/dreamtheater/scenesfromamemory.html#4\">\\n       Scene Three: I. Through My Words\\n      </a>\\n      <br/>\\n      <a href=\"../lyrics/dreamtheater/scenesfromamemory.html#5\">\\n       II. Fatal Tragedy\\n      </a>\\n      <br/>\\n      <a href=\"../lyrics/dreamtheater/scenesfromamemory.html#6\">\\n       Scene Four: Beyond This Life\\n      </a>\\n      <br/>\\n      <a href=\"../lyrics/dreamtheater/scenesfromamemory.html#7\">\\n       Scene Five: Through Her Eyes\\n      </a>\\n      <br/>\\n      <a href=\"../lyrics/dreamtheater/scenesfromamemory.html#8\">\\n       Scene Six: Home\\n      </a>\\n      <br/>\\n      <a href=\"../lyrics/dreamtheater/scenesfromamemory.html#9\">\\n       Scene Seven: I. The Dance Of Eternity\\n      </a>\\n      <br/>\\n      <a href=\"../lyrics/dreamtheater/scenesfromamemory.html#10\">\\n       II. One Last Time\\n      </a>\\n      <br/>\\n      <a href=\"../lyrics/dreamtheater/scenesfromamemory.html#11\">\\n       Scene Eight: The Spirit Carries On\\n      </a>\\n      <br/>\\n      <a href=\"../lyrics/dreamtheater/scenesfromamemory.html#12\">\\n       Scene Nine: Finally Free\\n      </a>\\n      <br/>\\n     </div>\\n     <div class=\"album\">\\n      <h2>\\n       album:\\n       <strong>\\n        \"Six Degrees Of Inner Turbulence\"\\n       </strong>\\n       (2002)\\n      </h2>\\n      <a href=\"../lyrics/dreamtheater/sixdegreesofinnerturbulence.html#1\">\\n       The Glass Prison\\n      </a>\\n      <br/>\\n      <a href=\"../lyrics/dreamtheater/sixdegreesofinnerturbulence.html#2\">\\n       Blind Faith\\n      </a>\\n      <br/>\\n      <a href=\"../lyrics/dreamtheater/sixdegreesofinnerturbulence.html#3\">\\n       Misunderstood\\n      </a>\\n      <br/>\\n      <a href=\"../lyrics/dreamtheater/sixdegreesofinnerturbulence.html#4\">\\n       The Great Debate\\n      </a>\\n      <br/>\\n      <a href=\"../lyrics/dreamtheater/sixdegreesofinnerturbulence.html#5\">\\n       Disappear\\n      </a>\\n      <br/>\\n      <a href=\"../lyrics/dreamtheater/sixdegreesofinnerturbulence.html#6\">\\n       Six Degrees Of Inner Turbulence\\n      </a>\\n      <br/>\\n     </div>\\n     <div class=\"album\">\\n      <h2>\\n       album:\\n       <strong>\\n        \"Train Of Thought\"\\n       </strong>\\n       (2003)\\n      </h2>\\n      <a href=\"../lyrics/dreamtheater/trainofthought.html#1\">\\n       As I Am\\n      </a>\\n      <br/>\\n      <a href=\"../lyrics/dreamtheater/trainofthought.html#2\">\\n       This Dying Soul\\n      </a>\\n      <br/>\\n      <a href=\"../lyrics/dreamtheater/trainofthought.html#3\">\\n       Endless Sacrifice\\n      </a>\\n      <br/>\\n      <a href=\"../lyrics/dreamtheater/trainofthought.html#4\">\\n       Honor Thy Father\\n      </a>\\n      <br/>\\n      <a href=\"../lyrics/dreamtheater/trainofthought.html#5\">\\n       Vacant\\n      </a>\\n      <br/>\\n      <a href=\"../lyrics/dreamtheater/trainofthought.html#6\">\\n       Stream Of Consciousness\\n      </a>\\n      <br/>\\n      <a href=\"../lyrics/dreamtheater/trainofthought.html#7\">\\n       In The Name Of God\\n      </a>\\n      <br/>\\n     </div>\\n     <div class=\"album\">\\n      <h2>\\n       album:\\n       <strong>\\n        \"Octavarium\"\\n       </strong>\\n       (2005)\\n      </h2>\\n      <a href=\"../lyrics/dreamtheater/octavarium.html#1\">\\n       The Root Of All Evil\\n      </a>\\n      <br/>\\n      <a href=\"../lyrics/dreamtheater/octavarium.html#2\">\\n       The Answer Lies Within\\n      </a>\\n      <br/>\\n      <a href=\"../lyrics/dreamtheater/octavarium.html#3\">\\n       These Walls\\n      </a>\\n      <br/>\\n      <a href=\"../lyrics/dreamtheater/octavarium.html#4\">\\n       I Walk Beside You\\n      </a>\\n      <br/>\\n      <a href=\"../lyrics/dreamtheater/octavarium.html#5\">\\n       Panic Attack\\n      </a>\\n      <br/>\\n      <a href=\"../lyrics/dreamtheater/octavarium.html#6\">\\n       Never Enough\\n      </a>\\n      <br/>\\n      <a href=\"../lyrics/dreamtheater/octavarium.html#7\">\\n       Sacrificed Sons\\n      </a>\\n      <br/>\\n      <a href=\"../lyrics/dreamtheater/octavarium.html#8\">\\n       Octavarium\\n      </a>\\n      <br/>\\n     </div>\\n     <div class=\"album\">\\n      <h2>\\n       album:\\n       <strong>\\n        \"Score\"\\n       </strong>\\n       (2006)\\n      </h2>\\n      <a href=\"../lyrics/dreamtheater/score.html#1\">\\n       The Root Of All Evil\\n      </a>\\n      <br/>\\n      <a href=\"../lyrics/dreamtheater/score.html#2\">\\n       I Walk Beside You\\n      </a>\\n      <br/>\\n      <a href=\"../lyrics/dreamtheater/score.html#3\">\\n       Another Won\\n      </a>\\n      <br/>\\n      <a href=\"../lyrics/dreamtheater/score.html#4\">\\n       Afterlife\\n      </a>\\n      <br/>\\n      <a href=\"../lyrics/dreamtheater/score.html#5\">\\n       Under A Glass Moon\\n      </a>\\n      <br/>\\n      <a href=\"../lyrics/dreamtheater/score.html#6\">\\n       Innocence Faded\\n      </a>\\n      <br/>\\n      <a href=\"../lyrics/dreamtheater/score.html#7\">\\n       Raise The Knife\\n      </a>\\n      <br/>\\n      <a href=\"../lyrics/dreamtheater/score.html#8\">\\n       The Spirit Carries On\\n      </a>\\n      <br/>\\n      <a href=\"../lyrics/dreamtheater/score.html#9\">\\n       Six Degrees Of Inner Turbulence\\n      </a>\\n      <br/>\\n      <a href=\"../lyrics/dreamtheater/score.html#10\">\\n       Vacant\\n      </a>\\n      <br/>\\n      <a href=\"../lyrics/dreamtheater/score.html#11\">\\n       The Answer Lies Within\\n      </a>\\n      <br/>\\n      <a href=\"../lyrics/dreamtheater/score.html#12\">\\n       Sacrificed Sons\\n      </a>\\n      <br/>\\n      <a href=\"../lyrics/dreamtheater/score.html#13\">\\n       Octavarium\\n      </a>\\n      <br/>\\n      <a href=\"../lyrics/dreamtheater/score.html#14\">\\n       Metropolis\\n      </a>\\n      <br/>\\n     </div>\\n     <div class=\"album\">\\n      <h2>\\n       album:\\n       <strong>\\n        \"Systematic Chaos\"\\n       </strong>\\n       (2007)\\n      </h2>\\n      <a href=\"../lyrics/dreamtheater/systematicchaos.html#1\">\\n       In The Presence Of Enemies, Pt. 1\\n      </a>\\n      <br/>\\n      <a href=\"../lyrics/dreamtheater/systematicchaos.html#2\">\\n       Forsaken\\n      </a>\\n      <br/>\\n      <a href=\"../lyrics/dreamtheater/systematicchaos.html#3\">\\n       Constant Motion\\n      </a>\\n      <br/>\\n      <a href=\"../lyrics/dreamtheater/systematicchaos.html#4\">\\n       The Dark Eternal Night\\n      </a>\\n      <br/>\\n      <a href=\"../lyrics/dreamtheater/systematicchaos.html#5\">\\n       Repentance\\n      </a>\\n      <br/>\\n      <a href=\"../lyrics/dreamtheater/systematicchaos.html#6\">\\n       Prophets Of War\\n      </a>\\n      <br/>\\n      <a href=\"../lyrics/dreamtheater/systematicchaos.html#7\">\\n       The Ministry Of Lost Souls\\n      </a>\\n      <br/>\\n      <a href=\"../lyrics/dreamtheater/systematicchaos.html#8\">\\n       In The Presence Of Enemies, Pt. 2\\n      </a>\\n      <br/>\\n     </div>\\n     <div class=\"album\">\\n      <h2>\\n       album:\\n       <strong>\\n        \"Black Clouds &amp; Silver Linings\"\\n       </strong>\\n       (2009)\\n      </h2>\\n      <a href=\"../lyrics/dreamtheater/blackcloudssilverlinings.html#1\">\\n       A Nightmare To Remember\\n      </a>\\n      <br/>\\n      <a href=\"../lyrics/dreamtheater/blackcloudssilverlinings.html#2\">\\n       A Rite Of Passage\\n      </a>\\n      <br/>\\n      <a href=\"../lyrics/dreamtheater/blackcloudssilverlinings.html#3\">\\n       Wither\\n      </a>\\n      <br/>\\n      <a href=\"../lyrics/dreamtheater/blackcloudssilverlinings.html#4\">\\n       The Shattered Fortress\\n      </a>\\n      <br/>\\n      <a href=\"../lyrics/dreamtheater/blackcloudssilverlinings.html#5\">\\n       The Best Of Times\\n      </a>\\n      <br/>\\n      <a href=\"../lyrics/dreamtheater/blackcloudssilverlinings.html#6\">\\n       The Count Of Tuscany\\n      </a>\\n      <br/>\\n     </div>\\n     <div class=\"album\">\\n      <h2>\\n       album:\\n       <strong>\\n        \"A Dramatic Turn Of Events\"\\n       </strong>\\n       (2011)\\n      </h2>\\n      <a href=\"../lyrics/dreamtheater/adramaticturnofevents.html#1\">\\n       On The Backs Of Angels\\n      </a>\\n      <br/>\\n      <a href=\"../lyrics/dreamtheater/adramaticturnofevents.html#2\">\\n       Build Me Up, Break Me Down\\n      </a>\\n      <br/>\\n      <a href=\"../lyrics/dreamtheater/adramaticturnofevents.html#3\">\\n       Lost Not Forgotten\\n      </a>\\n      <br/>\\n      <a href=\"../lyrics/dreamtheater/adramaticturnofevents.html#4\">\\n       This Is The Life\\n      </a>\\n      <br/>\\n      <a href=\"../lyrics/dreamtheater/adramaticturnofevents.html#5\">\\n       Bridges In The Sky\\n      </a>\\n      <br/>\\n      <a href=\"../lyrics/dreamtheater/adramaticturnofevents.html#6\">\\n       Outcry\\n      </a>\\n      <br/>\\n      <a href=\"../lyrics/dreamtheater/adramaticturnofevents.html#7\">\\n       Far From Heaven\\n      </a>\\n      <br/>\\n      <a href=\"../lyrics/dreamtheater/adramaticturnofevents.html#8\">\\n       Breaking All Illusions\\n      </a>\\n      <br/>\\n      <a href=\"../lyrics/dreamtheater/adramaticturnofevents.html#9\">\\n       Beneath The Surface\\n      </a>\\n      <br/>\\n     </div>\\n     <div class=\"album\">\\n      <h2>\\n       album:\\n       <strong>\\n        \"Dream Theater\"\\n       </strong>\\n       (2013)\\n      </h2>\\n      <a href=\"../lyrics/dreamtheater/dreamtheater.html#1\">\\n       False Awakening Suite\\n      </a>\\n      <br/>\\n      <a href=\"../lyrics/dreamtheater/dreamtheater.html#2\">\\n       The Enemy Inside\\n      </a>\\n      <br/>\\n      <a href=\"../lyrics/dreamtheater/dreamtheater.html#3\">\\n       The Looking Glass\\n      </a>\\n      <br/>\\n      <a href=\"../lyrics/dreamtheater/dreamtheater.html#4\">\\n       Enigma Machine\\n      </a>\\n      <br/>\\n      <a href=\"../lyrics/dreamtheater/dreamtheater.html#5\">\\n       The Bigger Picture\\n      </a>\\n      <br/>\\n      <a href=\"../lyrics/dreamtheater/dreamtheater.html#6\">\\n       Behind The Veil\\n      </a>\\n      <br/>\\n      <a href=\"../lyrics/dreamtheater/dreamtheater.html#7\">\\n       Surrender To Reason\\n      </a>\\n      <br/>\\n      <a href=\"../lyrics/dreamtheater/dreamtheater.html#8\">\\n       Along For The Ride\\n      </a>\\n      <br/>\\n      <a href=\"../lyrics/dreamtheater/dreamtheater.html#9\">\\n       Illumination Theory\\n      </a>\\n      <br/>\\n     </div>\\n     <div class=\"album\">\\n      <h2>\\n       EP:\\n       <strong>\\n        \"Illumination Theory\"\\n       </strong>\\n       (2014)\\n      </h2>\\n      <a href=\"../lyrics/dreamtheater/illuminationtheory.html#1\">\\n       I. Paradoxe De La Lumière Noire\\n      </a>\\n      <br/>\\n      <a href=\"../lyrics/dreamtheater/illuminationtheory.html#2\">\\n       II. Live, Die, Kill\\n      </a>\\n      <br/>\\n      <a href=\"../lyrics/dreamtheater/illuminationtheory.html#3\">\\n       III. The Embracing Circle\\n      </a>\\n      <br/>\\n      <a href=\"../lyrics/dreamtheater/illuminationtheory.html#4\">\\n       IV. The Pursuit Of Truth\\n      </a>\\n      <br/>\\n      <a href=\"../lyrics/dreamtheater/illuminationtheory.html#5\">\\n       V. Surrender, Trust &amp; Passion\\n      </a>\\n      <br/>\\n     </div>\\n     <div class=\"album\">\\n      <h2>\\n       album:\\n       <strong>\\n        \"The Astonishing\"\\n       </strong>\\n       (2016)\\n      </h2>\\n      <a href=\"../lyrics/dreamtheater/theastonishing.html#1\">\\n       Descent Of The Nomacs\\n      </a>\\n      <br/>\\n      <a href=\"../lyrics/dreamtheater/theastonishing.html#2\">\\n       Dystopian Overture\\n      </a>\\n      <br/>\\n      <a href=\"../lyrics/dreamtheater/theastonishing.html#3\">\\n       The Gift Of Music\\n      </a>\\n      <br/>\\n      <a href=\"../lyrics/dreamtheater/theastonishing.html#4\">\\n       The Answer\\n      </a>\\n      <br/>\\n      <a href=\"../lyrics/dreamtheater/theastonishing.html#5\">\\n       A Better Life\\n      </a>\\n      <br/>\\n      <a href=\"../lyrics/dreamtheater/theastonishing.html#6\">\\n       Lord Nafaryus\\n      </a>\\n      <br/>\\n      <a href=\"../lyrics/dreamtheater/theastonishing.html#7\">\\n       A Savior In The Square\\n      </a>\\n      <br/>\\n      <a href=\"../lyrics/dreamtheater/theastonishing.html#8\">\\n       When Your Time Has Come\\n      </a>\\n      <br/>\\n      <a href=\"../lyrics/dreamtheater/theastonishing.html#9\">\\n       Act Of Faythe\\n      </a>\\n      <br/>\\n      <a href=\"../lyrics/dreamtheater/theastonishing.html#10\">\\n       Three Days\\n      </a>\\n      <br/>\\n      <a href=\"../lyrics/dreamtheater/theastonishing.html#11\">\\n       The Hovering Sojourn\\n      </a>\\n      <br/>\\n      <a href=\"../lyrics/dreamtheater/theastonishing.html#12\">\\n       Brother, Can You Hear Me?\\n      </a>\\n      <br/>\\n      <a href=\"../lyrics/dreamtheater/theastonishing.html#13\">\\n       A Life Left Behind\\n      </a>\\n      <br/>\\n      <a href=\"../lyrics/dreamtheater/theastonishing.html#14\">\\n       Ravenskill\\n      </a>\\n      <br/>\\n      <a href=\"../lyrics/dreamtheater/theastonishing.html#15\">\\n       Chosen\\n      </a>\\n      <br/>\\n      <a href=\"../lyrics/dreamtheater/theastonishing.html#16\">\\n       A Tempting Offer\\n      </a>\\n      <br/>\\n      <a href=\"../lyrics/dreamtheater/theastonishing.html#17\">\\n       Digital Discord\\n      </a>\\n      <br/>\\n      <a href=\"../lyrics/dreamtheater/theastonishing.html#18\">\\n       The X Aspect\\n      </a>\\n      <br/>\\n      <a href=\"../lyrics/dreamtheater/theastonishing.html#19\">\\n       A New Beginning\\n      </a>\\n      <br/>\\n      <a href=\"../lyrics/dreamtheater/theastonishing.html#20\">\\n       The Road To Revolution\\n      </a>\\n      <br/>\\n      <a href=\"../lyrics/dreamtheater/theastonishing.html#21\">\\n       2285 Entr\\'acte\\n      </a>\\n      <br/>\\n      <a href=\"../lyrics/dreamtheater/theastonishing.html#22\">\\n       Moment Of Betrayal\\n      </a>\\n      <br/>\\n      <a href=\"../lyrics/dreamtheater/theastonishing.html#23\">\\n       Heaven\\'s Cove\\n      </a>\\n      <br/>\\n      <a href=\"../lyrics/dreamtheater/theastonishing.html#24\">\\n       Begin Again\\n      </a>\\n      <br/>\\n      <a href=\"../lyrics/dreamtheater/theastonishing.html#25\">\\n       The Path That Divides\\n      </a>\\n      <br/>\\n      <a href=\"../lyrics/dreamtheater/theastonishing.html#26\">\\n       Machine Chatter\\n      </a>\\n      <br/>\\n      <a href=\"../lyrics/dreamtheater/theastonishing.html#27\">\\n       The Walking Shadow\\n      </a>\\n      <br/>\\n      <a href=\"../lyrics/dreamtheater/theastonishing.html#28\">\\n       My Last Farewell\\n      </a>\\n      <br/>\\n      <a href=\"../lyrics/dreamtheater/theastonishing.html#29\">\\n       Losing Faythe\\n      </a>\\n      <br/>\\n      <a href=\"../lyrics/dreamtheater/theastonishing.html#30\">\\n       Whispers On The Wind\\n      </a>\\n      <br/>\\n      <a href=\"../lyrics/dreamtheater/theastonishing.html#31\">\\n       Hymn Of A Thousand Voices\\n      </a>\\n      <br/>\\n      <a href=\"../lyrics/dreamtheater/theastonishing.html#32\">\\n       Our New World\\n      </a>\\n      <br/>\\n      <a href=\"../lyrics/dreamtheater/theastonishing.html#33\">\\n       Power Down\\n      </a>\\n      <br/>\\n      <a href=\"../lyrics/dreamtheater/theastonishing.html#34\">\\n       Astonishing\\n      </a>\\n      <br/>\\n     </div>\\n     <br/>\\n     <img alt=\"\" class=\"fl\" src=\"../leftbottom.gif\"/>\\n     <img alt=\"\" class=\"fr\" src=\"../rightbottom.gif\"/>\\n     <div class=\"cb\">\\n     </div>\\n    </div>\\n    <form action=\"http://www.darklyrics.com/search\" class=\"search\">\\n     Browse by band name or enter band/album/song to search lyrics for:\\n     <div class=\"search_wr\">\\n      <input class=\"search_text\" id=\"q1\" name=\"q\" type=\"text\" value=\"\"/>\\n      <button class=\"search_btn\" type=\"submit\">\\n      </button>\\n      <div id=\"qas1\">\\n      </div>\\n     </div>\\n    </form>\\n   </div>\\n   <div class=\"listrow\">\\n    <a class=\"lrb\" href=\"/a.html\">\\n     A\\n    </a>\\n    <a href=\"/b.html\">\\n     B\\n    </a>\\n    <a href=\"/c.html\">\\n     C\\n    </a>\\n    <a href=\"/d.html\">\\n     D\\n    </a>\\n    <a href=\"/e.html\">\\n     E\\n    </a>\\n    <a href=\"/f.html\">\\n     F\\n    </a>\\n    <a href=\"/g.html\">\\n     G\\n    </a>\\n    <a href=\"/h.html\">\\n     H\\n    </a>\\n    <a href=\"/i.html\">\\n     I\\n    </a>\\n    <a href=\"/j.html\">\\n     J\\n    </a>\\n    <a href=\"/k.html\">\\n     K\\n    </a>\\n    <a href=\"/l.html\">\\n     L\\n    </a>\\n    <a href=\"/m.html\">\\n     M\\n    </a>\\n    <a href=\"/n.html\">\\n     N\\n    </a>\\n    <a href=\"/o.html\">\\n     O\\n    </a>\\n    <a href=\"/p.html\">\\n     P\\n    </a>\\n    <a href=\"/q.html\">\\n     Q\\n    </a>\\n    <a href=\"/r.html\">\\n     R\\n    </a>\\n    <a href=\"/s.html\">\\n     S\\n    </a>\\n    <a href=\"/t.html\">\\n     T\\n    </a>\\n    <a href=\"/u.html\">\\n     U\\n    </a>\\n    <a href=\"/v.html\">\\n     V\\n    </a>\\n    <a href=\"/w.html\">\\n     W\\n    </a>\\n    <a href=\"/x.html\">\\n     X\\n    </a>\\n    <a href=\"/y.html\">\\n     Y\\n    </a>\\n    <a href=\"/z.html\">\\n     Z\\n    </a>\\n    <a href=\"/19.html\">\\n     #\\n    </a>\\n   </div>\\n   <div class=\"llyr\">\\n    <a class=\"clink fl\" href=\"/submit.html\">\\n     SUBMIT LYRICS\\n    </a>\\n    <a class=\"clink fr\" href=\"/links.html\">\\n     LINKS\\n    </a>\\n    METAL LYRICS - CURRENTLY\\n    <span>\\n     13 800+\\n    </span>\\n    ALBUMS FROM\\n    <span>\\n     4500+\\n    </span>\\n    BANDS\\n   </div>\\n   <div class=\"copyright\">\\n    Copyright © 2001-2016 - DarkLyrics.com\\n    <span>\\n     --- All lyrics are the property and copyright of their respective owners.\\n     <br/>\\n     All lyrics provided for educational purposes and personal use only. Please read the disclaimer.\\n    </span>\\n   </div>\\n   <div class=\"about\">\\n    -\\n    <a href=\"/privacy.html\">\\n     Privacy Policy\\n    </a>\\n    -\\n    <a href=\"/disclaim.html\">\\n     Disclaimer\\n    </a>\\n    -\\n    <a href=\"/contact.html\">\\n     Contact Us\\n    </a>\\n    -\\n   </div>\\n   <div class=\"cb\">\\n   </div>\\n  </div>\\n </body>\\n</html>'"
      ]
     },
     "execution_count": 176,
     "metadata": {},
     "output_type": "execute_result"
    }
   ],
   "source": [
    "url  = 'http://www.darklyrics.com/d/dreamtheater.html'\n",
    "soup = bs4.BeautifulSoup(requests.get(url).content,'html.parser')\n",
    "soup.prettify()"
   ]
  },
  {
   "cell_type": "code",
   "execution_count": 187,
   "metadata": {},
   "outputs": [
    {
     "data": {
      "text/plain": [
       "['http://www.darklyrics.com/lyrics/dreamtheater/whendreamanddayunite.html',\n",
       " 'http://www.darklyrics.com/lyrics/dreamtheater/imagesandwords.html',\n",
       " 'http://www.darklyrics.com/lyrics/dreamtheater/awake.html',\n",
       " 'http://www.darklyrics.com/lyrics/dreamtheater/achangeofseasons.html',\n",
       " 'http://www.darklyrics.com/lyrics/dreamtheater/fallingintoinfinity.html',\n",
       " 'http://www.darklyrics.com/lyrics/dreamtheater/scenesfromamemory.html',\n",
       " 'http://www.darklyrics.com/lyrics/dreamtheater/sixdegreesofinnerturbulence.html',\n",
       " 'http://www.darklyrics.com/lyrics/dreamtheater/trainofthought.html',\n",
       " 'http://www.darklyrics.com/lyrics/dreamtheater/octavarium.html',\n",
       " 'http://www.darklyrics.com/lyrics/dreamtheater/score.html',\n",
       " 'http://www.darklyrics.com/lyrics/dreamtheater/systematicchaos.html',\n",
       " 'http://www.darklyrics.com/lyrics/dreamtheater/blackcloudssilverlinings.html',\n",
       " 'http://www.darklyrics.com/lyrics/dreamtheater/adramaticturnofevents.html',\n",
       " 'http://www.darklyrics.com/lyrics/dreamtheater/dreamtheater.html',\n",
       " 'http://www.darklyrics.com/lyrics/dreamtheater/illuminationtheory.html',\n",
       " 'http://www.darklyrics.com/lyrics/dreamtheater/theastonishing.html']"
      ]
     },
     "execution_count": 187,
     "metadata": {},
     "output_type": "execute_result"
    }
   ],
   "source": [
    "url_list = [album.find('a').get('href') for album in soup.find_all('div', class_='album')]\n",
    "url_list = [re.sub('#1|\\.\\./','',url) for url in url_list]\n",
    "url_list = ['http://www.darklyrics.com/' + url for url in url_list]\n",
    "url_list"
   ]
  },
  {
   "cell_type": "markdown",
   "metadata": {},
   "source": [
    "# Darklyrics Crawler\n",
    "INPUT  : Album URL, genre\n",
    "OUTPUT : Artist name, album name, genre, release year, lyrics, song name (WRITTEN to SQL)"
   ]
  },
  {
   "cell_type": "code",
   "execution_count": 189,
   "metadata": {},
   "outputs": [],
   "source": [
    "import requests,re,bs4\n",
    "import sqlite3\n",
    "\n",
    "class song(object):\n",
    "    def __init__(self, name,lyrics,artist,genre,album,year):\n",
    "        self.name   = name\n",
    "        self.lyrics = lyrics\n",
    "        self.artist = artist\n",
    "        self.genre  = genre\n",
    "        self.album  = album\n",
    "        self.year   = year"
   ]
  },
  {
   "cell_type": "code",
   "execution_count": 190,
   "metadata": {},
   "outputs": [],
   "source": [
    "def album_scraper(url,genre):\n",
    "    html = requests.get(url)\n",
    "    soup = bs4.BeautifulSoup(html.content,'html.parser')\n",
    "    # Meta info extraction\n",
    "    metainfo    = [soup.find('h1').text,soup.find('h2').text]\n",
    "    metainfo[0] = metainfo[0].replace(' LYRICS','').capitalize()\n",
    "    metainfo.append(int(re.findall('\\(([0-9]{4})\\)',metainfo[1])[0]))\n",
    "    metainfo[1] = re.search('\"(.*)\"',metainfo[1]).groups()[0]\n",
    "    # lyric extraction\n",
    "    lyrics     = soup.find('div', class_='lyrics')\n",
    "    tagnames   = [child.name for child in list(lyrics.children)]\n",
    "    begins     = [i for i,x in enumerate(tagnames) if x=='h3']\n",
    "    ends       = [i-1 for i in begins][1:] + [len(tagnames)]\n",
    "    # song name and lyrics\n",
    "    songnames  = [list(lyrics.children)[i].text for i in begins]\n",
    "    songlyrics = [list(lyrics.children)[(x+1):(ends[i]+1)] for i,x in enumerate(begins)]\n",
    "    songlyrics = [[line.strip() for line in lyric if type(line) is bs4.element.NavigableString] for lyric in songlyrics]\n",
    "    songlyrics = [' '.join(lyric) for lyric in songlyrics]\n",
    "    #\n",
    "    # Creation of song and Album (songs list)\n",
    "    songs = []\n",
    "    for i,x in enumerate(songnames):\n",
    "        songs.append(song(x,songlyrics[i],metainfo[0],genre,metainfo[1],metainfo[2]))\n",
    "        print('Scraped %s of %s, %s' % (x,metainfo[0],metainfo[1]))\n",
    "    return(songs)"
   ]
  },
  {
   "cell_type": "code",
   "execution_count": 215,
   "metadata": {},
   "outputs": [],
   "source": [
    "def albumwriter(song_info_list,dbdest):\n",
    "    conn = sqlite3.connect(dbdest)\n",
    "    cur  = conn.cursor()\n",
    "\n",
    "    for s in song_info_list:\n",
    "        # Yazma\n",
    "        cur.execute(\"INSERT INTO lyrics VALUES (?,?,?,?,?,?)\", (s.name,s.lyrics,s.artist,s.genre,s.album,s.year))\n",
    "        print('[LOG] Written songs for %s - %s' % (s.album, s.artist))\n",
    "    conn.commit()    \n",
    "    conn.close()"
   ]
  },
  {
   "cell_type": "code",
   "execution_count": 206,
   "metadata": {},
   "outputs": [],
   "source": [
    "def url_extractor(band_name,genre):\n",
    "    band_name = band_name.replace(' ','').lower()\n",
    "    print(band_name)\n",
    "    first_letter = band_name[0]\n",
    "    url  = 'http://www.darklyrics.com/%s/%s.html' % (first_letter,band_name)\n",
    "    soup = bs4.BeautifulSoup(requests.get(url).content,'html.parser')\n",
    "    url_list = [album.find('a').get('href') for album in soup.find_all('div', class_='album')]\n",
    "    url_list = [re.sub('#1|\\.\\./','',url) for url in url_list]\n",
    "    url_list = ['http://www.darklyrics.com/' + url for url in url_list]\n",
    "    print('[LOG]: Scraped %i urls for %s' % (len(url_list),band_name))\n",
    "    return(url_list)"
   ]
  },
  {
   "cell_type": "code",
   "execution_count": 199,
   "metadata": {},
   "outputs": [
    {
     "name": "stdout",
     "output_type": "stream",
     "text": [
      "Scraped 1. Pull Me Under in Dream theater, Images And Words\n",
      "Scraped 2. Another Day in Dream theater, Images And Words\n",
      "Scraped 3. Take The Time in Dream theater, Images And Words\n",
      "Scraped 4. Surrounded in Dream theater, Images And Words\n",
      "Scraped 5. Metropolis - Part I - \"The Miracle And The Sleeper\" in Dream theater, Images And Words\n",
      "Scraped 6. Under A Glass Moon in Dream theater, Images And Words\n",
      "Scraped 7. Wait For Sleep in Dream theater, Images And Words\n",
      "Scraped 8. Learning To Live in Dream theater, Images And Words\n"
     ]
    }
   ],
   "source": [
    "song_list = dlscraper('http://www.darklyrics.com/lyrics/dreamtheater/imagesandwords.html','Progressive Metal')"
   ]
  },
  {
   "cell_type": "code",
   "execution_count": 207,
   "metadata": {},
   "outputs": [
    {
     "name": "stdout",
     "output_type": "stream",
     "text": [
      "dreamtheater\n",
      "[LOG]: Scraped 16 urls for dreamtheater\n"
     ]
    },
    {
     "data": {
      "text/plain": [
       "['http://www.darklyrics.com/lyrics/dreamtheater/whendreamanddayunite.html',\n",
       " 'http://www.darklyrics.com/lyrics/dreamtheater/imagesandwords.html',\n",
       " 'http://www.darklyrics.com/lyrics/dreamtheater/awake.html',\n",
       " 'http://www.darklyrics.com/lyrics/dreamtheater/achangeofseasons.html',\n",
       " 'http://www.darklyrics.com/lyrics/dreamtheater/fallingintoinfinity.html',\n",
       " 'http://www.darklyrics.com/lyrics/dreamtheater/scenesfromamemory.html',\n",
       " 'http://www.darklyrics.com/lyrics/dreamtheater/sixdegreesofinnerturbulence.html',\n",
       " 'http://www.darklyrics.com/lyrics/dreamtheater/trainofthought.html',\n",
       " 'http://www.darklyrics.com/lyrics/dreamtheater/octavarium.html',\n",
       " 'http://www.darklyrics.com/lyrics/dreamtheater/score.html',\n",
       " 'http://www.darklyrics.com/lyrics/dreamtheater/systematicchaos.html',\n",
       " 'http://www.darklyrics.com/lyrics/dreamtheater/blackcloudssilverlinings.html',\n",
       " 'http://www.darklyrics.com/lyrics/dreamtheater/adramaticturnofevents.html',\n",
       " 'http://www.darklyrics.com/lyrics/dreamtheater/dreamtheater.html',\n",
       " 'http://www.darklyrics.com/lyrics/dreamtheater/illuminationtheory.html',\n",
       " 'http://www.darklyrics.com/lyrics/dreamtheater/theastonishing.html']"
      ]
     },
     "execution_count": 207,
     "metadata": {},
     "output_type": "execute_result"
    }
   ],
   "source": [
    "url_list = url_extractor('Dream Theater','Progressive Metal')\n",
    "url_list"
   ]
  },
  {
   "cell_type": "code",
   "execution_count": 210,
   "metadata": {},
   "outputs": [
    {
     "name": "stdout",
     "output_type": "stream",
     "text": [
      "Scraped 1. A Fortune In Lies in Dream theater, When Dream And Day Unite\n",
      "Scraped 2. Status Seeker in Dream theater, When Dream And Day Unite\n",
      "Scraped 3. The Ytse Jam in Dream theater, When Dream And Day Unite\n",
      "Scraped 4. The Killing Hand in Dream theater, When Dream And Day Unite\n",
      "Scraped 5. Light Fuse And Get Away in Dream theater, When Dream And Day Unite\n",
      "Scraped 6. Afterlife in Dream theater, When Dream And Day Unite\n",
      "Scraped 7. The Ones Who Help To Set The Sun in Dream theater, When Dream And Day Unite\n",
      "Scraped 8. Only A Matter Of Time in Dream theater, When Dream And Day Unite\n",
      "Scraped 1. Pull Me Under in Dream theater, Images And Words\n",
      "Scraped 2. Another Day in Dream theater, Images And Words\n",
      "Scraped 3. Take The Time in Dream theater, Images And Words\n",
      "Scraped 4. Surrounded in Dream theater, Images And Words\n",
      "Scraped 5. Metropolis - Part I - \"The Miracle And The Sleeper\" in Dream theater, Images And Words\n",
      "Scraped 6. Under A Glass Moon in Dream theater, Images And Words\n",
      "Scraped 7. Wait For Sleep in Dream theater, Images And Words\n",
      "Scraped 8. Learning To Live in Dream theater, Images And Words\n",
      "Scraped 1. 6:00 in Dream theater, Awake\n",
      "Scraped 2. Caught In A Web in Dream theater, Awake\n",
      "Scraped 3. Innocence Faded in Dream theater, Awake\n",
      "Scraped 4. Erotomania in Dream theater, Awake\n",
      "Scraped 5. Voices in Dream theater, Awake\n",
      "Scraped 6. The Silent Man in Dream theater, Awake\n",
      "Scraped 7. The Mirror in Dream theater, Awake\n",
      "Scraped 8. Lie in Dream theater, Awake\n",
      "Scraped 9. Lifting Shadows Off A Dream in Dream theater, Awake\n",
      "Scraped 10. Scarred in Dream theater, Awake\n",
      "Scraped 11. Space-Dye Vest in Dream theater, Awake\n",
      "Scraped 1. A Change Of Seasons in Dream theater, A Change Of Seasons\n",
      "Scraped 2. Funeral For A Friend / Love Lies Bleeding in Dream theater, A Change Of Seasons\n",
      "Scraped 3. Perfect Strangers in Dream theater, A Change Of Seasons\n",
      "Scraped 4. The Rover / Achilles Last Stand / The Song Remains The Same in Dream theater, A Change Of Seasons\n",
      "Scraped 5. The Big Medley in Dream theater, A Change Of Seasons\n",
      "Scraped 1. New Millennium in Dream theater, Falling Into Infinity\n",
      "Scraped 2. You Not Me in Dream theater, Falling Into Infinity\n",
      "Scraped 3. Peruvian Skies in Dream theater, Falling Into Infinity\n",
      "Scraped 4. Hollow Years in Dream theater, Falling Into Infinity\n",
      "Scraped 5. Burning My Soul in Dream theater, Falling Into Infinity\n",
      "Scraped 6. Hell's Kitchen in Dream theater, Falling Into Infinity\n",
      "Scraped 7. Lines In The Sand in Dream theater, Falling Into Infinity\n",
      "Scraped 8. Take Away My Pain in Dream theater, Falling Into Infinity\n",
      "Scraped 9. Just Let Me Breathe in Dream theater, Falling Into Infinity\n",
      "Scraped 10. Anna Lee in Dream theater, Falling Into Infinity\n",
      "Scraped 11. Trial Of Tears in Dream theater, Falling Into Infinity\n",
      "Scraped 1. Scene One: Regression in Dream theater, Scenes From A Memory\n",
      "Scraped 2. Scene Two: I. Overture in Dream theater, Scenes From A Memory\n",
      "Scraped 3. II. Strange Deja Vu in Dream theater, Scenes From A Memory\n",
      "Scraped 4. Scene Three: I. Through My Words in Dream theater, Scenes From A Memory\n",
      "Scraped 5. II. Fatal Tragedy in Dream theater, Scenes From A Memory\n",
      "Scraped 6. Scene Four: Beyond This Life in Dream theater, Scenes From A Memory\n",
      "Scraped 7. Scene Five: Through Her Eyes in Dream theater, Scenes From A Memory\n",
      "Scraped 8. Scene Six: Home in Dream theater, Scenes From A Memory\n",
      "Scraped 9. Scene Seven: I. The Dance Of Eternity in Dream theater, Scenes From A Memory\n",
      "Scraped 10. II. One Last Time in Dream theater, Scenes From A Memory\n",
      "Scraped 11. Scene Eight: The Spirit Carries On in Dream theater, Scenes From A Memory\n",
      "Scraped 12. Scene Nine: Finally Free in Dream theater, Scenes From A Memory\n",
      "Scraped 1. The Glass Prison in Dream theater, Six Degrees Of Inner Turbulence\n",
      "Scraped 2. Blind Faith in Dream theater, Six Degrees Of Inner Turbulence\n",
      "Scraped 3. Misunderstood in Dream theater, Six Degrees Of Inner Turbulence\n",
      "Scraped 4. The Great Debate in Dream theater, Six Degrees Of Inner Turbulence\n",
      "Scraped 5. Disappear in Dream theater, Six Degrees Of Inner Turbulence\n",
      "Scraped 6. Six Degrees Of Inner Turbulence in Dream theater, Six Degrees Of Inner Turbulence\n",
      "Scraped 1. As I Am in Dream theater, Train Of Thought\n",
      "Scraped 2. This Dying Soul in Dream theater, Train Of Thought\n",
      "Scraped 3. Endless Sacrifice in Dream theater, Train Of Thought\n",
      "Scraped 4. Honor Thy Father in Dream theater, Train Of Thought\n",
      "Scraped 5. Vacant in Dream theater, Train Of Thought\n",
      "Scraped 6. Stream Of Consciousness in Dream theater, Train Of Thought\n",
      "Scraped 7. In The Name Of God in Dream theater, Train Of Thought\n",
      "Scraped 1. The Root Of All Evil in Dream theater, Octavarium\n",
      "Scraped 2. The Answer Lies Within in Dream theater, Octavarium\n",
      "Scraped 3. These Walls in Dream theater, Octavarium\n",
      "Scraped 4. I Walk Beside You in Dream theater, Octavarium\n",
      "Scraped 5. Panic Attack in Dream theater, Octavarium\n",
      "Scraped 6. Never Enough in Dream theater, Octavarium\n",
      "Scraped 7. Sacrificed Sons in Dream theater, Octavarium\n",
      "Scraped 8. Octavarium in Dream theater, Octavarium\n",
      "Scraped 1. The Root Of All Evil in Dream theater, Score\n",
      "Scraped 2. I Walk Beside You in Dream theater, Score\n",
      "Scraped 3. Another Won in Dream theater, Score\n",
      "Scraped 4. Afterlife in Dream theater, Score\n",
      "Scraped 5. Under A Glass Moon in Dream theater, Score\n",
      "Scraped 6. Innocence Faded in Dream theater, Score\n",
      "Scraped 7. Raise The Knife in Dream theater, Score\n",
      "Scraped 8. The Spirit Carries On in Dream theater, Score\n",
      "Scraped 9. Six Degrees Of Inner Turbulence in Dream theater, Score\n",
      "Scraped 10. Vacant in Dream theater, Score\n",
      "Scraped 11. The Answer Lies Within in Dream theater, Score\n",
      "Scraped 12. Sacrificed Sons in Dream theater, Score\n",
      "Scraped 13. Octavarium in Dream theater, Score\n",
      "Scraped 14. Metropolis in Dream theater, Score\n",
      "Scraped 1. In The Presence Of Enemies, Pt. 1 in Dream theater, Systematic Chaos\n",
      "Scraped 2. Forsaken in Dream theater, Systematic Chaos\n",
      "Scraped 3. Constant Motion in Dream theater, Systematic Chaos\n",
      "Scraped 4. The Dark Eternal Night in Dream theater, Systematic Chaos\n",
      "Scraped 5. Repentance in Dream theater, Systematic Chaos\n",
      "Scraped 6. Prophets Of War in Dream theater, Systematic Chaos\n",
      "Scraped 7. The Ministry Of Lost Souls in Dream theater, Systematic Chaos\n",
      "Scraped 8. In The Presence Of Enemies, Pt. 2 in Dream theater, Systematic Chaos\n",
      "Scraped 1. A Nightmare To Remember in Dream theater, Black Clouds & Silver Linings\n",
      "Scraped 2. A Rite Of Passage in Dream theater, Black Clouds & Silver Linings\n",
      "Scraped 3. Wither in Dream theater, Black Clouds & Silver Linings\n",
      "Scraped 4. The Shattered Fortress in Dream theater, Black Clouds & Silver Linings\n",
      "Scraped 5. The Best Of Times in Dream theater, Black Clouds & Silver Linings\n",
      "Scraped 6. The Count Of Tuscany in Dream theater, Black Clouds & Silver Linings\n",
      "Scraped 1. On The Backs Of Angels in Dream theater, A Dramatic Turn Of Events\n",
      "Scraped 2. Build Me Up, Break Me Down in Dream theater, A Dramatic Turn Of Events\n",
      "Scraped 3. Lost Not Forgotten in Dream theater, A Dramatic Turn Of Events\n",
      "Scraped 4. This Is The Life in Dream theater, A Dramatic Turn Of Events\n",
      "Scraped 5. Bridges In The Sky in Dream theater, A Dramatic Turn Of Events\n",
      "Scraped 6. Outcry in Dream theater, A Dramatic Turn Of Events\n",
      "Scraped 7. Far From Heaven in Dream theater, A Dramatic Turn Of Events\n",
      "Scraped 8. Breaking All Illusions in Dream theater, A Dramatic Turn Of Events\n",
      "Scraped 9. Beneath The Surface in Dream theater, A Dramatic Turn Of Events\n",
      "Scraped 1. False Awakening Suite in Dream theater, Dream Theater\n",
      "Scraped 2. The Enemy Inside in Dream theater, Dream Theater\n",
      "Scraped 3. The Looking Glass in Dream theater, Dream Theater\n",
      "Scraped 4. Enigma Machine in Dream theater, Dream Theater\n",
      "Scraped 5. The Bigger Picture in Dream theater, Dream Theater\n",
      "Scraped 6. Behind The Veil in Dream theater, Dream Theater\n",
      "Scraped 7. Surrender To Reason in Dream theater, Dream Theater\n",
      "Scraped 8. Along For The Ride in Dream theater, Dream Theater\n",
      "Scraped 9. Illumination Theory in Dream theater, Dream Theater\n",
      "Scraped 1. I. Paradoxe De La Lumière Noire in Dream theater, Illumination Theory\n",
      "Scraped 2. II. Live, Die, Kill in Dream theater, Illumination Theory\n",
      "Scraped 3. III. The Embracing Circle in Dream theater, Illumination Theory\n",
      "Scraped 4. IV. The Pursuit Of Truth in Dream theater, Illumination Theory\n",
      "Scraped 5. V. Surrender, Trust & Passion in Dream theater, Illumination Theory\n"
     ]
    },
    {
     "name": "stdout",
     "output_type": "stream",
     "text": [
      "Scraped 1. Descent Of The Nomacs in Dream theater, The Astonishing\n",
      "Scraped 2. Dystopian Overture in Dream theater, The Astonishing\n",
      "Scraped 3. The Gift Of Music in Dream theater, The Astonishing\n",
      "Scraped 4. The Answer in Dream theater, The Astonishing\n",
      "Scraped 5. A Better Life in Dream theater, The Astonishing\n",
      "Scraped 6. Lord Nafaryus in Dream theater, The Astonishing\n",
      "Scraped 7. A Savior In The Square in Dream theater, The Astonishing\n",
      "Scraped 8. When Your Time Has Come in Dream theater, The Astonishing\n",
      "Scraped 9. Act Of Faythe in Dream theater, The Astonishing\n",
      "Scraped 10. Three Days in Dream theater, The Astonishing\n",
      "Scraped 11. The Hovering Sojourn in Dream theater, The Astonishing\n",
      "Scraped 12. Brother, Can You Hear Me? in Dream theater, The Astonishing\n",
      "Scraped 13. A Life Left Behind in Dream theater, The Astonishing\n",
      "Scraped 14. Ravenskill in Dream theater, The Astonishing\n",
      "Scraped 15. Chosen in Dream theater, The Astonishing\n",
      "Scraped 16. A Tempting Offer in Dream theater, The Astonishing\n",
      "Scraped 17. Digital Discord in Dream theater, The Astonishing\n",
      "Scraped 18. The X Aspect in Dream theater, The Astonishing\n",
      "Scraped 19. A New Beginning in Dream theater, The Astonishing\n",
      "Scraped 20. The Road To Revolution in Dream theater, The Astonishing\n",
      "Scraped 21. 2285 Entr'acte in Dream theater, The Astonishing\n",
      "Scraped 22. Moment Of Betrayal in Dream theater, The Astonishing\n",
      "Scraped 23. Heaven's Cove in Dream theater, The Astonishing\n",
      "Scraped 24. Begin Again in Dream theater, The Astonishing\n",
      "Scraped 25. The Path That Divides in Dream theater, The Astonishing\n",
      "Scraped 26. Machine Chatter in Dream theater, The Astonishing\n",
      "Scraped 27. The Walking Shadow in Dream theater, The Astonishing\n",
      "Scraped 28. My Last Farewell in Dream theater, The Astonishing\n",
      "Scraped 29. Losing Faythe in Dream theater, The Astonishing\n",
      "Scraped 30. Whispers On The Wind in Dream theater, The Astonishing\n",
      "Scraped 31. Hymn Of A Thousand Voices in Dream theater, The Astonishing\n",
      "Scraped 32. Our New World in Dream theater, The Astonishing\n",
      "Scraped 33. Power Down in Dream theater, The Astonishing\n",
      "Scraped 34. Astonishing in Dream theater, The Astonishing\n"
     ]
    }
   ],
   "source": [
    "song_lists = [dlscraper(url,'Progressive Metal') for url in url_list]"
   ]
  },
  {
   "cell_type": "code",
   "execution_count": 220,
   "metadata": {},
   "outputs": [
    {
     "name": "stdout",
     "output_type": "stream",
     "text": [
      "[LOG] Written songs for When Dream And Day Unite - Dream theater\n",
      "[LOG] Written songs for When Dream And Day Unite - Dream theater\n",
      "[LOG] Written songs for When Dream And Day Unite - Dream theater\n",
      "[LOG] Written songs for When Dream And Day Unite - Dream theater\n",
      "[LOG] Written songs for When Dream And Day Unite - Dream theater\n",
      "[LOG] Written songs for When Dream And Day Unite - Dream theater\n",
      "[LOG] Written songs for When Dream And Day Unite - Dream theater\n",
      "[LOG] Written songs for When Dream And Day Unite - Dream theater\n",
      "[LOG] Written songs for Images And Words - Dream theater\n",
      "[LOG] Written songs for Images And Words - Dream theater\n",
      "[LOG] Written songs for Images And Words - Dream theater\n",
      "[LOG] Written songs for Images And Words - Dream theater\n",
      "[LOG] Written songs for Images And Words - Dream theater\n",
      "[LOG] Written songs for Images And Words - Dream theater\n",
      "[LOG] Written songs for Images And Words - Dream theater\n",
      "[LOG] Written songs for Images And Words - Dream theater\n",
      "[LOG] Written songs for Awake - Dream theater\n",
      "[LOG] Written songs for Awake - Dream theater\n",
      "[LOG] Written songs for Awake - Dream theater\n",
      "[LOG] Written songs for Awake - Dream theater\n",
      "[LOG] Written songs for Awake - Dream theater\n",
      "[LOG] Written songs for Awake - Dream theater\n",
      "[LOG] Written songs for Awake - Dream theater\n",
      "[LOG] Written songs for Awake - Dream theater\n",
      "[LOG] Written songs for Awake - Dream theater\n",
      "[LOG] Written songs for Awake - Dream theater\n",
      "[LOG] Written songs for Awake - Dream theater\n",
      "[LOG] Written songs for A Change Of Seasons - Dream theater\n",
      "[LOG] Written songs for A Change Of Seasons - Dream theater\n",
      "[LOG] Written songs for A Change Of Seasons - Dream theater\n",
      "[LOG] Written songs for A Change Of Seasons - Dream theater\n",
      "[LOG] Written songs for A Change Of Seasons - Dream theater\n",
      "[LOG] Written songs for Falling Into Infinity - Dream theater\n",
      "[LOG] Written songs for Falling Into Infinity - Dream theater\n",
      "[LOG] Written songs for Falling Into Infinity - Dream theater\n",
      "[LOG] Written songs for Falling Into Infinity - Dream theater\n",
      "[LOG] Written songs for Falling Into Infinity - Dream theater\n",
      "[LOG] Written songs for Falling Into Infinity - Dream theater\n",
      "[LOG] Written songs for Falling Into Infinity - Dream theater\n",
      "[LOG] Written songs for Falling Into Infinity - Dream theater\n",
      "[LOG] Written songs for Falling Into Infinity - Dream theater\n",
      "[LOG] Written songs for Falling Into Infinity - Dream theater\n",
      "[LOG] Written songs for Falling Into Infinity - Dream theater\n",
      "[LOG] Written songs for Scenes From A Memory - Dream theater\n",
      "[LOG] Written songs for Scenes From A Memory - Dream theater\n",
      "[LOG] Written songs for Scenes From A Memory - Dream theater\n",
      "[LOG] Written songs for Scenes From A Memory - Dream theater\n",
      "[LOG] Written songs for Scenes From A Memory - Dream theater\n",
      "[LOG] Written songs for Scenes From A Memory - Dream theater\n",
      "[LOG] Written songs for Scenes From A Memory - Dream theater\n",
      "[LOG] Written songs for Scenes From A Memory - Dream theater\n",
      "[LOG] Written songs for Scenes From A Memory - Dream theater\n",
      "[LOG] Written songs for Scenes From A Memory - Dream theater\n",
      "[LOG] Written songs for Scenes From A Memory - Dream theater\n",
      "[LOG] Written songs for Scenes From A Memory - Dream theater\n",
      "[LOG] Written songs for Six Degrees Of Inner Turbulence - Dream theater\n",
      "[LOG] Written songs for Six Degrees Of Inner Turbulence - Dream theater\n",
      "[LOG] Written songs for Six Degrees Of Inner Turbulence - Dream theater\n",
      "[LOG] Written songs for Six Degrees Of Inner Turbulence - Dream theater\n",
      "[LOG] Written songs for Six Degrees Of Inner Turbulence - Dream theater\n",
      "[LOG] Written songs for Six Degrees Of Inner Turbulence - Dream theater\n",
      "[LOG] Written songs for Train Of Thought - Dream theater\n",
      "[LOG] Written songs for Train Of Thought - Dream theater\n",
      "[LOG] Written songs for Train Of Thought - Dream theater\n",
      "[LOG] Written songs for Train Of Thought - Dream theater\n",
      "[LOG] Written songs for Train Of Thought - Dream theater\n",
      "[LOG] Written songs for Train Of Thought - Dream theater\n",
      "[LOG] Written songs for Train Of Thought - Dream theater\n",
      "[LOG] Written songs for Octavarium - Dream theater\n",
      "[LOG] Written songs for Octavarium - Dream theater\n",
      "[LOG] Written songs for Octavarium - Dream theater\n",
      "[LOG] Written songs for Octavarium - Dream theater\n",
      "[LOG] Written songs for Octavarium - Dream theater\n",
      "[LOG] Written songs for Octavarium - Dream theater\n",
      "[LOG] Written songs for Octavarium - Dream theater\n",
      "[LOG] Written songs for Octavarium - Dream theater\n",
      "[LOG] Written songs for Score - Dream theater\n",
      "[LOG] Written songs for Score - Dream theater\n",
      "[LOG] Written songs for Score - Dream theater\n",
      "[LOG] Written songs for Score - Dream theater\n",
      "[LOG] Written songs for Score - Dream theater\n",
      "[LOG] Written songs for Score - Dream theater\n",
      "[LOG] Written songs for Score - Dream theater\n",
      "[LOG] Written songs for Score - Dream theater\n",
      "[LOG] Written songs for Score - Dream theater\n",
      "[LOG] Written songs for Score - Dream theater\n",
      "[LOG] Written songs for Score - Dream theater\n",
      "[LOG] Written songs for Score - Dream theater\n",
      "[LOG] Written songs for Score - Dream theater\n",
      "[LOG] Written songs for Score - Dream theater\n",
      "[LOG] Written songs for Systematic Chaos - Dream theater\n",
      "[LOG] Written songs for Systematic Chaos - Dream theater\n",
      "[LOG] Written songs for Systematic Chaos - Dream theater\n",
      "[LOG] Written songs for Systematic Chaos - Dream theater\n",
      "[LOG] Written songs for Systematic Chaos - Dream theater\n",
      "[LOG] Written songs for Systematic Chaos - Dream theater\n",
      "[LOG] Written songs for Systematic Chaos - Dream theater\n",
      "[LOG] Written songs for Systematic Chaos - Dream theater\n",
      "[LOG] Written songs for Black Clouds & Silver Linings - Dream theater\n",
      "[LOG] Written songs for Black Clouds & Silver Linings - Dream theater\n",
      "[LOG] Written songs for Black Clouds & Silver Linings - Dream theater\n",
      "[LOG] Written songs for Black Clouds & Silver Linings - Dream theater\n",
      "[LOG] Written songs for Black Clouds & Silver Linings - Dream theater\n",
      "[LOG] Written songs for Black Clouds & Silver Linings - Dream theater\n",
      "[LOG] Written songs for A Dramatic Turn Of Events - Dream theater\n",
      "[LOG] Written songs for A Dramatic Turn Of Events - Dream theater\n",
      "[LOG] Written songs for A Dramatic Turn Of Events - Dream theater\n",
      "[LOG] Written songs for A Dramatic Turn Of Events - Dream theater\n",
      "[LOG] Written songs for A Dramatic Turn Of Events - Dream theater\n",
      "[LOG] Written songs for A Dramatic Turn Of Events - Dream theater\n",
      "[LOG] Written songs for A Dramatic Turn Of Events - Dream theater\n",
      "[LOG] Written songs for A Dramatic Turn Of Events - Dream theater\n",
      "[LOG] Written songs for A Dramatic Turn Of Events - Dream theater\n",
      "[LOG] Written songs for Dream Theater - Dream theater\n",
      "[LOG] Written songs for Dream Theater - Dream theater\n",
      "[LOG] Written songs for Dream Theater - Dream theater\n",
      "[LOG] Written songs for Dream Theater - Dream theater\n",
      "[LOG] Written songs for Dream Theater - Dream theater\n",
      "[LOG] Written songs for Dream Theater - Dream theater\n",
      "[LOG] Written songs for Dream Theater - Dream theater\n",
      "[LOG] Written songs for Dream Theater - Dream theater\n",
      "[LOG] Written songs for Dream Theater - Dream theater\n",
      "[LOG] Written songs for Illumination Theory - Dream theater\n",
      "[LOG] Written songs for Illumination Theory - Dream theater\n",
      "[LOG] Written songs for Illumination Theory - Dream theater\n",
      "[LOG] Written songs for Illumination Theory - Dream theater\n",
      "[LOG] Written songs for Illumination Theory - Dream theater\n",
      "[LOG] Written songs for The Astonishing - Dream theater\n",
      "[LOG] Written songs for The Astonishing - Dream theater\n",
      "[LOG] Written songs for The Astonishing - Dream theater\n",
      "[LOG] Written songs for The Astonishing - Dream theater\n",
      "[LOG] Written songs for The Astonishing - Dream theater\n",
      "[LOG] Written songs for The Astonishing - Dream theater\n",
      "[LOG] Written songs for The Astonishing - Dream theater\n",
      "[LOG] Written songs for The Astonishing - Dream theater\n",
      "[LOG] Written songs for The Astonishing - Dream theater\n",
      "[LOG] Written songs for The Astonishing - Dream theater\n",
      "[LOG] Written songs for The Astonishing - Dream theater\n",
      "[LOG] Written songs for The Astonishing - Dream theater\n",
      "[LOG] Written songs for The Astonishing - Dream theater\n",
      "[LOG] Written songs for The Astonishing - Dream theater\n",
      "[LOG] Written songs for The Astonishing - Dream theater\n",
      "[LOG] Written songs for The Astonishing - Dream theater\n",
      "[LOG] Written songs for The Astonishing - Dream theater\n",
      "[LOG] Written songs for The Astonishing - Dream theater\n",
      "[LOG] Written songs for The Astonishing - Dream theater\n",
      "[LOG] Written songs for The Astonishing - Dream theater\n",
      "[LOG] Written songs for The Astonishing - Dream theater\n",
      "[LOG] Written songs for The Astonishing - Dream theater\n",
      "[LOG] Written songs for The Astonishing - Dream theater\n",
      "[LOG] Written songs for The Astonishing - Dream theater\n",
      "[LOG] Written songs for The Astonishing - Dream theater\n",
      "[LOG] Written songs for The Astonishing - Dream theater\n",
      "[LOG] Written songs for The Astonishing - Dream theater\n",
      "[LOG] Written songs for The Astonishing - Dream theater\n",
      "[LOG] Written songs for The Astonishing - Dream theater\n",
      "[LOG] Written songs for The Astonishing - Dream theater\n",
      "[LOG] Written songs for The Astonishing - Dream theater\n",
      "[LOG] Written songs for The Astonishing - Dream theater\n",
      "[LOG] Written songs for The Astonishing - Dream theater\n",
      "[LOG] Written songs for The Astonishing - Dream theater\n"
     ]
    }
   ],
   "source": [
    "for song_list in song_lists:\n",
    "    albumwriter(song_list, 'outputs/lyrics.db')"
   ]
  },
  {
   "cell_type": "code",
   "execution_count": 214,
   "metadata": {},
   "outputs": [
    {
     "data": {
      "text/plain": [
       "'Dream theater'"
      ]
     },
     "execution_count": 214,
     "metadata": {},
     "output_type": "execute_result"
    }
   ],
   "source": [
    "song_list[0].artist"
   ]
  },
  {
   "cell_type": "code",
   "execution_count": 221,
   "metadata": {},
   "outputs": [
    {
     "name": "stdout",
     "output_type": "stream",
     "text": [
      "Scraped 1. Premonition in Haken, Visions\n",
      "Scraped 2. Nocturnal Conspiracy in Haken, Visions\n",
      "Scraped 3. Insomnia in Haken, Visions\n",
      "Scraped 4. The Mind's Eye in Haken, Visions\n",
      "Scraped 5. Portals in Haken, Visions\n",
      "Scraped 6. Shapeshifter in Haken, Visions\n",
      "Scraped 7. Deathless in Haken, Visions\n",
      "Scraped 8. Visions in Haken, Visions\n"
     ]
    }
   ],
   "source": [
    "song_list = dlscraper('http://www.darklyrics.com/lyrics/haken/visions.html','Progressive Metal')"
   ]
  },
  {
   "cell_type": "code",
   "execution_count": 227,
   "metadata": {},
   "outputs": [
    {
     "data": {
      "text/plain": [
       "' '"
      ]
     },
     "execution_count": 227,
     "metadata": {},
     "output_type": "execute_result"
    }
   ],
   "source": [
    "song_list[4].lyrics"
   ]
  },
  {
   "cell_type": "markdown",
   "metadata": {},
   "source": [
    "# Lyrics Crawler (Object) "
   ]
  },
  {
   "cell_type": "code",
   "execution_count": 17,
   "metadata": {},
   "outputs": [],
   "source": [
    "import requests,re,bs4\n",
    "import sqlite3\n",
    "from time import sleep\n",
    "\n",
    "class DarkLyricsCrawler(object):\n",
    "    \n",
    "    class song(object):\n",
    "        def __init__(self, name,lyrics,artist,genre,album,year):\n",
    "            self.name   = name\n",
    "            self.lyrics = lyrics\n",
    "            self.artist = artist\n",
    "            self.genre  = genre\n",
    "            self.album  = album\n",
    "            self.year   = year\n",
    "            \n",
    "    def url_extractor(self,band_name,genre):\n",
    "        band_name = band_name.replace(' ','').lower()\n",
    "        first_letter = band_name[0]\n",
    "        url  = 'http://www.darklyrics.com/%s/%s.html' % (first_letter,band_name)\n",
    "        soup = bs4.BeautifulSoup(requests.get(url).content,'html.parser')\n",
    "        url_list = [album.find('a').get('href') for album in soup.find_all('div', class_='album')]\n",
    "        url_list = [re.sub('#1|\\.\\./','',url) for url in url_list]\n",
    "        url_list = ['http://www.darklyrics.com/' + url for url in url_list]\n",
    "        print('[LOG]: Scraped %i urls for %s' % (len(url_list),band_name))\n",
    "        return((url_list,genre))\n",
    "\n",
    "    def album_scraper(self,url,genre):\n",
    "        html = requests.get(url)\n",
    "        soup = bs4.BeautifulSoup(html.content,'html.parser')\n",
    "        # Meta info extraction\n",
    "        metainfo    = [soup.find('h1').text,soup.find('h2').text]\n",
    "        metainfo[0] = metainfo[0].replace(' LYRICS','').capitalize()\n",
    "        metainfo.append(''.join(re.findall('\\(([0-9]{4})\\)',metainfo[1])))\n",
    "        if not metainfo[2]:\n",
    "            metainfo[2] == None\n",
    "            metainfo[1] == None\n",
    "        else:\n",
    "            metainfo[2] = int(metainfo[2])\n",
    "            metainfo[1] = re.search('\"(.*)\"',metainfo[1]).groups()[0]\n",
    "        # lyric extraction\n",
    "        lyrics     = soup.find('div', class_='lyrics')\n",
    "        tagnames   = [child.name for child in list(lyrics.children)]\n",
    "        begins     = [i for i,x in enumerate(tagnames) if x=='h3']\n",
    "        ends       = [i-1 for i in begins][1:] + [len(tagnames)]\n",
    "        # song name and lyrics\n",
    "        songnames  = [list(lyrics.children)[i].text for i in begins]\n",
    "        songlyrics = [list(lyrics.children)[(x+1):(ends[i]+1)] for i,x in enumerate(begins)]\n",
    "        songlyrics = [[line.strip() for line in lyric if type(line) is bs4.element.NavigableString] for lyric in songlyrics]\n",
    "        songlyrics = [' '.join(lyric) for lyric in songlyrics]\n",
    "        #\n",
    "        # Creation of song and Album (songs list)\n",
    "        songs = []\n",
    "        for i,x in enumerate(songnames):\n",
    "            songs.append(self.song(x,songlyrics[i],metainfo[0],genre,metainfo[1],metainfo[2]))\n",
    "            print('Scraped %s of %s, %s' % (x,metainfo[0],metainfo[1]))\n",
    "        sleep(3)\n",
    "        return(songs)\n",
    "\n",
    "    def db_creator(self, dbpath, dbname):\n",
    "        conn = sqlite3.connect(dbpath + '/' + dbname)\n",
    "        cur  = conn.cursor()\n",
    "        cur.execute('''CREATE TABLE lyrics\n",
    "                     (name TEXT, lyrics TEXT, artist TEXT, genre TEXT, album TEXT,year INTEGER, source TEXT)''')\n",
    "        cur.execute('''CREATE UNIQUE INDEX id ON lyrics (name, artist, album)''')\n",
    "\n",
    "        conn.commit()    \n",
    "        conn.close()\n",
    "\n",
    "    def album_writer(self, song_info_list,dbdest):\n",
    "        conn = sqlite3.connect(dbdest)\n",
    "        cur  = conn.cursor()\n",
    "\n",
    "        for s in song_info_list:\n",
    "            # Yazma\n",
    "            cur.execute(\"INSERT OR IGNORE INTO lyrics VALUES (?,?,?,?,?,?,?)\", \n",
    "                        (s.name,s.lyrics,s.artist,s.genre,s.album,s.year,'Darklyrics'))\n",
    "            print('[LOG] Written songs for %s - %s' % (s.album, s.artist))\n",
    "        conn.commit()    \n",
    "        conn.close()"
   ]
  },
  {
   "cell_type": "code",
   "execution_count": 18,
   "metadata": {},
   "outputs": [],
   "source": [
    "dc = DarkLyricsCrawler()"
   ]
  },
  {
   "cell_type": "code",
   "execution_count": 3,
   "metadata": {},
   "outputs": [
    {
     "name": "stdout",
     "output_type": "stream",
     "text": [
      "[LOG]: Scraped 1 urls for controldenied\n",
      "[LOG]: Scraped 6 urls for leprous\n"
     ]
    }
   ],
   "source": [
    "band_list  = [('Control Denied','Thrash Metal'), ('Leprous','Progressive Metal')]\n",
    "album_urls = [dc.url_extractor(band,genre) for band,genre in band_list]"
   ]
  },
  {
   "cell_type": "code",
   "execution_count": 4,
   "metadata": {},
   "outputs": [
    {
     "data": {
      "text/plain": [
       "[(['http://www.darklyrics.com/lyrics/controldenied/thefragileartofexistence.html'],\n",
       "  'Thrash Metal'),\n",
       " (['http://www.darklyrics.com/lyrics/leprous/aeolia.html',\n",
       "   'http://www.darklyrics.com/lyrics/leprous/tallpoppysyndrome.html',\n",
       "   'http://www.darklyrics.com/lyrics/leprous/bilateral.html',\n",
       "   'http://www.darklyrics.com/lyrics/leprous/coal.html',\n",
       "   'http://www.darklyrics.com/lyrics/leprous/thecongregation.html',\n",
       "   'http://www.darklyrics.com/lyrics/leprous/malina.html'],\n",
       "  'Progressive Metal')]"
      ]
     },
     "execution_count": 4,
     "metadata": {},
     "output_type": "execute_result"
    }
   ],
   "source": [
    "album_urls"
   ]
  },
  {
   "cell_type": "code",
   "execution_count": 5,
   "metadata": {},
   "outputs": [
    {
     "name": "stdout",
     "output_type": "stream",
     "text": [
      "Scraped 1. Consumed of Control denied, The Fragile Art Of Existence\n",
      "Scraped 2. Breaking The Broken of Control denied, The Fragile Art Of Existence\n",
      "Scraped 3. Expect The Unexpected of Control denied, The Fragile Art Of Existence\n",
      "Scraped 4. What If...? of Control denied, The Fragile Art Of Existence\n",
      "Scraped 5. When The Link Becomes Missing of Control denied, The Fragile Art Of Existence\n",
      "Scraped 6. Believe of Control denied, The Fragile Art Of Existence\n",
      "Scraped 7. Cut Down of Control denied, The Fragile Art Of Existence\n",
      "Scraped 8. The Fragile Art Of Existence of Control denied, The Fragile Art Of Existence\n",
      "Scraped 1. Disclosure of Leprous, Aeolia\n",
      "Scraped 2. Black Stains of Leprous, Aeolia\n",
      "Scraped 3. Last Word of Leprous, Aeolia\n",
      "Scraped 4. Aeolus Shadow of Leprous, Aeolia\n",
      "Scraped 5. The Great Beast of Leprous, Aeolia\n",
      "Scraped 6. Indecisive of Leprous, Aeolia\n",
      "Scraped 7. Close Your Heart of Leprous, Aeolia\n",
      "Scraped 8. Deformed Beauty of Leprous, Aeolia\n",
      "Scraped 9. Eye Of The Storm of Leprous, Aeolia\n",
      "Scraped 1. Passing of Leprous, Tall Poppy Syndrome\n",
      "Scraped 2. Phantom Pain of Leprous, Tall Poppy Syndrome\n",
      "Scraped 3. Dare You of Leprous, Tall Poppy Syndrome\n",
      "Scraped 4. Fate of Leprous, Tall Poppy Syndrome\n",
      "Scraped 5. He Will Kill Again of Leprous, Tall Poppy Syndrome\n",
      "Scraped 6. Not Even A Name of Leprous, Tall Poppy Syndrome\n",
      "Scraped 7. Tall Poppy Syndrome of Leprous, Tall Poppy Syndrome\n",
      "Scraped 8. White of Leprous, Tall Poppy Syndrome\n",
      "Scraped 1. Bilateral of Leprous, Bilateral\n",
      "Scraped 2. Forced Entry of Leprous, Bilateral\n",
      "Scraped 3. Restless of Leprous, Bilateral\n",
      "Scraped 4. Thorn of Leprous, Bilateral\n",
      "Scraped 5. Mb. Indifferentia of Leprous, Bilateral\n",
      "Scraped 6. Waste Of Air of Leprous, Bilateral\n",
      "Scraped 7. Mediocrity Wins of Leprous, Bilateral\n",
      "Scraped 8. Cryptogenic Desires of Leprous, Bilateral\n",
      "Scraped 9. Acquired Taste of Leprous, Bilateral\n",
      "Scraped 10. Painful Detour of Leprous, Bilateral\n",
      "Scraped 1. Foe of Leprous, Coal\n",
      "Scraped 2. Chronic of Leprous, Coal\n",
      "Scraped 3. Coal of Leprous, Coal\n",
      "Scraped 4. The Cloak of Leprous, Coal\n",
      "Scraped 5. The Valley of Leprous, Coal\n",
      "Scraped 6. Salt of Leprous, Coal\n",
      "Scraped 7. Echo of Leprous, Coal\n",
      "Scraped 8. Contaminate Me of Leprous, Coal\n",
      "Scraped 9. Bury of Leprous, Coal\n",
      "Scraped 10. Foe (Remix) of Leprous, Coal\n",
      "Scraped 1. The Price of Leprous, The Congregation\n",
      "Scraped 2. Third Law of Leprous, The Congregation\n",
      "Scraped 3. Rewind of Leprous, The Congregation\n",
      "Scraped 4. The Flood of Leprous, The Congregation\n",
      "Scraped 5. Triumphant of Leprous, The Congregation\n",
      "Scraped 6. Within My Fence of Leprous, The Congregation\n",
      "Scraped 7. Red of Leprous, The Congregation\n",
      "Scraped 8. Slave of Leprous, The Congregation\n",
      "Scraped 9. Moon of Leprous, The Congregation\n",
      "Scraped 10. Down of Leprous, The Congregation\n",
      "Scraped 11. Lower of Leprous, The Congregation\n",
      "Scraped 12. Pixel of Leprous, The Congregation\n",
      "Scraped 1. Bonneville of Leprous, Malina\n",
      "Scraped 2. Stuck of Leprous, Malina\n",
      "Scraped 3. From The Flame of Leprous, Malina\n",
      "Scraped 4. Captive of Leprous, Malina\n",
      "Scraped 5. Illuminate of Leprous, Malina\n",
      "Scraped 6. Leashes of Leprous, Malina\n",
      "Scraped 7. Mirage of Leprous, Malina\n",
      "Scraped 8. Malina of Leprous, Malina\n",
      "Scraped 9. Coma of Leprous, Malina\n",
      "Scraped 10. The Weight Of Disaster of Leprous, Malina\n",
      "Scraped 11. The Last Milestone of Leprous, Malina\n",
      "Scraped 12. Root of Leprous, Malina\n"
     ]
    }
   ],
   "source": [
    "albums = []\n",
    "for urls, genre in album_urls:\n",
    "    for url in urls:\n",
    "        albums.append(dc.album_scraper(url, genre))"
   ]
  },
  {
   "cell_type": "code",
   "execution_count": 15,
   "metadata": {},
   "outputs": [
    {
     "data": {
      "text/plain": [
       "'I fear my own shadow In the city smoke Like a wave’s undertow The silence awoke  The city lights are blending My eyes and my soul Differs not day from night Entering black hole  As the wind sweeps the city-sky Aeolus casts his shadow Metropolis at his feet As noise explodes to silence  As total chaos is unleashed The storm eats the city heart Pandemonium is released Damnation of true art  No escaping the truth The gardens all dead No more light to inhale The beast have been fed  I feel my own shadow Creeping up on me Like a wave’s undertow I am not to be  '"
      ]
     },
     "execution_count": 15,
     "metadata": {},
     "output_type": "execute_result"
    }
   ],
   "source": [
    "albums[1][3].lyrics"
   ]
  },
  {
   "cell_type": "code",
   "execution_count": 20,
   "metadata": {},
   "outputs": [
    {
     "name": "stdout",
     "output_type": "stream",
     "text": [
      "[LOG] Written songs for Aeolia - Leprous\n",
      "[LOG] Written songs for Aeolia - Leprous\n",
      "[LOG] Written songs for Aeolia - Leprous\n",
      "[LOG] Written songs for Aeolia - Leprous\n",
      "[LOG] Written songs for Aeolia - Leprous\n",
      "[LOG] Written songs for Aeolia - Leprous\n",
      "[LOG] Written songs for Aeolia - Leprous\n",
      "[LOG] Written songs for Aeolia - Leprous\n",
      "[LOG] Written songs for Aeolia - Leprous\n"
     ]
    }
   ],
   "source": [
    "dc.album_writer(albums[1],'output/lyrics.db')"
   ]
  },
  {
   "cell_type": "markdown",
   "metadata": {},
   "source": [
    "# azlyrics.com "
   ]
  },
  {
   "cell_type": "code",
   "execution_count": 9,
   "metadata": {},
   "outputs": [],
   "source": [
    "import requests,re,bs4\n",
    "import sqlite3\n",
    "from time import sleep\n",
    "from random import uniform, randint\n",
    "\n",
    "url = 'https://raw.githubusercontent.com/asuerdem/SMM/master/1_Crawler/1_newscrawler/user_agent_list.txt'\n",
    "useragents = requests.get(url)"
   ]
  },
  {
   "cell_type": "code",
   "execution_count": 10,
   "metadata": {},
   "outputs": [],
   "source": [
    "useragents = useragents.text.split('\\n')"
   ]
  },
  {
   "cell_type": "code",
   "execution_count": 14,
   "metadata": {},
   "outputs": [
    {
     "ename": "AttributeError",
     "evalue": "'NoneType' object has no attribute 'http_status'",
     "output_type": "error",
     "traceback": [
      "\u001b[0;31m---------------------------------------------------------------------------\u001b[0m",
      "\u001b[0;31mAttributeError\u001b[0m                            Traceback (most recent call last)",
      "\u001b[0;32m<ipython-input-14-4c8936eb96bc>\u001b[0m in \u001b[0;36m<module>\u001b[0;34m()\u001b[0m\n\u001b[1;32m      6\u001b[0m \u001b[0;32mwith\u001b[0m \u001b[0mghost\u001b[0m\u001b[0;34m.\u001b[0m\u001b[0mstart\u001b[0m\u001b[0;34m(\u001b[0m\u001b[0;34m)\u001b[0m \u001b[0;32mas\u001b[0m \u001b[0msession\u001b[0m\u001b[0;34m:\u001b[0m\u001b[0;34m\u001b[0m\u001b[0m\n\u001b[1;32m      7\u001b[0m     \u001b[0mpage\u001b[0m\u001b[0;34m,\u001b[0m \u001b[0mextra_resources\u001b[0m \u001b[0;34m=\u001b[0m \u001b[0msession\u001b[0m\u001b[0;34m.\u001b[0m\u001b[0mopen\u001b[0m\u001b[0;34m(\u001b[0m\u001b[0murl\u001b[0m\u001b[0;34m)\u001b[0m\u001b[0;34m\u001b[0m\u001b[0m\n\u001b[0;32m----> 8\u001b[0;31m     \u001b[0;32massert\u001b[0m \u001b[0mpage\u001b[0m\u001b[0;34m.\u001b[0m\u001b[0mhttp_status\u001b[0m \u001b[0;34m==\u001b[0m \u001b[0;36m200\u001b[0m \u001b[0;32mand\u001b[0m \u001b[0;34m'jeanphix'\u001b[0m \u001b[0;32min\u001b[0m \u001b[0mpage\u001b[0m\u001b[0;34m.\u001b[0m\u001b[0mcontent\u001b[0m\u001b[0;34m\u001b[0m\u001b[0m\n\u001b[0m\u001b[1;32m      9\u001b[0m \u001b[0mpage\u001b[0m\u001b[0;34m\u001b[0m\u001b[0m\n",
      "\u001b[0;31mAttributeError\u001b[0m: 'NoneType' object has no attribute 'http_status'"
     ]
    }
   ],
   "source": [
    "from ghost import Ghost\n",
    "ghost = Ghost()\n",
    "\n",
    "url = 'https://www.azlyrics.com/f/faithnomore.html'\n",
    "\n",
    "with ghost.start() as session:\n",
    "    page, extra_resources = session.open(url)\n",
    "    assert page.http_status == 200 and 'jeanphix' in page.content\n"
   ]
  },
  {
   "cell_type": "code",
   "execution_count": 13,
   "metadata": {},
   "outputs": [
    {
     "ename": "ConnectionError",
     "evalue": "('Connection aborted.', RemoteDisconnected('Remote end closed connection without response',))",
     "output_type": "error",
     "traceback": [
      "\u001b[0;31m---------------------------------------------------------------------------\u001b[0m",
      "\u001b[0;31mRemoteDisconnected\u001b[0m                        Traceback (most recent call last)",
      "\u001b[0;32m/usr/lib/python3/dist-packages/urllib3/connectionpool.py\u001b[0m in \u001b[0;36murlopen\u001b[0;34m(self, method, url, body, headers, retries, redirect, assert_same_host, timeout, pool_timeout, release_conn, chunked, body_pos, **response_kw)\u001b[0m\n\u001b[1;32m    600\u001b[0m                                                   \u001b[0mbody\u001b[0m\u001b[0;34m=\u001b[0m\u001b[0mbody\u001b[0m\u001b[0;34m,\u001b[0m \u001b[0mheaders\u001b[0m\u001b[0;34m=\u001b[0m\u001b[0mheaders\u001b[0m\u001b[0;34m,\u001b[0m\u001b[0;34m\u001b[0m\u001b[0m\n\u001b[0;32m--> 601\u001b[0;31m                                                   chunked=chunked)\n\u001b[0m\u001b[1;32m    602\u001b[0m \u001b[0;34m\u001b[0m\u001b[0m\n",
      "\u001b[0;32m/usr/lib/python3/dist-packages/urllib3/connectionpool.py\u001b[0m in \u001b[0;36m_make_request\u001b[0;34m(self, conn, method, url, timeout, chunked, **httplib_request_kw)\u001b[0m\n\u001b[1;32m    386\u001b[0m                     \u001b[0;31m# otherwise it looks like a programming error was the cause.\u001b[0m\u001b[0;34m\u001b[0m\u001b[0;34m\u001b[0m\u001b[0m\n\u001b[0;32m--> 387\u001b[0;31m                     \u001b[0msix\u001b[0m\u001b[0;34m.\u001b[0m\u001b[0mraise_from\u001b[0m\u001b[0;34m(\u001b[0m\u001b[0me\u001b[0m\u001b[0;34m,\u001b[0m \u001b[0;32mNone\u001b[0m\u001b[0;34m)\u001b[0m\u001b[0;34m\u001b[0m\u001b[0m\n\u001b[0m\u001b[1;32m    388\u001b[0m         \u001b[0;32mexcept\u001b[0m \u001b[0;34m(\u001b[0m\u001b[0mSocketTimeout\u001b[0m\u001b[0;34m,\u001b[0m \u001b[0mBaseSSLError\u001b[0m\u001b[0;34m,\u001b[0m \u001b[0mSocketError\u001b[0m\u001b[0;34m)\u001b[0m \u001b[0;32mas\u001b[0m \u001b[0me\u001b[0m\u001b[0;34m:\u001b[0m\u001b[0;34m\u001b[0m\u001b[0m\n",
      "\u001b[0;32m/usr/lib/python3/dist-packages/six.py\u001b[0m in \u001b[0;36mraise_from\u001b[0;34m(value, from_value)\u001b[0m\n",
      "\u001b[0;32m/usr/lib/python3/dist-packages/urllib3/connectionpool.py\u001b[0m in \u001b[0;36m_make_request\u001b[0;34m(self, conn, method, url, timeout, chunked, **httplib_request_kw)\u001b[0m\n\u001b[1;32m    382\u001b[0m                 \u001b[0;32mtry\u001b[0m\u001b[0;34m:\u001b[0m\u001b[0;34m\u001b[0m\u001b[0m\n\u001b[0;32m--> 383\u001b[0;31m                     \u001b[0mhttplib_response\u001b[0m \u001b[0;34m=\u001b[0m \u001b[0mconn\u001b[0m\u001b[0;34m.\u001b[0m\u001b[0mgetresponse\u001b[0m\u001b[0;34m(\u001b[0m\u001b[0;34m)\u001b[0m\u001b[0;34m\u001b[0m\u001b[0m\n\u001b[0m\u001b[1;32m    384\u001b[0m                 \u001b[0;32mexcept\u001b[0m \u001b[0mException\u001b[0m \u001b[0;32mas\u001b[0m \u001b[0me\u001b[0m\u001b[0;34m:\u001b[0m\u001b[0;34m\u001b[0m\u001b[0m\n",
      "\u001b[0;32m/usr/lib/python3.6/http/client.py\u001b[0m in \u001b[0;36mgetresponse\u001b[0;34m(self)\u001b[0m\n\u001b[1;32m   1330\u001b[0m             \u001b[0;32mtry\u001b[0m\u001b[0;34m:\u001b[0m\u001b[0;34m\u001b[0m\u001b[0m\n\u001b[0;32m-> 1331\u001b[0;31m                 \u001b[0mresponse\u001b[0m\u001b[0;34m.\u001b[0m\u001b[0mbegin\u001b[0m\u001b[0;34m(\u001b[0m\u001b[0;34m)\u001b[0m\u001b[0;34m\u001b[0m\u001b[0m\n\u001b[0m\u001b[1;32m   1332\u001b[0m             \u001b[0;32mexcept\u001b[0m \u001b[0mConnectionError\u001b[0m\u001b[0;34m:\u001b[0m\u001b[0;34m\u001b[0m\u001b[0m\n",
      "\u001b[0;32m/usr/lib/python3.6/http/client.py\u001b[0m in \u001b[0;36mbegin\u001b[0;34m(self)\u001b[0m\n\u001b[1;32m    296\u001b[0m         \u001b[0;32mwhile\u001b[0m \u001b[0;32mTrue\u001b[0m\u001b[0;34m:\u001b[0m\u001b[0;34m\u001b[0m\u001b[0m\n\u001b[0;32m--> 297\u001b[0;31m             \u001b[0mversion\u001b[0m\u001b[0;34m,\u001b[0m \u001b[0mstatus\u001b[0m\u001b[0;34m,\u001b[0m \u001b[0mreason\u001b[0m \u001b[0;34m=\u001b[0m \u001b[0mself\u001b[0m\u001b[0;34m.\u001b[0m\u001b[0m_read_status\u001b[0m\u001b[0;34m(\u001b[0m\u001b[0;34m)\u001b[0m\u001b[0;34m\u001b[0m\u001b[0m\n\u001b[0m\u001b[1;32m    298\u001b[0m             \u001b[0;32mif\u001b[0m \u001b[0mstatus\u001b[0m \u001b[0;34m!=\u001b[0m \u001b[0mCONTINUE\u001b[0m\u001b[0;34m:\u001b[0m\u001b[0;34m\u001b[0m\u001b[0m\n",
      "\u001b[0;32m/usr/lib/python3.6/http/client.py\u001b[0m in \u001b[0;36m_read_status\u001b[0;34m(self)\u001b[0m\n\u001b[1;32m    265\u001b[0m             \u001b[0;31m# sending a valid response.\u001b[0m\u001b[0;34m\u001b[0m\u001b[0;34m\u001b[0m\u001b[0m\n\u001b[0;32m--> 266\u001b[0;31m             raise RemoteDisconnected(\"Remote end closed connection without\"\n\u001b[0m\u001b[1;32m    267\u001b[0m                                      \" response\")\n",
      "\u001b[0;31mRemoteDisconnected\u001b[0m: Remote end closed connection without response",
      "\nDuring handling of the above exception, another exception occurred:\n",
      "\u001b[0;31mProtocolError\u001b[0m                             Traceback (most recent call last)",
      "\u001b[0;32m/usr/lib/python3/dist-packages/requests/adapters.py\u001b[0m in \u001b[0;36msend\u001b[0;34m(self, request, stream, timeout, verify, cert, proxies)\u001b[0m\n\u001b[1;32m    439\u001b[0m                     \u001b[0mretries\u001b[0m\u001b[0;34m=\u001b[0m\u001b[0mself\u001b[0m\u001b[0;34m.\u001b[0m\u001b[0mmax_retries\u001b[0m\u001b[0;34m,\u001b[0m\u001b[0;34m\u001b[0m\u001b[0m\n\u001b[0;32m--> 440\u001b[0;31m                     \u001b[0mtimeout\u001b[0m\u001b[0;34m=\u001b[0m\u001b[0mtimeout\u001b[0m\u001b[0;34m\u001b[0m\u001b[0m\n\u001b[0m\u001b[1;32m    441\u001b[0m                 )\n",
      "\u001b[0;32m/usr/lib/python3/dist-packages/urllib3/connectionpool.py\u001b[0m in \u001b[0;36murlopen\u001b[0;34m(self, method, url, body, headers, retries, redirect, assert_same_host, timeout, pool_timeout, release_conn, chunked, body_pos, **response_kw)\u001b[0m\n\u001b[1;32m    638\u001b[0m             retries = retries.increment(method, url, error=e, _pool=self,\n\u001b[0;32m--> 639\u001b[0;31m                                         _stacktrace=sys.exc_info()[2])\n\u001b[0m\u001b[1;32m    640\u001b[0m             \u001b[0mretries\u001b[0m\u001b[0;34m.\u001b[0m\u001b[0msleep\u001b[0m\u001b[0;34m(\u001b[0m\u001b[0;34m)\u001b[0m\u001b[0;34m\u001b[0m\u001b[0m\n",
      "\u001b[0;32m/usr/lib/python3/dist-packages/urllib3/util/retry.py\u001b[0m in \u001b[0;36mincrement\u001b[0;34m(self, method, url, response, error, _pool, _stacktrace)\u001b[0m\n\u001b[1;32m    356\u001b[0m             \u001b[0;32mif\u001b[0m \u001b[0mread\u001b[0m \u001b[0;32mis\u001b[0m \u001b[0;32mFalse\u001b[0m \u001b[0;32mor\u001b[0m \u001b[0;32mnot\u001b[0m \u001b[0mself\u001b[0m\u001b[0;34m.\u001b[0m\u001b[0m_is_method_retryable\u001b[0m\u001b[0;34m(\u001b[0m\u001b[0mmethod\u001b[0m\u001b[0;34m)\u001b[0m\u001b[0;34m:\u001b[0m\u001b[0;34m\u001b[0m\u001b[0m\n\u001b[0;32m--> 357\u001b[0;31m                 \u001b[0;32mraise\u001b[0m \u001b[0msix\u001b[0m\u001b[0;34m.\u001b[0m\u001b[0mreraise\u001b[0m\u001b[0;34m(\u001b[0m\u001b[0mtype\u001b[0m\u001b[0;34m(\u001b[0m\u001b[0merror\u001b[0m\u001b[0;34m)\u001b[0m\u001b[0;34m,\u001b[0m \u001b[0merror\u001b[0m\u001b[0;34m,\u001b[0m \u001b[0m_stacktrace\u001b[0m\u001b[0;34m)\u001b[0m\u001b[0;34m\u001b[0m\u001b[0m\n\u001b[0m\u001b[1;32m    358\u001b[0m             \u001b[0;32melif\u001b[0m \u001b[0mread\u001b[0m \u001b[0;32mis\u001b[0m \u001b[0;32mnot\u001b[0m \u001b[0;32mNone\u001b[0m\u001b[0;34m:\u001b[0m\u001b[0;34m\u001b[0m\u001b[0m\n",
      "\u001b[0;32m/usr/lib/python3/dist-packages/six.py\u001b[0m in \u001b[0;36mreraise\u001b[0;34m(tp, value, tb)\u001b[0m\n\u001b[1;32m    691\u001b[0m             \u001b[0;32mif\u001b[0m \u001b[0mvalue\u001b[0m\u001b[0;34m.\u001b[0m\u001b[0m__traceback__\u001b[0m \u001b[0;32mis\u001b[0m \u001b[0;32mnot\u001b[0m \u001b[0mtb\u001b[0m\u001b[0;34m:\u001b[0m\u001b[0;34m\u001b[0m\u001b[0m\n\u001b[0;32m--> 692\u001b[0;31m                 \u001b[0;32mraise\u001b[0m \u001b[0mvalue\u001b[0m\u001b[0;34m.\u001b[0m\u001b[0mwith_traceback\u001b[0m\u001b[0;34m(\u001b[0m\u001b[0mtb\u001b[0m\u001b[0;34m)\u001b[0m\u001b[0;34m\u001b[0m\u001b[0m\n\u001b[0m\u001b[1;32m    693\u001b[0m             \u001b[0;32mraise\u001b[0m \u001b[0mvalue\u001b[0m\u001b[0;34m\u001b[0m\u001b[0m\n",
      "\u001b[0;32m/usr/lib/python3/dist-packages/urllib3/connectionpool.py\u001b[0m in \u001b[0;36murlopen\u001b[0;34m(self, method, url, body, headers, retries, redirect, assert_same_host, timeout, pool_timeout, release_conn, chunked, body_pos, **response_kw)\u001b[0m\n\u001b[1;32m    600\u001b[0m                                                   \u001b[0mbody\u001b[0m\u001b[0;34m=\u001b[0m\u001b[0mbody\u001b[0m\u001b[0;34m,\u001b[0m \u001b[0mheaders\u001b[0m\u001b[0;34m=\u001b[0m\u001b[0mheaders\u001b[0m\u001b[0;34m,\u001b[0m\u001b[0;34m\u001b[0m\u001b[0m\n\u001b[0;32m--> 601\u001b[0;31m                                                   chunked=chunked)\n\u001b[0m\u001b[1;32m    602\u001b[0m \u001b[0;34m\u001b[0m\u001b[0m\n",
      "\u001b[0;32m/usr/lib/python3/dist-packages/urllib3/connectionpool.py\u001b[0m in \u001b[0;36m_make_request\u001b[0;34m(self, conn, method, url, timeout, chunked, **httplib_request_kw)\u001b[0m\n\u001b[1;32m    386\u001b[0m                     \u001b[0;31m# otherwise it looks like a programming error was the cause.\u001b[0m\u001b[0;34m\u001b[0m\u001b[0;34m\u001b[0m\u001b[0m\n\u001b[0;32m--> 387\u001b[0;31m                     \u001b[0msix\u001b[0m\u001b[0;34m.\u001b[0m\u001b[0mraise_from\u001b[0m\u001b[0;34m(\u001b[0m\u001b[0me\u001b[0m\u001b[0;34m,\u001b[0m \u001b[0;32mNone\u001b[0m\u001b[0;34m)\u001b[0m\u001b[0;34m\u001b[0m\u001b[0m\n\u001b[0m\u001b[1;32m    388\u001b[0m         \u001b[0;32mexcept\u001b[0m \u001b[0;34m(\u001b[0m\u001b[0mSocketTimeout\u001b[0m\u001b[0;34m,\u001b[0m \u001b[0mBaseSSLError\u001b[0m\u001b[0;34m,\u001b[0m \u001b[0mSocketError\u001b[0m\u001b[0;34m)\u001b[0m \u001b[0;32mas\u001b[0m \u001b[0me\u001b[0m\u001b[0;34m:\u001b[0m\u001b[0;34m\u001b[0m\u001b[0m\n",
      "\u001b[0;32m/usr/lib/python3/dist-packages/six.py\u001b[0m in \u001b[0;36mraise_from\u001b[0;34m(value, from_value)\u001b[0m\n",
      "\u001b[0;32m/usr/lib/python3/dist-packages/urllib3/connectionpool.py\u001b[0m in \u001b[0;36m_make_request\u001b[0;34m(self, conn, method, url, timeout, chunked, **httplib_request_kw)\u001b[0m\n\u001b[1;32m    382\u001b[0m                 \u001b[0;32mtry\u001b[0m\u001b[0;34m:\u001b[0m\u001b[0;34m\u001b[0m\u001b[0m\n\u001b[0;32m--> 383\u001b[0;31m                     \u001b[0mhttplib_response\u001b[0m \u001b[0;34m=\u001b[0m \u001b[0mconn\u001b[0m\u001b[0;34m.\u001b[0m\u001b[0mgetresponse\u001b[0m\u001b[0;34m(\u001b[0m\u001b[0;34m)\u001b[0m\u001b[0;34m\u001b[0m\u001b[0m\n\u001b[0m\u001b[1;32m    384\u001b[0m                 \u001b[0;32mexcept\u001b[0m \u001b[0mException\u001b[0m \u001b[0;32mas\u001b[0m \u001b[0me\u001b[0m\u001b[0;34m:\u001b[0m\u001b[0;34m\u001b[0m\u001b[0m\n",
      "\u001b[0;32m/usr/lib/python3.6/http/client.py\u001b[0m in \u001b[0;36mgetresponse\u001b[0;34m(self)\u001b[0m\n\u001b[1;32m   1330\u001b[0m             \u001b[0;32mtry\u001b[0m\u001b[0;34m:\u001b[0m\u001b[0;34m\u001b[0m\u001b[0m\n\u001b[0;32m-> 1331\u001b[0;31m                 \u001b[0mresponse\u001b[0m\u001b[0;34m.\u001b[0m\u001b[0mbegin\u001b[0m\u001b[0;34m(\u001b[0m\u001b[0;34m)\u001b[0m\u001b[0;34m\u001b[0m\u001b[0m\n\u001b[0m\u001b[1;32m   1332\u001b[0m             \u001b[0;32mexcept\u001b[0m \u001b[0mConnectionError\u001b[0m\u001b[0;34m:\u001b[0m\u001b[0;34m\u001b[0m\u001b[0m\n",
      "\u001b[0;32m/usr/lib/python3.6/http/client.py\u001b[0m in \u001b[0;36mbegin\u001b[0;34m(self)\u001b[0m\n\u001b[1;32m    296\u001b[0m         \u001b[0;32mwhile\u001b[0m \u001b[0;32mTrue\u001b[0m\u001b[0;34m:\u001b[0m\u001b[0;34m\u001b[0m\u001b[0m\n\u001b[0;32m--> 297\u001b[0;31m             \u001b[0mversion\u001b[0m\u001b[0;34m,\u001b[0m \u001b[0mstatus\u001b[0m\u001b[0;34m,\u001b[0m \u001b[0mreason\u001b[0m \u001b[0;34m=\u001b[0m \u001b[0mself\u001b[0m\u001b[0;34m.\u001b[0m\u001b[0m_read_status\u001b[0m\u001b[0;34m(\u001b[0m\u001b[0;34m)\u001b[0m\u001b[0;34m\u001b[0m\u001b[0m\n\u001b[0m\u001b[1;32m    298\u001b[0m             \u001b[0;32mif\u001b[0m \u001b[0mstatus\u001b[0m \u001b[0;34m!=\u001b[0m \u001b[0mCONTINUE\u001b[0m\u001b[0;34m:\u001b[0m\u001b[0;34m\u001b[0m\u001b[0m\n",
      "\u001b[0;32m/usr/lib/python3.6/http/client.py\u001b[0m in \u001b[0;36m_read_status\u001b[0;34m(self)\u001b[0m\n\u001b[1;32m    265\u001b[0m             \u001b[0;31m# sending a valid response.\u001b[0m\u001b[0;34m\u001b[0m\u001b[0;34m\u001b[0m\u001b[0m\n\u001b[0;32m--> 266\u001b[0;31m             raise RemoteDisconnected(\"Remote end closed connection without\"\n\u001b[0m\u001b[1;32m    267\u001b[0m                                      \" response\")\n",
      "\u001b[0;31mProtocolError\u001b[0m: ('Connection aborted.', RemoteDisconnected('Remote end closed connection without response',))",
      "\nDuring handling of the above exception, another exception occurred:\n",
      "\u001b[0;31mConnectionError\u001b[0m                           Traceback (most recent call last)",
      "\u001b[0;32m<ipython-input-13-9588ebddd0b0>\u001b[0m in \u001b[0;36m<module>\u001b[0;34m()\u001b[0m\n\u001b[1;32m      2\u001b[0m \u001b[0mheaders\u001b[0m \u001b[0;34m=\u001b[0m \u001b[0;34m{\u001b[0m \u001b[0;34m'User-Agent'\u001b[0m\u001b[0;34m:\u001b[0m \u001b[0museragent\u001b[0m \u001b[0;34m}\u001b[0m\u001b[0;34m\u001b[0m\u001b[0m\n\u001b[1;32m      3\u001b[0m \u001b[0murl\u001b[0m \u001b[0;34m=\u001b[0m \u001b[0;34m'https://www.azlyrics.com/f/faithnomore.html'\u001b[0m\u001b[0;34m\u001b[0m\u001b[0m\n\u001b[0;32m----> 4\u001b[0;31m \u001b[0mhtml\u001b[0m \u001b[0;34m=\u001b[0m \u001b[0mrequests\u001b[0m\u001b[0;34m.\u001b[0m\u001b[0mget\u001b[0m\u001b[0;34m(\u001b[0m\u001b[0murl\u001b[0m\u001b[0;34m,\u001b[0m \u001b[0mheaders\u001b[0m\u001b[0;34m=\u001b[0m\u001b[0mheaders\u001b[0m\u001b[0;34m)\u001b[0m\u001b[0;34m\u001b[0m\u001b[0m\n\u001b[0m\u001b[1;32m      5\u001b[0m \u001b[0msoup\u001b[0m \u001b[0;34m=\u001b[0m \u001b[0mbs4\u001b[0m\u001b[0;34m.\u001b[0m\u001b[0mBeautifulSoup\u001b[0m\u001b[0;34m(\u001b[0m\u001b[0mhtml\u001b[0m\u001b[0;34m.\u001b[0m\u001b[0mcontent\u001b[0m\u001b[0;34m,\u001b[0m\u001b[0;34m'html.parser'\u001b[0m\u001b[0;34m)\u001b[0m\u001b[0;34m\u001b[0m\u001b[0m\n",
      "\u001b[0;32m/usr/lib/python3/dist-packages/requests/api.py\u001b[0m in \u001b[0;36mget\u001b[0;34m(url, params, **kwargs)\u001b[0m\n\u001b[1;32m     70\u001b[0m \u001b[0;34m\u001b[0m\u001b[0m\n\u001b[1;32m     71\u001b[0m     \u001b[0mkwargs\u001b[0m\u001b[0;34m.\u001b[0m\u001b[0msetdefault\u001b[0m\u001b[0;34m(\u001b[0m\u001b[0;34m'allow_redirects'\u001b[0m\u001b[0;34m,\u001b[0m \u001b[0;32mTrue\u001b[0m\u001b[0;34m)\u001b[0m\u001b[0;34m\u001b[0m\u001b[0m\n\u001b[0;32m---> 72\u001b[0;31m     \u001b[0;32mreturn\u001b[0m \u001b[0mrequest\u001b[0m\u001b[0;34m(\u001b[0m\u001b[0;34m'get'\u001b[0m\u001b[0;34m,\u001b[0m \u001b[0murl\u001b[0m\u001b[0;34m,\u001b[0m \u001b[0mparams\u001b[0m\u001b[0;34m=\u001b[0m\u001b[0mparams\u001b[0m\u001b[0;34m,\u001b[0m \u001b[0;34m**\u001b[0m\u001b[0mkwargs\u001b[0m\u001b[0;34m)\u001b[0m\u001b[0;34m\u001b[0m\u001b[0m\n\u001b[0m\u001b[1;32m     73\u001b[0m \u001b[0;34m\u001b[0m\u001b[0m\n\u001b[1;32m     74\u001b[0m \u001b[0;34m\u001b[0m\u001b[0m\n",
      "\u001b[0;32m/usr/lib/python3/dist-packages/requests/api.py\u001b[0m in \u001b[0;36mrequest\u001b[0;34m(method, url, **kwargs)\u001b[0m\n\u001b[1;32m     56\u001b[0m     \u001b[0;31m# cases, and look like a memory leak in others.\u001b[0m\u001b[0;34m\u001b[0m\u001b[0;34m\u001b[0m\u001b[0m\n\u001b[1;32m     57\u001b[0m     \u001b[0;32mwith\u001b[0m \u001b[0msessions\u001b[0m\u001b[0;34m.\u001b[0m\u001b[0mSession\u001b[0m\u001b[0;34m(\u001b[0m\u001b[0;34m)\u001b[0m \u001b[0;32mas\u001b[0m \u001b[0msession\u001b[0m\u001b[0;34m:\u001b[0m\u001b[0;34m\u001b[0m\u001b[0m\n\u001b[0;32m---> 58\u001b[0;31m         \u001b[0;32mreturn\u001b[0m \u001b[0msession\u001b[0m\u001b[0;34m.\u001b[0m\u001b[0mrequest\u001b[0m\u001b[0;34m(\u001b[0m\u001b[0mmethod\u001b[0m\u001b[0;34m=\u001b[0m\u001b[0mmethod\u001b[0m\u001b[0;34m,\u001b[0m \u001b[0murl\u001b[0m\u001b[0;34m=\u001b[0m\u001b[0murl\u001b[0m\u001b[0;34m,\u001b[0m \u001b[0;34m**\u001b[0m\u001b[0mkwargs\u001b[0m\u001b[0;34m)\u001b[0m\u001b[0;34m\u001b[0m\u001b[0m\n\u001b[0m\u001b[1;32m     59\u001b[0m \u001b[0;34m\u001b[0m\u001b[0m\n\u001b[1;32m     60\u001b[0m \u001b[0;34m\u001b[0m\u001b[0m\n",
      "\u001b[0;32m/usr/lib/python3/dist-packages/requests/sessions.py\u001b[0m in \u001b[0;36mrequest\u001b[0;34m(self, method, url, params, data, headers, cookies, files, auth, timeout, allow_redirects, proxies, hooks, stream, verify, cert, json)\u001b[0m\n\u001b[1;32m    506\u001b[0m         }\n\u001b[1;32m    507\u001b[0m         \u001b[0msend_kwargs\u001b[0m\u001b[0;34m.\u001b[0m\u001b[0mupdate\u001b[0m\u001b[0;34m(\u001b[0m\u001b[0msettings\u001b[0m\u001b[0;34m)\u001b[0m\u001b[0;34m\u001b[0m\u001b[0m\n\u001b[0;32m--> 508\u001b[0;31m         \u001b[0mresp\u001b[0m \u001b[0;34m=\u001b[0m \u001b[0mself\u001b[0m\u001b[0;34m.\u001b[0m\u001b[0msend\u001b[0m\u001b[0;34m(\u001b[0m\u001b[0mprep\u001b[0m\u001b[0;34m,\u001b[0m \u001b[0;34m**\u001b[0m\u001b[0msend_kwargs\u001b[0m\u001b[0;34m)\u001b[0m\u001b[0;34m\u001b[0m\u001b[0m\n\u001b[0m\u001b[1;32m    509\u001b[0m \u001b[0;34m\u001b[0m\u001b[0m\n\u001b[1;32m    510\u001b[0m         \u001b[0;32mreturn\u001b[0m \u001b[0mresp\u001b[0m\u001b[0;34m\u001b[0m\u001b[0m\n",
      "\u001b[0;32m/usr/lib/python3/dist-packages/requests/sessions.py\u001b[0m in \u001b[0;36msend\u001b[0;34m(self, request, **kwargs)\u001b[0m\n\u001b[1;32m    616\u001b[0m \u001b[0;34m\u001b[0m\u001b[0m\n\u001b[1;32m    617\u001b[0m         \u001b[0;31m# Send the request\u001b[0m\u001b[0;34m\u001b[0m\u001b[0;34m\u001b[0m\u001b[0m\n\u001b[0;32m--> 618\u001b[0;31m         \u001b[0mr\u001b[0m \u001b[0;34m=\u001b[0m \u001b[0madapter\u001b[0m\u001b[0;34m.\u001b[0m\u001b[0msend\u001b[0m\u001b[0;34m(\u001b[0m\u001b[0mrequest\u001b[0m\u001b[0;34m,\u001b[0m \u001b[0;34m**\u001b[0m\u001b[0mkwargs\u001b[0m\u001b[0;34m)\u001b[0m\u001b[0;34m\u001b[0m\u001b[0m\n\u001b[0m\u001b[1;32m    619\u001b[0m \u001b[0;34m\u001b[0m\u001b[0m\n\u001b[1;32m    620\u001b[0m         \u001b[0;31m# Total elapsed time of the request (approximately)\u001b[0m\u001b[0;34m\u001b[0m\u001b[0;34m\u001b[0m\u001b[0m\n",
      "\u001b[0;32m/usr/lib/python3/dist-packages/requests/adapters.py\u001b[0m in \u001b[0;36msend\u001b[0;34m(self, request, stream, timeout, verify, cert, proxies)\u001b[0m\n\u001b[1;32m    488\u001b[0m \u001b[0;34m\u001b[0m\u001b[0m\n\u001b[1;32m    489\u001b[0m         \u001b[0;32mexcept\u001b[0m \u001b[0;34m(\u001b[0m\u001b[0mProtocolError\u001b[0m\u001b[0;34m,\u001b[0m \u001b[0msocket\u001b[0m\u001b[0;34m.\u001b[0m\u001b[0merror\u001b[0m\u001b[0;34m)\u001b[0m \u001b[0;32mas\u001b[0m \u001b[0merr\u001b[0m\u001b[0;34m:\u001b[0m\u001b[0;34m\u001b[0m\u001b[0m\n\u001b[0;32m--> 490\u001b[0;31m             \u001b[0;32mraise\u001b[0m \u001b[0mConnectionError\u001b[0m\u001b[0;34m(\u001b[0m\u001b[0merr\u001b[0m\u001b[0;34m,\u001b[0m \u001b[0mrequest\u001b[0m\u001b[0;34m=\u001b[0m\u001b[0mrequest\u001b[0m\u001b[0;34m)\u001b[0m\u001b[0;34m\u001b[0m\u001b[0m\n\u001b[0m\u001b[1;32m    491\u001b[0m \u001b[0;34m\u001b[0m\u001b[0m\n\u001b[1;32m    492\u001b[0m         \u001b[0;32mexcept\u001b[0m \u001b[0mMaxRetryError\u001b[0m \u001b[0;32mas\u001b[0m \u001b[0me\u001b[0m\u001b[0;34m:\u001b[0m\u001b[0;34m\u001b[0m\u001b[0m\n",
      "\u001b[0;31mConnectionError\u001b[0m: ('Connection aborted.', RemoteDisconnected('Remote end closed connection without response',))"
     ]
    }
   ],
   "source": [
    "useragent = useragents[randint(0,len(useragents) - 1)]\n",
    "headers = { 'User-Agent': useragent }\n",
    "url = 'https://www.azlyrics.com/a/adele.html'\n",
    "html = requests.get(url, headers=headers)\n",
    "soup = bs4.BeautifulSoup(html.content,'html.parser')"
   ]
  },
  {
   "cell_type": "code",
   "execution_count": 6,
   "metadata": {},
   "outputs": [
    {
     "data": {
      "text/plain": [
       "'Adele'"
      ]
     },
     "execution_count": 6,
     "metadata": {},
     "output_type": "execute_result"
    }
   ],
   "source": [
    "artist_info = soup.find('h1').text\n",
    "artist_info = artist_info.replace(' Lyrics', '')\n",
    "artist_info"
   ]
  },
  {
   "cell_type": "code",
   "execution_count": 7,
   "metadata": {},
   "outputs": [
    {
     "data": {
      "text/plain": [
       "[{'Album': '\"19\"', 'Year': 2008},\n",
       " {'Album': '\"21\"', 'Year': 2011},\n",
       " {'Album': '\"25\"', 'Year': 2015},\n",
       " {'Album': 'Other Songs', 'Year': None}]"
      ]
     },
     "execution_count": 7,
     "metadata": {},
     "output_type": "execute_result"
    }
   ],
   "source": [
    "albums_info = []\n",
    "for info in soup.find_all('div', class_='album'):\n",
    "    album_name  = info.text\n",
    "    release_year = ''.join(re.findall('\\(([0-9]+)\\)',album_name))\n",
    "    release_year = int(release_year) if release_year else None\n",
    "    album_name = ''.join(re.findall(':\\s(.*)\\s\\(',album_name))\n",
    "    if not album_name: album_name = 'Other Songs' \n",
    "    albums_info.append({'Album': album_name, 'Year': release_year})\n",
    "albums_info"
   ]
  },
  {
   "cell_type": "code",
   "execution_count": 115,
   "metadata": {},
   "outputs": [],
   "source": [
    "album_lyrics = soup.find('div', attrs = {'id':'listAlbum'})\n",
    "# album_lyrics = album_lyrics.find('a', attrs = {'id':'listAlbum'}0)\n",
    "album_lyrics = [part for part in list(album_lyrics.children) if part!= '\\n']\n",
    "begins = [i for i, part in enumerate(album_lyrics) if part.name == 'div' and part.has_attr('class')]\n",
    "ends   = [i-1 for i in begins][1:] + [len(album_lyrics)]\n",
    "albums = [album_lyrics[begins[i]:ends[i]] for i in range(len(begins))]"
   ]
  },
  {
   "cell_type": "code",
   "execution_count": 230,
   "metadata": {},
   "outputs": [],
   "source": [
    "def extract_lyrics(url):    \n",
    "    headers = { 'User-Agent': 'Mozilla/5.0 (Windows NT 6.0; WOW64; rv:24.0) Gecko/20100101 Firefox/24.0' }\n",
    "    html = requests.get(url, headers=headers)\n",
    "    soup = bs4.BeautifulSoup(html.content,'html.parser')\n",
    "\n",
    "    lyrics = soup.select('div[class*=\"text-center\"]')\n",
    "    ind = [len(part.find_all('br')) for part in lyrics]\n",
    "    ind = [i for i,v in enumerate(ind) if v == max(ind)][0]\n",
    "    # aa = lyrics[ind].findChild('div', attrs={'class':'ringtone'})\n",
    "    lyrics = lyrics[ind].findChildren('div')\n",
    "    ind = [len(part.find_all('br')) for part in lyrics]\n",
    "    ind = [i for i,v in enumerate(ind) if v == max(ind)][0]\n",
    "    return(lyrics[ind].text)"
   ]
  },
  {
   "cell_type": "code",
   "execution_count": 241,
   "metadata": {},
   "outputs": [
    {
     "ename": "ConnectionError",
     "evalue": "('Connection aborted.', RemoteDisconnected('Remote end closed connection without response',))",
     "output_type": "error",
     "traceback": [
      "\u001b[0;31m---------------------------------------------------------------------------\u001b[0m",
      "\u001b[0;31mRemoteDisconnected\u001b[0m                        Traceback (most recent call last)",
      "\u001b[0;32m/usr/lib/python3/dist-packages/urllib3/connectionpool.py\u001b[0m in \u001b[0;36murlopen\u001b[0;34m(self, method, url, body, headers, retries, redirect, assert_same_host, timeout, pool_timeout, release_conn, chunked, body_pos, **response_kw)\u001b[0m\n\u001b[1;32m    600\u001b[0m                                                   \u001b[0mbody\u001b[0m\u001b[0;34m=\u001b[0m\u001b[0mbody\u001b[0m\u001b[0;34m,\u001b[0m \u001b[0mheaders\u001b[0m\u001b[0;34m=\u001b[0m\u001b[0mheaders\u001b[0m\u001b[0;34m,\u001b[0m\u001b[0;34m\u001b[0m\u001b[0m\n\u001b[0;32m--> 601\u001b[0;31m                                                   chunked=chunked)\n\u001b[0m\u001b[1;32m    602\u001b[0m \u001b[0;34m\u001b[0m\u001b[0m\n",
      "\u001b[0;32m/usr/lib/python3/dist-packages/urllib3/connectionpool.py\u001b[0m in \u001b[0;36m_make_request\u001b[0;34m(self, conn, method, url, timeout, chunked, **httplib_request_kw)\u001b[0m\n\u001b[1;32m    386\u001b[0m                     \u001b[0;31m# otherwise it looks like a programming error was the cause.\u001b[0m\u001b[0;34m\u001b[0m\u001b[0;34m\u001b[0m\u001b[0m\n\u001b[0;32m--> 387\u001b[0;31m                     \u001b[0msix\u001b[0m\u001b[0;34m.\u001b[0m\u001b[0mraise_from\u001b[0m\u001b[0;34m(\u001b[0m\u001b[0me\u001b[0m\u001b[0;34m,\u001b[0m \u001b[0;32mNone\u001b[0m\u001b[0;34m)\u001b[0m\u001b[0;34m\u001b[0m\u001b[0m\n\u001b[0m\u001b[1;32m    388\u001b[0m         \u001b[0;32mexcept\u001b[0m \u001b[0;34m(\u001b[0m\u001b[0mSocketTimeout\u001b[0m\u001b[0;34m,\u001b[0m \u001b[0mBaseSSLError\u001b[0m\u001b[0;34m,\u001b[0m \u001b[0mSocketError\u001b[0m\u001b[0;34m)\u001b[0m \u001b[0;32mas\u001b[0m \u001b[0me\u001b[0m\u001b[0;34m:\u001b[0m\u001b[0;34m\u001b[0m\u001b[0m\n",
      "\u001b[0;32m/usr/lib/python3/dist-packages/six.py\u001b[0m in \u001b[0;36mraise_from\u001b[0;34m(value, from_value)\u001b[0m\n",
      "\u001b[0;32m/usr/lib/python3/dist-packages/urllib3/connectionpool.py\u001b[0m in \u001b[0;36m_make_request\u001b[0;34m(self, conn, method, url, timeout, chunked, **httplib_request_kw)\u001b[0m\n\u001b[1;32m    382\u001b[0m                 \u001b[0;32mtry\u001b[0m\u001b[0;34m:\u001b[0m\u001b[0;34m\u001b[0m\u001b[0m\n\u001b[0;32m--> 383\u001b[0;31m                     \u001b[0mhttplib_response\u001b[0m \u001b[0;34m=\u001b[0m \u001b[0mconn\u001b[0m\u001b[0;34m.\u001b[0m\u001b[0mgetresponse\u001b[0m\u001b[0;34m(\u001b[0m\u001b[0;34m)\u001b[0m\u001b[0;34m\u001b[0m\u001b[0m\n\u001b[0m\u001b[1;32m    384\u001b[0m                 \u001b[0;32mexcept\u001b[0m \u001b[0mException\u001b[0m \u001b[0;32mas\u001b[0m \u001b[0me\u001b[0m\u001b[0;34m:\u001b[0m\u001b[0;34m\u001b[0m\u001b[0m\n",
      "\u001b[0;32m/usr/lib/python3.6/http/client.py\u001b[0m in \u001b[0;36mgetresponse\u001b[0;34m(self)\u001b[0m\n\u001b[1;32m   1330\u001b[0m             \u001b[0;32mtry\u001b[0m\u001b[0;34m:\u001b[0m\u001b[0;34m\u001b[0m\u001b[0m\n\u001b[0;32m-> 1331\u001b[0;31m                 \u001b[0mresponse\u001b[0m\u001b[0;34m.\u001b[0m\u001b[0mbegin\u001b[0m\u001b[0;34m(\u001b[0m\u001b[0;34m)\u001b[0m\u001b[0;34m\u001b[0m\u001b[0m\n\u001b[0m\u001b[1;32m   1332\u001b[0m             \u001b[0;32mexcept\u001b[0m \u001b[0mConnectionError\u001b[0m\u001b[0;34m:\u001b[0m\u001b[0;34m\u001b[0m\u001b[0m\n",
      "\u001b[0;32m/usr/lib/python3.6/http/client.py\u001b[0m in \u001b[0;36mbegin\u001b[0;34m(self)\u001b[0m\n\u001b[1;32m    296\u001b[0m         \u001b[0;32mwhile\u001b[0m \u001b[0;32mTrue\u001b[0m\u001b[0;34m:\u001b[0m\u001b[0;34m\u001b[0m\u001b[0m\n\u001b[0;32m--> 297\u001b[0;31m             \u001b[0mversion\u001b[0m\u001b[0;34m,\u001b[0m \u001b[0mstatus\u001b[0m\u001b[0;34m,\u001b[0m \u001b[0mreason\u001b[0m \u001b[0;34m=\u001b[0m \u001b[0mself\u001b[0m\u001b[0;34m.\u001b[0m\u001b[0m_read_status\u001b[0m\u001b[0;34m(\u001b[0m\u001b[0;34m)\u001b[0m\u001b[0;34m\u001b[0m\u001b[0m\n\u001b[0m\u001b[1;32m    298\u001b[0m             \u001b[0;32mif\u001b[0m \u001b[0mstatus\u001b[0m \u001b[0;34m!=\u001b[0m \u001b[0mCONTINUE\u001b[0m\u001b[0;34m:\u001b[0m\u001b[0;34m\u001b[0m\u001b[0m\n",
      "\u001b[0;32m/usr/lib/python3.6/http/client.py\u001b[0m in \u001b[0;36m_read_status\u001b[0;34m(self)\u001b[0m\n\u001b[1;32m    265\u001b[0m             \u001b[0;31m# sending a valid response.\u001b[0m\u001b[0;34m\u001b[0m\u001b[0;34m\u001b[0m\u001b[0m\n\u001b[0;32m--> 266\u001b[0;31m             raise RemoteDisconnected(\"Remote end closed connection without\"\n\u001b[0m\u001b[1;32m    267\u001b[0m                                      \" response\")\n",
      "\u001b[0;31mRemoteDisconnected\u001b[0m: Remote end closed connection without response",
      "\nDuring handling of the above exception, another exception occurred:\n",
      "\u001b[0;31mProtocolError\u001b[0m                             Traceback (most recent call last)",
      "\u001b[0;32m/usr/lib/python3/dist-packages/requests/adapters.py\u001b[0m in \u001b[0;36msend\u001b[0;34m(self, request, stream, timeout, verify, cert, proxies)\u001b[0m\n\u001b[1;32m    439\u001b[0m                     \u001b[0mretries\u001b[0m\u001b[0;34m=\u001b[0m\u001b[0mself\u001b[0m\u001b[0;34m.\u001b[0m\u001b[0mmax_retries\u001b[0m\u001b[0;34m,\u001b[0m\u001b[0;34m\u001b[0m\u001b[0m\n\u001b[0;32m--> 440\u001b[0;31m                     \u001b[0mtimeout\u001b[0m\u001b[0;34m=\u001b[0m\u001b[0mtimeout\u001b[0m\u001b[0;34m\u001b[0m\u001b[0m\n\u001b[0m\u001b[1;32m    441\u001b[0m                 )\n",
      "\u001b[0;32m/usr/lib/python3/dist-packages/urllib3/connectionpool.py\u001b[0m in \u001b[0;36murlopen\u001b[0;34m(self, method, url, body, headers, retries, redirect, assert_same_host, timeout, pool_timeout, release_conn, chunked, body_pos, **response_kw)\u001b[0m\n\u001b[1;32m    638\u001b[0m             retries = retries.increment(method, url, error=e, _pool=self,\n\u001b[0;32m--> 639\u001b[0;31m                                         _stacktrace=sys.exc_info()[2])\n\u001b[0m\u001b[1;32m    640\u001b[0m             \u001b[0mretries\u001b[0m\u001b[0;34m.\u001b[0m\u001b[0msleep\u001b[0m\u001b[0;34m(\u001b[0m\u001b[0;34m)\u001b[0m\u001b[0;34m\u001b[0m\u001b[0m\n",
      "\u001b[0;32m/usr/lib/python3/dist-packages/urllib3/util/retry.py\u001b[0m in \u001b[0;36mincrement\u001b[0;34m(self, method, url, response, error, _pool, _stacktrace)\u001b[0m\n\u001b[1;32m    356\u001b[0m             \u001b[0;32mif\u001b[0m \u001b[0mread\u001b[0m \u001b[0;32mis\u001b[0m \u001b[0;32mFalse\u001b[0m \u001b[0;32mor\u001b[0m \u001b[0;32mnot\u001b[0m \u001b[0mself\u001b[0m\u001b[0;34m.\u001b[0m\u001b[0m_is_method_retryable\u001b[0m\u001b[0;34m(\u001b[0m\u001b[0mmethod\u001b[0m\u001b[0;34m)\u001b[0m\u001b[0;34m:\u001b[0m\u001b[0;34m\u001b[0m\u001b[0m\n\u001b[0;32m--> 357\u001b[0;31m                 \u001b[0;32mraise\u001b[0m \u001b[0msix\u001b[0m\u001b[0;34m.\u001b[0m\u001b[0mreraise\u001b[0m\u001b[0;34m(\u001b[0m\u001b[0mtype\u001b[0m\u001b[0;34m(\u001b[0m\u001b[0merror\u001b[0m\u001b[0;34m)\u001b[0m\u001b[0;34m,\u001b[0m \u001b[0merror\u001b[0m\u001b[0;34m,\u001b[0m \u001b[0m_stacktrace\u001b[0m\u001b[0;34m)\u001b[0m\u001b[0;34m\u001b[0m\u001b[0m\n\u001b[0m\u001b[1;32m    358\u001b[0m             \u001b[0;32melif\u001b[0m \u001b[0mread\u001b[0m \u001b[0;32mis\u001b[0m \u001b[0;32mnot\u001b[0m \u001b[0;32mNone\u001b[0m\u001b[0;34m:\u001b[0m\u001b[0;34m\u001b[0m\u001b[0m\n",
      "\u001b[0;32m/usr/lib/python3/dist-packages/six.py\u001b[0m in \u001b[0;36mreraise\u001b[0;34m(tp, value, tb)\u001b[0m\n\u001b[1;32m    691\u001b[0m             \u001b[0;32mif\u001b[0m \u001b[0mvalue\u001b[0m\u001b[0;34m.\u001b[0m\u001b[0m__traceback__\u001b[0m \u001b[0;32mis\u001b[0m \u001b[0;32mnot\u001b[0m \u001b[0mtb\u001b[0m\u001b[0;34m:\u001b[0m\u001b[0;34m\u001b[0m\u001b[0m\n\u001b[0;32m--> 692\u001b[0;31m                 \u001b[0;32mraise\u001b[0m \u001b[0mvalue\u001b[0m\u001b[0;34m.\u001b[0m\u001b[0mwith_traceback\u001b[0m\u001b[0;34m(\u001b[0m\u001b[0mtb\u001b[0m\u001b[0;34m)\u001b[0m\u001b[0;34m\u001b[0m\u001b[0m\n\u001b[0m\u001b[1;32m    693\u001b[0m             \u001b[0;32mraise\u001b[0m \u001b[0mvalue\u001b[0m\u001b[0;34m\u001b[0m\u001b[0m\n",
      "\u001b[0;32m/usr/lib/python3/dist-packages/urllib3/connectionpool.py\u001b[0m in \u001b[0;36murlopen\u001b[0;34m(self, method, url, body, headers, retries, redirect, assert_same_host, timeout, pool_timeout, release_conn, chunked, body_pos, **response_kw)\u001b[0m\n\u001b[1;32m    600\u001b[0m                                                   \u001b[0mbody\u001b[0m\u001b[0;34m=\u001b[0m\u001b[0mbody\u001b[0m\u001b[0;34m,\u001b[0m \u001b[0mheaders\u001b[0m\u001b[0;34m=\u001b[0m\u001b[0mheaders\u001b[0m\u001b[0;34m,\u001b[0m\u001b[0;34m\u001b[0m\u001b[0m\n\u001b[0;32m--> 601\u001b[0;31m                                                   chunked=chunked)\n\u001b[0m\u001b[1;32m    602\u001b[0m \u001b[0;34m\u001b[0m\u001b[0m\n",
      "\u001b[0;32m/usr/lib/python3/dist-packages/urllib3/connectionpool.py\u001b[0m in \u001b[0;36m_make_request\u001b[0;34m(self, conn, method, url, timeout, chunked, **httplib_request_kw)\u001b[0m\n\u001b[1;32m    386\u001b[0m                     \u001b[0;31m# otherwise it looks like a programming error was the cause.\u001b[0m\u001b[0;34m\u001b[0m\u001b[0;34m\u001b[0m\u001b[0m\n\u001b[0;32m--> 387\u001b[0;31m                     \u001b[0msix\u001b[0m\u001b[0;34m.\u001b[0m\u001b[0mraise_from\u001b[0m\u001b[0;34m(\u001b[0m\u001b[0me\u001b[0m\u001b[0;34m,\u001b[0m \u001b[0;32mNone\u001b[0m\u001b[0;34m)\u001b[0m\u001b[0;34m\u001b[0m\u001b[0m\n\u001b[0m\u001b[1;32m    388\u001b[0m         \u001b[0;32mexcept\u001b[0m \u001b[0;34m(\u001b[0m\u001b[0mSocketTimeout\u001b[0m\u001b[0;34m,\u001b[0m \u001b[0mBaseSSLError\u001b[0m\u001b[0;34m,\u001b[0m \u001b[0mSocketError\u001b[0m\u001b[0;34m)\u001b[0m \u001b[0;32mas\u001b[0m \u001b[0me\u001b[0m\u001b[0;34m:\u001b[0m\u001b[0;34m\u001b[0m\u001b[0m\n",
      "\u001b[0;32m/usr/lib/python3/dist-packages/six.py\u001b[0m in \u001b[0;36mraise_from\u001b[0;34m(value, from_value)\u001b[0m\n",
      "\u001b[0;32m/usr/lib/python3/dist-packages/urllib3/connectionpool.py\u001b[0m in \u001b[0;36m_make_request\u001b[0;34m(self, conn, method, url, timeout, chunked, **httplib_request_kw)\u001b[0m\n\u001b[1;32m    382\u001b[0m                 \u001b[0;32mtry\u001b[0m\u001b[0;34m:\u001b[0m\u001b[0;34m\u001b[0m\u001b[0m\n\u001b[0;32m--> 383\u001b[0;31m                     \u001b[0mhttplib_response\u001b[0m \u001b[0;34m=\u001b[0m \u001b[0mconn\u001b[0m\u001b[0;34m.\u001b[0m\u001b[0mgetresponse\u001b[0m\u001b[0;34m(\u001b[0m\u001b[0;34m)\u001b[0m\u001b[0;34m\u001b[0m\u001b[0m\n\u001b[0m\u001b[1;32m    384\u001b[0m                 \u001b[0;32mexcept\u001b[0m \u001b[0mException\u001b[0m \u001b[0;32mas\u001b[0m \u001b[0me\u001b[0m\u001b[0;34m:\u001b[0m\u001b[0;34m\u001b[0m\u001b[0m\n",
      "\u001b[0;32m/usr/lib/python3.6/http/client.py\u001b[0m in \u001b[0;36mgetresponse\u001b[0;34m(self)\u001b[0m\n\u001b[1;32m   1330\u001b[0m             \u001b[0;32mtry\u001b[0m\u001b[0;34m:\u001b[0m\u001b[0;34m\u001b[0m\u001b[0m\n\u001b[0;32m-> 1331\u001b[0;31m                 \u001b[0mresponse\u001b[0m\u001b[0;34m.\u001b[0m\u001b[0mbegin\u001b[0m\u001b[0;34m(\u001b[0m\u001b[0;34m)\u001b[0m\u001b[0;34m\u001b[0m\u001b[0m\n\u001b[0m\u001b[1;32m   1332\u001b[0m             \u001b[0;32mexcept\u001b[0m \u001b[0mConnectionError\u001b[0m\u001b[0;34m:\u001b[0m\u001b[0;34m\u001b[0m\u001b[0m\n",
      "\u001b[0;32m/usr/lib/python3.6/http/client.py\u001b[0m in \u001b[0;36mbegin\u001b[0;34m(self)\u001b[0m\n\u001b[1;32m    296\u001b[0m         \u001b[0;32mwhile\u001b[0m \u001b[0;32mTrue\u001b[0m\u001b[0;34m:\u001b[0m\u001b[0;34m\u001b[0m\u001b[0m\n\u001b[0;32m--> 297\u001b[0;31m             \u001b[0mversion\u001b[0m\u001b[0;34m,\u001b[0m \u001b[0mstatus\u001b[0m\u001b[0;34m,\u001b[0m \u001b[0mreason\u001b[0m \u001b[0;34m=\u001b[0m \u001b[0mself\u001b[0m\u001b[0;34m.\u001b[0m\u001b[0m_read_status\u001b[0m\u001b[0;34m(\u001b[0m\u001b[0;34m)\u001b[0m\u001b[0;34m\u001b[0m\u001b[0m\n\u001b[0m\u001b[1;32m    298\u001b[0m             \u001b[0;32mif\u001b[0m \u001b[0mstatus\u001b[0m \u001b[0;34m!=\u001b[0m \u001b[0mCONTINUE\u001b[0m\u001b[0;34m:\u001b[0m\u001b[0;34m\u001b[0m\u001b[0m\n",
      "\u001b[0;32m/usr/lib/python3.6/http/client.py\u001b[0m in \u001b[0;36m_read_status\u001b[0;34m(self)\u001b[0m\n\u001b[1;32m    265\u001b[0m             \u001b[0;31m# sending a valid response.\u001b[0m\u001b[0;34m\u001b[0m\u001b[0;34m\u001b[0m\u001b[0m\n\u001b[0;32m--> 266\u001b[0;31m             raise RemoteDisconnected(\"Remote end closed connection without\"\n\u001b[0m\u001b[1;32m    267\u001b[0m                                      \" response\")\n",
      "\u001b[0;31mProtocolError\u001b[0m: ('Connection aborted.', RemoteDisconnected('Remote end closed connection without response',))",
      "\nDuring handling of the above exception, another exception occurred:\n",
      "\u001b[0;31mConnectionError\u001b[0m                           Traceback (most recent call last)",
      "\u001b[0;32m<ipython-input-241-0ff2b8247c8b>\u001b[0m in \u001b[0;36m<module>\u001b[0;34m()\u001b[0m\n\u001b[1;32m     15\u001b[0m             \u001b[0msonglink\u001b[0m \u001b[0;34m=\u001b[0m \u001b[0msong\u001b[0m\u001b[0;34m.\u001b[0m\u001b[0mattrs\u001b[0m\u001b[0;34m[\u001b[0m\u001b[0;34m'href'\u001b[0m\u001b[0;34m]\u001b[0m\u001b[0;34m\u001b[0m\u001b[0m\n\u001b[1;32m     16\u001b[0m             \u001b[0msonglink\u001b[0m \u001b[0;34m=\u001b[0m \u001b[0;34m'https://www.azlyrics.com/'\u001b[0m \u001b[0;34m+\u001b[0m \u001b[0msonglink\u001b[0m\u001b[0;34m.\u001b[0m\u001b[0mreplace\u001b[0m\u001b[0;34m(\u001b[0m\u001b[0;34m'../'\u001b[0m\u001b[0;34m,\u001b[0m\u001b[0;34m''\u001b[0m\u001b[0;34m)\u001b[0m\u001b[0;34m\u001b[0m\u001b[0m\n\u001b[0;32m---> 17\u001b[0;31m             \u001b[0mlyrics\u001b[0m   \u001b[0;34m=\u001b[0m \u001b[0mextract_lyrics\u001b[0m\u001b[0;34m(\u001b[0m\u001b[0msonglink\u001b[0m\u001b[0;34m)\u001b[0m\u001b[0;34m\u001b[0m\u001b[0m\n\u001b[0m\u001b[1;32m     18\u001b[0m             \u001b[0msleep\u001b[0m\u001b[0;34m(\u001b[0m\u001b[0muniform\u001b[0m\u001b[0;34m(\u001b[0m\u001b[0;36m.5\u001b[0m\u001b[0;34m,\u001b[0m\u001b[0;36m1\u001b[0m\u001b[0;34m)\u001b[0m\u001b[0;34m)\u001b[0m\u001b[0;34m\u001b[0m\u001b[0m\n\u001b[1;32m     19\u001b[0m             songs.append({'Album': album_name, 'Year': release_year, 'Name': songname,\n",
      "\u001b[0;32m<ipython-input-230-f8ceec09fbf2>\u001b[0m in \u001b[0;36mextract_lyrics\u001b[0;34m(url)\u001b[0m\n\u001b[1;32m      1\u001b[0m \u001b[0;32mdef\u001b[0m \u001b[0mextract_lyrics\u001b[0m\u001b[0;34m(\u001b[0m\u001b[0murl\u001b[0m\u001b[0;34m)\u001b[0m\u001b[0;34m:\u001b[0m\u001b[0;34m\u001b[0m\u001b[0m\n\u001b[1;32m      2\u001b[0m     \u001b[0mheaders\u001b[0m \u001b[0;34m=\u001b[0m \u001b[0;34m{\u001b[0m \u001b[0;34m'User-Agent'\u001b[0m\u001b[0;34m:\u001b[0m \u001b[0;34m'Mozilla/5.0 (Windows NT 6.0; WOW64; rv:24.0) Gecko/20100101 Firefox/24.0'\u001b[0m \u001b[0;34m}\u001b[0m\u001b[0;34m\u001b[0m\u001b[0m\n\u001b[0;32m----> 3\u001b[0;31m     \u001b[0mhtml\u001b[0m \u001b[0;34m=\u001b[0m \u001b[0mrequests\u001b[0m\u001b[0;34m.\u001b[0m\u001b[0mget\u001b[0m\u001b[0;34m(\u001b[0m\u001b[0murl\u001b[0m\u001b[0;34m,\u001b[0m \u001b[0mheaders\u001b[0m\u001b[0;34m=\u001b[0m\u001b[0mheaders\u001b[0m\u001b[0;34m)\u001b[0m\u001b[0;34m\u001b[0m\u001b[0m\n\u001b[0m\u001b[1;32m      4\u001b[0m     \u001b[0msoup\u001b[0m \u001b[0;34m=\u001b[0m \u001b[0mbs4\u001b[0m\u001b[0;34m.\u001b[0m\u001b[0mBeautifulSoup\u001b[0m\u001b[0;34m(\u001b[0m\u001b[0mhtml\u001b[0m\u001b[0;34m.\u001b[0m\u001b[0mcontent\u001b[0m\u001b[0;34m,\u001b[0m\u001b[0;34m'html.parser'\u001b[0m\u001b[0;34m)\u001b[0m\u001b[0;34m\u001b[0m\u001b[0m\n\u001b[1;32m      5\u001b[0m \u001b[0;34m\u001b[0m\u001b[0m\n",
      "\u001b[0;32m/usr/lib/python3/dist-packages/requests/api.py\u001b[0m in \u001b[0;36mget\u001b[0;34m(url, params, **kwargs)\u001b[0m\n\u001b[1;32m     70\u001b[0m \u001b[0;34m\u001b[0m\u001b[0m\n\u001b[1;32m     71\u001b[0m     \u001b[0mkwargs\u001b[0m\u001b[0;34m.\u001b[0m\u001b[0msetdefault\u001b[0m\u001b[0;34m(\u001b[0m\u001b[0;34m'allow_redirects'\u001b[0m\u001b[0;34m,\u001b[0m \u001b[0;32mTrue\u001b[0m\u001b[0;34m)\u001b[0m\u001b[0;34m\u001b[0m\u001b[0m\n\u001b[0;32m---> 72\u001b[0;31m     \u001b[0;32mreturn\u001b[0m \u001b[0mrequest\u001b[0m\u001b[0;34m(\u001b[0m\u001b[0;34m'get'\u001b[0m\u001b[0;34m,\u001b[0m \u001b[0murl\u001b[0m\u001b[0;34m,\u001b[0m \u001b[0mparams\u001b[0m\u001b[0;34m=\u001b[0m\u001b[0mparams\u001b[0m\u001b[0;34m,\u001b[0m \u001b[0;34m**\u001b[0m\u001b[0mkwargs\u001b[0m\u001b[0;34m)\u001b[0m\u001b[0;34m\u001b[0m\u001b[0m\n\u001b[0m\u001b[1;32m     73\u001b[0m \u001b[0;34m\u001b[0m\u001b[0m\n\u001b[1;32m     74\u001b[0m \u001b[0;34m\u001b[0m\u001b[0m\n",
      "\u001b[0;32m/usr/lib/python3/dist-packages/requests/api.py\u001b[0m in \u001b[0;36mrequest\u001b[0;34m(method, url, **kwargs)\u001b[0m\n\u001b[1;32m     56\u001b[0m     \u001b[0;31m# cases, and look like a memory leak in others.\u001b[0m\u001b[0;34m\u001b[0m\u001b[0;34m\u001b[0m\u001b[0m\n\u001b[1;32m     57\u001b[0m     \u001b[0;32mwith\u001b[0m \u001b[0msessions\u001b[0m\u001b[0;34m.\u001b[0m\u001b[0mSession\u001b[0m\u001b[0;34m(\u001b[0m\u001b[0;34m)\u001b[0m \u001b[0;32mas\u001b[0m \u001b[0msession\u001b[0m\u001b[0;34m:\u001b[0m\u001b[0;34m\u001b[0m\u001b[0m\n\u001b[0;32m---> 58\u001b[0;31m         \u001b[0;32mreturn\u001b[0m \u001b[0msession\u001b[0m\u001b[0;34m.\u001b[0m\u001b[0mrequest\u001b[0m\u001b[0;34m(\u001b[0m\u001b[0mmethod\u001b[0m\u001b[0;34m=\u001b[0m\u001b[0mmethod\u001b[0m\u001b[0;34m,\u001b[0m \u001b[0murl\u001b[0m\u001b[0;34m=\u001b[0m\u001b[0murl\u001b[0m\u001b[0;34m,\u001b[0m \u001b[0;34m**\u001b[0m\u001b[0mkwargs\u001b[0m\u001b[0;34m)\u001b[0m\u001b[0;34m\u001b[0m\u001b[0m\n\u001b[0m\u001b[1;32m     59\u001b[0m \u001b[0;34m\u001b[0m\u001b[0m\n\u001b[1;32m     60\u001b[0m \u001b[0;34m\u001b[0m\u001b[0m\n",
      "\u001b[0;32m/usr/lib/python3/dist-packages/requests/sessions.py\u001b[0m in \u001b[0;36mrequest\u001b[0;34m(self, method, url, params, data, headers, cookies, files, auth, timeout, allow_redirects, proxies, hooks, stream, verify, cert, json)\u001b[0m\n\u001b[1;32m    506\u001b[0m         }\n\u001b[1;32m    507\u001b[0m         \u001b[0msend_kwargs\u001b[0m\u001b[0;34m.\u001b[0m\u001b[0mupdate\u001b[0m\u001b[0;34m(\u001b[0m\u001b[0msettings\u001b[0m\u001b[0;34m)\u001b[0m\u001b[0;34m\u001b[0m\u001b[0m\n\u001b[0;32m--> 508\u001b[0;31m         \u001b[0mresp\u001b[0m \u001b[0;34m=\u001b[0m \u001b[0mself\u001b[0m\u001b[0;34m.\u001b[0m\u001b[0msend\u001b[0m\u001b[0;34m(\u001b[0m\u001b[0mprep\u001b[0m\u001b[0;34m,\u001b[0m \u001b[0;34m**\u001b[0m\u001b[0msend_kwargs\u001b[0m\u001b[0;34m)\u001b[0m\u001b[0;34m\u001b[0m\u001b[0m\n\u001b[0m\u001b[1;32m    509\u001b[0m \u001b[0;34m\u001b[0m\u001b[0m\n\u001b[1;32m    510\u001b[0m         \u001b[0;32mreturn\u001b[0m \u001b[0mresp\u001b[0m\u001b[0;34m\u001b[0m\u001b[0m\n",
      "\u001b[0;32m/usr/lib/python3/dist-packages/requests/sessions.py\u001b[0m in \u001b[0;36msend\u001b[0;34m(self, request, **kwargs)\u001b[0m\n\u001b[1;32m    616\u001b[0m \u001b[0;34m\u001b[0m\u001b[0m\n\u001b[1;32m    617\u001b[0m         \u001b[0;31m# Send the request\u001b[0m\u001b[0;34m\u001b[0m\u001b[0;34m\u001b[0m\u001b[0m\n\u001b[0;32m--> 618\u001b[0;31m         \u001b[0mr\u001b[0m \u001b[0;34m=\u001b[0m \u001b[0madapter\u001b[0m\u001b[0;34m.\u001b[0m\u001b[0msend\u001b[0m\u001b[0;34m(\u001b[0m\u001b[0mrequest\u001b[0m\u001b[0;34m,\u001b[0m \u001b[0;34m**\u001b[0m\u001b[0mkwargs\u001b[0m\u001b[0;34m)\u001b[0m\u001b[0;34m\u001b[0m\u001b[0m\n\u001b[0m\u001b[1;32m    619\u001b[0m \u001b[0;34m\u001b[0m\u001b[0m\n\u001b[1;32m    620\u001b[0m         \u001b[0;31m# Total elapsed time of the request (approximately)\u001b[0m\u001b[0;34m\u001b[0m\u001b[0;34m\u001b[0m\u001b[0m\n",
      "\u001b[0;32m/usr/lib/python3/dist-packages/requests/adapters.py\u001b[0m in \u001b[0;36msend\u001b[0;34m(self, request, stream, timeout, verify, cert, proxies)\u001b[0m\n\u001b[1;32m    488\u001b[0m \u001b[0;34m\u001b[0m\u001b[0m\n\u001b[1;32m    489\u001b[0m         \u001b[0;32mexcept\u001b[0m \u001b[0;34m(\u001b[0m\u001b[0mProtocolError\u001b[0m\u001b[0;34m,\u001b[0m \u001b[0msocket\u001b[0m\u001b[0;34m.\u001b[0m\u001b[0merror\u001b[0m\u001b[0;34m)\u001b[0m \u001b[0;32mas\u001b[0m \u001b[0merr\u001b[0m\u001b[0;34m:\u001b[0m\u001b[0;34m\u001b[0m\u001b[0m\n\u001b[0;32m--> 490\u001b[0;31m             \u001b[0;32mraise\u001b[0m \u001b[0mConnectionError\u001b[0m\u001b[0;34m(\u001b[0m\u001b[0merr\u001b[0m\u001b[0;34m,\u001b[0m \u001b[0mrequest\u001b[0m\u001b[0;34m=\u001b[0m\u001b[0mrequest\u001b[0m\u001b[0;34m)\u001b[0m\u001b[0;34m\u001b[0m\u001b[0m\n\u001b[0m\u001b[1;32m    491\u001b[0m \u001b[0;34m\u001b[0m\u001b[0m\n\u001b[1;32m    492\u001b[0m         \u001b[0;32mexcept\u001b[0m \u001b[0mMaxRetryError\u001b[0m \u001b[0;32mas\u001b[0m \u001b[0me\u001b[0m\u001b[0;34m:\u001b[0m\u001b[0;34m\u001b[0m\u001b[0m\n",
      "\u001b[0;31mConnectionError\u001b[0m: ('Connection aborted.', RemoteDisconnected('Remote end closed connection without response',))"
     ]
    }
   ],
   "source": [
    "artist_info = soup.find('h1').text\n",
    "artist_info = artist_info.replace(' Lyrics', '')\n",
    "genre       = 'Pop'\n",
    "# albums_info = []\n",
    "songs       = []\n",
    "for album in albums:\n",
    "    release_year = ''.join(re.findall('\\(([0-9]+)\\)',album[0].text))\n",
    "    release_year = int(release_year) if release_year else None\n",
    "    album_name = ''.join(re.findall(':\\s(.*)\\s\\(',album[0].text))\n",
    "    if not album_name: album_name = 'Other Songs' \n",
    "    # albums_info.append({'Album': album_name, 'Year': release_year})\n",
    "    for song in album:\n",
    "        if song.name == 'a':\n",
    "            songname = song.text\n",
    "            songlink = song.attrs['href']\n",
    "            songlink = 'https://www.azlyrics.com/' + songlink.replace('../','')\n",
    "            lyrics   = extract_lyrics(songlink)\n",
    "            sleep(uniform(.5,1))\n",
    "            songs.append({'Album': album_name, 'Year': release_year, 'Name': songname,\n",
    "                          'Link': songlink, 'Artist':artist_info,'Lyrics':lyrics,'Genre':genre})\n",
    "    sleep(uniform(.5,1))"
   ]
  },
  {
   "cell_type": "code",
   "execution_count": 234,
   "metadata": {},
   "outputs": [
    {
     "name": "stdout",
     "output_type": "stream",
     "text": [
      "\n",
      "\n",
      "Daydreamer\n",
      "Sitting on the sea\n",
      "Soaking up the sun\n",
      "He is a real lover\n",
      "Of making up the past\n",
      "And feeling up his girl\n",
      "Like he's never felt a figure before\n",
      "\n",
      "A jaw-dropper\n",
      "Looks good when he walks\n",
      "Is the subject of their talk\n",
      "He would be hard to chase\n",
      "But good to catch\n",
      "And he could change the world\n",
      "With his hands behind his back, oh\n",
      "\n",
      "You can find him sittin' on your doorstep\n",
      "Waiting for a surprise\n",
      "And he will feel like he's been there for hours\n",
      "And you can tell that he'll be there for life\n",
      "\n",
      "Daydreamer\n",
      "With eyes that make you melt\n",
      "He lends his coat for shelter\n",
      "Plus he's there for you\n",
      "When he shouldn't be\n",
      "But he stays all the same\n",
      "Waits for you\n",
      "Then sees you through\n",
      "\n",
      "There's no way I could describe him\n",
      "What I've said is just what I'm hoping for\n",
      "\n",
      "But I will find him sittin' on my doorstep\n",
      "Waiting for a surprise\n",
      "And he will feel like he's been there for hours\n",
      "And I can tell that he'll be there for life\n",
      "And I can tell that he'll be there for life\n",
      "\n",
      "\n",
      "\n",
      "Wait, do you see my heart on my sleeve?\n",
      "It's been there for days on end and\n",
      "It's been waiting for you to open up\n",
      "Yours too baby, come on now\n",
      "I'm trying to tell you just how\n",
      "I'd like to hear the words roll out of your mouth finally\n",
      "Say that it's always been me\n",
      "\n",
      "That's made you feel a way you've never felt before\n",
      "And I'm all you need and that you never want more\n",
      "Then you'd say all of the right things without a clue\n",
      "But you'd save the best for last\n",
      "Like I'm the one for you\n",
      "\n",
      "You should know that you're just a temporary fix\n",
      "This is not rooted with you it don't mean that much to me\n",
      "You're just a filler in the space that happened to be free\n",
      "How dare you think you'd get away with trying to play me?\n",
      "Yeah\n",
      "\n",
      "Why is it every time I think I've tried my hardest\n",
      "It turns out it ain't enough?\n",
      "You're still not mentioning love\n",
      "What am I supposed to do to make you want me properly?\n",
      "I'm taking these chances and getting nowhere\n",
      "And though I'm trying my hardest you go back to her\n",
      "And I think that I know things may never change\n",
      "I'm still hoping one day I might hear you say\n",
      "\n",
      "I make you feel a way you've never felt before\n",
      "And I'm all you need and that you never want more\n",
      "Then you'd say all of the right things without a clue\n",
      "But you'd save the best for last\n",
      "Like I'm the one for you\n",
      "\n",
      "You should know that you're just a temporary fix\n",
      "This is not rooted with you it don't mean that much to me\n",
      "You're just a filler in the space that happened to be free\n",
      "How dare you think you'd get away with trying to play me\n",
      "\n",
      "But, despite the truth that I know\n",
      "I find it hard to let go and give up on you\n",
      "Seems I love the things you do\n",
      "Like the meaner you treat me more eager I am\n",
      "To persist with this heartbreak of running around\n",
      "And I will do until I find myself with you and\n",
      "\n",
      "Make you feel a way you've never felt before\n",
      "And be all you need so that you'll never want more\n",
      "Then you'd say all of the right things without a clue\n",
      "And you'll be the one for me and me the one for you\n",
      "\n",
      "\n",
      "\n",
      "I've made up my mind,\n",
      "Don't need to think it over\n",
      "If I'm wrong, I am right\n",
      "Don't need to look no further,\n",
      "This ain't lust\n",
      "I know this is love\n",
      "\n",
      "But if I tell the world\n",
      "I'll never say enough\n",
      "'cause it was not said to you\n",
      "And that's exactly what I need to do\n",
      "If I end up with you\n",
      "\n",
      "[Chorus:]\n",
      "Should I give up?\n",
      "Or should I just keep chasin' pavements\n",
      "Even if it leads nowhere?\n",
      "Or would it be a waste\n",
      "Even if I knew my place?\n",
      "Should I leave it there?\n",
      "Should I give up?\n",
      "Or should I just keep chasin' pavements\n",
      "Even if it leads nowhere?\n",
      "\n",
      "I build myself up\n",
      "And fly around in circles\n",
      "Waitin' as my heart drops\n",
      "And my back begins to tingle\n",
      "Finally, could this be it\n",
      "\n",
      "[Chorus:]\n",
      "Or should I give up?\n",
      "Or should I just keep chasin' pavements\n",
      "Even if it leads nowhere?\n",
      "Or would it be a waste\n",
      "Even if I knew my place?\n",
      "Should I leave it there?\n",
      "\n",
      "Should I give up?\n",
      "Or should I just keep chasin' pavements\n",
      "Even if it leads nowhere?\n",
      "\n",
      "Should I give up?\n",
      "Or should I just keep on chasin' pavements\n",
      "Even if it leads nowhere?\n",
      "Or would it be a waste\n",
      "Even if I knew my place?\n",
      "Should I leave it there?\n",
      "\n",
      "Should I give up?\n",
      "Or should I just keep on chasin' pavements?\n",
      "Should I just keep on chasin' pavements?\n",
      "Ohh oh\n",
      "\n",
      "[Chorus:]\n",
      "should I give up?\n",
      "Or should I just keep chasin' pavements\n",
      "Even if it leads nowhere?\n",
      "Or would it be a waste\n",
      "Even if I knew my place?\n",
      "Should I leave it there?\n",
      "\n",
      "should I give up?\n",
      "Or should I just keep chasin' pavements\n",
      "Even if it leads nowhere?\n",
      "\n",
      "\n",
      "\n",
      "You say it's all in my head\n",
      "And the things I think just don't make sense\n",
      "So where you been then? Don't go all coy\n",
      "Don't turn it 'round on me like it's my fault\n",
      "See I can see that look in your eyes\n",
      "The one that shoots me each and every time (every time)\n",
      "\n",
      "You grace me with your cold shoulder\n",
      "Whenever you look at me I wish I was her\n",
      "You shower me with words made of knives\n",
      "Whenever you look at me I wish I was her\n",
      "\n",
      "These days when I see you\n",
      "You make it look like I'm see-through\n",
      "Do tell me why you waste our time\n",
      "When your heart ain't admitting you're not satisfied\n",
      "You know I know just how you feel\n",
      "I'm starting to find myself feeling that way too\n",
      "\n",
      "When you grace me with your cold shoulder\n",
      "Whenever you look at me I wish I was her\n",
      "You shower me with words made of knives\n",
      "Whenever you look at me I wish I was her\n",
      "\n",
      "Time and time again, I play the role of fool\n",
      "(Just for you)\n",
      "Even in the daylight when you think that I don't see you\n",
      "Try to look for things I hear but our eyes never find\n",
      "'Though I do know how you play\n",
      "\n",
      "You grace me with your cold shoulder\n",
      "Whenever you look at me I wish I was her\n",
      "You shower me with words made of knives\n",
      "Whenever you look at me I wish I was her\n",
      "\n",
      "You grace me with your cold shoulder\n",
      "Whenever you look at me I wish I was her\n",
      "You shower me with words made of knives\n",
      "Whenever you look at me I wish I was her\n",
      "\n"
     ]
    }
   ],
   "source": [
    "from time import sleep\n",
    "for song in songs[:4]:\n",
    "    sleep(.4)\n",
    "    print(song['Lyrics'])"
   ]
  },
  {
   "cell_type": "code",
   "execution_count": 238,
   "metadata": {},
   "outputs": [],
   "source": [
    "def db_creator(dbpath, dbname):\n",
    "    conn = sqlite3.connect(dbpath + '/' + dbname)\n",
    "    cur  = conn.cursor()\n",
    "    cur.execute('''CREATE TABLE lyrics\n",
    "                 (name TEXT, lyrics TEXT, artist TEXT, genre TEXT, album TEXT,year INTEGER, source TEXT)''')\n",
    "    cur.execute('''CREATE UNIQUE INDEX id ON lyrics (name, artist, album)''')\n",
    "\n",
    "    conn.commit()    \n",
    "    conn.close()\n",
    "\n",
    "def album_writer(song_info_list,dbdest):\n",
    "    conn = sqlite3.connect(dbdest)\n",
    "    cur  = conn.cursor()\n",
    "\n",
    "    for s in song_info_list:\n",
    "        # Yazma\n",
    "        cur.execute(\"INSERT OR IGNORE INTO lyrics VALUES (?,?,?,?,?,?,?)\", \n",
    "                    (s['Name'],s['Lyrics'],s['Artist'],s['Genre'],s['Album'],s['Year'],'azlyrics'))\n",
    "        print('[LOG] Written songs for %s - %s' % (s.album, s.artist))\n",
    "    conn.commit()    \n",
    "    conn.close()"
   ]
  },
  {
   "cell_type": "code",
   "execution_count": 239,
   "metadata": {},
   "outputs": [],
   "source": [
    "album_writer(songs,'output/lyrics.db')"
   ]
  },
  {
   "cell_type": "code",
   "execution_count": 240,
   "metadata": {},
   "outputs": [
    {
     "data": {
      "text/plain": [
       "[]"
      ]
     },
     "execution_count": 240,
     "metadata": {},
     "output_type": "execute_result"
    }
   ],
   "source": [
    "songs"
   ]
  },
  {
   "cell_type": "code",
   "execution_count": null,
   "metadata": {},
   "outputs": [],
   "source": []
  }
 ],
 "metadata": {
  "kernelspec": {
   "display_name": "Python 3",
   "language": "python",
   "name": "python3"
  },
  "language_info": {
   "codemirror_mode": {
    "name": "ipython",
    "version": 3
   },
   "file_extension": ".py",
   "mimetype": "text/x-python",
   "name": "python",
   "nbconvert_exporter": "python",
   "pygments_lexer": "ipython3",
   "version": "3.6.5"
  }
 },
 "nbformat": 4,
 "nbformat_minor": 2
}
