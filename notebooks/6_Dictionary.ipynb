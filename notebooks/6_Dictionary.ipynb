{
 "cells": [
  {
   "cell_type": "code",
   "execution_count": 1,
   "metadata": {},
   "outputs": [],
   "source": [
    "from random import randint"
   ]
  },
  {
   "cell_type": "code",
   "execution_count": 11,
   "metadata": {},
   "outputs": [],
   "source": [
    "depresif = ['aldanma çocuksu mahsun yüzüne - Müslüm','pixels - Leprous', 'bitti mi - 110', 'some kind of a love song - Freak Kitchen']\n",
    "gaz      = ['breaking the law - Judas Priest', 'beyond this life - Dream Theater', 'wake up - RATM']\n",
    "mutlu    = ['consumed - Control Denied', 'spirit crusher - Death', 'jotun - In Flames']"
   ]
  },
  {
   "cell_type": "code",
   "execution_count": 24,
   "metadata": {},
   "outputs": [
    {
     "data": {
      "text/plain": [
       "4"
      ]
     },
     "execution_count": 24,
     "metadata": {},
     "output_type": "execute_result"
    }
   ],
   "source": [
    "randint(0,2)"
   ]
  },
  {
   "cell_type": "code",
   "execution_count": 37,
   "metadata": {},
   "outputs": [
    {
     "data": {
      "text/plain": [
       "'aldanma çocuksu mahsun yüzüne - Müslüm'"
      ]
     },
     "execution_count": 37,
     "metadata": {},
     "output_type": "execute_result"
    }
   ],
   "source": [
    "depresif[ randint(0,len(depresif)-1) ]"
   ]
  },
  {
   "cell_type": "code",
   "execution_count": 9,
   "metadata": {},
   "outputs": [
    {
     "name": "stdout",
     "output_type": "stream",
     "text": [
      "Duygu durumunuzu seçiniz:\n",
      "1. Depresif\n",
      "2. Gaz lazım\n",
      "3. Mutlu\n",
      "> 3\n",
      "jotun - In Flames\n"
     ]
    }
   ],
   "source": [
    "from random import randint, SystemRandom\n",
    "secure_random = SystemRandom()\n",
    "\n",
    "mood = input('Duygu durumunuzu seçiniz:\\n1. Depresif\\n2. Gaz lazım\\n3. Mutlu\\n> ')\n",
    "\n",
    "if mood == '1':\n",
    "    print(secure_random.choice(depresif))\n",
    "elif mood == '2':\n",
    "    print(secure_random.choice(gaz))\n",
    "elif mood == '3':\n",
    "    print(secure_random.choice(mutlu))\n",
    "else:\n",
    "    print('lütfen 1, 2 ya da 3 arasından seçiniz')"
   ]
  },
  {
   "cell_type": "markdown",
   "metadata": {},
   "source": [
    "## Sözlükler (Dictionary) "
   ]
  },
  {
   "cell_type": "code",
   "execution_count": 39,
   "metadata": {},
   "outputs": [],
   "source": [
    "dct = {'adnan':79,'mümtaz':42,'cumali':49}"
   ]
  },
  {
   "cell_type": "code",
   "execution_count": 41,
   "metadata": {},
   "outputs": [
    {
     "name": "stdout",
     "output_type": "stream",
     "text": [
      "{'adnan': 79, 'mümtaz': 42, 'cumali': 49}\n"
     ]
    }
   ],
   "source": [
    "print(dct)"
   ]
  },
  {
   "cell_type": "code",
   "execution_count": 44,
   "metadata": {},
   "outputs": [
    {
     "name": "stdout",
     "output_type": "stream",
     "text": [
      "79\n",
      "42\n",
      "49\n"
     ]
    }
   ],
   "source": [
    "print(dct['adnan'])\n",
    "print(dct['mümtaz'])\n",
    "print(dct['cumali'])"
   ]
  },
  {
   "cell_type": "code",
   "execution_count": 47,
   "metadata": {},
   "outputs": [
    {
     "data": {
      "text/plain": [
       "{'adnan': 79, 'mümtaz': 42, 'cumali': 49, 'fahrettin': 38}"
      ]
     },
     "execution_count": 47,
     "metadata": {},
     "output_type": "execute_result"
    }
   ],
   "source": [
    "dct['fahrettin'] = 38\n",
    "dct"
   ]
  },
  {
   "cell_type": "code",
   "execution_count": 55,
   "metadata": {},
   "outputs": [],
   "source": [
    "bandlist = {'metal': ['In Flames', 'Iced Earth', 'Slayer', 'Metallica', 'Deftones'], \n",
    "            'Rock': ['Pink Floyd', 'Gary Moore', 'Genesis']}"
   ]
  },
  {
   "cell_type": "code",
   "execution_count": 58,
   "metadata": {},
   "outputs": [
    {
     "data": {
      "text/plain": [
       "'Iced Earth'"
      ]
     },
     "execution_count": 58,
     "metadata": {},
     "output_type": "execute_result"
    }
   ],
   "source": [
    "bandlist['metal'][1]"
   ]
  },
  {
   "cell_type": "code",
   "execution_count": 61,
   "metadata": {},
   "outputs": [
    {
     "data": {
      "text/plain": [
       "{}"
      ]
     },
     "execution_count": 61,
     "metadata": {},
     "output_type": "execute_result"
    }
   ],
   "source": [
    "songlist = {}\n",
    "songlist = dict()\n",
    "songlist"
   ]
  },
  {
   "cell_type": "code",
   "execution_count": 62,
   "metadata": {},
   "outputs": [],
   "source": [
    "songlist['depresif'] = ['aldanma çocuksu mahsun yüzüne - Müslüm','pixels - Leprous', 'bitti mi - 110', 'some kind of a love song - Freak Kitchen']\n",
    "songlist['gaz']      = ['breaking the law - Judas Priest', 'beyond this life - Dream Theater', 'wake up - RATM']\n",
    "songlist['mutlu']    = ['consumed - Control Denied', 'spirit crusher - Death', 'jotun - In Flames']"
   ]
  },
  {
   "cell_type": "code",
   "execution_count": 64,
   "metadata": {},
   "outputs": [
    {
     "data": {
      "text/plain": [
       "'aldanma çocuksu mahsun yüzüne - Müslüm'"
      ]
     },
     "execution_count": 64,
     "metadata": {},
     "output_type": "execute_result"
    }
   ],
   "source": [
    "songlist['depresif'][0]"
   ]
  },
  {
   "cell_type": "markdown",
   "metadata": {},
   "source": [
    "### Dictionary Methods "
   ]
  },
  {
   "cell_type": "code",
   "execution_count": 67,
   "metadata": {},
   "outputs": [
    {
     "data": {
      "text/plain": [
       "True"
      ]
     },
     "execution_count": 67,
     "metadata": {},
     "output_type": "execute_result"
    }
   ],
   "source": [
    "mood = 'gaz'\n",
    "mood in songlist.keys()"
   ]
  },
  {
   "cell_type": "code",
   "execution_count": 52,
   "metadata": {},
   "outputs": [
    {
     "data": {
      "text/plain": [
       "dict_items([('adnan', 79), ('mümtaz', 42), ('cumali', 49), ('fahrettin', 38)])"
      ]
     },
     "execution_count": 52,
     "metadata": {},
     "output_type": "execute_result"
    }
   ],
   "source": [
    "dct.items()"
   ]
  },
  {
   "cell_type": "code",
   "execution_count": 16,
   "metadata": {},
   "outputs": [
    {
     "name": "stdout",
     "output_type": "stream",
     "text": [
      "dict_keys(['adnan', 'mümtaz', 'cumali', 'fahrettin'])\n",
      "['adnan', 'mümtaz', 'cumali', 'fahrettin']\n"
     ]
    }
   ],
   "source": [
    "print(dct.keys())\n",
    "print(list(dct.keys()))"
   ]
  },
  {
   "cell_type": "code",
   "execution_count": 18,
   "metadata": {},
   "outputs": [
    {
     "name": "stdout",
     "output_type": "stream",
     "text": [
      "dict_values([79, 42, 49, 38])\n",
      "[79, 42, 49, 38]\n"
     ]
    }
   ],
   "source": [
    "print(dct.values())\n",
    "print(list(dct.values()))"
   ]
  },
  {
   "cell_type": "code",
   "execution_count": 19,
   "metadata": {},
   "outputs": [
    {
     "name": "stdout",
     "output_type": "stream",
     "text": [
      "dict_items([('adnan', 79), ('mümtaz', 42), ('cumali', 49), ('fahrettin', 38)])\n",
      "[('adnan', 79), ('mümtaz', 42), ('cumali', 49), ('fahrettin', 38)]\n"
     ]
    }
   ],
   "source": [
    "print(dct.items())\n",
    "print(list(dct.items()))"
   ]
  },
  {
   "cell_type": "code",
   "execution_count": 20,
   "metadata": {},
   "outputs": [
    {
     "name": "stdout",
     "output_type": "stream",
     "text": [
      "adnan\n",
      "mümtaz\n",
      "cumali\n",
      "fahrettin\n"
     ]
    }
   ],
   "source": [
    "for k in dct.keys():\n",
    "    print(k)"
   ]
  },
  {
   "cell_type": "code",
   "execution_count": 21,
   "metadata": {},
   "outputs": [
    {
     "name": "stdout",
     "output_type": "stream",
     "text": [
      "79\n",
      "42\n",
      "49\n",
      "38\n"
     ]
    }
   ],
   "source": [
    "for v in dct.values():\n",
    "    print(v)"
   ]
  },
  {
   "cell_type": "code",
   "execution_count": 22,
   "metadata": {},
   "outputs": [
    {
     "name": "stdout",
     "output_type": "stream",
     "text": [
      "adnan 79\n",
      "mümtaz 42\n",
      "cumali 49\n",
      "fahrettin 38\n"
     ]
    }
   ],
   "source": [
    "for k,v in dct.items():\n",
    "    print(k,v)"
   ]
  },
  {
   "cell_type": "markdown",
   "metadata": {},
   "source": [
    "### Sözlüklerin yaygın kullanımı"
   ]
  },
  {
   "cell_type": "code",
   "execution_count": 13,
   "metadata": {},
   "outputs": [
    {
     "name": "stdout",
     "output_type": "stream",
     "text": [
      "f\n",
      "a\n",
      "n\n",
      "a\n",
      "t\n",
      "i\n",
      "k\n",
      "l\n",
      "e\n",
      "s\n",
      "t\n",
      "i\n",
      "r\n",
      "e\n",
      "m\n",
      "e\n",
      "d\n",
      "i\n",
      "k\n",
      "l\n",
      "e\n",
      "r\n",
      "i\n",
      "m\n",
      "i\n",
      "z\n",
      "d\n",
      "e\n",
      "n\n",
      " \n",
      "m\n",
      "i\n",
      "s\n",
      "i\n",
      "n\n",
      "i\n",
      "z\n",
      "?\n"
     ]
    }
   ],
   "source": [
    "sozcuk = 'fanatiklestiremediklerimizden misiniz?'\n",
    "for harf in sozcuk:\n",
    "    print(harf)"
   ]
  },
  {
   "cell_type": "code",
   "execution_count": 23,
   "metadata": {},
   "outputs": [
    {
     "ename": "NameError",
     "evalue": "name 'sozcuk' is not defined",
     "output_type": "error",
     "traceback": [
      "\u001b[0;31m---------------------------------------------------------------------------\u001b[0m",
      "\u001b[0;31mNameError\u001b[0m                                 Traceback (most recent call last)",
      "\u001b[0;32m<ipython-input-23-bef0bdce05c6>\u001b[0m in \u001b[0;36m<module>\u001b[0;34m()\u001b[0m\n\u001b[0;32m----> 1\u001b[0;31m \u001b[0;32mfor\u001b[0m \u001b[0mharf\u001b[0m \u001b[0;32min\u001b[0m \u001b[0msozcuk\u001b[0m\u001b[0;34m:\u001b[0m\u001b[0;34m\u001b[0m\u001b[0m\n\u001b[0m\u001b[1;32m      2\u001b[0m     \u001b[0mfrekans\u001b[0m\u001b[0;34m[\u001b[0m\u001b[0mharf\u001b[0m\u001b[0;34m]\u001b[0m \u001b[0;34m=\u001b[0m \u001b[0mfrekans\u001b[0m\u001b[0;34m[\u001b[0m\u001b[0mharf\u001b[0m\u001b[0;34m]\u001b[0m \u001b[0;34m+\u001b[0m \u001b[0;36m1\u001b[0m\u001b[0;34m\u001b[0m\u001b[0m\n\u001b[1;32m      3\u001b[0m \u001b[0mprint\u001b[0m\u001b[0;34m(\u001b[0m\u001b[0mfrekans\u001b[0m\u001b[0;34m)\u001b[0m\u001b[0;34m\u001b[0m\u001b[0m\n",
      "\u001b[0;31mNameError\u001b[0m: name 'sozcuk' is not defined"
     ]
    }
   ],
   "source": [
    "for harf in sozcuk:\n",
    "    frekans[harf] = frekans[harf] + 1\n",
    "print(frekans)"
   ]
  },
  {
   "cell_type": "code",
   "execution_count": 24,
   "metadata": {},
   "outputs": [
    {
     "name": "stdout",
     "output_type": "stream",
     "text": [
      "{'a': 0, 'm': 0, 'b': 0, 'e': 0, 'n': 0, ' ': 0}\n"
     ]
    }
   ],
   "source": [
    "sozcuk  = 'amma benena'\n",
    "frekans = dict()\n",
    "for harf in ['a','m','b','e','n', ' ']:\n",
    "    frekans[harf] = 0\n",
    "print(frekans)"
   ]
  },
  {
   "cell_type": "code",
   "execution_count": 25,
   "metadata": {},
   "outputs": [
    {
     "name": "stdout",
     "output_type": "stream",
     "text": [
      "{'a': 3, 'm': 2, 'b': 1, 'e': 2, 'n': 2, ' ': 1}\n"
     ]
    }
   ],
   "source": [
    "for harf in sozcuk:\n",
    "    frekans[harf] = frekans[harf] + 1\n",
    "    \n",
    "print(frekans)"
   ]
  },
  {
   "cell_type": "code",
   "execution_count": 26,
   "metadata": {},
   "outputs": [],
   "source": [
    "sozcuk = 'amma benena'\n",
    "frekans = dict()\n",
    "for harf in sozcuk:\n",
    "    if harf in frekans:\n",
    "        frekans[harf] = frekans[harf] + 1\n",
    "    else:\n",
    "        frekans[harf] = 1"
   ]
  },
  {
   "cell_type": "code",
   "execution_count": 27,
   "metadata": {},
   "outputs": [
    {
     "data": {
      "text/plain": [
       "{'a': 3, 'm': 2, ' ': 1, 'b': 1, 'e': 2, 'n': 2}"
      ]
     },
     "execution_count": 27,
     "metadata": {},
     "output_type": "execute_result"
    }
   ],
   "source": [
    "frekans"
   ]
  },
  {
   "cell_type": "code",
   "execution_count": 28,
   "metadata": {},
   "outputs": [
    {
     "name": "stdout",
     "output_type": "stream",
     "text": [
      "{'f': 1, 'a': 2, 'n': 3, 't': 2, 'i': 8, 'k': 2, 'l': 2, 'e': 5, 'ş': 1, 'r': 2, 'm': 3, 'd': 2, 'z': 2, ' ': 1, 's': 1, '?': 1}\n"
     ]
    }
   ],
   "source": [
    "sozcuk = 'fanatikleştiremediklerimizden misiniz?'\n",
    "frekans = dict()\n",
    "for harf in sozcuk:\n",
    "    if harf in frekans:\n",
    "        frekans[harf] = frekans[harf] + 1\n",
    "    else:\n",
    "        frekans[harf] = 1\n",
    "print(frekans)        "
   ]
  },
  {
   "cell_type": "code",
   "execution_count": 29,
   "metadata": {},
   "outputs": [
    {
     "name": "stdout",
     "output_type": "stream",
     "text": [
      "['I', 'love', 'my', 'love', 'but', 'my', 'love', \"doesn't\", 'love', 'me', 'as', 'I', 'love', 'my', 'love']\n",
      "{'I': 2, 'love': 6, 'my': 3, 'but': 1, \"doesn't\": 1, 'me': 1, 'as': 1}\n"
     ]
    }
   ],
   "source": [
    "cumle = \"I love my love but my love doesn't love me as I love my love\"\n",
    "sozcukler = cumle.split()\n",
    "print(sozcukler)\n",
    "frekans = dict()\n",
    "for sozcuk in sozcukler:\n",
    "    if sozcuk in frekans:\n",
    "        frekans[sozcuk] += 1\n",
    "    else:\n",
    "        frekans[sozcuk] = 1\n",
    "print(frekans)"
   ]
  },
  {
   "cell_type": "code",
   "execution_count": 30,
   "metadata": {},
   "outputs": [
    {
     "name": "stdout",
     "output_type": "stream",
     "text": [
      "[(6, 'love'), (3, 'my'), (2, 'I'), (1, 'me'), (1, \"doesn't\"), (1, 'but'), (1, 'as')]\n",
      "love :  6\n",
      "my :  3\n",
      "I :  2\n",
      "me :  1\n",
      "doesn't :  1\n",
      "but :  1\n",
      "as :  1\n"
     ]
    }
   ],
   "source": [
    "lst = []\n",
    "for k,v in frekans.items():\n",
    "    lst.append((v,k))\n",
    "lst.sort(reverse=True)\n",
    "print(lst)\n",
    "\n",
    "for v,k in lst:\n",
    "    print(k,': ',v)"
   ]
  },
  {
   "cell_type": "code",
   "execution_count": 51,
   "metadata": {},
   "outputs": [
    {
     "name": "stdout",
     "output_type": "stream",
     "text": [
      "tek :  46\n",
      "şu :  6\n",
      "yüreğime :  6\n",
      "oldu :  6\n",
      "ile :  6\n",
      "hasreti :  6\n",
      "ek :  6\n",
      "dertlerim :  6\n",
      "bitmeyen :  6\n",
      "birde :  6\n",
      "ben :  6\n",
      "başımayım :  6\n",
      "bıraktılar :  5\n",
      "beni :  5\n",
      "yavrumun :  3\n",
      "yarimin :  3\n",
      "çaldım :  1\n",
      "yaşlarım :  1\n",
      "uçtu :  1\n",
      "tüm :  1\n",
      "terketti :  1\n",
      "tek... :  1\n",
      "tanıdım :  1\n",
      "saçlarım :  1\n",
      "kuşlarım :  1\n",
      "kapısını :  1\n",
      "hepsini :  1\n",
      "göz :  1\n",
      "gönül :  1\n",
      "dostlarım :  1\n",
      "dost :  1\n",
      "damlıyor :  1\n",
      "bak :  1\n",
      "ağardı :  1\n"
     ]
    }
   ],
   "source": [
    "fh = open('tektek.txt')\n",
    "fd = dict()\n",
    "for line in fh:\n",
    "    kelimeler = line.strip().split()\n",
    "    for kelime in kelimeler:\n",
    "        kelime = kelime.lower()\n",
    "        if kelime in fd:\n",
    "            fd[kelime] += 1\n",
    "        else:\n",
    "            fd[kelime] = 1\n",
    "fh.close()\n",
    "\n",
    "lst = []\n",
    "for k,v in fd.items():\n",
    "    lst.append((v,k))\n",
    "lst.sort(reverse=True)\n",
    "\n",
    "\n",
    "for v,k in lst:\n",
    "    print(k,': ',v)"
   ]
  },
  {
   "cell_type": "code",
   "execution_count": null,
   "metadata": {},
   "outputs": [],
   "source": [
    "fh = open('tektek.txt')\n",
    "fd = dict()\n",
    "for line in fh:\n",
    "    kelimeler = line.strip().split()\n",
    "    for kelime in kelimeler:\n",
    "        kelime = kelime.lower()\n",
    "        if kelime in fd:\n",
    "            fd[kelime] += 1\n",
    "        else:\n",
    "            fd[kelime] = 1\n",
    "    fh.close()\n",
    "\n",
    "lst = [(v,k) for k,v in fd.items()]\n",
    "lst.sort(reverse=True)\n",
    "\n",
    "for v,k in lst:\n",
    "    print(k,': ',v)"
   ]
  },
  {
   "cell_type": "code",
   "execution_count": 41,
   "metadata": {},
   "outputs": [],
   "source": [
    "def freq_dist(dosya_adi):\n",
    "    fh = open(dosya_adi)\n",
    "    fd = dict()\n",
    "    for line in fh:\n",
    "        line = line.replace('(',' ').replace(')',' ')\n",
    "        kelimeler = line.strip().split()\n",
    "        for kelime in kelimeler:\n",
    "            kelime = kelime.lower()\n",
    "            if kelime in fd:\n",
    "                fd[kelime] += 1\n",
    "            else:\n",
    "                fd[kelime] = 1\n",
    "    fh.close()\n",
    "    return(fd)"
   ]
  },
  {
   "cell_type": "code",
   "execution_count": 42,
   "metadata": {},
   "outputs": [
    {
     "name": "stdout",
     "output_type": "stream",
     "text": [
      "tek :  46\n",
      "şu :  6\n",
      "yüreğime :  6\n",
      "oldu :  6\n",
      "ile :  6\n",
      "hasreti :  6\n",
      "ek :  6\n",
      "dertlerim :  6\n",
      "bitmeyen :  6\n",
      "birde :  6\n",
      "ben :  6\n",
      "başımayım :  6\n",
      "bıraktılar :  5\n",
      "beni :  5\n",
      "yavrumun :  3\n",
      "yarimin :  3\n",
      "çaldım :  1\n",
      "yaşlarım :  1\n",
      "uçtu :  1\n",
      "tüm :  1\n",
      "terketti :  1\n",
      "tek... :  1\n",
      "tanıdım :  1\n",
      "saçlarım :  1\n",
      "kuşlarım :  1\n",
      "kapısını :  1\n",
      "hepsini :  1\n",
      "göz :  1\n",
      "gönül :  1\n",
      "dostlarım :  1\n",
      "dost :  1\n",
      "damlıyor :  1\n",
      "bak :  1\n",
      "ağardı :  1\n"
     ]
    }
   ],
   "source": [
    "fd_tektek = freq_dist('tektek.txt')\n",
    "lst = [(v,k) for k,v in fd_tektek.items()]    \n",
    "lst.sort(reverse=True)\n",
    "\n",
    "\n",
    "for v,k in lst:\n",
    "    print(k,': ',v)"
   ]
  },
  {
   "cell_type": "code",
   "execution_count": 43,
   "metadata": {},
   "outputs": [
    {
     "name": "stdout",
     "output_type": "stream",
     "text": [
      "varsa :  3\n",
      "bir :  3\n",
      "çok :  2\n",
      "yaparım :  2\n",
      "olmadı :  2\n",
      "ne :  2\n",
      "de :  2\n",
      "üç :  1\n",
      "üzülür :  1\n",
      "çabuk :  1\n",
      "âşık :  1\n",
      "yüzün :  1\n",
      "yoksa :  1\n",
      "yerin :  1\n",
      "yeni :  1\n",
      "vaktin :  1\n",
      "unutkanım :  1\n",
      "tur :  1\n",
      "takarım :  1\n",
      "sıkılır :  1\n",
      "söyleyecek :  1\n",
      "sonra :  1\n",
      "sinema :  1\n",
      "sevgilimi :  1\n",
      "sende :  1\n",
      "savunacak :  1\n",
      "sadece :  1\n",
      "olsa :  1\n",
      "olmuyor :  1\n",
      "miami :  1\n",
      "konuşmakla :  1\n",
      "koluma :  1\n",
      "kendini :  1\n",
      "kaçmakla :  1\n",
      "istemiyorum :  1\n",
      "hemen :  1\n",
      "gün :  1\n",
      "gücün :  1\n",
      "görüşüp :  1\n",
      "gördüğün :  1\n",
      "gurur :  1\n",
      "gibi :  1\n",
      "gelme :  1\n",
      "eğer :  1\n",
      "evde :  1\n",
      "düşünür :  1\n",
      "doğru :  1\n",
      "doldurulur :  1\n",
      "da :  1\n",
      "böyle :  1\n",
      "bulunur :  1\n",
      "boş :  1\n",
      "birkaç :  1\n",
      "birazcık :  1\n",
      "beş :  1\n",
      "bekliyorum :  1\n",
      "bebek'te :  1\n",
      "bana :  1\n",
      "az :  1\n",
      "ayıracak :  1\n",
      "atarım :  1\n"
     ]
    }
   ],
   "source": [
    "fd_bebek = freq_dist('demet_akalin_bebek.txt')\n",
    "lst = [(v,k) for k,v in fd_bebek.items()]    \n",
    "lst.sort(reverse=True)\n",
    "\n",
    "\n",
    "for v,k in lst:\n",
    "    print(k,': ',v)"
   ]
  },
  {
   "cell_type": "markdown",
   "metadata": {},
   "source": [
    "### Benmerkezcil Şarkılar "
   ]
  },
  {
   "cell_type": "code",
   "execution_count": 44,
   "metadata": {},
   "outputs": [],
   "source": [
    "sozler    = ['ben', 'bana', 'benim', 'benden']\n",
    "ekler     = ['im', 'ım', 'am', 'um', 'üm', 'mi', 'mü', 'mı', 'mu', 'me', 'mden']"
   ]
  },
  {
   "cell_type": "code",
   "execution_count": 54,
   "metadata": {},
   "outputs": [
    {
     "name": "stdout",
     "output_type": "stream",
     "text": [
      "tektek\n",
      "115 nonselfish\n",
      "6 yüreğime\n",
      "6 dertlerim\n",
      "6 ben\n",
      "6 başımayım\n",
      "1 çaldım\n",
      "1 yaşlarım\n",
      "1 tüm\n",
      "1 tanıdım\n",
      "1 saçlarım\n",
      "1 kuşlarım\n",
      "1 dostlarım\n",
      "bebek\n",
      "59 nonselfish\n",
      "2 yaparım\n",
      "1 unutkanım\n",
      "1 takarım\n",
      "1 sevgilimi\n",
      "1 miami\n",
      "1 istemiyorum\n",
      "1 gelme\n",
      "1 bekliyorum\n",
      "1 bana\n",
      "1 atarım\n"
     ]
    }
   ],
   "source": [
    "from collections import defaultdict\n",
    "fd_tektek = freq_dist('tektek.txt')\n",
    "fd_bebek  = freq_dist('demet_akalin_bebek.txt')\n",
    "\n",
    "tektek_selfish = defaultdict(int)\n",
    "for k,v in fd_tektek.items():\n",
    "    if k in sozler:\n",
    "        tektek_selfish[k] += v\n",
    "    elif k[-2:] in ekler or k[-4:] in ekler:\n",
    "        tektek_selfish[k] += v\n",
    "    else:\n",
    "        tektek_selfish['nonselfish'] += v\n",
    "\n",
    "bebek_selfish = defaultdict(int)\n",
    "for k,v in fd_bebek.items():\n",
    "    if k in sozler:\n",
    "        bebek_selfish[k] += v\n",
    "    elif k[-2:] in ekler or k[-4:] in ekler:\n",
    "        bebek_selfish[k] += v\n",
    "    else:\n",
    "        bebek_selfish['nonselfish'] += v\n",
    "\n",
    "lst = [(v,k) for k,v in tektek_selfish.items()]\n",
    "print('tektek')\n",
    "for v,k in reversed(sorted(lst)):\n",
    "    print(v,k)\n",
    "\n",
    "lst = [(v,k) for k,v in bebek_selfish.items()]\n",
    "print('bebek')\n",
    "for v,k in reversed(sorted(lst)):\n",
    "    print(v,k)"
   ]
  },
  {
   "cell_type": "code",
   "execution_count": 68,
   "metadata": {},
   "outputs": [
    {
     "name": "stdout",
     "output_type": "stream",
     "text": [
      "Tektek 0.21232876712328763\n",
      "Bebek 0.15714285714285714\n"
     ]
    }
   ],
   "source": [
    "print('Tektek', 1- tektek_selfish['nonselfish'] / sum(tektek_selfish.values()))\n",
    "print('Bebek', 1- bebek_selfish['nonselfish'] / sum(bebek_selfish.values()))"
   ]
  },
  {
   "cell_type": "markdown",
   "metadata": {},
   "source": [
    "### Playlist Örneği"
   ]
  },
  {
   "cell_type": "code",
   "execution_count": 53,
   "metadata": {},
   "outputs": [],
   "source": [
    "n_played = {'Dream Theater': 101, 'Leprous': 33, 'Opeth':92, 'Pink Floyd':203,'Bülent Ersoy':144}"
   ]
  },
  {
   "cell_type": "code",
   "execution_count": 54,
   "metadata": {},
   "outputs": [],
   "source": [
    "n_played['Hüseyin Tatlı'] = 24\n",
    "n_played['İbrahim Tatlıseks'] = 99\n",
    "n_played['Orhan Bencegay'] = 89\n",
    "n_played['Yavuz Top'] = 10"
   ]
  },
  {
   "cell_type": "code",
   "execution_count": 58,
   "metadata": {},
   "outputs": [
    {
     "name": "stdout",
     "output_type": "stream",
     "text": [
      "[(203, 'Pink Floyd'), (144, 'Bülent Ersoy'), (101, 'Dream Theater'), (99, 'İbrahim Tatlıseks'), (92, 'Opeth'), (89, 'Orhan Bencegay'), (33, 'Leprous'), (24, 'Hüseyin Tatlı'), (10, 'Yavuz Top')]\n"
     ]
    }
   ],
   "source": [
    "lst = []\n",
    "for k,v in n_played.items():\n",
    "    lst.append((v,k))\n",
    "lst.sort(reverse=True)\n",
    "print(lst)"
   ]
  },
  {
   "cell_type": "code",
   "execution_count": 59,
   "metadata": {},
   "outputs": [],
   "source": [
    "playlist = dict()\n",
    "depresif = ['aldanma çocuksu mahsun yüzüne - Müslüm, pixels - Leprous', 'bitti mi - 110', 'some kind of a love song - Freak Kitchen']\n",
    "gaz      = ['breaking the law - Judas Priest', 'beyond this life - Dream Theater', 'wake up - RATM']\n",
    "mutlu    = ['consumed - Control Denied', 'spirit crusher - Death', 'jotun - In Flames']\n",
    "\n",
    "playlist['depresif'] = depresif\n",
    "playlist['gaz'] = gaz\n",
    "playlist['mutlu'] = mutlu"
   ]
  },
  {
   "cell_type": "code",
   "execution_count": 61,
   "metadata": {},
   "outputs": [
    {
     "name": "stdout",
     "output_type": "stream",
     "text": [
      "Duygu durumunuzu seçiniz:\n",
      "1. Depresif\n",
      "2. Gaz lazım\n",
      "3. Mutlu\n",
      "> a\n",
      "lütfen depresif, gaz, mutlu arasından seçiniz\n"
     ]
    }
   ],
   "source": [
    "from random import randint, SystemRandom\n",
    "secure_random = SystemRandom()\n",
    "\n",
    "mood = input('Duygu durumunuzu seçiniz:\\n1. Depresif\\n2. Gaz lazım\\n3. Mutlu\\n> ')\n",
    "\n",
    "if mood in playlist:\n",
    "    print(secure_random.choice(playlist[mood]))\n",
    "else:\n",
    "    print('lütfen',', '.join(playlist.keys()),'arasından seçiniz')"
   ]
  },
  {
   "cell_type": "code",
   "execution_count": null,
   "metadata": {},
   "outputs": [],
   "source": []
  }
 ],
 "metadata": {
  "kernelspec": {
   "display_name": "Python 3",
   "language": "python",
   "name": "python3"
  },
  "language_info": {
   "codemirror_mode": {
    "name": "ipython",
    "version": 3
   },
   "file_extension": ".py",
   "mimetype": "text/x-python",
   "name": "python",
   "nbconvert_exporter": "python",
   "pygments_lexer": "ipython3",
   "version": "3.6.5"
  }
 },
 "nbformat": 4,
 "nbformat_minor": 2
}
