{
 "cells": [
  {
   "cell_type": "code",
   "execution_count": 2,
   "metadata": {},
   "outputs": [],
   "source": [
    "depresif = ['aldanma çocuksu mahsun yüzüne - Müslüm, pixels - Leprous', 'bitti mi - 110', 'some kind of a love song - Freak Kitchen']\n",
    "gaz      = ['breaking the law - Judas Priest', 'beyond this life - Dream Theater', 'wake up - RATM']\n",
    "mutlu    = ['consumed - Control Denied', 'spirit crusher - Death', 'jotun - In Flames']"
   ]
  },
  {
   "cell_type": "code",
   "execution_count": 3,
   "metadata": {},
   "outputs": [
    {
     "name": "stdout",
     "output_type": "stream",
     "text": [
      "Duygu durumunuzu seçiniz:\n",
      "1. Depresif\n",
      "2. Gaz lazım\n",
      "3. Mutlu\n",
      "> 3\n",
      "spirit crusher - Death\n"
     ]
    }
   ],
   "source": [
    "from random import randint, SystemRandom\n",
    "secure_random = SystemRandom()\n",
    "\n",
    "mood = input('Duygu durumunuzu seçiniz:\\n1. Depresif\\n2. Gaz lazım\\n3. Mutlu\\n> ')\n",
    "\n",
    "if mood == '1':\n",
    "    print(secure_random.choice(depresif))\n",
    "elif mood == '2':\n",
    "    print(secure_random.choice(gaz))\n",
    "elif mood == '3':\n",
    "    print(secure_random.choice(mutlu))\n",
    "else:\n",
    "    print('lütfen 1, 2 ya da 3 arasından seçiniz')"
   ]
  },
  {
   "cell_type": "markdown",
   "metadata": {},
   "source": [
    "## Sözlükler (Dictionary) "
   ]
  },
  {
   "cell_type": "code",
   "execution_count": 1,
   "metadata": {},
   "outputs": [],
   "source": [
    "dct = {'adnan':79,'mümtaz':42,'cumali':49}"
   ]
  },
  {
   "cell_type": "code",
   "execution_count": 2,
   "metadata": {},
   "outputs": [
    {
     "name": "stdout",
     "output_type": "stream",
     "text": [
      "{'adnan': 79, 'mümtaz': 42, 'cumali': 49}\n"
     ]
    }
   ],
   "source": [
    "print(dct)"
   ]
  },
  {
   "cell_type": "code",
   "execution_count": 3,
   "metadata": {},
   "outputs": [
    {
     "name": "stdout",
     "output_type": "stream",
     "text": [
      "79\n",
      "42\n",
      "49\n"
     ]
    }
   ],
   "source": [
    "print(dct['adnan'])\n",
    "print(dct['mümtaz'])\n",
    "print(dct['cumali'])"
   ]
  },
  {
   "cell_type": "markdown",
   "metadata": {},
   "source": [
    "### Dictionary Methods "
   ]
  },
  {
   "cell_type": "code",
   "execution_count": 4,
   "metadata": {},
   "outputs": [
    {
     "name": "stdout",
     "output_type": "stream",
     "text": [
      "dict_keys(['adnan', 'mümtaz', 'cumali'])\n"
     ]
    }
   ],
   "source": [
    "print(dct.keys())"
   ]
  },
  {
   "cell_type": "code",
   "execution_count": 5,
   "metadata": {},
   "outputs": [
    {
     "name": "stdout",
     "output_type": "stream",
     "text": [
      "dict_values([79, 42, 49])\n"
     ]
    }
   ],
   "source": [
    "print(dct.values())"
   ]
  },
  {
   "cell_type": "code",
   "execution_count": 6,
   "metadata": {},
   "outputs": [
    {
     "name": "stdout",
     "output_type": "stream",
     "text": [
      "dict_items([('adnan', 79), ('mümtaz', 42), ('cumali', 49)])\n"
     ]
    }
   ],
   "source": [
    "print(dct.items())"
   ]
  },
  {
   "cell_type": "code",
   "execution_count": 7,
   "metadata": {},
   "outputs": [
    {
     "name": "stdout",
     "output_type": "stream",
     "text": [
      "adnan\n",
      "mümtaz\n",
      "cumali\n"
     ]
    }
   ],
   "source": [
    "for k in dct.keys():\n",
    "    print(k)"
   ]
  },
  {
   "cell_type": "code",
   "execution_count": 8,
   "metadata": {},
   "outputs": [
    {
     "name": "stdout",
     "output_type": "stream",
     "text": [
      "79\n",
      "42\n",
      "49\n"
     ]
    }
   ],
   "source": [
    "for v in dct.values():\n",
    "    print(v)"
   ]
  },
  {
   "cell_type": "code",
   "execution_count": 9,
   "metadata": {},
   "outputs": [
    {
     "name": "stdout",
     "output_type": "stream",
     "text": [
      "adnan 79\n",
      "mümtaz 42\n",
      "cumali 49\n"
     ]
    }
   ],
   "source": [
    "for k,v in dct.items():\n",
    "    print(k,v)"
   ]
  },
  {
   "cell_type": "code",
   "execution_count": 13,
   "metadata": {},
   "outputs": [
    {
     "name": "stdout",
     "output_type": "stream",
     "text": [
      "f\n",
      "a\n",
      "n\n",
      "a\n",
      "t\n",
      "i\n",
      "k\n",
      "l\n",
      "e\n",
      "s\n",
      "t\n",
      "i\n",
      "r\n",
      "e\n",
      "m\n",
      "e\n",
      "d\n",
      "i\n",
      "k\n",
      "l\n",
      "e\n",
      "r\n",
      "i\n",
      "m\n",
      "i\n",
      "z\n",
      "d\n",
      "e\n",
      "n\n",
      " \n",
      "m\n",
      "i\n",
      "s\n",
      "i\n",
      "n\n",
      "i\n",
      "z\n",
      "?\n"
     ]
    }
   ],
   "source": [
    "### Sözlüklerin yaygın kullanımı:\n",
    "sozcuk = 'fanatiklestiremediklerimizden misiniz?'\n",
    "for harf in sozcuk:\n",
    "    print(harf)"
   ]
  },
  {
   "cell_type": "code",
   "execution_count": 21,
   "metadata": {},
   "outputs": [
    {
     "name": "stdout",
     "output_type": "stream",
     "text": [
      "{'a': 0, 'm': 0, 'b': 0, 'e': 0, 'n': 0, ' ': 0}\n"
     ]
    }
   ],
   "source": [
    "sozcuk  = 'amma benena'\n",
    "frekans = dict()\n",
    "for harf in ['a','m','b','e','n', ' ']:\n",
    "    frekans[harf] = 0\n",
    "print(frekans)"
   ]
  },
  {
   "cell_type": "code",
   "execution_count": 22,
   "metadata": {},
   "outputs": [
    {
     "name": "stdout",
     "output_type": "stream",
     "text": [
      "{'a': 3, 'm': 2, 'b': 1, 'e': 2, 'n': 2, ' ': 1}\n"
     ]
    }
   ],
   "source": [
    "for harf in sozcuk:\n",
    "    frekans[harf] = frekans[harf] + 1\n",
    "    \n",
    "print(frekans)"
   ]
  },
  {
   "cell_type": "code",
   "execution_count": 23,
   "metadata": {},
   "outputs": [],
   "source": [
    "sozcuk = 'amma benena'\n",
    "frekans = dict()\n",
    "for harf in sozcuk:\n",
    "    if harf in frekans:\n",
    "        frekans[harf] = frekans[harf] + 1\n",
    "    else:\n",
    "        frekans[harf] = 1"
   ]
  },
  {
   "cell_type": "code",
   "execution_count": 24,
   "metadata": {},
   "outputs": [
    {
     "data": {
      "text/plain": [
       "{'a': 3, 'm': 2, ' ': 1, 'b': 1, 'e': 2, 'n': 2}"
      ]
     },
     "execution_count": 24,
     "metadata": {},
     "output_type": "execute_result"
    }
   ],
   "source": [
    "frekans"
   ]
  },
  {
   "cell_type": "code",
   "execution_count": 26,
   "metadata": {},
   "outputs": [
    {
     "name": "stdout",
     "output_type": "stream",
     "text": [
      "{'f': 1, 'a': 2, 'n': 3, 't': 2, 'i': 8, 'k': 2, 'l': 2, 'e': 5, 'ş': 1, 'r': 2, 'm': 3, 'd': 2, 'z': 2, ' ': 1, 's': 1, '?': 1}\n"
     ]
    }
   ],
   "source": [
    "sozcuk = 'fanatikleştiremediklerimizden misiniz?'\n",
    "frekans = dict()\n",
    "for harf in sozcuk:\n",
    "    if harf in frekans:\n",
    "        frekans[harf] = frekans[harf] + 1\n",
    "    else:\n",
    "        frekans[harf] = 1\n",
    "print(frekans)        "
   ]
  },
  {
   "cell_type": "code",
   "execution_count": 32,
   "metadata": {},
   "outputs": [
    {
     "name": "stdout",
     "output_type": "stream",
     "text": [
      "['I', 'love', 'my', 'love', 'but', 'my', 'love', \"doesn't\", 'love', 'me', 'as', 'I', 'love', 'my', 'love']\n",
      "{'I': 2, 'love': 6, 'my': 3, 'but': 1, \"doesn't\": 1, 'me': 1, 'as': 1}\n"
     ]
    }
   ],
   "source": [
    "cumle = \"I love my love but my love doesn't love me as I love my love\"\n",
    "sozcukler = cumle.split()\n",
    "print(sozcukler)\n",
    "frekans = dict()\n",
    "for sozcuk in sozcukler:\n",
    "    if sozcuk in frekans:\n",
    "        frekans[sozcuk] += 1\n",
    "    else:\n",
    "        frekans[sozcuk] = 1\n",
    "print(frekans)"
   ]
  },
  {
   "cell_type": "code",
   "execution_count": 41,
   "metadata": {},
   "outputs": [
    {
     "name": "stdout",
     "output_type": "stream",
     "text": [
      "[(6, 'love'), (3, 'my'), (2, 'I'), (1, 'me'), (1, \"doesn't\"), (1, 'but'), (1, 'as')]\n",
      "love :  6\n",
      "my :  3\n",
      "I :  2\n",
      "me :  1\n",
      "doesn't :  1\n",
      "but :  1\n",
      "as :  1\n"
     ]
    }
   ],
   "source": [
    "lst = []\n",
    "for k,v in frekans.items():\n",
    "    lst.append((v,k))\n",
    "lst.sort(reverse=True)\n",
    "print(lst)\n",
    "\n",
    "for v,k in lst:\n",
    "    print(k,': ',v)"
   ]
  },
  {
   "cell_type": "code",
   "execution_count": 51,
   "metadata": {},
   "outputs": [
    {
     "name": "stdout",
     "output_type": "stream",
     "text": [
      "tek :  46\n",
      "şu :  6\n",
      "yüreğime :  6\n",
      "oldu :  6\n",
      "ile :  6\n",
      "hasreti :  6\n",
      "ek :  6\n",
      "dertlerim :  6\n",
      "bitmeyen :  6\n",
      "birde :  6\n",
      "ben :  6\n",
      "başımayım :  6\n",
      "bıraktılar :  5\n",
      "beni :  5\n",
      "yavrumun :  3\n",
      "yarimin :  3\n",
      "çaldım :  1\n",
      "yaşlarım :  1\n",
      "uçtu :  1\n",
      "tüm :  1\n",
      "terketti :  1\n",
      "tek... :  1\n",
      "tanıdım :  1\n",
      "saçlarım :  1\n",
      "kuşlarım :  1\n",
      "kapısını :  1\n",
      "hepsini :  1\n",
      "göz :  1\n",
      "gönül :  1\n",
      "dostlarım :  1\n",
      "dost :  1\n",
      "damlıyor :  1\n",
      "bak :  1\n",
      "ağardı :  1\n"
     ]
    }
   ],
   "source": [
    "fh = open('tektek.txt')\n",
    "fd = dict()\n",
    "for line in fh:\n",
    "    kelimeler = line.strip().split()\n",
    "    for kelime in kelimeler:\n",
    "        kelime = kelime.lower()\n",
    "        if kelime in fd:\n",
    "            fd[kelime] += 1\n",
    "        else:\n",
    "            fd[kelime] = 1\n",
    "\n",
    "\n",
    "lst = []\n",
    "for k,v in fd.items():\n",
    "    lst.append((v,k))\n",
    "lst.sort(reverse=True)\n",
    "\n",
    "\n",
    "for v,k in lst:\n",
    "    print(k,': ',v)"
   ]
  },
  {
   "cell_type": "markdown",
   "metadata": {},
   "source": [
    "### Playlist Örneği"
   ]
  },
  {
   "cell_type": "code",
   "execution_count": 53,
   "metadata": {},
   "outputs": [],
   "source": [
    "n_played = {'Dream Theater': 101, 'Leprous': 33, 'Opeth':92, 'Pink Floyd':203,'Bülent Ersoy':144}"
   ]
  },
  {
   "cell_type": "code",
   "execution_count": 54,
   "metadata": {},
   "outputs": [],
   "source": [
    "n_played['Hüseyin Tatlı'] = 24\n",
    "n_played['İbrahim Tatlıseks'] = 99\n",
    "n_played['Orhan Bencegay'] = 89\n",
    "n_played['Yavuz Top'] = 10"
   ]
  },
  {
   "cell_type": "code",
   "execution_count": 58,
   "metadata": {},
   "outputs": [
    {
     "name": "stdout",
     "output_type": "stream",
     "text": [
      "[(203, 'Pink Floyd'), (144, 'Bülent Ersoy'), (101, 'Dream Theater'), (99, 'İbrahim Tatlıseks'), (92, 'Opeth'), (89, 'Orhan Bencegay'), (33, 'Leprous'), (24, 'Hüseyin Tatlı'), (10, 'Yavuz Top')]\n"
     ]
    }
   ],
   "source": [
    "lst = []\n",
    "for k,v in n_played.items():\n",
    "    lst.append((v,k))\n",
    "lst.sort(reverse=True)\n",
    "print(lst)"
   ]
  },
  {
   "cell_type": "code",
   "execution_count": 59,
   "metadata": {},
   "outputs": [],
   "source": [
    "playlist = dict()\n",
    "depresif = ['aldanma çocuksu mahsun yüzüne - Müslüm, pixels - Leprous', 'bitti mi - 110', 'some kind of a love song - Freak Kitchen']\n",
    "gaz      = ['breaking the law - Judas Priest', 'beyond this life - Dream Theater', 'wake up - RATM']\n",
    "mutlu    = ['consumed - Control Denied', 'spirit crusher - Death', 'jotun - In Flames']\n",
    "\n",
    "playlist['depresif'] = depresif\n",
    "playlist['gaz'] = gaz\n",
    "playlist['mutlu'] = mutlu"
   ]
  },
  {
   "cell_type": "code",
   "execution_count": 61,
   "metadata": {},
   "outputs": [
    {
     "name": "stdout",
     "output_type": "stream",
     "text": [
      "Duygu durumunuzu seçiniz:\n",
      "1. Depresif\n",
      "2. Gaz lazım\n",
      "3. Mutlu\n",
      "> a\n",
      "lütfen depresif, gaz, mutlu arasından seçiniz\n"
     ]
    }
   ],
   "source": [
    "from random import randint, SystemRandom\n",
    "secure_random = SystemRandom()\n",
    "\n",
    "mood = input('Duygu durumunuzu seçiniz:\\n1. Depresif\\n2. Gaz lazım\\n3. Mutlu\\n> ')\n",
    "\n",
    "if mood in playlist:\n",
    "    print(secure_random.choice(playlist[mood]))\n",
    "else:\n",
    "    print('lütfen',', '.join(playlist.keys()),'arasından seçiniz')"
   ]
  },
  {
   "cell_type": "code",
   "execution_count": null,
   "metadata": {},
   "outputs": [],
   "source": []
  }
 ],
 "metadata": {
  "kernelspec": {
   "display_name": "Python 3",
   "language": "python",
   "name": "python3"
  },
  "language_info": {
   "codemirror_mode": {
    "name": "ipython",
    "version": 3
   },
   "file_extension": ".py",
   "mimetype": "text/x-python",
   "name": "python",
   "nbconvert_exporter": "python",
   "pygments_lexer": "ipython3",
   "version": "3.5.3"
  }
 },
 "nbformat": 4,
 "nbformat_minor": 2
}
