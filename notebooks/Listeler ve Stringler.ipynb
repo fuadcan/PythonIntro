{
 "cells": [
  {
   "cell_type": "markdown",
   "metadata": {},
   "source": [
    "# Listeler ve Stringler"
   ]
  },
  {
   "cell_type": "markdown",
   "metadata": {},
   "source": [
    "## Listeler "
   ]
  },
  {
   "cell_type": "code",
   "execution_count": null,
   "metadata": {},
   "outputs": [],
   "source": [
    "a = list()\n",
    "a = []"
   ]
  },
  {
   "cell_type": "code",
   "execution_count": null,
   "metadata": {},
   "outputs": [],
   "source": [
    "a"
   ]
  },
  {
   "cell_type": "code",
   "execution_count": null,
   "metadata": {},
   "outputs": [],
   "source": [
    "print(a)"
   ]
  },
  {
   "cell_type": "code",
   "execution_count": null,
   "metadata": {},
   "outputs": [],
   "source": [
    "a[0]"
   ]
  },
  {
   "cell_type": "code",
   "execution_count": null,
   "metadata": {},
   "outputs": [],
   "source": [
    "a[0] = 3"
   ]
  },
  {
   "cell_type": "code",
   "execution_count": null,
   "metadata": {},
   "outputs": [],
   "source": [
    "numbers = [1,2,3]"
   ]
  },
  {
   "cell_type": "code",
   "execution_count": null,
   "metadata": {},
   "outputs": [],
   "source": [
    "print( numbers[0] )\n",
    "print( numbers[1] )\n",
    "print( numbers[2] )"
   ]
  },
  {
   "cell_type": "code",
   "execution_count": null,
   "metadata": {},
   "outputs": [],
   "source": [
    "for element in numbers:\n",
    "    print(element)"
   ]
  },
  {
   "cell_type": "code",
   "execution_count": null,
   "metadata": {},
   "outputs": [],
   "source": [
    "numbers[0] = 4\n",
    "numbers"
   ]
  },
  {
   "cell_type": "code",
   "execution_count": null,
   "metadata": {},
   "outputs": [],
   "source": [
    "strings = ['a','b','c']\n",
    "strings[0]"
   ]
  },
  {
   "cell_type": "code",
   "execution_count": null,
   "metadata": {},
   "outputs": [],
   "source": [
    "mixed = ['a',1,'b','c',10]\n",
    "mixed"
   ]
  },
  {
   "cell_type": "code",
   "execution_count": null,
   "metadata": {},
   "outputs": [],
   "source": [
    "mixed = ['a',1,'b',['e','d','f']]\n",
    "mixed"
   ]
  },
  {
   "cell_type": "code",
   "execution_count": null,
   "metadata": {},
   "outputs": [],
   "source": [
    "for element in mixed:\n",
    "    print(element)"
   ]
  },
  {
   "cell_type": "markdown",
   "metadata": {},
   "source": [
    "## Listeler üzerine fonksiyonlar "
   ]
  },
  {
   "cell_type": "code",
   "execution_count": null,
   "metadata": {},
   "outputs": [],
   "source": [
    "# Listenin uzunluğu\n",
    "zanlilar = ['adnan','cumali','kezban','tulay','husnu']\n",
    "len(zanlilar)"
   ]
  },
  {
   "cell_type": "code",
   "execution_count": null,
   "metadata": {},
   "outputs": [],
   "source": [
    "boylar = [1.67,1.78,1.63,1.92,1.76]\n",
    "print(max(boylar))\n",
    "print(min(boylar))\n",
    "print(sum(boylar))"
   ]
  },
  {
   "cell_type": "code",
   "execution_count": null,
   "metadata": {},
   "outputs": [],
   "source": [
    "boy_ortalamasi = sum(boylar) / len(boylar)\n",
    "print(boy_ortalamasi)"
   ]
  },
  {
   "cell_type": "code",
   "execution_count": null,
   "metadata": {},
   "outputs": [],
   "source": [
    "boy_ortalamasi = sum(boylar) / len(boylar)\n",
    "print(boy_ortalamasi)"
   ]
  },
  {
   "cell_type": "markdown",
   "metadata": {},
   "source": [
    "### Append ve +"
   ]
  },
  {
   "cell_type": "code",
   "execution_count": null,
   "metadata": {},
   "outputs": [],
   "source": [
    "zanlilar.append('mumtaz')\n",
    "boylar.append(1.66)"
   ]
  },
  {
   "cell_type": "code",
   "execution_count": null,
   "metadata": {},
   "outputs": [],
   "source": [
    "for i in range(len(zanlilar)):\n",
    "    print(i)"
   ]
  },
  {
   "cell_type": "code",
   "execution_count": null,
   "metadata": {},
   "outputs": [],
   "source": [
    "for i in range(len(zanlilar)):\n",
    "    print(zanlilar[i],boylar[i])"
   ]
  },
  {
   "cell_type": "code",
   "execution_count": null,
   "metadata": {},
   "outputs": [],
   "source": [
    "zanlilar[6] = 'tarık'"
   ]
  },
  {
   "cell_type": "code",
   "execution_count": null,
   "metadata": {},
   "outputs": [],
   "source": [
    "zanlilar = zanlilar + 'tarık'"
   ]
  },
  {
   "cell_type": "code",
   "execution_count": null,
   "metadata": {},
   "outputs": [],
   "source": [
    "zanlilar = zanlilar + ['tarık']"
   ]
  },
  {
   "cell_type": "code",
   "execution_count": null,
   "metadata": {},
   "outputs": [],
   "source": [
    "zanlilar"
   ]
  },
  {
   "cell_type": "code",
   "execution_count": null,
   "metadata": {},
   "outputs": [],
   "source": [
    "del zanlilar[6]"
   ]
  },
  {
   "cell_type": "code",
   "execution_count": null,
   "metadata": {},
   "outputs": [],
   "source": [
    "zanlilar"
   ]
  },
  {
   "cell_type": "markdown",
   "metadata": {},
   "source": [
    "## Extend"
   ]
  },
  {
   "cell_type": "code",
   "execution_count": null,
   "metadata": {},
   "outputs": [],
   "source": [
    "# zanlilar = zanlilar + ['tarık','asuman','enis','makbule']\n",
    "zanlilar.extend(['tarık','asuman','enis','makbule'])\n",
    "print(zanlilar)"
   ]
  },
  {
   "cell_type": "code",
   "execution_count": null,
   "metadata": {},
   "outputs": [],
   "source": [
    "boylar.extend([1.66,1.72,1.91,1.82])"
   ]
  },
  {
   "cell_type": "markdown",
   "metadata": {},
   "source": [
    "### Sort ve Sorted "
   ]
  },
  {
   "cell_type": "code",
   "execution_count": null,
   "metadata": {},
   "outputs": [],
   "source": [
    "ucaktakiler = ['ingiliz','alman','temel']\n",
    "print(ucaktakiler)"
   ]
  },
  {
   "cell_type": "code",
   "execution_count": null,
   "metadata": {},
   "outputs": [],
   "source": [
    "ucaktakiler.sort() \n",
    "print(ucaktakiler)"
   ]
  },
  {
   "cell_type": "code",
   "execution_count": null,
   "metadata": {},
   "outputs": [],
   "source": [
    "ucaktakiler.append('jameikalı')\n",
    "print(ucaktakiler)"
   ]
  },
  {
   "cell_type": "code",
   "execution_count": null,
   "metadata": {},
   "outputs": [],
   "source": [
    "sorted(ucaktakiler)"
   ]
  },
  {
   "cell_type": "code",
   "execution_count": null,
   "metadata": {},
   "outputs": [],
   "source": [
    "print(ucaktakiler)"
   ]
  },
  {
   "cell_type": "code",
   "execution_count": null,
   "metadata": {},
   "outputs": [],
   "source": [
    "ucaktakiler = sorted(ucaktakiler)"
   ]
  },
  {
   "cell_type": "code",
   "execution_count": null,
   "metadata": {},
   "outputs": [],
   "source": [
    "print(ucaktakiler)"
   ]
  },
  {
   "cell_type": "markdown",
   "metadata": {},
   "source": [
    "### Reverse ve Reversed"
   ]
  },
  {
   "cell_type": "code",
   "execution_count": null,
   "metadata": {},
   "outputs": [],
   "source": [
    "futuv_katsayilari = [70, 102,55]\n",
    "print(futuv_katsayilari)"
   ]
  },
  {
   "cell_type": "code",
   "execution_count": null,
   "metadata": {},
   "outputs": [],
   "source": [
    "futuv_katsayilari.reverse()\n",
    "print(futuv_katsayilari)"
   ]
  },
  {
   "cell_type": "code",
   "execution_count": null,
   "metadata": {},
   "outputs": [],
   "source": [
    "futuv_katsayilari.sort(reverse=True)\n",
    "print(futuv_katsayilari)"
   ]
  },
  {
   "cell_type": "code",
   "execution_count": null,
   "metadata": {},
   "outputs": [],
   "source": [
    "print(reversed(futuv_katsayilari))\n",
    "print(list(reversed(futuv_katsayilari)))"
   ]
  },
  {
   "cell_type": "markdown",
   "metadata": {},
   "source": [
    "## Swallow Copy vs Deep Copy (Mem Copy)"
   ]
  },
  {
   "cell_type": "markdown",
   "metadata": {},
   "source": [
    "Python fonksiyonel programlama dilidir ve bir değeri diğerine eşitlemek verinin kopyalanmasına değil aralarında bir haritalama oluşmasına neden olur:"
   ]
  },
  {
   "cell_type": "code",
   "execution_count": null,
   "metadata": {},
   "outputs": [],
   "source": [
    "a = [1,2,3]\n",
    "b = [1,2,3]"
   ]
  },
  {
   "cell_type": "code",
   "execution_count": null,
   "metadata": {},
   "outputs": [],
   "source": [
    "a == b"
   ]
  },
  {
   "cell_type": "code",
   "execution_count": null,
   "metadata": {},
   "outputs": [],
   "source": [
    "a is b # is ve == farkı"
   ]
  },
  {
   "cell_type": "markdown",
   "metadata": {},
   "source": [
    "### Veri haritalama (Swallow Copy)"
   ]
  },
  {
   "cell_type": "code",
   "execution_count": null,
   "metadata": {},
   "outputs": [],
   "source": [
    "a = [1,2,3]\n",
    "b = a"
   ]
  },
  {
   "cell_type": "code",
   "execution_count": null,
   "metadata": {},
   "outputs": [],
   "source": [
    "a"
   ]
  },
  {
   "cell_type": "code",
   "execution_count": null,
   "metadata": {},
   "outputs": [],
   "source": [
    "b"
   ]
  },
  {
   "cell_type": "code",
   "execution_count": null,
   "metadata": {},
   "outputs": [],
   "source": [
    "a == b"
   ]
  },
  {
   "cell_type": "code",
   "execution_count": null,
   "metadata": {},
   "outputs": [],
   "source": [
    "a is b"
   ]
  },
  {
   "cell_type": "code",
   "execution_count": null,
   "metadata": {},
   "outputs": [],
   "source": [
    "b [0] = 4"
   ]
  },
  {
   "cell_type": "code",
   "execution_count": null,
   "metadata": {},
   "outputs": [],
   "source": [
    "b"
   ]
  },
  {
   "cell_type": "code",
   "execution_count": null,
   "metadata": {},
   "outputs": [],
   "source": [
    "a is b"
   ]
  },
  {
   "cell_type": "markdown",
   "metadata": {},
   "source": [
    "## Mem Copy "
   ]
  },
  {
   "cell_type": "code",
   "execution_count": null,
   "metadata": {},
   "outputs": [],
   "source": [
    "b = a[:]"
   ]
  },
  {
   "cell_type": "code",
   "execution_count": null,
   "metadata": {},
   "outputs": [],
   "source": [
    "c = [1,2,3]\n",
    "d = c[:]"
   ]
  },
  {
   "cell_type": "code",
   "execution_count": null,
   "metadata": {},
   "outputs": [],
   "source": [
    "c"
   ]
  },
  {
   "cell_type": "code",
   "execution_count": null,
   "metadata": {},
   "outputs": [],
   "source": [
    "d"
   ]
  },
  {
   "cell_type": "code",
   "execution_count": null,
   "metadata": {},
   "outputs": [],
   "source": [
    "c == d"
   ]
  },
  {
   "cell_type": "code",
   "execution_count": null,
   "metadata": {},
   "outputs": [],
   "source": [
    "c is d"
   ]
  },
  {
   "cell_type": "code",
   "execution_count": null,
   "metadata": {},
   "outputs": [],
   "source": [
    "d[0] = 4"
   ]
  },
  {
   "cell_type": "code",
   "execution_count": null,
   "metadata": {},
   "outputs": [],
   "source": [
    "c"
   ]
  },
  {
   "cell_type": "code",
   "execution_count": null,
   "metadata": {},
   "outputs": [],
   "source": [
    "d"
   ]
  },
  {
   "cell_type": "markdown",
   "metadata": {},
   "source": [
    "## Liste ve Stringler "
   ]
  },
  {
   "cell_type": "code",
   "execution_count": null,
   "metadata": {},
   "outputs": [],
   "source": [
    "isim = 'adnan'\n",
    "print(isim)\n",
    "isim_list = list(isim)\n",
    "print(isim_list)\n"
   ]
  },
  {
   "cell_type": "code",
   "execution_count": null,
   "metadata": {},
   "outputs": [],
   "source": [
    "isim_list.reverse()\n",
    "print(isim_list)\n",
    "print(''.join(isim_list)) "
   ]
  },
  {
   "cell_type": "code",
   "execution_count": null,
   "metadata": {},
   "outputs": [],
   "source": [
    "def tersine_cevir(isim):\n",
    "    isim = list(isim)\n",
    "    ters_isim = reversed(isim)\n",
    "    ters_isim = ''.join(ters_isim)\n",
    "    return(ters_isim)\n",
    "\n",
    "print(tersine_cevir('adnan'))   "
   ]
  },
  {
   "cell_type": "code",
   "execution_count": null,
   "metadata": {},
   "outputs": [],
   "source": [
    "def tersine_cevir(isim):\n",
    "    ters_isim = ''.join(reversed(list(isim)))\n",
    "    return(ters_isim)\n",
    "tersine_cevir('adnan')"
   ]
  },
  {
   "cell_type": "code",
   "execution_count": null,
   "metadata": {},
   "outputs": [],
   "source": [
    "for pokemon in ['arbok','ekans']:\n",
    "    print(tersine_cevir(pokemon))"
   ]
  },
  {
   "cell_type": "code",
   "execution_count": null,
   "metadata": {},
   "outputs": [],
   "source": [
    "def palindrom_mu(isim):\n",
    "    tersisim = tersine_cevir(isim)\n",
    "    print(isim == tersisim)"
   ]
  },
  {
   "cell_type": "code",
   "execution_count": null,
   "metadata": {},
   "outputs": [],
   "source": [
    "palindrom_mu('arbok')\n",
    "palindrom_mu('ege')\n",
    "palindrom_mu('ada')"
   ]
  },
  {
   "cell_type": "code",
   "execution_count": null,
   "metadata": {},
   "outputs": [],
   "source": [
    "palindrom_mu('ey edip adanada pide ye')"
   ]
  },
  {
   "cell_type": "markdown",
   "metadata": {},
   "source": [
    "## Stringler"
   ]
  },
  {
   "cell_type": "code",
   "execution_count": null,
   "metadata": {},
   "outputs": [],
   "source": [
    "\"\"\"\n",
    "fh = open('firmalar.txt')\n",
    "out = open('firmalar_processed.txt','w')\n",
    "for line in fh:\n",
    "    line = line.strip()\n",
    "    if line[:5] != 'Firma' and line[:3] != 'Tel':\n",
    "        line = 'Adres: ' + line + '\\n'\n",
    "        out.write(line)\n",
    "    else:\n",
    "        line = line + '\\n'\n",
    "        out.write(line)\n",
    "\"\"\""
   ]
  },
  {
   "cell_type": "code",
   "execution_count": 1,
   "metadata": {},
   "outputs": [
    {
     "name": "stdout",
     "output_type": "stream",
     "text": [
      "Firma: AKA ELEKTRİK CİHAZLARI SAN PAZAR AŞ\n",
      "\n",
      "Adres: ESKİ BÜYÜKDERE C ÇAMLIK S N 7/2 4.LEVENT.\n",
      "\n",
      "Tel : (212)2809703 Fax : (212)2809703\n",
      "\n",
      "Firma: AKÇA MAKİNA SAN TİC LTD ŞTİ\n",
      "\n",
      "Adres: OTO SANSİT DURGUN S N 9 4.LEVENT.\n",
      "\n",
      "Tel : (212)2792132 Fax : (212)2792132\n",
      "\n",
      "Firma: AKERLER TİCARET\n",
      "\n",
      "Adres: OTO SAN SİT FATİH C N 49/3 4.LEVENT.\n",
      "\n",
      "Tel : (212)2641253 Fax : (212)2641253\n",
      "\n",
      "Firma: AKKAYA PEUGEOT OTO TAMİR SAN TİC AŞ\n",
      "\n",
      "Adres: OTO SAN SİT ATATÜRK C B BL N 21 4.LEVENT.\n",
      "\n",
      "Tel : (212)2640266 Fax : (212)2640266\n",
      "\n",
      "Firma: AKSOY KALIP SAN TİC AŞ\n",
      "\n",
      "Adres: SANAYİ M SULTAN SELİM C KOÇ S N 13/A 4.LEVENT.\n",
      "\n",
      "Tel : (212)2681331 Fax : (212)2681331\n",
      "\n",
      "Firma: AKTUĞ MAKİNA SAN VE TİC\n",
      "\n",
      "Adres: ULUBAŞ C DEMİRBAŞ S N 6 4.LEVENT.\n",
      "\n",
      "Tel : (212)2685085 Fax : (212)2685085\n",
      "\n",
      "Firma: AKTUĞ MAKİNA SAN VE TİC\n",
      "\n",
      "Adres: ULUBAŞ C DEMİRBAŞ S N 6 OTO SANAYİ 4.LEVENT.\n",
      "\n",
      "Tel : (212)2685085 Fax : (212)2685085\n",
      "\n",
      "Firma: ALMÜT ALARKO SİNAİ GEREÇLER İML VE MÜMESSİLLİK AŞ\n",
      "\n",
      "Adres: OTO SANAYİ SİTESİ AYTEKİN S N 9 4.LEVENT.\n",
      "\n",
      "Tel : (212)2640042 Fax : (212)2640042\n",
      "\n",
      "Firma: ALPER OTMV SAN VE TİC LTD ŞTİ\n",
      "\n",
      "Adres: OTO SAN SİT ULUBAŞ C N 6 4.LEVENT.\n",
      "\n",
      "Tel : (212)2645418 Fax : (212)2645418\n",
      "\n",
      "Firma: ALPER OTOMOTİV SAN TİC LTD ŞTİ\n",
      "\n",
      "Adres: ULUBAŞ C N 6 4.LEVENT.\n",
      "\n",
      "Tel : (212)2642809 Fax : (212)2642809\n",
      "\n",
      "Firma: ARABACI MOTORLU ARAÇLAR PAZ TİC AŞ\n",
      "\n",
      "Adres: ESKİ BÜYÜKDERE C N 45 SANAYİ M 4.LEVENT.\n",
      "\n",
      "Tel : (212)2815757 Fax : (212)2815757\n",
      "\n",
      "Firma: ARI OTO BAKIM SERVİSİ VE TİC LTD ŞTİ\n",
      "\n",
      "Adres: OTO SAN SİT ÇAMLIK YOLU OKUL S N 19 4.LEVENT.\n",
      "\n",
      "Tel : (212)2682214 Fax : (212)2682214\n",
      "\n",
      "Firma: ARZU WOLKWAGEN SERVİSİ\n",
      "\n",
      "Adres: OTO SAN SİT SEYRANTEPE M NATO C N 22 4.LEVENT.\n",
      "\n",
      "Tel : (212)2780167 Fax : (212)2780167\n",
      "\n",
      "Firma: AS OTO BAKIM ELEKTRİK MONTAJI\n",
      "\n",
      "Adres: OTO SAN SİT GİRNE C N 18 4.LEVENT.\n",
      "\n",
      "Tel : (212)2695249 Fax : (212)2695249\n",
      "\n",
      "Firma: ASSAN HYUNDAI MAS AŞ\n",
      "\n",
      "Adres: YUNUS EMRE S N 1/2 - 7 4.LEVENT.\n",
      "\n",
      "Tel : (212)2806299 Fax : (212)2806299\n",
      "\n",
      "Firma: ASSAN HYUNDAİ MOTORLU ARAÇLAR AŞ\n",
      "\n",
      "Adres: YUNUS EMRE S 4.LEVENT.\n",
      "\n",
      "Tel : (212)2806313 Fax : (212)2806313\n",
      "\n",
      "Firma: ATOM TİCARET SERVİSİ\n",
      "\n",
      "Adres: MENDERES C OTO SAN SİT N 2 4.LEVENT.\n",
      "\n",
      "Tel : (212)2642443 Fax : (212)2642443\n",
      "\n",
      "Firma: AYSAN CİVATA DEMİR ÇEKME SAN TİC AŞ\n",
      "\n",
      "Adres: SANAYİ M SULTAN SELİM C N 36 4.LEVENT.\n",
      "\n",
      "Tel : (212)2642457 Fax : (212)2642457\n",
      "\n",
      "Firma: BASECOM BİLGİSAYAR SAN TİC AŞ\n",
      "\n",
      "Adres: EMNİYET EVLERİ M YENİÇERİ S REPA İŞ MERKEZİ N 12 K 3 4.LEVENT.\n",
      "\n",
      "Tel : (212)2707970 Fax : (212)2707970\n",
      "\n",
      "Firma: BAŞKET OTO KAPORTA\n",
      "\n",
      "Adres: OTO SAN SİT ÇELİK S N 42 4.LEVENT.\n",
      "\n",
      "Tel : (212)2832944 Fax : (212)2832944\n",
      "\n",
      "Firma: BAYINDIR RULMAN SAN TİC LTD ŞTİ\n",
      "\n",
      "Adres: OTO SAN SİT İNÖNÜ C N 4 4.LEVENT.\n",
      "\n",
      "Tel : (212)2681472 Fax : (212)2681472\n",
      "\n",
      "Firma: BERBEROĞLU TİCARET\n",
      "\n",
      "Adres: SANAYİ M SULTAN SELİM C N 24 4.LEVENT.\n",
      "\n",
      "Tel : (212)2702861 Fax : (212)2702861\n",
      "\n",
      "Firma: BİRLAS JANS SAN VE TİC LTD ŞTİ\n",
      "\n",
      "Adres: OTO SAN SİT ÇAMLIK YOLU 2 4.LEVENT.\n",
      "\n",
      "Tel : (212)2810843 Fax : (212)2810843\n",
      "\n",
      "Firma: BİRLAS JANT LTD ŞTİ\n",
      "\n",
      "Adres: OTO SAN SİT ÇAMLIKYOLU C 2 4.LEVENT.\n",
      "\n",
      "Tel : (212)2810843 Fax : (212)2810843\n",
      "\n",
      "Firma: BİRLAS LASTİK SATIŞ MRK LTD ŞTİ\n",
      "\n",
      "Adres: OTO SAN SİT ÇAMLIK YOLU C N 2 4.LEVENT.\n",
      "\n",
      "Tel : (212)2810843 Fax : (212)2810843\n",
      "\n",
      "Firma: BORTRANS TRANSFORMATÖR VE İZOLATÖR SAN TİC AŞ\n",
      "\n",
      "Adres: EMNİYET M YAMAÇ S N 1/2 4.LEVENT.\n",
      "\n",
      "Tel : (216)3111694 Fax : (216)3111694\n",
      "\n",
      "Firma: BOSTANCI YAY SANAYİ\n",
      "\n",
      "Adres: OTO SAN SİT ULUBAŞ PSJ K 1 N 20 4.LEVENT.\n",
      "\n",
      "Tel : (212)2684367 Fax : (212)2684367\n",
      "\n",
      "Firma: CETAŞ OTOMOTİV İNŞ SAN TİC LTD ŞTİ\n",
      "\n",
      "Adres: OTO SAN SİT DURGUN S N 1 4.LEVENT.\n",
      "\n",
      "Tel : (212)2784982 Fax : (212)2784982\n",
      "\n",
      "Firma: CEVAHİR TİC OTO BOYA VE YAPI MLZ\n",
      "\n",
      "Adres: OTO SAN SİT YILDIZ S N 3/2 4.LEVENT.\n",
      "\n",
      "Tel : (212)2647256 Fax : (212)2647256\n",
      "\n",
      "Firma: CEYLAN TİCARET\n",
      "\n",
      "Adres: OTO SAN SİT FATİH C N 14 4.LEVENT.\n",
      "\n",
      "Tel : (212)2645038 Fax : (212)2645038\n",
      "\n",
      "Firma: COMSAN CONTA BALATA YEDEK PARÇA SERVİSİ\n",
      "\n",
      "Adres: OTO SAN SİT DAĞISTANLI S N 31/A 2 KISIM 4.LEVENT.\n",
      "\n",
      "Tel : (212)2696338 Fax : (212)2696338\n",
      "\n",
      "Firma: ÇAĞDAŞ SAN TİC KOLL ŞTİ\n",
      "\n",
      "Adres: OTO SAN SİT AYTEKİN S N 32 4.LEVENT.\n",
      "\n",
      "Tel : (212)2796194 Fax : (212)2796194\n",
      "\n",
      "Firma: ÇAKMAKLAR SAN TİC AŞ\n",
      "\n",
      "Adres: OTO SAN YEŞİLCE M BARBAROS C N 1 4.LEVENT.\n",
      "\n",
      "Tel : (212)2806085 Fax : (212)2806085\n",
      "\n",
      "Firma: ÇELİK OTO BMW YEDEK PARÇA AKSESUAR\n",
      "\n",
      "Adres: OTO SAN SİT 2 KISIM 4040 ADA N 1 4.LEVENT.\n",
      "\n",
      "Tel : (212)2861637 Fax : (212)2861637\n",
      "\n",
      "Firma: ÇELİK OTO KURTARICI\n",
      "\n",
      "Adres: OTO SAN SİT EMEKTAR S N 1/2 - 4 4.LEVENT.\n",
      "\n",
      "Tel : (212)2703429 Fax : (212)2703429\n",
      "\n",
      "Firma: DELTA GÜÇ SİS SAN VE TİC AŞ\n",
      "\n",
      "Adres: OTO SAN SİT BEYAZIT C N 8 4.LEVENT.\n",
      "\n",
      "Tel : (212)2370324 Fax : (212)2370324\n",
      "\n",
      "Firma: DEMİR OTOMOTİV SAN TİC LTD ŞTİ\n",
      "\n",
      "Adres: OTO SAN SİT 2 KISIM N 121 4.LEVENT.\n",
      "\n",
      "Tel : (212)2769944 Fax : (212)2769944\n",
      "\n",
      "Firma: DEMİRCİ KARDEŞLER\n",
      "\n",
      "Adres: OTO SAN SİT DEĞİRMEN S N 25 4.LEVENT.\n",
      "\n",
      "Tel : (212)2686059 Fax : (212)2686059\n",
      "\n",
      "Firma: DEMİRÖZ OTO BAKIM SERVİSİ\n",
      "\n",
      "Adres: AKARSU C NERGİZ S N 5 EMNİYETEVLERİ 4.LEVENT.\n",
      "\n",
      "Tel : (212)2692957 Fax : (212)2692957\n",
      "\n",
      "Firma: DESAN PASPAS SAN LTD\n",
      "\n",
      "Adres: OTO SANAYİ SİTESİ DEMİRBAŞ S N 13/1 4.LEVENT.\n",
      "\n",
      "Tel : (212)2647522 Fax : (212)2647522\n",
      "\n",
      "Firma: DEVELİ OTOMOTİV SANAYİ VE TİCARET\n",
      "\n",
      "Adres: OTO SAN SİT ÇELİK S SEZGİN H N 7/2 4.LEVENT.\n",
      "\n",
      "Tel : (212)2826136 Fax : (212)2826136\n",
      "\n",
      "Firma: DİLEK MOTORLU ARAÇLAR NAK SAN TİC LTD ŞTİ\n",
      "\n",
      "Adres: OTO SAN SİT 2.KISIM 4067 ADA 11.S 360 4.LEVENT.\n",
      "\n",
      "Tel : (212)2699504 Fax : (212)2699504\n",
      "\n",
      "Firma: DOĞUŞ AĞIR VASITA SERVİS VE TİC AŞ\n",
      "\n",
      "Adres: ESKİ BÜYÜKDERE C AYAZAĞA KÖYÜ YOLU N 23 K 4 4.LEVENT.\n",
      "\n",
      "Tel : (212)2760695 Fax : (212)2760695\n",
      "\n",
      "Firma: DOĞUŞ HİDROLİK MAKİNA SANAYİ\n",
      "\n",
      "Adres: OTO SAN SİT AYTEKİN S N 8/3 4.LEVENT.\n",
      "\n",
      "Tel : (212)2828531 Fax : (212)2828531\n",
      "\n",
      "Firma: EDİP ENERJİ DİZEL ELEKTRİK TEKNO TAAH TİC AŞ\n",
      "\n",
      "Adres: YEŞİLCE M BARBAROS C N 17 OTO SAN SİT 4.LEVENT.\n",
      "\n",
      "Tel : (212)3241614 Fax : (212)3241614\n",
      "\n",
      "Firma: EFE ENDÜSTRİ AŞ\n",
      "\n",
      "Adres: SANAYİ M ÇELİK S N 52 4.LEVENT.\n",
      "\n",
      "Tel : (212)2682642 Fax : (212)2682642\n",
      "\n",
      "Firma: EKPAR OTOMOTİV SAN TİC LTD ŞTİ\n",
      "\n",
      "Adres: OTO SANAYİ ULUBAŞ C ULUBAŞ PASAJI N 10/11 4.LEVENT.\n",
      "\n",
      "Tel : (212)2782646 Fax : (212)2782646\n",
      "\n",
      "Firma: ELMAS OTO BOYA VE KAPORTA\n",
      "\n",
      "Adres: OTO SAN SİT YEŞİLCE M ULUBAŞ C N 39 4.LEVENT.\n",
      "\n",
      "Tel : (212)2691045 Fax : (212)2691045\n",
      "\n",
      "Firma: ELMEK ELEKTRONİK SAN TİC AŞ\n",
      "\n",
      "Adres: OTO SANAYİ SİTESİ ÇELİK S N 51 4.LEVENT.\n",
      "\n",
      "Tel : (212)2806509 Fax : (212)2806509\n",
      "\n",
      "Firma: ELMES ELEKTRONİK SAN TİC AŞ\n",
      "\n",
      "Adres: OTO SANAYİ SİTESİ YEŞİLCE M SEÇİLMİŞ S N 32 4.LEVENT.\n",
      "\n",
      "Tel : (212)2798087 Fax : (212)2798087\n",
      "\n",
      "Firma: EMİN OTO TİC LTD ŞTİ\n",
      "\n",
      "Adres: OTO SAN SİT ÇELİK S SEZGİN H N 5/12 4.LEVENT.\n",
      "\n",
      "Tel : (212)2786832 Fax : (212)2786832\n",
      "\n",
      "Firma: EMNİYET FREN SERVİSİ\n",
      "\n",
      "Adres: OTO SAN SİT ESKİ BÜYÜKDERE C N 61/2 4.LEVENT.\n",
      "\n",
      "Tel : (212)2644887 Fax : (212)2644887\n",
      "\n",
      "Firma: EMNİYET OTO SERVİSİ\n",
      "\n",
      "Adres: OTO SAN SİT 2 KISIM N 16 - 17/A 4.LEVENT.\n",
      "\n",
      "Tel : (212)2766474 Fax : (212)2766474\n",
      "\n",
      "Firma: ENGİN OTO SERVİSİ\n",
      "\n",
      "Adres: OTO SAN SİT SEYRANTEPE M OKUL S N 15 4.LEVENT.\n",
      "\n",
      "Tel : (212)2791019 Fax : (212)2791019\n",
      "\n",
      "Firma: ERDEM OTO MOTORLU TAŞITLAR İTH İHR LTD ŞTİ\n",
      "\n",
      "Adres: OTO SAN SİT DÜZENLİ S N 5 4.LEVENT.\n",
      "\n",
      "Tel : (212)2687846 Fax : (212)2687846\n",
      "\n",
      "Firma: ERDOĞANLAR OTO TAMİRHANESİ\n",
      "\n",
      "Adres: NATO C BİRLİK M N 9 OTO SAN SİT 4.LEVENT.\n",
      "\n",
      "Tel : (212)2790398 Fax : (212)2790398\n",
      "\n",
      "Firma: AR-BE OTOMOTİV SAN TİC LTD ŞTİ\n",
      "\n",
      "Adres: YEDPA TİC MRK N 98 C BL DUDULLU.\n",
      "\n",
      "Tel : (216)4710498 Fax : (216)4710498\n",
      "\n",
      "Firma: ARSAN KAUÇUK PLASTİK MAKİNA SAN TİC AŞ\n",
      "\n",
      "Adres: YUKARI DUDULLU ORG SAN BLG İDOS NATO YOLU DUDULLU.\n",
      "\n",
      "Tel : (216)3658306 Fax : (216)3658306\n",
      "\n",
      "Firma: BANKO OTOMOTİV SAN TİC LTD ŞTİ\n",
      "\n",
      "Adres: TEPEÜSTÜ ALEMDAĞ C N 538/C DUDULLU.\n",
      "\n",
      "Tel : (216)4663277 Fax : (216)4663277\n",
      "\n",
      "Firma: BANKO OTOMOTİV SAN TİC LTD ŞTİ\n",
      "\n",
      "Adres: TEPEÜSTÜ ALEMDAĞ C N 538/C DUDULLU.\n",
      "\n",
      "Tel : (216)4663277 Fax : (216)4663277\n",
      "\n",
      "Firma: BERK HİDROLİK SİS YEDEK PARÇA SAN TİC LTD ŞTİ\n",
      "\n",
      "Adres: KADOSAN SAN SİT L BL N 2 DUDULLU.\n",
      "\n",
      "Tel : (216)3659312 Fax : (216)3659312\n",
      "\n",
      "Firma: BİLGİN KRİKO\n",
      "\n",
      "Adres: İMES SAN SİT A BL 103.S N 25 DUDULLU.\n",
      "\n",
      "Tel : (216)3649339 Fax : (216)3649339\n",
      "\n",
      "Firma: BİRTAŞ AŞ\n",
      "\n",
      "Adres: İMES SAN SİT E BL 501 S N 23 DUDULLU.\n",
      "\n",
      "Tel : (216)3654538 Fax : (216)3654538\n",
      "\n",
      "Firma: BİRTAŞ MAKİNA OTOMOTİV SAN TİC AŞ\n",
      "\n",
      "Adres: İMES SAN SİT E BL 503 S N 58 DUDULLU.\n",
      "\n",
      "Tel : (216)3643307 Fax : (216)3643307\n",
      "\n",
      "Firma: DEMTAŞ METAL OTOMOTİV SAN TİC LTD ŞTİ\n",
      "\n"
     ]
    }
   ],
   "source": [
    "fh = open('firmalar_processed.txt')\n",
    "for line in fh:\n",
    "    print(line)"
   ]
  },
  {
   "cell_type": "code",
   "execution_count": 2,
   "metadata": {},
   "outputs": [
    {
     "name": "stdout",
     "output_type": "stream",
     "text": [
      "Firma: AKA ELEKTRİK CİHAZLARI SAN PAZAR AŞ\n",
      "Adres: ESKİ BÜYÜKDERE C ÇAMLIK S N 7/2 4.LEVENT.\n",
      "Tel : (212)2809703 Fax : (212)2809703\n",
      "Firma: AKÇA MAKİNA SAN TİC LTD ŞTİ\n",
      "Adres: OTO SANSİT DURGUN S N 9 4.LEVENT.\n",
      "Tel : (212)2792132 Fax : (212)2792132\n",
      "Firma: AKERLER TİCARET\n",
      "Adres: OTO SAN SİT FATİH C N 49/3 4.LEVENT.\n",
      "Tel : (212)2641253 Fax : (212)2641253\n",
      "Firma: AKKAYA PEUGEOT OTO TAMİR SAN TİC AŞ\n",
      "Adres: OTO SAN SİT ATATÜRK C B BL N 21 4.LEVENT.\n",
      "Tel : (212)2640266 Fax : (212)2640266\n",
      "Firma: AKSOY KALIP SAN TİC AŞ\n",
      "Adres: SANAYİ M SULTAN SELİM C KOÇ S N 13/A 4.LEVENT.\n",
      "Tel : (212)2681331 Fax : (212)2681331\n",
      "Firma: AKTUĞ MAKİNA SAN VE TİC\n",
      "Adres: ULUBAŞ C DEMİRBAŞ S N 6 4.LEVENT.\n",
      "Tel : (212)2685085 Fax : (212)2685085\n",
      "Firma: AKTUĞ MAKİNA SAN VE TİC\n",
      "Adres: ULUBAŞ C DEMİRBAŞ S N 6 OTO SANAYİ 4.LEVENT.\n",
      "Tel : (212)2685085 Fax : (212)2685085\n",
      "Firma: ALMÜT ALARKO SİNAİ GEREÇLER İML VE MÜMESSİLLİK AŞ\n",
      "Adres: OTO SANAYİ SİTESİ AYTEKİN S N 9 4.LEVENT.\n",
      "Tel : (212)2640042 Fax : (212)2640042\n",
      "Firma: ALPER OTMV SAN VE TİC LTD ŞTİ\n",
      "Adres: OTO SAN SİT ULUBAŞ C N 6 4.LEVENT.\n",
      "Tel : (212)2645418 Fax : (212)2645418\n",
      "Firma: ALPER OTOMOTİV SAN TİC LTD ŞTİ\n",
      "Adres: ULUBAŞ C N 6 4.LEVENT.\n",
      "Tel : (212)2642809 Fax : (212)2642809\n",
      "Firma: ARABACI MOTORLU ARAÇLAR PAZ TİC AŞ\n",
      "Adres: ESKİ BÜYÜKDERE C N 45 SANAYİ M 4.LEVENT.\n",
      "Tel : (212)2815757 Fax : (212)2815757\n",
      "Firma: ARI OTO BAKIM SERVİSİ VE TİC LTD ŞTİ\n",
      "Adres: OTO SAN SİT ÇAMLIK YOLU OKUL S N 19 4.LEVENT.\n",
      "Tel : (212)2682214 Fax : (212)2682214\n",
      "Firma: ARZU WOLKWAGEN SERVİSİ\n",
      "Adres: OTO SAN SİT SEYRANTEPE M NATO C N 22 4.LEVENT.\n",
      "Tel : (212)2780167 Fax : (212)2780167\n",
      "Firma: AS OTO BAKIM ELEKTRİK MONTAJI\n",
      "Adres: OTO SAN SİT GİRNE C N 18 4.LEVENT.\n",
      "Tel : (212)2695249 Fax : (212)2695249\n",
      "Firma: ASSAN HYUNDAI MAS AŞ\n",
      "Adres: YUNUS EMRE S N 1/2 - 7 4.LEVENT.\n",
      "Tel : (212)2806299 Fax : (212)2806299\n",
      "Firma: ASSAN HYUNDAİ MOTORLU ARAÇLAR AŞ\n",
      "Adres: YUNUS EMRE S 4.LEVENT.\n",
      "Tel : (212)2806313 Fax : (212)2806313\n",
      "Firma: ATOM TİCARET SERVİSİ\n",
      "Adres: MENDERES C OTO SAN SİT N 2 4.LEVENT.\n",
      "Tel : (212)2642443 Fax : (212)2642443\n",
      "Firma: AYSAN CİVATA DEMİR ÇEKME SAN TİC AŞ\n",
      "Adres: SANAYİ M SULTAN SELİM C N 36 4.LEVENT.\n",
      "Tel : (212)2642457 Fax : (212)2642457\n",
      "Firma: BASECOM BİLGİSAYAR SAN TİC AŞ\n",
      "Adres: EMNİYET EVLERİ M YENİÇERİ S REPA İŞ MERKEZİ N 12 K 3 4.LEVENT.\n",
      "Tel : (212)2707970 Fax : (212)2707970\n",
      "Firma: BAŞKET OTO KAPORTA\n",
      "Adres: OTO SAN SİT ÇELİK S N 42 4.LEVENT.\n",
      "Tel : (212)2832944 Fax : (212)2832944\n",
      "Firma: BAYINDIR RULMAN SAN TİC LTD ŞTİ\n",
      "Adres: OTO SAN SİT İNÖNÜ C N 4 4.LEVENT.\n",
      "Tel : (212)2681472 Fax : (212)2681472\n",
      "Firma: BERBEROĞLU TİCARET\n",
      "Adres: SANAYİ M SULTAN SELİM C N 24 4.LEVENT.\n",
      "Tel : (212)2702861 Fax : (212)2702861\n",
      "Firma: BİRLAS JANS SAN VE TİC LTD ŞTİ\n",
      "Adres: OTO SAN SİT ÇAMLIK YOLU 2 4.LEVENT.\n",
      "Tel : (212)2810843 Fax : (212)2810843\n",
      "Firma: BİRLAS JANT LTD ŞTİ\n",
      "Adres: OTO SAN SİT ÇAMLIKYOLU C 2 4.LEVENT.\n",
      "Tel : (212)2810843 Fax : (212)2810843\n",
      "Firma: BİRLAS LASTİK SATIŞ MRK LTD ŞTİ\n",
      "Adres: OTO SAN SİT ÇAMLIK YOLU C N 2 4.LEVENT.\n",
      "Tel : (212)2810843 Fax : (212)2810843\n",
      "Firma: BORTRANS TRANSFORMATÖR VE İZOLATÖR SAN TİC AŞ\n",
      "Adres: EMNİYET M YAMAÇ S N 1/2 4.LEVENT.\n",
      "Tel : (216)3111694 Fax : (216)3111694\n",
      "Firma: BOSTANCI YAY SANAYİ\n",
      "Adres: OTO SAN SİT ULUBAŞ PSJ K 1 N 20 4.LEVENT.\n",
      "Tel : (212)2684367 Fax : (212)2684367\n",
      "Firma: CETAŞ OTOMOTİV İNŞ SAN TİC LTD ŞTİ\n",
      "Adres: OTO SAN SİT DURGUN S N 1 4.LEVENT.\n",
      "Tel : (212)2784982 Fax : (212)2784982\n",
      "Firma: CEVAHİR TİC OTO BOYA VE YAPI MLZ\n",
      "Adres: OTO SAN SİT YILDIZ S N 3/2 4.LEVENT.\n",
      "Tel : (212)2647256 Fax : (212)2647256\n",
      "Firma: CEYLAN TİCARET\n",
      "Adres: OTO SAN SİT FATİH C N 14 4.LEVENT.\n",
      "Tel : (212)2645038 Fax : (212)2645038\n",
      "Firma: COMSAN CONTA BALATA YEDEK PARÇA SERVİSİ\n",
      "Adres: OTO SAN SİT DAĞISTANLI S N 31/A 2 KISIM 4.LEVENT.\n",
      "Tel : (212)2696338 Fax : (212)2696338\n",
      "Firma: ÇAĞDAŞ SAN TİC KOLL ŞTİ\n",
      "Adres: OTO SAN SİT AYTEKİN S N 32 4.LEVENT.\n",
      "Tel : (212)2796194 Fax : (212)2796194\n",
      "Firma: ÇAKMAKLAR SAN TİC AŞ\n",
      "Adres: OTO SAN YEŞİLCE M BARBAROS C N 1 4.LEVENT.\n",
      "Tel : (212)2806085 Fax : (212)2806085\n",
      "Firma: ÇELİK OTO BMW YEDEK PARÇA AKSESUAR\n",
      "Adres: OTO SAN SİT 2 KISIM 4040 ADA N 1 4.LEVENT.\n",
      "Tel : (212)2861637 Fax : (212)2861637\n",
      "Firma: ÇELİK OTO KURTARICI\n",
      "Adres: OTO SAN SİT EMEKTAR S N 1/2 - 4 4.LEVENT.\n",
      "Tel : (212)2703429 Fax : (212)2703429\n",
      "Firma: DELTA GÜÇ SİS SAN VE TİC AŞ\n",
      "Adres: OTO SAN SİT BEYAZIT C N 8 4.LEVENT.\n",
      "Tel : (212)2370324 Fax : (212)2370324\n",
      "Firma: DEMİR OTOMOTİV SAN TİC LTD ŞTİ\n",
      "Adres: OTO SAN SİT 2 KISIM N 121 4.LEVENT.\n",
      "Tel : (212)2769944 Fax : (212)2769944\n",
      "Firma: DEMİRCİ KARDEŞLER\n",
      "Adres: OTO SAN SİT DEĞİRMEN S N 25 4.LEVENT.\n",
      "Tel : (212)2686059 Fax : (212)2686059\n",
      "Firma: DEMİRÖZ OTO BAKIM SERVİSİ\n",
      "Adres: AKARSU C NERGİZ S N 5 EMNİYETEVLERİ 4.LEVENT.\n",
      "Tel : (212)2692957 Fax : (212)2692957\n",
      "Firma: DESAN PASPAS SAN LTD\n",
      "Adres: OTO SANAYİ SİTESİ DEMİRBAŞ S N 13/1 4.LEVENT.\n",
      "Tel : (212)2647522 Fax : (212)2647522\n",
      "Firma: DEVELİ OTOMOTİV SANAYİ VE TİCARET\n",
      "Adres: OTO SAN SİT ÇELİK S SEZGİN H N 7/2 4.LEVENT.\n",
      "Tel : (212)2826136 Fax : (212)2826136\n",
      "Firma: DİLEK MOTORLU ARAÇLAR NAK SAN TİC LTD ŞTİ\n",
      "Adres: OTO SAN SİT 2.KISIM 4067 ADA 11.S 360 4.LEVENT.\n",
      "Tel : (212)2699504 Fax : (212)2699504\n",
      "Firma: DOĞUŞ AĞIR VASITA SERVİS VE TİC AŞ\n",
      "Adres: ESKİ BÜYÜKDERE C AYAZAĞA KÖYÜ YOLU N 23 K 4 4.LEVENT.\n",
      "Tel : (212)2760695 Fax : (212)2760695\n",
      "Firma: DOĞUŞ HİDROLİK MAKİNA SANAYİ\n",
      "Adres: OTO SAN SİT AYTEKİN S N 8/3 4.LEVENT.\n",
      "Tel : (212)2828531 Fax : (212)2828531\n",
      "Firma: EDİP ENERJİ DİZEL ELEKTRİK TEKNO TAAH TİC AŞ\n",
      "Adres: YEŞİLCE M BARBAROS C N 17 OTO SAN SİT 4.LEVENT.\n",
      "Tel : (212)3241614 Fax : (212)3241614\n",
      "Firma: EFE ENDÜSTRİ AŞ\n",
      "Adres: SANAYİ M ÇELİK S N 52 4.LEVENT.\n",
      "Tel : (212)2682642 Fax : (212)2682642\n",
      "Firma: EKPAR OTOMOTİV SAN TİC LTD ŞTİ\n",
      "Adres: OTO SANAYİ ULUBAŞ C ULUBAŞ PASAJI N 10/11 4.LEVENT.\n",
      "Tel : (212)2782646 Fax : (212)2782646\n",
      "Firma: ELMAS OTO BOYA VE KAPORTA\n",
      "Adres: OTO SAN SİT YEŞİLCE M ULUBAŞ C N 39 4.LEVENT.\n",
      "Tel : (212)2691045 Fax : (212)2691045\n",
      "Firma: ELMEK ELEKTRONİK SAN TİC AŞ\n",
      "Adres: OTO SANAYİ SİTESİ ÇELİK S N 51 4.LEVENT.\n",
      "Tel : (212)2806509 Fax : (212)2806509\n",
      "Firma: ELMES ELEKTRONİK SAN TİC AŞ\n",
      "Adres: OTO SANAYİ SİTESİ YEŞİLCE M SEÇİLMİŞ S N 32 4.LEVENT.\n",
      "Tel : (212)2798087 Fax : (212)2798087\n",
      "Firma: EMİN OTO TİC LTD ŞTİ\n",
      "Adres: OTO SAN SİT ÇELİK S SEZGİN H N 5/12 4.LEVENT.\n",
      "Tel : (212)2786832 Fax : (212)2786832\n",
      "Firma: EMNİYET FREN SERVİSİ\n",
      "Adres: OTO SAN SİT ESKİ BÜYÜKDERE C N 61/2 4.LEVENT.\n",
      "Tel : (212)2644887 Fax : (212)2644887\n",
      "Firma: EMNİYET OTO SERVİSİ\n",
      "Adres: OTO SAN SİT 2 KISIM N 16 - 17/A 4.LEVENT.\n",
      "Tel : (212)2766474 Fax : (212)2766474\n",
      "Firma: ENGİN OTO SERVİSİ\n",
      "Adres: OTO SAN SİT SEYRANTEPE M OKUL S N 15 4.LEVENT.\n",
      "Tel : (212)2791019 Fax : (212)2791019\n",
      "Firma: ERDEM OTO MOTORLU TAŞITLAR İTH İHR LTD ŞTİ\n",
      "Adres: OTO SAN SİT DÜZENLİ S N 5 4.LEVENT.\n",
      "Tel : (212)2687846 Fax : (212)2687846\n",
      "Firma: ERDOĞANLAR OTO TAMİRHANESİ\n",
      "Adres: NATO C BİRLİK M N 9 OTO SAN SİT 4.LEVENT.\n",
      "Tel : (212)2790398 Fax : (212)2790398\n",
      "Firma: AR-BE OTOMOTİV SAN TİC LTD ŞTİ\n",
      "Adres: YEDPA TİC MRK N 98 C BL DUDULLU.\n",
      "Tel : (216)4710498 Fax : (216)4710498\n",
      "Firma: ARSAN KAUÇUK PLASTİK MAKİNA SAN TİC AŞ\n",
      "Adres: YUKARI DUDULLU ORG SAN BLG İDOS NATO YOLU DUDULLU.\n",
      "Tel : (216)3658306 Fax : (216)3658306\n",
      "Firma: BANKO OTOMOTİV SAN TİC LTD ŞTİ\n",
      "Adres: TEPEÜSTÜ ALEMDAĞ C N 538/C DUDULLU.\n",
      "Tel : (216)4663277 Fax : (216)4663277\n",
      "Firma: BANKO OTOMOTİV SAN TİC LTD ŞTİ\n",
      "Adres: TEPEÜSTÜ ALEMDAĞ C N 538/C DUDULLU.\n",
      "Tel : (216)4663277 Fax : (216)4663277\n",
      "Firma: BERK HİDROLİK SİS YEDEK PARÇA SAN TİC LTD ŞTİ\n",
      "Adres: KADOSAN SAN SİT L BL N 2 DUDULLU.\n",
      "Tel : (216)3659312 Fax : (216)3659312\n",
      "Firma: BİLGİN KRİKO\n",
      "Adres: İMES SAN SİT A BL 103.S N 25 DUDULLU.\n",
      "Tel : (216)3649339 Fax : (216)3649339\n",
      "Firma: BİRTAŞ AŞ\n",
      "Adres: İMES SAN SİT E BL 501 S N 23 DUDULLU.\n",
      "Tel : (216)3654538 Fax : (216)3654538\n",
      "Firma: BİRTAŞ MAKİNA OTOMOTİV SAN TİC AŞ\n",
      "Adres: İMES SAN SİT E BL 503 S N 58 DUDULLU.\n",
      "Tel : (216)3643307 Fax : (216)3643307\n",
      "Firma: DEMTAŞ METAL OTOMOTİV SAN TİC LTD ŞTİ\n"
     ]
    }
   ],
   "source": [
    "fh = open('firmalar_processed.txt')\n",
    "for line in fh:\n",
    "    print(line.rstrip())"
   ]
  },
  {
   "cell_type": "code",
   "execution_count": 3,
   "metadata": {},
   "outputs": [
    {
     "name": "stdout",
     "output_type": "stream",
     "text": [
      "212\n",
      "212\n",
      "212\n",
      "212\n",
      "212\n",
      "212\n",
      "212\n",
      "212\n",
      "212\n",
      "212\n",
      "212\n",
      "212\n",
      "212\n",
      "212\n",
      "212\n",
      "212\n",
      "212\n",
      "212\n",
      "212\n",
      "212\n",
      "212\n",
      "212\n",
      "212\n",
      "212\n",
      "212\n",
      "216\n",
      "212\n",
      "212\n",
      "212\n",
      "212\n",
      "212\n",
      "212\n",
      "212\n",
      "212\n",
      "212\n",
      "212\n",
      "212\n",
      "212\n",
      "212\n",
      "212\n",
      "212\n",
      "212\n",
      "212\n",
      "212\n",
      "212\n",
      "212\n",
      "212\n",
      "212\n",
      "212\n",
      "212\n",
      "212\n",
      "212\n",
      "212\n",
      "212\n",
      "212\n",
      "212\n",
      "216\n",
      "216\n",
      "216\n",
      "216\n",
      "216\n",
      "216\n",
      "216\n",
      "216\n"
     ]
    }
   ],
   "source": [
    "fh = open('firmalar_processed.txt')\n",
    "for line in fh:\n",
    "    line = line.rstrip()\n",
    "    if line.startswith('Tel'):\n",
    "        temp = line.split('(')[1]\n",
    "        temp = temp.split(')')[0]\n",
    "        print(temp)"
   ]
  },
  {
   "cell_type": "code",
   "execution_count": 3,
   "metadata": {},
   "outputs": [
    {
     "name": "stdout",
     "output_type": "stream",
     "text": [
      "4.LEVENT.\n",
      "4.LEVENT.\n",
      "4.LEVENT.\n",
      "4.LEVENT.\n",
      "4.LEVENT.\n",
      "4.LEVENT.\n",
      "4.LEVENT.\n",
      "4.LEVENT.\n",
      "4.LEVENT.\n",
      "4.LEVENT.\n",
      "4.LEVENT.\n",
      "4.LEVENT.\n",
      "4.LEVENT.\n",
      "4.LEVENT.\n",
      "4.LEVENT.\n",
      "4.LEVENT.\n",
      "4.LEVENT.\n",
      "4.LEVENT.\n",
      "4.LEVENT.\n",
      "4.LEVENT.\n",
      "4.LEVENT.\n",
      "4.LEVENT.\n",
      "4.LEVENT.\n",
      "4.LEVENT.\n",
      "4.LEVENT.\n",
      "4.LEVENT.\n",
      "4.LEVENT.\n",
      "4.LEVENT.\n",
      "4.LEVENT.\n",
      "4.LEVENT.\n",
      "4.LEVENT.\n",
      "4.LEVENT.\n",
      "4.LEVENT.\n",
      "4.LEVENT.\n",
      "4.LEVENT.\n",
      "4.LEVENT.\n",
      "4.LEVENT.\n",
      "4.LEVENT.\n",
      "4.LEVENT.\n",
      "4.LEVENT.\n",
      "4.LEVENT.\n",
      "4.LEVENT.\n",
      "4.LEVENT.\n",
      "4.LEVENT.\n",
      "4.LEVENT.\n",
      "4.LEVENT.\n",
      "4.LEVENT.\n",
      "4.LEVENT.\n",
      "4.LEVENT.\n",
      "4.LEVENT.\n",
      "4.LEVENT.\n",
      "4.LEVENT.\n",
      "4.LEVENT.\n",
      "4.LEVENT.\n",
      "4.LEVENT.\n",
      "4.LEVENT.\n",
      "DUDULLU.\n",
      "DUDULLU.\n",
      "DUDULLU.\n",
      "DUDULLU.\n",
      "DUDULLU.\n",
      "DUDULLU.\n",
      "DUDULLU.\n",
      "DUDULLU.\n"
     ]
    }
   ],
   "source": [
    "fh = open('firmalar_processed.txt')\n",
    "for satir in fh:\n",
    "    satir = satir.rstrip()\n",
    "    if satir.startswith('Adres'):\n",
    "        bolge = satir.split()[-1]\n",
    "        print(bolge)\n",
    "fh.close()\n",
    "        "
   ]
  },
  {
   "cell_type": "code",
   "execution_count": 5,
   "metadata": {},
   "outputs": [
    {
     "name": "stdout",
     "output_type": "stream",
     "text": [
      "[1, 4, 7, 10, 13, 16, 19, 22, 25, 28, 31, 34, 37, 40, 43, 46, 49, 52, 55, 58, 61, 64, 67, 70, 73, 76, 79, 82, 85, 88, 91, 94, 97, 100, 103, 106, 109, 112, 115, 118, 121, 124, 127, 130, 133, 136, 139, 142, 145, 148, 151, 154, 157, 160, 163, 166]\n"
     ]
    }
   ],
   "source": [
    "fh = open('firmalar_processed.txt')\n",
    "ind = []\n",
    "counter = 0\n",
    "for line in fh:\n",
    "    line = line.rstrip()\n",
    "    if line.startswith('Adres'):\n",
    "        bolge = line.split()[-1]\n",
    "        if 'levent' in bolge.lower():\n",
    "            ind.append(counter)\n",
    "    counter += 1\n",
    "\n",
    "print(ind)\n",
    "fh.close()"
   ]
  },
  {
   "cell_type": "code",
   "execution_count": 6,
   "metadata": {},
   "outputs": [
    {
     "name": "stdout",
     "output_type": "stream",
     "text": [
      "Firma: AKA ELEKTRİK CİHAZLARI SAN PAZAR AŞ\n",
      "Adres: ESKİ BÜYÜKDERE C ÇAMLIK S N 7/2 4.LEVENT.\n",
      "Firma: AKÇA MAKİNA SAN TİC LTD ŞTİ\n",
      "Adres: OTO SANSİT DURGUN S N 9 4.LEVENT.\n",
      "Firma: AKERLER TİCARET\n",
      "Adres: OTO SAN SİT FATİH C N 49/3 4.LEVENT.\n",
      "Firma: AKKAYA PEUGEOT OTO TAMİR SAN TİC AŞ\n",
      "Adres: OTO SAN SİT ATATÜRK C B BL N 21 4.LEVENT.\n",
      "Firma: AKSOY KALIP SAN TİC AŞ\n",
      "Adres: SANAYİ M SULTAN SELİM C KOÇ S N 13/A 4.LEVENT.\n",
      "Firma: AKTUĞ MAKİNA SAN VE TİC\n",
      "Adres: ULUBAŞ C DEMİRBAŞ S N 6 4.LEVENT.\n",
      "Firma: AKTUĞ MAKİNA SAN VE TİC\n",
      "Adres: ULUBAŞ C DEMİRBAŞ S N 6 OTO SANAYİ 4.LEVENT.\n",
      "Firma: ALMÜT ALARKO SİNAİ GEREÇLER İML VE MÜMESSİLLİK AŞ\n",
      "Adres: OTO SANAYİ SİTESİ AYTEKİN S N 9 4.LEVENT.\n",
      "Firma: ALPER OTMV SAN VE TİC LTD ŞTİ\n",
      "Adres: OTO SAN SİT ULUBAŞ C N 6 4.LEVENT.\n",
      "Firma: ALPER OTOMOTİV SAN TİC LTD ŞTİ\n",
      "Adres: ULUBAŞ C N 6 4.LEVENT.\n",
      "Firma: ARABACI MOTORLU ARAÇLAR PAZ TİC AŞ\n",
      "Adres: ESKİ BÜYÜKDERE C N 45 SANAYİ M 4.LEVENT.\n",
      "Firma: ARI OTO BAKIM SERVİSİ VE TİC LTD ŞTİ\n",
      "Adres: OTO SAN SİT ÇAMLIK YOLU OKUL S N 19 4.LEVENT.\n",
      "Firma: ARZU WOLKWAGEN SERVİSİ\n",
      "Adres: OTO SAN SİT SEYRANTEPE M NATO C N 22 4.LEVENT.\n",
      "Firma: AS OTO BAKIM ELEKTRİK MONTAJI\n",
      "Adres: OTO SAN SİT GİRNE C N 18 4.LEVENT.\n",
      "Firma: ASSAN HYUNDAI MAS AŞ\n",
      "Adres: YUNUS EMRE S N 1/2 - 7 4.LEVENT.\n",
      "Firma: ASSAN HYUNDAİ MOTORLU ARAÇLAR AŞ\n",
      "Adres: YUNUS EMRE S 4.LEVENT.\n",
      "Firma: ATOM TİCARET SERVİSİ\n",
      "Adres: MENDERES C OTO SAN SİT N 2 4.LEVENT.\n",
      "Firma: AYSAN CİVATA DEMİR ÇEKME SAN TİC AŞ\n",
      "Adres: SANAYİ M SULTAN SELİM C N 36 4.LEVENT.\n",
      "Firma: BASECOM BİLGİSAYAR SAN TİC AŞ\n",
      "Adres: EMNİYET EVLERİ M YENİÇERİ S REPA İŞ MERKEZİ N 12 K 3 4.LEVENT.\n",
      "Firma: BAŞKET OTO KAPORTA\n",
      "Adres: OTO SAN SİT ÇELİK S N 42 4.LEVENT.\n",
      "Firma: BAYINDIR RULMAN SAN TİC LTD ŞTİ\n",
      "Adres: OTO SAN SİT İNÖNÜ C N 4 4.LEVENT.\n",
      "Firma: BERBEROĞLU TİCARET\n",
      "Adres: SANAYİ M SULTAN SELİM C N 24 4.LEVENT.\n",
      "Firma: BİRLAS JANS SAN VE TİC LTD ŞTİ\n",
      "Adres: OTO SAN SİT ÇAMLIK YOLU 2 4.LEVENT.\n",
      "Firma: BİRLAS JANT LTD ŞTİ\n",
      "Adres: OTO SAN SİT ÇAMLIKYOLU C 2 4.LEVENT.\n",
      "Firma: BİRLAS LASTİK SATIŞ MRK LTD ŞTİ\n",
      "Adres: OTO SAN SİT ÇAMLIK YOLU C N 2 4.LEVENT.\n",
      "Firma: BORTRANS TRANSFORMATÖR VE İZOLATÖR SAN TİC AŞ\n",
      "Adres: EMNİYET M YAMAÇ S N 1/2 4.LEVENT.\n",
      "Firma: BOSTANCI YAY SANAYİ\n",
      "Adres: OTO SAN SİT ULUBAŞ PSJ K 1 N 20 4.LEVENT.\n",
      "Firma: CETAŞ OTOMOTİV İNŞ SAN TİC LTD ŞTİ\n",
      "Adres: OTO SAN SİT DURGUN S N 1 4.LEVENT.\n",
      "Firma: CEVAHİR TİC OTO BOYA VE YAPI MLZ\n",
      "Adres: OTO SAN SİT YILDIZ S N 3/2 4.LEVENT.\n",
      "Firma: CEYLAN TİCARET\n",
      "Adres: OTO SAN SİT FATİH C N 14 4.LEVENT.\n",
      "Firma: COMSAN CONTA BALATA YEDEK PARÇA SERVİSİ\n",
      "Adres: OTO SAN SİT DAĞISTANLI S N 31/A 2 KISIM 4.LEVENT.\n",
      "Firma: ÇAĞDAŞ SAN TİC KOLL ŞTİ\n",
      "Adres: OTO SAN SİT AYTEKİN S N 32 4.LEVENT.\n",
      "Firma: ÇAKMAKLAR SAN TİC AŞ\n",
      "Adres: OTO SAN YEŞİLCE M BARBAROS C N 1 4.LEVENT.\n",
      "Firma: ÇELİK OTO BMW YEDEK PARÇA AKSESUAR\n",
      "Adres: OTO SAN SİT 2 KISIM 4040 ADA N 1 4.LEVENT.\n",
      "Firma: ÇELİK OTO KURTARICI\n",
      "Adres: OTO SAN SİT EMEKTAR S N 1/2 - 4 4.LEVENT.\n",
      "Firma: DELTA GÜÇ SİS SAN VE TİC AŞ\n",
      "Adres: OTO SAN SİT BEYAZIT C N 8 4.LEVENT.\n",
      "Firma: DEMİR OTOMOTİV SAN TİC LTD ŞTİ\n",
      "Adres: OTO SAN SİT 2 KISIM N 121 4.LEVENT.\n",
      "Firma: DEMİRCİ KARDEŞLER\n",
      "Adres: OTO SAN SİT DEĞİRMEN S N 25 4.LEVENT.\n",
      "Firma: DEMİRÖZ OTO BAKIM SERVİSİ\n",
      "Adres: AKARSU C NERGİZ S N 5 EMNİYETEVLERİ 4.LEVENT.\n",
      "Firma: DESAN PASPAS SAN LTD\n",
      "Adres: OTO SANAYİ SİTESİ DEMİRBAŞ S N 13/1 4.LEVENT.\n",
      "Firma: DEVELİ OTOMOTİV SANAYİ VE TİCARET\n",
      "Adres: OTO SAN SİT ÇELİK S SEZGİN H N 7/2 4.LEVENT.\n",
      "Firma: DİLEK MOTORLU ARAÇLAR NAK SAN TİC LTD ŞTİ\n",
      "Adres: OTO SAN SİT 2.KISIM 4067 ADA 11.S 360 4.LEVENT.\n",
      "Firma: DOĞUŞ AĞIR VASITA SERVİS VE TİC AŞ\n",
      "Adres: ESKİ BÜYÜKDERE C AYAZAĞA KÖYÜ YOLU N 23 K 4 4.LEVENT.\n",
      "Firma: DOĞUŞ HİDROLİK MAKİNA SANAYİ\n",
      "Adres: OTO SAN SİT AYTEKİN S N 8/3 4.LEVENT.\n",
      "Firma: EDİP ENERJİ DİZEL ELEKTRİK TEKNO TAAH TİC AŞ\n",
      "Adres: YEŞİLCE M BARBAROS C N 17 OTO SAN SİT 4.LEVENT.\n",
      "Firma: EFE ENDÜSTRİ AŞ\n",
      "Adres: SANAYİ M ÇELİK S N 52 4.LEVENT.\n",
      "Firma: EKPAR OTOMOTİV SAN TİC LTD ŞTİ\n",
      "Adres: OTO SANAYİ ULUBAŞ C ULUBAŞ PASAJI N 10/11 4.LEVENT.\n",
      "Firma: ELMAS OTO BOYA VE KAPORTA\n",
      "Adres: OTO SAN SİT YEŞİLCE M ULUBAŞ C N 39 4.LEVENT.\n",
      "Firma: ELMEK ELEKTRONİK SAN TİC AŞ\n",
      "Adres: OTO SANAYİ SİTESİ ÇELİK S N 51 4.LEVENT.\n",
      "Firma: ELMES ELEKTRONİK SAN TİC AŞ\n",
      "Adres: OTO SANAYİ SİTESİ YEŞİLCE M SEÇİLMİŞ S N 32 4.LEVENT.\n",
      "Firma: EMİN OTO TİC LTD ŞTİ\n",
      "Adres: OTO SAN SİT ÇELİK S SEZGİN H N 5/12 4.LEVENT.\n",
      "Firma: EMNİYET FREN SERVİSİ\n",
      "Adres: OTO SAN SİT ESKİ BÜYÜKDERE C N 61/2 4.LEVENT.\n",
      "Firma: EMNİYET OTO SERVİSİ\n",
      "Adres: OTO SAN SİT 2 KISIM N 16 - 17/A 4.LEVENT.\n",
      "Firma: ENGİN OTO SERVİSİ\n",
      "Adres: OTO SAN SİT SEYRANTEPE M OKUL S N 15 4.LEVENT.\n",
      "Firma: ERDEM OTO MOTORLU TAŞITLAR İTH İHR LTD ŞTİ\n",
      "Adres: OTO SAN SİT DÜZENLİ S N 5 4.LEVENT.\n",
      "Firma: ERDOĞANLAR OTO TAMİRHANESİ\n",
      "Adres: NATO C BİRLİK M N 9 OTO SAN SİT 4.LEVENT.\n"
     ]
    }
   ],
   "source": [
    "fh = open('firmalar_processed.txt')\n",
    "onceki_satir = None\n",
    "counter = 0\n",
    "for line in fh:\n",
    "    line = line.rstrip()\n",
    "    if line.startswith('Adres'):\n",
    "        bolge = line.split()[-1]\n",
    "        if 'levent' in bolge.lower():\n",
    "            print(onceki_satir)\n",
    "            print(line)\n",
    "    counter += 1\n",
    "    onceki_satir = line \n",
    "\n",
    "fh.close()"
   ]
  },
  {
   "cell_type": "code",
   "execution_count": null,
   "metadata": {},
   "outputs": [],
   "source": [
    "fh = open('firmalar_processed.txt')\n",
    "for line in fh:\n",
    "    line = line.rstrip()\n",
    "    if line.startswith('Tel'):\n",
    "        temp = line.split(':')[1]\n",
    "        temp = temp.split()[0]\n",
    "        print(temp)\n",
    "fh.close()"
   ]
  },
  {
   "cell_type": "markdown",
   "metadata": {},
   "source": [
    "## Regex kütüphanesi"
   ]
  },
  {
   "cell_type": "code",
   "execution_count": 9,
   "metadata": {},
   "outputs": [
    {
     "name": "stdout",
     "output_type": "stream",
     "text": [
      "['Tel : (212)2809703']\n",
      "['Tel : (212)2792132']\n",
      "['Tel : (212)2641253']\n",
      "['Tel : (212)2640266']\n",
      "['Tel : (212)2681331']\n",
      "['Tel : (212)2685085']\n",
      "['Tel : (212)2685085']\n",
      "['Tel : (212)2640042']\n",
      "['Tel : (212)2645418']\n",
      "['Tel : (212)2642809']\n",
      "['Tel : (212)2815757']\n",
      "['Tel : (212)2682214']\n",
      "['Tel : (212)2780167']\n",
      "['Tel : (212)2695249']\n",
      "['Tel : (212)2806299']\n",
      "['Tel : (212)2806313']\n",
      "['Tel : (212)2642443']\n",
      "['Tel : (212)2642457']\n",
      "['Tel : (212)2707970']\n",
      "['Tel : (212)2832944']\n",
      "['Tel : (212)2681472']\n",
      "['Tel : (212)2702861']\n",
      "['Tel : (212)2810843']\n",
      "['Tel : (212)2810843']\n",
      "['Tel : (212)2810843']\n",
      "['Tel : (216)3111694']\n",
      "['Tel : (212)2684367']\n",
      "['Tel : (212)2784982']\n",
      "['Tel : (212)2647256']\n",
      "['Tel : (212)2645038']\n",
      "['Tel : (212)2696338']\n",
      "['Tel : (212)2796194']\n",
      "['Tel : (212)2806085']\n",
      "['Tel : (212)2861637']\n",
      "['Tel : (212)2703429']\n",
      "['Tel : (212)2370324']\n",
      "['Tel : (212)2769944']\n",
      "['Tel : (212)2686059']\n",
      "['Tel : (212)2692957']\n",
      "['Tel : (212)2647522']\n",
      "['Tel : (212)2826136']\n",
      "['Tel : (212)2699504']\n",
      "['Tel : (212)2760695']\n",
      "['Tel : (212)2828531']\n",
      "['Tel : (212)3241614']\n",
      "['Tel : (212)2682642']\n",
      "['Tel : (212)2782646']\n",
      "['Tel : (212)2691045']\n",
      "['Tel : (212)2806509']\n",
      "['Tel : (212)2798087']\n",
      "['Tel : (212)2786832']\n",
      "['Tel : (212)2644887']\n",
      "['Tel : (212)2766474']\n",
      "['Tel : (212)2791019']\n",
      "['Tel : (212)2687846']\n",
      "['Tel : (212)2790398']\n",
      "['Tel : (216)4710498']\n",
      "['Tel : (216)3658306']\n",
      "['Tel : (216)4663277']\n",
      "['Tel : (216)4663277']\n",
      "['Tel : (216)3659312']\n",
      "['Tel : (216)3649339']\n",
      "['Tel : (216)3654538']\n",
      "['Tel : (216)3643307']\n"
     ]
    }
   ],
   "source": [
    "import re\n",
    "regex_kodu = \"Tel\\s:\\s\\([0-9]+\\)[0-9]+\"\n",
    "fh = open('firmalar_processed.txt')\n",
    "for line in fh:\n",
    "    line = line.rstrip()\n",
    "    if line.startswith('Tel'):\n",
    "        print(re.findall(regex_kodu,line))\n",
    "fh.close()"
   ]
  },
  {
   "cell_type": "code",
   "execution_count": 14,
   "metadata": {},
   "outputs": [
    {
     "name": "stdout",
     "output_type": "stream",
     "text": [
      "['Tel : (212)2809703']\n",
      "['Tel : (212)2792132']\n",
      "['Tel : (212)2641253']\n",
      "['Tel : (212)2640266']\n",
      "['Tel : (212)2681331']\n",
      "['Tel : (212)2685085']\n",
      "['Tel : (212)2685085']\n",
      "['Tel : (212)2640042']\n",
      "['Tel : (212)2645418']\n",
      "['Tel : (212)2642809']\n",
      "['Tel : (212)2815757']\n",
      "['Tel : (212)2682214']\n",
      "['Tel : (212)2780167']\n",
      "['Tel : (212)2695249']\n",
      "['Tel : (212)2806299']\n",
      "['Tel : (212)2806313']\n",
      "['Tel : (212)2642443']\n",
      "['Tel : (212)2642457']\n",
      "['Tel : (212)2707970']\n",
      "['Tel : (212)2832944']\n",
      "['Tel : (212)2681472']\n",
      "['Tel : (212)2702861']\n",
      "['Tel : (212)2810843']\n",
      "['Tel : (212)2810843']\n",
      "['Tel : (212)2810843']\n",
      "['Tel : (216)3111694']\n",
      "['Tel : (212)2684367']\n",
      "['Tel : (212)2784982']\n",
      "['Tel : (212)2647256']\n",
      "['Tel : (212)2645038']\n",
      "['Tel : (212)2696338']\n",
      "['Tel : (212)2796194']\n",
      "['Tel : (212)2806085']\n",
      "['Tel : (212)2861637']\n",
      "['Tel : (212)2703429']\n",
      "['Tel : (212)2370324']\n",
      "['Tel : (212)2769944']\n",
      "['Tel : (212)2686059']\n",
      "['Tel : (212)2692957']\n",
      "['Tel : (212)2647522']\n",
      "['Tel : (212)2826136']\n",
      "['Tel : (212)2699504']\n",
      "['Tel : (212)2760695']\n",
      "['Tel : (212)2828531']\n",
      "['Tel : (212)3241614']\n",
      "['Tel : (212)2682642']\n",
      "['Tel : (212)2782646']\n",
      "['Tel : (212)2691045']\n",
      "['Tel : (212)2806509']\n",
      "['Tel : (212)2798087']\n",
      "['Tel : (212)2786832']\n",
      "['Tel : (212)2644887']\n",
      "['Tel : (212)2766474']\n",
      "['Tel : (212)2791019']\n",
      "['Tel : (212)2687846']\n",
      "['Tel : (212)2790398']\n",
      "['Tel : (216)4710498']\n",
      "['Tel : (216)3658306']\n",
      "['Tel : (216)4663277']\n",
      "['Tel : (216)4663277']\n",
      "['Tel : (216)3659312']\n",
      "['Tel : (216)3649339']\n",
      "['Tel : (216)3654538']\n",
      "['Tel : (216)3643307']\n"
     ]
    }
   ],
   "source": [
    "import re\n",
    "fh = open('firmalar_processed.txt')\n",
    "for line in fh:\n",
    "    line = line.rstrip()\n",
    "    if line.startswith('Tel'):\n",
    "        print(re.findall('Tel.*\\([0-9]+\\)[0-9]+',line))\n",
    "fh.close()"
   ]
  },
  {
   "cell_type": "code",
   "execution_count": 18,
   "metadata": {},
   "outputs": [
    {
     "name": "stdout",
     "output_type": "stream",
     "text": [
      "['Tel : (212)2809703']\n",
      "['Tel : (212)2792132']\n",
      "['Tel : (212)2641253']\n",
      "['Tel : (212)2640266']\n",
      "['Tel : (212)2681331']\n",
      "['Tel : (212)2685085']\n",
      "['Tel : (212)2685085']\n",
      "['Tel : (212)2640042']\n",
      "['Tel : (212)2645418']\n",
      "['Tel : (212)2642809']\n",
      "['Tel : (212)2815757']\n",
      "['Tel : (212)2682214']\n",
      "['Tel : (212)2780167']\n",
      "['Tel : (212)2695249']\n",
      "['Tel : (212)2806299']\n",
      "['Tel : (212)2806313']\n",
      "['Tel : (212)2642443']\n",
      "['Tel : (212)2642457']\n",
      "['Tel : (212)2707970']\n",
      "['Tel : (212)2832944']\n",
      "['Tel : (212)2681472']\n",
      "['Tel : (212)2702861']\n",
      "['Tel : (212)2810843']\n",
      "['Tel : (212)2810843']\n",
      "['Tel : (212)2810843']\n",
      "['Tel : (216)3111694']\n",
      "['Tel : (212)2684367']\n",
      "['Tel : (212)2784982']\n",
      "['Tel : (212)2647256']\n",
      "['Tel : (212)2645038']\n",
      "['Tel : (212)2696338']\n",
      "['Tel : (212)2796194']\n",
      "['Tel : (212)2806085']\n",
      "['Tel : (212)2861637']\n",
      "['Tel : (212)2703429']\n",
      "['Tel : (212)2370324']\n",
      "['Tel : (212)2769944']\n",
      "['Tel : (212)2686059']\n",
      "['Tel : (212)2692957']\n",
      "['Tel : (212)2647522']\n",
      "['Tel : (212)2826136']\n",
      "['Tel : (212)2699504']\n",
      "['Tel : (212)2760695']\n",
      "['Tel : (212)2828531']\n",
      "['Tel : (212)3241614']\n",
      "['Tel : (212)2682642']\n",
      "['Tel : (212)2782646']\n",
      "['Tel : (212)2691045']\n",
      "['Tel : (212)2806509']\n",
      "['Tel : (212)2798087']\n",
      "['Tel : (212)2786832']\n",
      "['Tel : (212)2644887']\n",
      "['Tel : (212)2766474']\n",
      "['Tel : (212)2791019']\n",
      "['Tel : (212)2687846']\n",
      "['Tel : (212)2790398']\n",
      "['Tel : (216)4710498']\n",
      "['Tel : (216)3658306']\n",
      "['Tel : (216)4663277']\n",
      "['Tel : (216)4663277']\n",
      "['Tel : (216)3659312']\n",
      "['Tel : (216)3649339']\n",
      "['Tel : (216)3654538']\n",
      "['Tel : (216)3643307']\n"
     ]
    }
   ],
   "source": [
    "import re\n",
    "fh = open('firmalar_processed.txt')\n",
    "for line in fh:\n",
    "    line = line.rstrip()\n",
    "    if line.startswith('Tel'):\n",
    "        print(re.findall('Tel.*?\\([0-9]+\\)[0-9]+',line))\n",
    "        # ya da \n",
    "        # print(re.findall('Tel : \\([0-9]+\\)[0-9]+',line))\n",
    "fh.close()"
   ]
  },
  {
   "cell_type": "code",
   "execution_count": 19,
   "metadata": {},
   "outputs": [
    {
     "name": "stdout",
     "output_type": "stream",
     "text": [
      "Tel : (212)2809703\n",
      "Tel : (212)2792132\n",
      "Tel : (212)2641253\n",
      "Tel : (212)2640266\n",
      "Tel : (212)2681331\n",
      "Tel : (212)2685085\n",
      "Tel : (212)2685085\n",
      "Tel : (212)2640042\n",
      "Tel : (212)2645418\n",
      "Tel : (212)2642809\n",
      "Tel : (212)2815757\n",
      "Tel : (212)2682214\n",
      "Tel : (212)2780167\n",
      "Tel : (212)2695249\n",
      "Tel : (212)2806299\n",
      "Tel : (212)2806313\n",
      "Tel : (212)2642443\n",
      "Tel : (212)2642457\n",
      "Tel : (212)2707970\n",
      "Tel : (212)2832944\n",
      "Tel : (212)2681472\n",
      "Tel : (212)2702861\n",
      "Tel : (212)2810843\n",
      "Tel : (212)2810843\n",
      "Tel : (212)2810843\n",
      "Tel : (216)3111694\n",
      "Tel : (212)2684367\n",
      "Tel : (212)2784982\n",
      "Tel : (212)2647256\n",
      "Tel : (212)2645038\n",
      "Tel : (212)2696338\n",
      "Tel : (212)2796194\n",
      "Tel : (212)2806085\n",
      "Tel : (212)2861637\n",
      "Tel : (212)2703429\n",
      "Tel : (212)2370324\n",
      "Tel : (212)2769944\n",
      "Tel : (212)2686059\n",
      "Tel : (212)2692957\n",
      "Tel : (212)2647522\n",
      "Tel : (212)2826136\n",
      "Tel : (212)2699504\n",
      "Tel : (212)2760695\n",
      "Tel : (212)2828531\n",
      "Tel : (212)3241614\n",
      "Tel : (212)2682642\n",
      "Tel : (212)2782646\n",
      "Tel : (212)2691045\n",
      "Tel : (212)2806509\n",
      "Tel : (212)2798087\n",
      "Tel : (212)2786832\n",
      "Tel : (212)2644887\n",
      "Tel : (212)2766474\n",
      "Tel : (212)2791019\n",
      "Tel : (212)2687846\n",
      "Tel : (212)2790398\n",
      "Tel : (216)4710498\n",
      "Tel : (216)3658306\n",
      "Tel : (216)4663277\n",
      "Tel : (216)4663277\n",
      "Tel : (216)3659312\n",
      "Tel : (216)3649339\n",
      "Tel : (216)3654538\n",
      "Tel : (216)3643307\n"
     ]
    }
   ],
   "source": [
    "import re\n",
    "fh = open('firmalar_processed.txt')\n",
    "for line in fh:\n",
    "    line = line.rstrip()\n",
    "    if line.startswith('Tel'):\n",
    "        print(re.findall('Tel.*?\\([0-9]+\\)[0-9]+',line)[0])\n",
    "        # ya da \n",
    "        # print(re.findall('Tel : \\([0-9]+\\)[0-9]+',line))\n",
    "fh.close()"
   ]
  },
  {
   "cell_type": "code",
   "execution_count": null,
   "metadata": {},
   "outputs": [],
   "source": []
  }
 ],
 "metadata": {
  "kernelspec": {
   "display_name": "Python 3",
   "language": "python",
   "name": "python3"
  },
  "language_info": {
   "codemirror_mode": {
    "name": "ipython",
    "version": 3
   },
   "file_extension": ".py",
   "mimetype": "text/x-python",
   "name": "python",
   "nbconvert_exporter": "python",
   "pygments_lexer": "ipython3",
   "version": "3.6.5"
  }
 },
 "nbformat": 4,
 "nbformat_minor": 2
}
