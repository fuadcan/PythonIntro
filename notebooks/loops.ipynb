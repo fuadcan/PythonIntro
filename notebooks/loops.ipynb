{
 "cells": [
  {
   "cell_type": "markdown",
   "metadata": {},
   "source": [
    "# Döngüler (Loops) "
   ]
  },
  {
   "cell_type": "markdown",
   "metadata": {},
   "source": [
    "## For Döngüleri "
   ]
  },
  {
   "cell_type": "code",
   "execution_count": 5,
   "metadata": {},
   "outputs": [
    {
     "name": "stdout",
     "output_type": "stream",
     "text": [
      "1\n",
      "8\n",
      "27\n",
      "64\n",
      "125\n"
     ]
    }
   ],
   "source": [
    "from time import sleep\n",
    "for i in [1,2,3,4,5,6,7,8,9,10]:\n",
    "    if i <= 5:\n",
    "        print(i**3)\n",
    "        sleep(1)\n",
    "    else:\n",
    "        sleep(1)\n",
    "        break"
   ]
  },
  {
   "cell_type": "code",
   "execution_count": 5,
   "metadata": {},
   "outputs": [
    {
     "data": {
      "text/plain": [
       "[1, 2, 3, 4, 5, 6, 7, 8, 9, 10]"
      ]
     },
     "execution_count": 5,
     "metadata": {},
     "output_type": "execute_result"
    }
   ],
   "source": [
    "list(range(1,11))"
   ]
  },
  {
   "cell_type": "code",
   "execution_count": 6,
   "metadata": {},
   "outputs": [
    {
     "name": "stdout",
     "output_type": "stream",
     "text": [
      "1\n",
      "2\n",
      "3\n",
      "4\n",
      "5\n",
      "6\n",
      "7\n",
      "8\n",
      "9\n",
      "10\n"
     ]
    }
   ],
   "source": [
    "for i in range(10):\n",
    "    print(i+1)"
   ]
  },
  {
   "cell_type": "code",
   "execution_count": 6,
   "metadata": {},
   "outputs": [
    {
     "name": "stdout",
     "output_type": "stream",
     "text": [
      "1 bir tek sayıdır\n",
      "2 bir çift sayıdır\n",
      "3 bir tek sayıdır\n",
      "4 bir çift sayıdır\n",
      "5 bir tek sayıdır\n",
      "6 bir çift sayıdır\n",
      "7 bir tek sayıdır\n",
      "8 bir çift sayıdır\n",
      "9 bir tek sayıdır\n",
      "10 bir çift sayıdır\n"
     ]
    }
   ],
   "source": [
    "for i in range(1,11):\n",
    "    if i == 0:\n",
    "        print(\"Sen yoksun!\")\n",
    "    elif i % 2 == 0:\n",
    "        print(i, \"bir çift sayıdır\")\n",
    "    else:\n",
    "        print(i, \"bir tek sayıdır\")"
   ]
  },
  {
   "cell_type": "code",
   "execution_count": 9,
   "metadata": {},
   "outputs": [
    {
     "name": "stdout",
     "output_type": "stream",
     "text": [
      "1\n",
      "3\n",
      "5\n",
      "7\n",
      "9\n"
     ]
    }
   ],
   "source": [
    "for i in range(1,11,2):\n",
    "    print(i)"
   ]
  },
  {
   "cell_type": "code",
   "execution_count": 10,
   "metadata": {},
   "outputs": [
    {
     "name": "stdout",
     "output_type": "stream",
     "text": [
      "1 bir tek sayıdır\n",
      "3 bir tek sayıdır\n",
      "5 bir tek sayıdır\n",
      "7 bir tek sayıdır\n",
      "9 bir tek sayıdır\n"
     ]
    }
   ],
   "source": [
    "for i in range(1,11,2):\n",
    "    if i == 0:\n",
    "        print(\"Sen yoksun!\")\n",
    "    elif i % 2 == 0:\n",
    "        print(i, \"bir çift sayıdır\")\n",
    "    else:\n",
    "        print(i, \"bir tek sayıdır\")"
   ]
  },
  {
   "cell_type": "code",
   "execution_count": 11,
   "metadata": {},
   "outputs": [
    {
     "name": "stdout",
     "output_type": "stream",
     "text": [
      "0\n",
      "1\n",
      "2\n",
      "3\n",
      "4\n",
      "5\n",
      "6\n",
      "7\n",
      "8\n",
      "9\n"
     ]
    }
   ],
   "source": [
    "from time import sleep\n",
    "\n",
    "for i in range(10):\n",
    "    print(i)\n",
    "    sleep(1)"
   ]
  },
  {
   "cell_type": "code",
   "execution_count": 7,
   "metadata": {},
   "outputs": [
    {
     "name": "stdout",
     "output_type": "stream",
     "text": [
      "3\n",
      "2\n",
      "1\n",
      "bi bi bi bip\n",
      "bi bi bi bip\n",
      "bi bi bi bip\n",
      "bi bi bi bip\n"
     ]
    }
   ],
   "source": [
    "for i in reversed(range(1,4)):\n",
    "    print(i)\n",
    "    sleep(1)\n",
    "\n",
    "for i in range(4):\n",
    "    print(\"bi bi bi bip\")\n",
    "    sleep(1)"
   ]
  },
  {
   "cell_type": "code",
   "execution_count": 16,
   "metadata": {},
   "outputs": [
    {
     "name": "stdout",
     "output_type": "stream",
     "text": [
      "4\n",
      "3\n",
      "2\n",
      "1\n"
     ]
    }
   ],
   "source": [
    "for i in range(4,0,-1):\n",
    "    print(i)\n",
    "    sleep(1)"
   ]
  },
  {
   "cell_type": "code",
   "execution_count": 17,
   "metadata": {},
   "outputs": [
    {
     "name": "stdout",
     "output_type": "stream",
     "text": [
      "3\n",
      "2\n",
      "1\n",
      "bi bi bi bip\n",
      "bi bi bi bip\n",
      "bi bi bi bip\n",
      "bi bi bi bip\n"
     ]
    }
   ],
   "source": [
    "for i in range(3,0,-1):\n",
    "    print(i)\n",
    "    sleep(1)\n",
    "\n",
    "for i in range(4):\n",
    "    print(\"bi bi bi bip\")\n",
    "    sleep(1)"
   ]
  },
  {
   "cell_type": "code",
   "execution_count": 18,
   "metadata": {},
   "outputs": [
    {
     "name": "stdout",
     "output_type": "stream",
     "text": [
      "3\n",
      "2\n",
      "1\n"
     ]
    }
   ],
   "source": [
    "from pydub import AudioSegment\n",
    "from pydub.playback import play\n",
    "\n",
    "song = AudioSegment.from_wav(\"bibibibip.wav\")\n",
    "\n",
    "for i in reversed(range(1,4)):\n",
    "    print(i)\n",
    "    sleep(1)\n",
    "\n",
    "play(song)"
   ]
  },
  {
   "cell_type": "code",
   "execution_count": 23,
   "metadata": {},
   "outputs": [
    {
     "name": "stdout",
     "output_type": "stream",
     "text": [
      "Mahir\n",
      "my\n",
      "name\n",
      "is\n"
     ]
    }
   ],
   "source": [
    "kelimeler = ['mahir','my','name','is']\n",
    "for kelime in kelimeler:\n",
    "    if kelime == 'mahir':\n",
    "        print(kelime.capitalize())\n",
    "        sleep(1)\n",
    "    else:\n",
    "        print(kelime)\n",
    "        sleep(1)"
   ]
  },
  {
   "cell_type": "code",
   "execution_count": 24,
   "metadata": {},
   "outputs": [
    {
     "name": "stdout",
     "output_type": "stream",
     "text": [
      "Mahir\n",
      "my\n",
      "name\n",
      "is\n"
     ]
    }
   ],
   "source": [
    "def kelime_isleme(kelime):\n",
    "    if kelime == 'mahir':\n",
    "        print(kelime.capitalize())\n",
    "    else:\n",
    "        print(kelime)\n",
    "for isim in kelimeler:\n",
    "    kelime_isleme(isim)\n",
    "    sleep(1)"
   ]
  },
  {
   "cell_type": "markdown",
   "metadata": {},
   "source": [
    "## While Döngüleri"
   ]
  },
  {
   "cell_type": "code",
   "execution_count": 25,
   "metadata": {},
   "outputs": [
    {
     "name": "stdout",
     "output_type": "stream",
     "text": [
      "1\n",
      "2\n",
      "3\n",
      "4\n",
      "5\n",
      "6\n",
      "7\n",
      "8\n",
      "9\n",
      "10\n"
     ]
    }
   ],
   "source": [
    "sayac = 1\n",
    "while sayac <= 10:\n",
    "    print(sayac)\n",
    "    sayac = sayac + 1"
   ]
  },
  {
   "cell_type": "code",
   "execution_count": 25,
   "metadata": {},
   "outputs": [
    {
     "name": "stdout",
     "output_type": "stream",
     "text": [
      "1\n",
      "2\n",
      "3\n",
      "4\n",
      "5\n",
      "6\n",
      "7\n",
      "8\n",
      "9\n",
      "10\n"
     ]
    }
   ],
   "source": [
    "counter = 1\n",
    "while counter <= 10:\n",
    "    print(counter)\n",
    "    counter += 1"
   ]
  },
  {
   "cell_type": "code",
   "execution_count": 26,
   "metadata": {},
   "outputs": [
    {
     "name": "stdout",
     "output_type": "stream",
     "text": [
      "10\n",
      "9\n",
      "8\n",
      "7\n",
      "6\n",
      "5\n",
      "4\n",
      "3\n",
      "2\n",
      "1\n",
      "0\n"
     ]
    }
   ],
   "source": [
    "counter = 10\n",
    "while counter >= 0:\n",
    "    print(counter)\n",
    "    counter += -1"
   ]
  },
  {
   "cell_type": "code",
   "execution_count": 26,
   "metadata": {},
   "outputs": [
    {
     "name": "stdout",
     "output_type": "stream",
     "text": [
      "patlamaya 10 saniye\n",
      "patlamaya 9 saniye\n",
      "patlamaya 8 saniye\n",
      "patlamaya 7 saniye\n",
      "patlamaya 6 saniye\n",
      "patlamaya 5 saniye\n",
      "patlamaya 4 saniye\n",
      "patlamaya 3 saniye\n",
      "patlamaya 2 saniye\n",
      "patlamaya 1 saniye\n",
      "guuuuum!\n"
     ]
    }
   ],
   "source": [
    "kalan_saniye = 10\n",
    "\n",
    "while kalan_saniye > 0:\n",
    "    print(\"patlamaya %s saniye\" % kalan_saniye)\n",
    "    sleep(1)\n",
    "    kalan_saniye -= 1\n",
    "print(\"guuuuum!\")"
   ]
  },
  {
   "cell_type": "code",
   "execution_count": 35,
   "metadata": {},
   "outputs": [
    {
     "name": "stdout",
     "output_type": "stream",
     "text": [
      "seviyor\n",
      "sevmiyor\n",
      "seviyor\n",
      "sevmiyor\n",
      "seviyor\n",
      "sevmiyor\n",
      "seviyor\n",
      "sevmiyor\n",
      "seviyor\n",
      "sevmiyor\n",
      "seviyor\n",
      "sevmiyor\n",
      "seviyor\n",
      "sevmiyor\n",
      "seviyor\n",
      "sevmiyor\n",
      "seviyor\n",
      "sevmiyor\n",
      "seviyor\n",
      "sevmiyor\n",
      "seviyor\n",
      "sevmiyor\n",
      "seviyor\n"
     ]
    }
   ],
   "source": [
    "from random import randint\n",
    "yaprak_sayisi = randint(15,22)\n",
    "son_durum = 'seviyor'\n",
    "\n",
    "while yaprak_sayisi >= 0:\n",
    "    print(son_durum)\n",
    "    if son_durum == 'seviyor':\n",
    "        son_durum = 'sevmiyor'\n",
    "    else:\n",
    "        son_durum = 'seviyor'\n",
    "    yaprak_sayisi -= 1\n",
    "    sleep(.5)      \n",
    "        "
   ]
  },
  {
   "cell_type": "code",
   "execution_count": 37,
   "metadata": {},
   "outputs": [
    {
     "name": "stdout",
     "output_type": "stream",
     "text": [
      "Yarinizin ismini giriniz: tuluman\n",
      "seviyor\n",
      "sevmiyor\n",
      "seviyor\n",
      "sevmiyor\n",
      "seviyor\n",
      "sevmiyor\n",
      "seviyor\n",
      "sevmiyor\n",
      "seviyor\n",
      "sevmiyor\n",
      "seviyor\n",
      "sevmiyor\n",
      "seviyor\n",
      "sevmiyor\n",
      "seviyor\n",
      "sevmiyor\n",
      "Ahahaha, tuluman seni sevmiyooor!\n"
     ]
    }
   ],
   "source": [
    "from random import randint\n",
    "yaprak_sayisi = randint(15,22)\n",
    "son_durum = 'seviyor'\n",
    "yar = input('Yarinizin ismini giriniz: ')\n",
    "\n",
    "# Papatya falı\n",
    "while yaprak_sayisi >= 0:\n",
    "    print(son_durum)\n",
    "    if son_durum == 'seviyor':\n",
    "        son_durum = 'sevmiyor'\n",
    "    else:\n",
    "        son_durum = 'seviyor'\n",
    "    yaprak_sayisi -= 1\n",
    "    sleep(.5)      \n",
    "\n",
    "# Durum değerlendirmesi\n",
    "if son_durum != 'seviyor':\n",
    "    print('Yok be %s sana bakmaz' % yar)\n",
    "else:\n",
    "    print('Ahahaha, %s seni sevmiyooor :))))' % yar)"
   ]
  },
  {
   "cell_type": "code",
   "execution_count": 55,
   "metadata": {},
   "outputs": [
    {
     "name": "stdout",
     "output_type": "stream",
     "text": [
      "Yarinizin ismini giriniz: tuluman\n",
      "seviyor\n",
      "sevmiyor\n",
      "seviyor\n",
      "sevmiyor\n",
      "seviyor\n",
      "sevmiyor\n",
      "seviyor\n",
      "sevmiyor\n",
      "seviyor\n",
      "sevmiyor\n",
      "seviyor\n",
      "sevmiyor\n",
      "seviyor\n",
      "sevmiyor\n",
      "seviyor\n",
      "sevmiyor\n",
      "seviyor\n",
      "sevmiyor\n",
      "seviyor\n",
      "sevmiyor\n",
      "seviyor\n",
      "sevmiyor\n",
      "seviyor\n",
      "porsche'u ikinci el diyorlar\n"
     ]
    }
   ],
   "source": [
    "from random import randint, SystemRandom\n",
    "secure_random = SystemRandom()\n",
    "\n",
    "sevmiyor_listesi = ['yok be %s sana bakmaz', 'hadi be ordan', \"lan porsche'u var diyorum\", 'cok da sey etme']\n",
    "seviyor_listesi  = ['çok da şey etme, papatya falı sonuçta', 'kullanıp atar o seni, salma kendini', 'bak versacesi yok diyorum',\n",
    "                   \"porsche'u ikinci el diyorlar\"]\n",
    "\n",
    "from random import randint, choice\n",
    "yaprak_sayisi = randint(15,22)\n",
    "son_durum = 'seviyor'\n",
    "yar = input('Yarinizin ismini giriniz: ')\n",
    "\n",
    "# Papatya falı\n",
    "while yaprak_sayisi >= 0:\n",
    "    print(son_durum)\n",
    "    if son_durum == 'seviyor':\n",
    "        son_durum = 'sevmiyor'\n",
    "    else:\n",
    "        son_durum = 'seviyor'\n",
    "    yaprak_sayisi -= 1\n",
    "    sleep(.5)      \n",
    "\n",
    "# Durum değerlendirmesi\n",
    "if son_durum != 'seviyor':\n",
    "    print(secure_random.choice(seviyor_listesi))\n",
    "else:\n",
    "    print(secure_random.choice(sevmiyor_listesi))"
   ]
  },
  {
   "cell_type": "code",
   "execution_count": 57,
   "metadata": {},
   "outputs": [
    {
     "name": "stdout",
     "output_type": "stream",
     "text": [
      "Yarinizin ismini giriniz: tuluman\n",
      "seviyor\n",
      "sevmiyor\n",
      "seviyor\n",
      "sevmiyor\n",
      "seviyor\n",
      "sevmiyor\n",
      "seviyor\n",
      "sevmiyor\n",
      "seviyor\n",
      "sevmiyor\n",
      "seviyor\n",
      "sevmiyor\n",
      "seviyor\n",
      "sevmiyor\n",
      "seviyor\n",
      "sevmiyor\n",
      "seviyor\n",
      "sevmiyor\n",
      "seviyor\n",
      "sevmiyor\n",
      "seviyor\n",
      "bak versacesi yok diyorum\n"
     ]
    }
   ],
   "source": [
    "from random import randint, SystemRandom\n",
    "secure_random = SystemRandom()\n",
    "\n",
    "sevmiyor_listesi = ['yok be %s sana bakmaz', 'hadi be ordan', \"lan porsche'u var diyorum\", 'cok da sey etme']\n",
    "seviyor_listesi  = ['çok da şey etme, papatya falı sonuçta', 'kullanıp atar o seni, salma kendini', 'bak versacesi yok diyorum',\n",
    "                   \"porsche'u ikinci el diyorlar\"]\n",
    "\n",
    "from random import randint, choice\n",
    "yaprak_sayisi = randint(15,22)\n",
    "son_durum = 'seviyor'\n",
    "yar = input('Yarinizin ismini giriniz: ')\n",
    "\n",
    "# Papatya falı\n",
    "while yaprak_sayisi >= 0:\n",
    "    print(son_durum)\n",
    "    if son_durum == 'seviyor':\n",
    "        son_durum = 'sevmiyor'\n",
    "    else:\n",
    "        son_durum = 'seviyor'\n",
    "    yaprak_sayisi -= 1\n",
    "    sleep(.5)      \n",
    "\n",
    "# Durum değerlendirmesi\n",
    "if son_durum != 'seviyor':\n",
    "    cevap = secure_random.choice(seviyor_listesi)\n",
    "    if '%s' in cevap:\n",
    "        print(cevap % yar)\n",
    "    else:\n",
    "        print(cevap)\n",
    "else:\n",
    "    cevap = secure_random.choice(sevmiyor_listesi)\n",
    "    if '%s' in cevap:\n",
    "        print(cevap % yar)\n",
    "    else:\n",
    "        print(cevap)\n"
   ]
  },
  {
   "cell_type": "markdown",
   "metadata": {},
   "source": [
    "## Break ve Continue "
   ]
  },
  {
   "cell_type": "code",
   "execution_count": 59,
   "metadata": {},
   "outputs": [
    {
     "name": "stdout",
     "output_type": "stream",
     "text": [
      "Sayıyı giriniz: 3\n",
      "9.0\n",
      "Sayıyı giriniz: Tamam\n"
     ]
    }
   ],
   "source": [
    "while True:\n",
    "    sayi = input('Sayıyı giriniz: ')\n",
    "    if sayi == 'Tamam':\n",
    "        break\n",
    "    else:\n",
    "        print(float(sayi) ** 2)"
   ]
  },
  {
   "cell_type": "code",
   "execution_count": null,
   "metadata": {},
   "outputs": [],
   "source": [
    "while True:\n",
    "    sayi = input('Sayıyı giriniz: ')\n",
    "    if 'tamam' in sayi.lower() :\n",
    "        break\n",
    "    else:\n",
    "        print(float(sayi) ** 2)"
   ]
  },
  {
   "cell_type": "code",
   "execution_count": null,
   "metadata": {},
   "outputs": [],
   "source": [
    "while True:\n",
    "    cevap = input('Sana deniz anası taklidi yapayım mı? ')\n",
    "    sonuc = print('öyle %s demekle olmaaaz' % cevap)"
   ]
  },
  {
   "cell_type": "code",
   "execution_count": 64,
   "metadata": {},
   "outputs": [
    {
     "name": "stdout",
     "output_type": "stream",
     "text": [
      "Aman efendim kimler gelmiş...\n",
      "Buyrun, buyrun\n",
      "Ne alırdınız sayın Adnan\n",
      "Aman efendim kimler gelmiş...\n",
      "Buyrun, buyrun\n",
      "Ne alırdınız sayın Conan\n",
      "Aman efendim kimler gelmiş...\n",
      "Buyrun, buyrun\n",
      "Ne alırdınız sayın Mülayim\n"
     ]
    }
   ],
   "source": [
    "futuvvet_ehilleri = ['Adnan', 'Mülayim', 'Conan']\n",
    "katilimcilar = ['Adnan', 'Tülay', 'Müstesna Hanım', 'Conan', 'Fenerbahçeli Cemil','Mülayim']\n",
    "for katilimci in katilimcilar:\n",
    "    if katilimci in futuvvet_ehilleri:\n",
    "        print('Aman efendim kimler gelmiş...\\nBuyrun, buyrun\\nNe alırdınız sayın %s' % katilimci)\n",
    "        sleep(.5)\n",
    "    else:\n",
    "        sleep(.5)\n",
    "        continue"
   ]
  },
  {
   "cell_type": "code",
   "execution_count": 2,
   "metadata": {},
   "outputs": [
    {
     "name": "stdout",
     "output_type": "stream",
     "text": [
      "en fütüv artık 3\n",
      "en fütüv artık 44\n",
      "en fütüv artık 90\n"
     ]
    }
   ],
   "source": [
    "## En fütüvvet ehlinin fütüv katsayısı kaç?\n",
    "futuv_katsayilari = [3, 44, 12, 26, 90,73, 6, 70]\n",
    "en_futuv = None\n",
    "for katsayi in futuv_katsayilari:\n",
    "    if en_futuv is None or katsayi > en_futuv:\n",
    "        en_futuv = katsayi\n",
    "        print('en fütüv artık', en_futuv)\n"
   ]
  },
  {
   "cell_type": "code",
   "execution_count": 30,
   "metadata": {},
   "outputs": [
    {
     "name": "stdout",
     "output_type": "stream",
     "text": [
      "sana shubuo taklidi yapayım mı?\n",
      "> yap\n",
      "oyle yap demekle olmaz\n",
      "sana shubuo taklidi yapayım mı?\n",
      "> Pat küt güüüm!!!\n"
     ]
    }
   ],
   "source": [
    "sayac = 1\n",
    "while True:\n",
    "    cevap = input('sana shubuo taklidi yapayım mı?\\n> ')\n",
    "    if cevap == 'Pat küt güüüm!!!':\n",
    "        break\n",
    "    cevap2 = 'oyle %s demekle olmaz' % cevap\n",
    "    print(cevap2)"
   ]
  },
  {
   "cell_type": "code",
   "execution_count": null,
   "metadata": {},
   "outputs": [],
   "source": []
  }
 ],
 "metadata": {
  "kernelspec": {
   "display_name": "Python 3",
   "language": "python",
   "name": "python3"
  },
  "language_info": {
   "codemirror_mode": {
    "name": "ipython",
    "version": 3
   },
   "file_extension": ".py",
   "mimetype": "text/x-python",
   "name": "python",
   "nbconvert_exporter": "python",
   "pygments_lexer": "ipython3",
   "version": "3.6.5"
  }
 },
 "nbformat": 4,
 "nbformat_minor": 2
}
