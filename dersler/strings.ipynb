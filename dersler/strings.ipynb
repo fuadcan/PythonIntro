{
 "cells": [
  {
   "cell_type": "markdown",
   "metadata": {},
   "source": [
    "# Stringler"
   ]
  },
  {
   "cell_type": "code",
   "execution_count": 1,
   "metadata": {},
   "outputs": [
    {
     "name": "stdout",
     "output_type": "stream",
     "text": [
      "adnan\n"
     ]
    }
   ],
   "source": [
    "s = 'adnan'\n",
    "s = \"adnan\"\n",
    "print(s)"
   ]
  },
  {
   "cell_type": "code",
   "execution_count": 2,
   "metadata": {},
   "outputs": [
    {
     "data": {
      "text/plain": [
       "str"
      ]
     },
     "execution_count": 2,
     "metadata": {},
     "output_type": "execute_result"
    }
   ],
   "source": [
    "type(s)"
   ]
  },
  {
   "cell_type": "code",
   "execution_count": 3,
   "metadata": {},
   "outputs": [
    {
     "name": "stdout",
     "output_type": "stream",
     "text": [
      "2674\n"
     ]
    }
   ],
   "source": [
    "i1 = 1837\n",
    "i2 = 837\n",
    "print(i1+i2)"
   ]
  },
  {
   "cell_type": "code",
   "execution_count": 4,
   "metadata": {},
   "outputs": [
    {
     "name": "stdout",
     "output_type": "stream",
     "text": [
      "1837837\n"
     ]
    }
   ],
   "source": [
    "i1 = '1837'\n",
    "i2 = '837'\n",
    "print(i1+i2)"
   ]
  },
  {
   "cell_type": "code",
   "execution_count": 6,
   "metadata": {},
   "outputs": [
    {
     "name": "stdout",
     "output_type": "stream",
     "text": [
      "telefon numaram 5333624888\n"
     ]
    }
   ],
   "source": [
    "print('telefon numaram ' + '5333624888')"
   ]
  },
  {
   "cell_type": "code",
   "execution_count": 7,
   "metadata": {},
   "outputs": [
    {
     "name": "stdout",
     "output_type": "stream",
     "text": [
      "telefon numaram 5333624888\n"
     ]
    }
   ],
   "source": [
    "print('telefon numaram', '5333624888')"
   ]
  },
  {
   "cell_type": "code",
   "execution_count": 9,
   "metadata": {},
   "outputs": [
    {
     "data": {
      "text/plain": [
       "'telefon numaram 05333624888'"
      ]
     },
     "execution_count": 9,
     "metadata": {},
     "output_type": "execute_result"
    }
   ],
   "source": [
    "telefon = '05333624888'\n",
    "taslak  = 'telefon numaram %s'\n",
    "\n",
    "taslak % telefon"
   ]
  },
  {
   "cell_type": "code",
   "execution_count": 10,
   "metadata": {},
   "outputs": [
    {
     "data": {
      "text/plain": [
       "'telefon numaram 05333624888, ayrıca burcum oğlak'"
      ]
     },
     "execution_count": 10,
     "metadata": {},
     "output_type": "execute_result"
    }
   ],
   "source": [
    "telefon = '05333624888'\n",
    "taslak  = 'telefon numaram %s, ayrıca burcum oğlak'\n",
    "\n",
    "taslak % telefon"
   ]
  },
  {
   "cell_type": "code",
   "execution_count": 11,
   "metadata": {},
   "outputs": [
    {
     "data": {
      "text/plain": [
       "'telefon numaram05333624888ayrıca burcum oğlak'"
      ]
     },
     "execution_count": 11,
     "metadata": {},
     "output_type": "execute_result"
    }
   ],
   "source": [
    "'telefon numaram' + telefon + 'ayrıca burcum oğlak'"
   ]
  },
  {
   "cell_type": "code",
   "execution_count": 12,
   "metadata": {},
   "outputs": [
    {
     "data": {
      "text/plain": [
       "'telefon numaram 5333624888, ayrıca burcum oğlak'"
      ]
     },
     "execution_count": 12,
     "metadata": {},
     "output_type": "execute_result"
    }
   ],
   "source": [
    "telefon = 5333624888\n",
    "taslak  = 'telefon numaram %i, ayrıca burcum oğlak'\n",
    "\n",
    "taslak % telefon"
   ]
  },
  {
   "cell_type": "code",
   "execution_count": 20,
   "metadata": {},
   "outputs": [
    {
     "name": "stdout",
     "output_type": "stream",
     "text": [
      "telefon numaram 5333624888, ayrıca burcum oğlak\n",
      "bu arada vücut kitle endeksim de 28.405504\n"
     ]
    }
   ],
   "source": [
    "telefon = 5333624888\n",
    "taslak  = 'telefon numaram %i, ayrıca burcum oğlak\\nbu arada vücut kitle endeksim de %f'\n",
    "\n",
    "boy = 1.78\n",
    "gobek = 90\n",
    "bmi = gobek / boy**2\n",
    "\n",
    "print(taslak % (telefon, bmi))"
   ]
  },
  {
   "cell_type": "markdown",
   "metadata": {},
   "source": [
    "# Looplar"
   ]
  },
  {
   "cell_type": "code",
   "execution_count": 25,
   "metadata": {},
   "outputs": [
    {
     "name": "stdout",
     "output_type": "stream",
     "text": [
      "1\n",
      "2\n",
      "3\n",
      "4\n",
      "5\n"
     ]
    }
   ],
   "source": [
    "for i in [1,2,3,4,5]:\n",
    "    print(i)"
   ]
  },
  {
   "cell_type": "code",
   "execution_count": 30,
   "metadata": {},
   "outputs": [
    {
     "name": "stdout",
     "output_type": "stream",
     "text": [
      "0\n",
      "1\n",
      "2\n",
      "3\n",
      "4\n"
     ]
    }
   ],
   "source": [
    "for i in range(5):\n",
    "    print(i)"
   ]
  },
  {
   "cell_type": "code",
   "execution_count": 34,
   "metadata": {},
   "outputs": [
    {
     "name": "stdout",
     "output_type": "stream",
     "text": [
      "0 ** 0 = 1\n",
      "1 ** 1 = 1\n",
      "2 ** 2 = 4\n",
      "3 ** 3 = 27\n",
      "4 ** 4 = 256\n"
     ]
    }
   ],
   "source": [
    "for i in range(5):\n",
    "    print(i,'**',i,'=',i**i)"
   ]
  },
  {
   "cell_type": "code",
   "execution_count": 35,
   "metadata": {},
   "outputs": [
    {
     "name": "stdout",
     "output_type": "stream",
     "text": [
      "1\n",
      "2\n",
      "3\n",
      "4\n",
      "5\n"
     ]
    }
   ],
   "source": [
    "for i in range(1,6):\n",
    "    print(i)"
   ]
  },
  {
   "cell_type": "code",
   "execution_count": 38,
   "metadata": {},
   "outputs": [
    {
     "name": "stdout",
     "output_type": "stream",
     "text": [
      "50 inchin cm cinsinden değeri: 127.000000\n",
      "75 inchin cm cinsinden değeri: 190.500000\n",
      "100 inchin cm cinsinden değeri: 254.000000\n",
      "118 inchin cm cinsinden değeri: 299.720000\n",
      "127 inchin cm cinsinden değeri: 322.580000\n"
     ]
    }
   ],
   "source": [
    "televizyon_uzunlugu = [50,75,100,118,127]\n",
    "for inch in televizyon_uzunlugu:\n",
    "    taslak = '%i inchin cm cinsinden değeri: %f'\n",
    "    print(taslak % (inch, inch*2.54))"
   ]
  },
  {
   "cell_type": "code",
   "execution_count": 42,
   "metadata": {},
   "outputs": [
    {
     "name": "stdout",
     "output_type": "stream",
     "text": [
      "10\n",
      "9\n",
      "8\n",
      "7\n",
      "6\n",
      "5\n",
      "4\n",
      "3\n",
      "2\n",
      "1\n"
     ]
    }
   ],
   "source": [
    "import time\n",
    "for i in range(10,0,-1):\n",
    "    print(i)\n",
    "    time.sleep(1)"
   ]
  },
  {
   "cell_type": "code",
   "execution_count": 48,
   "metadata": {},
   "outputs": [
    {
     "name": "stdout",
     "output_type": "stream",
     "text": [
      "3\n",
      "2\n",
      "1\n",
      "bi bi bi bip!\n",
      "bi bi bi bip!\n",
      "bi bi bi bip!\n",
      "bi bi bi bip!\n"
     ]
    }
   ],
   "source": [
    "from time import sleep\n",
    "for i in range(3,0,-1):\n",
    "    print(i)\n",
    "    sleep(1)\n",
    "for i in range(4,0,-1):\n",
    "    print('bi bi bi bip!')\n",
    "    sleep(1)"
   ]
  },
  {
   "cell_type": "code",
   "execution_count": null,
   "metadata": {},
   "outputs": [],
   "source": [
    "from time import sleep\n",
    "for i in range(3,0,-1):\n",
    "    print(i)\n",
    "    sleep(1)\n",
    "for i in range(4,0,-1):\n",
    "    print('bi bi bi bip!')\n",
    "    sleep(1)"
   ]
  },
  {
   "cell_type": "code",
   "execution_count": 55,
   "metadata": {},
   "outputs": [
    {
     "name": "stdout",
     "output_type": "stream",
     "text": [
      "geri sayım için süre giriniz: 3\n",
      "3333\n",
      "12\n",
      "12.0\n"
     ]
    }
   ],
   "source": [
    "out = input('geri sayım için süre giriniz: ')\n",
    "print(out * 4)\n",
    "out = int(out)\n",
    "print(out * 4)\n",
    "out = float(out)\n",
    "print(out * 4)"
   ]
  },
  {
   "cell_type": "code",
   "execution_count": 57,
   "metadata": {},
   "outputs": [
    {
     "name": "stdout",
     "output_type": "stream",
     "text": [
      "geri sayım için süre giriniz\n",
      "> 3\n",
      "3\n",
      "2\n",
      "1\n",
      "bi bi bi bip!\n",
      "bi bi bi bip!\n",
      "bi bi bi bip!\n",
      "bi bi bi bip!\n"
     ]
    }
   ],
   "source": [
    "zaman = input('geri sayım için süre giriniz\\n> ')\n",
    "zaman = int(zaman)\n",
    "from time import sleep\n",
    "for i in range(zaman,0,-1):\n",
    "    print(i)\n",
    "    sleep(1)\n",
    "for i in range(4,0,-1):\n",
    "    print('bi bi bi bip!')\n",
    "    sleep(1)"
   ]
  },
  {
   "cell_type": "code",
   "execution_count": 60,
   "metadata": {},
   "outputs": [
    {
     "name": "stdout",
     "output_type": "stream",
     "text": [
      "3\n",
      "2\n",
      "1\n"
     ]
    }
   ],
   "source": [
    "from pydub import AudioSegment\n",
    "from pydub.playback import play\n",
    "\n",
    "song = AudioSegment.from_wav(\"bibibibip.wav\")\n",
    "\n",
    "for i in reversed(range(1,4)):\n",
    "    print(i)\n",
    "    sleep(1)\n",
    "\n",
    "play(song)"
   ]
  },
  {
   "cell_type": "code",
   "execution_count": 61,
   "metadata": {},
   "outputs": [
    {
     "name": "stdout",
     "output_type": "stream",
     "text": [
      "1\n",
      "3\n",
      "5\n",
      "7\n",
      "9\n"
     ]
    }
   ],
   "source": [
    "for i in range(1,10,2):\n",
    "    print(i)"
   ]
  },
  {
   "cell_type": "code",
   "execution_count": 62,
   "metadata": {},
   "outputs": [
    {
     "name": "stdout",
     "output_type": "stream",
     "text": [
      "0\n",
      "2\n",
      "4\n",
      "6\n",
      "8\n"
     ]
    }
   ],
   "source": [
    "for i in range(0,10,2):\n",
    "    print(i)"
   ]
  },
  {
   "cell_type": "code",
   "execution_count": 66,
   "metadata": {},
   "outputs": [
    {
     "name": "stdout",
     "output_type": "stream",
     "text": [
      "oyun dışı\n",
      "2 çift bir sayıdır\n",
      "4 çift bir sayıdır\n",
      "6 çift bir sayıdır\n",
      "8 çift bir sayıdır\n"
     ]
    }
   ],
   "source": [
    "for i in range(0,10,2):\n",
    "    if i == 0:\n",
    "        print('oyun dışı')\n",
    "    elif i % 2 == 0:\n",
    "        print(i, 'çift bir sayıdır')\n",
    "    else:\n",
    "        print(i, 'tek bir sayıdır')"
   ]
  },
  {
   "cell_type": "markdown",
   "metadata": {},
   "source": [
    "## While Döngüleri"
   ]
  },
  {
   "cell_type": "markdown",
   "metadata": {},
   "source": [
    "`==` Eşittir\n",
    "\n",
    "`!=` Eşit değildir\n",
    "\n",
    "`>` Büyüktür\n",
    "\n",
    "`<` Küçüktür\n",
    "\n",
    "`<=` Küçük eşittir\n",
    "\n",
    "`>=` Büyük eşittir\n",
    "\n",
    "`in` içindedir (listelerde ve metinlerde)\n",
    "\n"
   ]
  },
  {
   "cell_type": "code",
   "execution_count": 70,
   "metadata": {},
   "outputs": [
    {
     "name": "stdout",
     "output_type": "stream",
     "text": [
      "1\n",
      "2\n",
      "3\n",
      "4\n",
      "5\n",
      "6\n",
      "7\n",
      "8\n",
      "9\n",
      "10\n"
     ]
    }
   ],
   "source": [
    "counter = 1\n",
    "while counter <= 10:\n",
    "    print(counter)\n",
    "    counter = counter + 1"
   ]
  },
  {
   "cell_type": "code",
   "execution_count": 71,
   "metadata": {},
   "outputs": [
    {
     "name": "stdout",
     "output_type": "stream",
     "text": [
      "1\n",
      "2\n",
      "3\n",
      "4\n",
      "5\n",
      "6\n",
      "7\n",
      "8\n",
      "9\n",
      "10\n"
     ]
    }
   ],
   "source": [
    "counter = 1\n",
    "while counter <= 10:\n",
    "    print(counter)\n",
    "    counter += 1"
   ]
  },
  {
   "cell_type": "code",
   "execution_count": 72,
   "metadata": {},
   "outputs": [
    {
     "name": "stdout",
     "output_type": "stream",
     "text": [
      "10\n",
      "9\n",
      "8\n",
      "7\n",
      "6\n",
      "5\n",
      "4\n",
      "3\n",
      "2\n",
      "1\n"
     ]
    }
   ],
   "source": [
    "counter = 10\n",
    "while counter > 0:\n",
    "    print(counter)\n",
    "    counter -= 1"
   ]
  },
  {
   "cell_type": "code",
   "execution_count": 73,
   "metadata": {},
   "outputs": [
    {
     "name": "stdout",
     "output_type": "stream",
     "text": [
      "maçın bitimine 10 saniye kaldı\n",
      "maçın bitimine 9 saniye kaldı\n",
      "maçın bitimine 8 saniye kaldı\n",
      "maçın bitimine 7 saniye kaldı\n",
      "maçın bitimine 6 saniye kaldı\n",
      "maçın bitimine 5 saniye kaldı\n",
      "maçın bitimine 4 saniye kaldı\n",
      "maçın bitimine 3 saniye kaldı\n",
      "maçın bitimine 2 saniye kaldı\n",
      "maçın bitimine 1 saniye kaldı\n",
      "maçın bitimine 0 saniye kaldı\n"
     ]
    }
   ],
   "source": [
    "kalan_saniye = 10\n",
    "while kalan_saniye >= 0:\n",
    "    print('maçın bitimine %i saniye kaldı' % kalan_saniye)\n",
    "    sleep(1)\n",
    "    kalan_saniye -= 1"
   ]
  },
  {
   "cell_type": "markdown",
   "metadata": {},
   "source": [
    "### Papatya falı"
   ]
  },
  {
   "cell_type": "code",
   "execution_count": 75,
   "metadata": {},
   "outputs": [
    {
     "data": {
      "text/plain": [
       "10"
      ]
     },
     "execution_count": 75,
     "metadata": {},
     "output_type": "execute_result"
    }
   ],
   "source": [
    "from random import randint\n",
    "papatya = randint(10,15)\n",
    "\n",
    "son_durum = 'Seviyor'\n",
    "\n",
    "while papatya > 0:\n",
    "    "
   ]
  },
  {
   "cell_type": "code",
   "execution_count": null,
   "metadata": {},
   "outputs": [],
   "source": []
  }
 ],
 "metadata": {
  "kernelspec": {
   "display_name": "Python 3",
   "language": "python",
   "name": "python3"
  },
  "language_info": {
   "codemirror_mode": {
    "name": "ipython",
    "version": 3
   },
   "file_extension": ".py",
   "mimetype": "text/x-python",
   "name": "python",
   "nbconvert_exporter": "python",
   "pygments_lexer": "ipython3",
   "version": "3.6.5"
  }
 },
 "nbformat": 4,
 "nbformat_minor": 2
}
